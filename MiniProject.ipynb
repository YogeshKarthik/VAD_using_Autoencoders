{
  "cells": [
    {
      "cell_type": "markdown",
      "metadata": {
        "id": "view-in-github",
        "colab_type": "text"
      },
      "source": [
        "<a href=\"https://colab.research.google.com/github/YogeshKarthik/VAD_using_Autoencoders/blob/main/MiniProject.ipynb\" target=\"_parent\"><img src=\"https://colab.research.google.com/assets/colab-badge.svg\" alt=\"Open In Colab\"/></a>"
      ]
    },
    {
      "cell_type": "code",
      "execution_count": null,
      "metadata": {
        "colab": {
          "base_uri": "https://localhost:8080/"
        },
        "id": "4R8_A4nztqbR",
        "outputId": "e5706f47-e345-48ae-f4fd-b41d7cc2c0bb"
      },
      "outputs": [
        {
          "output_type": "stream",
          "name": "stdout",
          "text": [
            "Mounted at /content/drive\n"
          ]
        }
      ],
      "source": [
        "from google.colab import drive\n",
        "drive.mount('/content/drive',force_remount=True)"
      ]
    },
    {
      "cell_type": "code",
      "execution_count": null,
      "metadata": {
        "id": "Vgx7S4KNuVml"
      },
      "outputs": [],
      "source": [
        "\n",
        "\n",
        "import keras\n",
        "import tensorflow"
      ]
    },
    {
      "cell_type": "code",
      "execution_count": null,
      "metadata": {
        "id": "MrNudAFOYaFA"
      },
      "outputs": [],
      "source": [
        "import warnings\n",
        "warnings.filterwarnings(\"ignore\")"
      ]
    },
    {
      "cell_type": "code",
      "execution_count": null,
      "metadata": {
        "colab": {
          "base_uri": "https://localhost:8080/"
        },
        "id": "tfrrcA1EOx07",
        "outputId": "0cf083d4-90f4-4b04-f12e-b78b02db1158"
      },
      "outputs": [
        {
          "output_type": "stream",
          "name": "stdout",
          "text": [
            "Found  16  training videos\n",
            "Program ended. Please wait while trainer.npy is created. \n",
            "Refresh when needed\n",
            "Number of frames created : 227\n"
          ]
        }
      ],
      "source": [
        "\n",
        "\n",
        "from tensorflow.keras.utils import img_to_array,load_img\n",
        "import numpy as np\n",
        "import glob\n",
        "import os\n",
        "from skimage import data, color\n",
        "from skimage.transform import rescale, resize, downscale_local_mean\n",
        "import argparse\n",
        "from PIL import Image\n",
        "imagestore=[]\n",
        "\n",
        "\n",
        "\n",
        "video_source_path='/content/drive/MyDrive/Avenue/training_videos'\n",
        "fps=5\n",
        "#fps refers to the number of seconds after which one frame will be taken . fps=5 means 1 frame after every 5 seconds. More like seconds per frame.\n",
        "\n",
        "def create_dir(path):\n",
        "\tif not os.path.exists(path):\n",
        "\t\tos.makedirs(path)\n",
        "\n",
        "def remove_old_images(path):\n",
        "\tfilelist = glob.glob(os.path.join(path, \"*.png\"))\n",
        "\tfor f in filelist:\n",
        "\t\tos.remove(f)\n",
        "\n",
        "def store(image_path):\n",
        "\timg=load_img(image_path)\n",
        "\timg=img_to_array(img)\n",
        "\n",
        "\n",
        "\t#Resize the Image to (227,227,3) for the network to be able to process it.\n",
        "\n",
        "\n",
        "\timg=resize(img,(227,227,3))\n",
        "\n",
        "\t#Convert the Image to Grayscale\n",
        "\n",
        "\n",
        "\tgray=0.2989*img[:,:,0]+0.5870*img[:,:,1]+0.1140*img[:,:,2]\n",
        "\n",
        "\timagestore.append(gray)\n",
        "\n",
        "\n",
        "\n",
        "#List of all Videos in the Source Directory.\n",
        "videos=os.listdir(video_source_path)\n",
        "print(\"Found \",len(videos),\" training videos\")\n",
        "\n",
        "\n",
        "#Make a temp dir to store all the frames\n",
        "create_dir(video_source_path+'/frames')\n",
        "\n",
        "#Remove old images\n",
        "remove_old_images(video_source_path+'/frames')\n",
        "\n",
        "framepath=video_source_path+'/frames'\n",
        "\n",
        "for video in videos:\n",
        "\t\tos.system( 'ffmpeg -i {}/{} -r 1/{}  {}/frames/%03d.jpg'.format(video_source_path,video,fps,video_source_path))\n",
        "\t\timages=os.listdir(framepath)\n",
        "\t\tfor image in images:\n",
        "\t\t\timage_path=framepath+ '/'+ image\n",
        "\t\t\tstore(image_path)\n",
        "\n",
        "\n",
        "imagestore=np.array(imagestore)\n",
        "a,b,c=imagestore.shape\n",
        "#Reshape to (227,227,batch_size)\n",
        "imagestore.resize(b,c,a)\n",
        "#Normalize\n",
        "imagestore=(imagestore-imagestore.mean())/(imagestore.std())\n",
        "#Clip negative Values\n",
        "imagestore=np.clip(imagestore,0,1)\n",
        "np.save('trainer.npy',imagestore)\n",
        "#Remove Buffer Directory\n",
        "os.system('rm -r {}'.format(framepath))\n",
        "print(\"Program ended. Please wait while trainer.npy is created. \\nRefresh when needed\")\n",
        "print('Number of frames created :', int(len(imagestore)))"
      ]
    },
    {
      "cell_type": "code",
      "execution_count": null,
      "metadata": {
        "colab": {
          "base_uri": "https://localhost:8080/",
          "height": 814
        },
        "id": "Zu0UaU6-0JyK",
        "outputId": "f78743a3-45cf-4621-fac2-f09895627983"
      },
      "outputs": [
        {
          "name": "stdout",
          "output_type": "stream",
          "text": [
            "Trainer has been loaded\n",
            "Epoch 1/200\n"
          ]
        },
        {
          "ename": "ValueError",
          "evalue": "ignored",
          "output_type": "error",
          "traceback": [
            "\u001b[0;31m---------------------------------------------------------------------------\u001b[0m",
            "\u001b[0;31mValueError\u001b[0m                                Traceback (most recent call last)",
            "\u001b[0;32m<ipython-input-8-074691de8370>\u001b[0m in \u001b[0;36m<cell line: 52>\u001b[0;34m()\u001b[0m\n\u001b[1;32m     57\u001b[0m \u001b[0;34m\u001b[0m\u001b[0m\n\u001b[1;32m     58\u001b[0m         \u001b[0mprint\u001b[0m\u001b[0;34m(\u001b[0m\u001b[0;34m'Trainer has been loaded'\u001b[0m\u001b[0;34m)\u001b[0m\u001b[0;34m\u001b[0m\u001b[0;34m\u001b[0m\u001b[0m\n\u001b[0;32m---> 59\u001b[0;31m \thistory = model.fit(X_train,Y_train,\n\u001b[0m\u001b[1;32m     60\u001b[0m                           \u001b[0mbatch_size\u001b[0m\u001b[0;34m=\u001b[0m\u001b[0mbatch_size\u001b[0m\u001b[0;34m,\u001b[0m\u001b[0;34m\u001b[0m\u001b[0;34m\u001b[0m\u001b[0m\n\u001b[1;32m     61\u001b[0m                           \u001b[0mepochs\u001b[0m\u001b[0;34m=\u001b[0m\u001b[0mepochs\u001b[0m\u001b[0;34m,\u001b[0m\u001b[0;34m\u001b[0m\u001b[0;34m\u001b[0m\u001b[0m\n",
            "\u001b[0;32m/usr/local/lib/python3.10/dist-packages/keras/utils/traceback_utils.py\u001b[0m in \u001b[0;36merror_handler\u001b[0;34m(*args, **kwargs)\u001b[0m\n\u001b[1;32m     68\u001b[0m             \u001b[0;31m# To get the full stack trace, call:\u001b[0m\u001b[0;34m\u001b[0m\u001b[0;34m\u001b[0m\u001b[0m\n\u001b[1;32m     69\u001b[0m             \u001b[0;31m# `tf.debugging.disable_traceback_filtering()`\u001b[0m\u001b[0;34m\u001b[0m\u001b[0;34m\u001b[0m\u001b[0m\n\u001b[0;32m---> 70\u001b[0;31m             \u001b[0;32mraise\u001b[0m \u001b[0me\u001b[0m\u001b[0;34m.\u001b[0m\u001b[0mwith_traceback\u001b[0m\u001b[0;34m(\u001b[0m\u001b[0mfiltered_tb\u001b[0m\u001b[0;34m)\u001b[0m \u001b[0;32mfrom\u001b[0m \u001b[0;32mNone\u001b[0m\u001b[0;34m\u001b[0m\u001b[0;34m\u001b[0m\u001b[0m\n\u001b[0m\u001b[1;32m     71\u001b[0m         \u001b[0;32mfinally\u001b[0m\u001b[0;34m:\u001b[0m\u001b[0;34m\u001b[0m\u001b[0;34m\u001b[0m\u001b[0m\n\u001b[1;32m     72\u001b[0m             \u001b[0;32mdel\u001b[0m \u001b[0mfiltered_tb\u001b[0m\u001b[0;34m\u001b[0m\u001b[0;34m\u001b[0m\u001b[0m\n",
            "\u001b[0;32m/usr/local/lib/python3.10/dist-packages/keras/engine/training.py\u001b[0m in \u001b[0;36mtf__train_function\u001b[0;34m(iterator)\u001b[0m\n\u001b[1;32m     13\u001b[0m                 \u001b[0;32mtry\u001b[0m\u001b[0;34m:\u001b[0m\u001b[0;34m\u001b[0m\u001b[0;34m\u001b[0m\u001b[0m\n\u001b[1;32m     14\u001b[0m                     \u001b[0mdo_return\u001b[0m \u001b[0;34m=\u001b[0m \u001b[0;32mTrue\u001b[0m\u001b[0;34m\u001b[0m\u001b[0;34m\u001b[0m\u001b[0m\n\u001b[0;32m---> 15\u001b[0;31m                     \u001b[0mretval_\u001b[0m \u001b[0;34m=\u001b[0m \u001b[0mag__\u001b[0m\u001b[0;34m.\u001b[0m\u001b[0mconverted_call\u001b[0m\u001b[0;34m(\u001b[0m\u001b[0mag__\u001b[0m\u001b[0;34m.\u001b[0m\u001b[0mld\u001b[0m\u001b[0;34m(\u001b[0m\u001b[0mstep_function\u001b[0m\u001b[0;34m)\u001b[0m\u001b[0;34m,\u001b[0m \u001b[0;34m(\u001b[0m\u001b[0mag__\u001b[0m\u001b[0;34m.\u001b[0m\u001b[0mld\u001b[0m\u001b[0;34m(\u001b[0m\u001b[0mself\u001b[0m\u001b[0;34m)\u001b[0m\u001b[0;34m,\u001b[0m \u001b[0mag__\u001b[0m\u001b[0;34m.\u001b[0m\u001b[0mld\u001b[0m\u001b[0;34m(\u001b[0m\u001b[0miterator\u001b[0m\u001b[0;34m)\u001b[0m\u001b[0;34m)\u001b[0m\u001b[0;34m,\u001b[0m \u001b[0;32mNone\u001b[0m\u001b[0;34m,\u001b[0m \u001b[0mfscope\u001b[0m\u001b[0;34m)\u001b[0m\u001b[0;34m\u001b[0m\u001b[0;34m\u001b[0m\u001b[0m\n\u001b[0m\u001b[1;32m     16\u001b[0m                 \u001b[0;32mexcept\u001b[0m\u001b[0;34m:\u001b[0m\u001b[0;34m\u001b[0m\u001b[0;34m\u001b[0m\u001b[0m\n\u001b[1;32m     17\u001b[0m                     \u001b[0mdo_return\u001b[0m \u001b[0;34m=\u001b[0m \u001b[0;32mFalse\u001b[0m\u001b[0;34m\u001b[0m\u001b[0;34m\u001b[0m\u001b[0m\n",
            "\u001b[0;31mValueError\u001b[0m: in user code:\n\n    File \"/usr/local/lib/python3.10/dist-packages/keras/engine/training.py\", line 1284, in train_function  *\n        return step_function(self, iterator)\n    File \"/usr/local/lib/python3.10/dist-packages/keras/engine/training.py\", line 1268, in step_function  **\n        outputs = model.distribute_strategy.run(run_step, args=(data,))\n    File \"/usr/local/lib/python3.10/dist-packages/keras/engine/training.py\", line 1249, in run_step  **\n        outputs = model.train_step(data)\n    File \"/usr/local/lib/python3.10/dist-packages/keras/engine/training.py\", line 1051, in train_step\n        loss = self.compute_loss(x, y, y_pred, sample_weight)\n    File \"/usr/local/lib/python3.10/dist-packages/keras/engine/training.py\", line 1109, in compute_loss\n        return self.compiled_loss(\n    File \"/usr/local/lib/python3.10/dist-packages/keras/engine/compile_utils.py\", line 265, in __call__\n        loss_value = loss_obj(y_t, y_p, sample_weight=sw)\n    File \"/usr/local/lib/python3.10/dist-packages/keras/losses.py\", line 142, in __call__\n        losses = call_fn(y_true, y_pred)\n    File \"/usr/local/lib/python3.10/dist-packages/keras/losses.py\", line 268, in call  **\n        return ag_fn(y_true, y_pred, **self._fn_kwargs)\n    File \"/usr/local/lib/python3.10/dist-packages/keras/losses.py\", line 2156, in binary_crossentropy\n        backend.binary_crossentropy(y_true, y_pred, from_logits=from_logits),\n    File \"/usr/local/lib/python3.10/dist-packages/keras/backend.py\", line 5707, in binary_crossentropy\n        return tf.nn.sigmoid_cross_entropy_with_logits(\n\n    ValueError: `logits` and `labels` must have the same shape, received ((1, 56, 56, 5, 1) vs (1, 227, 227, 10, 1)).\n"
          ]
        }
      ],
      "source": [
        "######DO NOT TOUCH THIS CELL !!!!!!!!!!!!!!!!!!!!!#####################################################################################################################\n",
        "#This Cell does not include in the main project\n",
        "\n",
        "from keras.callbacks import ModelCheckpoint, EarlyStopping\n",
        "import numpy as np\n",
        "import argparse\n",
        "from keras.layers import Conv3D,ConvLSTM2D,Conv3DTranspose, MaxPooling3D, BatchNormalization\n",
        "from keras.models import Sequential\n",
        "\n",
        "def load_model():\n",
        "\n",
        "\tmodel=Sequential()\n",
        "\tmodel.add(Conv3D(filters=32,kernel_size=(5,5,3),padding='same',input_shape=(227,227,10,1), activation='relu'))\n",
        "\tmodel.add(MaxPooling3D(pool_size=(2,2,1), strides=(2,2,1)))\n",
        "\tmodel.add(BatchNormalization())\n",
        "\n",
        "\tmodel.add(Conv3D(filters=64,kernel_size=(3,3,3),padding='same',activation='relu'))\n",
        "\tmodel.add(MaxPooling3D(pool_size=(2,2,2), strides=(2,2,2)))\n",
        "\tmodel.add(BatchNormalization())\n",
        "\n",
        "\tmodel.add(ConvLSTM2D(filters=64,kernel_size=(3,3),padding='same',dropout=0.3,recurrent_dropout=0.4,return_sequences=True))\n",
        "\tmodel.add(BatchNormalization())\n",
        "\n",
        "\tmodel.add(ConvLSTM2D(filters=32,kernel_size=(3,3),padding='same',dropout=0.3,return_sequences=True))\n",
        "\tmodel.add(BatchNormalization())\n",
        "\n",
        "\tmodel.add(ConvLSTM2D(filters=64,kernel_size=(3,3),padding='same',dropout=0.5,return_sequences=True))\n",
        "\tmodel.add(BatchNormalization())\n",
        "\n",
        "\tmodel.add(Conv3DTranspose(filters=64,kernel_size=(3,3,3),padding='same',activation='relu'))\n",
        "\tmodel.add(BatchNormalization())\n",
        "\n",
        "\tmodel.add(Conv3DTranspose(filters=32,kernel_size=(3,3,3),padding='same',activation='relu'))\n",
        "\tmodel.add(BatchNormalization())\n",
        "\n",
        "\tmodel.add(Conv3DTranspose(filters=1,kernel_size=(5,5,3),padding='same',activation='sigmoid'))\n",
        "\n",
        "\tmodel.compile(optimizer='adam', loss='binary_crossentropy', metrics=['accuracy'])\n",
        "\n",
        "\treturn model\n",
        "\n",
        "X_train=np.load('trainer.npy')\n",
        "frames=X_train.shape[2]\n",
        "\n",
        "# Make the number of frames divisible by 10 to ease the load_model\n",
        "frames -= frames % 10\n",
        "X_train=X_train[:,:,:frames]\n",
        "X_train=X_train.reshape(-1,227,227,10)\n",
        "X_train=np.expand_dims(X_train,axis=4)\n",
        "Y_train=X_train.copy()\n",
        "\n",
        "epochs=300\n",
        "batch_size=1\n",
        "\n",
        "if __name__==\"__main__\":\n",
        "\tmodel=load_model()\n",
        "\n",
        "\tcallback_save = ModelCheckpoint(\"AnomalyDetector.h5\", monitor=\"val_loss\", save_best_only=True, mode='min', verbose=1)\n",
        "\tcallback_early_stopping = EarlyStopping(monitor='val_loss', patience=10)\n",
        "\n",
        "\tprint('Trainer has been loaded')\n",
        "\thistory = model.fit(X_train,Y_train,\n",
        "\t\t\t  batch_size=batch_size,\n",
        "\t\t\t  epochs=epochs,\n",
        "\t\t\t  callbacks = [callback_save,callback_early_stopping],\n",
        "\t\t\t  validation_split=0.2,\n",
        "\t\t\t  verbose=1\n",
        "\t\t\t  )\n",
        "\tprint('Done\\nPlease wait while AnomalyDetector.h5 has been created \\nRefresh when needed')\n",
        "\n",
        " #This Cell does not include in the main project\n",
        " ##################DO NOT TOUCH THIS CELL!!!!!!!!!!!!!!!!!!!!!!!!!!###########################################################################################################\n"
      ]
    },
    {
      "cell_type": "code",
      "execution_count": null,
      "metadata": {
        "colab": {
          "base_uri": "https://localhost:8080/"
        },
        "id": "y6VM2ZTfdRTH",
        "outputId": "be0c1049-ca71-4f94-d566-fc989aea2270"
      },
      "outputs": [
        {
          "output_type": "error",
          "ename": "FileNotFoundError",
          "evalue": "ignored",
          "traceback": [
            "\u001b[0;31m---------------------------------------------------------------------------\u001b[0m",
            "\u001b[0;31mFileNotFoundError\u001b[0m                         Traceback (most recent call last)",
            "\u001b[0;32m<ipython-input-1-19dc144f05d3>\u001b[0m in \u001b[0;36m<cell line: 41>\u001b[0;34m()\u001b[0m\n\u001b[1;32m     39\u001b[0m \u001b[0;34m\u001b[0m\u001b[0m\n\u001b[1;32m     40\u001b[0m \u001b[0;34m\u001b[0m\u001b[0m\n\u001b[0;32m---> 41\u001b[0;31m \u001b[0mX_train\u001b[0m\u001b[0;34m=\u001b[0m\u001b[0mnp\u001b[0m\u001b[0;34m.\u001b[0m\u001b[0mload\u001b[0m\u001b[0;34m(\u001b[0m\u001b[0;34m'trainer.npy'\u001b[0m\u001b[0;34m)\u001b[0m\u001b[0;34m\u001b[0m\u001b[0;34m\u001b[0m\u001b[0m\n\u001b[0m\u001b[1;32m     42\u001b[0m \u001b[0mframes\u001b[0m\u001b[0;34m=\u001b[0m\u001b[0mX_train\u001b[0m\u001b[0;34m.\u001b[0m\u001b[0mshape\u001b[0m\u001b[0;34m[\u001b[0m\u001b[0;36m2\u001b[0m\u001b[0;34m]\u001b[0m\u001b[0;34m\u001b[0m\u001b[0;34m\u001b[0m\u001b[0m\n\u001b[1;32m     43\u001b[0m \u001b[0;31m#Need to make number of frames divisible by 10 to ease the load_model\u001b[0m\u001b[0;34m\u001b[0m\u001b[0;34m\u001b[0m\u001b[0m\n",
            "\u001b[0;32m/usr/local/lib/python3.10/dist-packages/numpy/lib/npyio.py\u001b[0m in \u001b[0;36mload\u001b[0;34m(file, mmap_mode, allow_pickle, fix_imports, encoding)\u001b[0m\n\u001b[1;32m    405\u001b[0m             \u001b[0mown_fid\u001b[0m \u001b[0;34m=\u001b[0m \u001b[0;32mFalse\u001b[0m\u001b[0;34m\u001b[0m\u001b[0;34m\u001b[0m\u001b[0m\n\u001b[1;32m    406\u001b[0m         \u001b[0;32melse\u001b[0m\u001b[0;34m:\u001b[0m\u001b[0;34m\u001b[0m\u001b[0;34m\u001b[0m\u001b[0m\n\u001b[0;32m--> 407\u001b[0;31m             \u001b[0mfid\u001b[0m \u001b[0;34m=\u001b[0m \u001b[0mstack\u001b[0m\u001b[0;34m.\u001b[0m\u001b[0menter_context\u001b[0m\u001b[0;34m(\u001b[0m\u001b[0mopen\u001b[0m\u001b[0;34m(\u001b[0m\u001b[0mos_fspath\u001b[0m\u001b[0;34m(\u001b[0m\u001b[0mfile\u001b[0m\u001b[0;34m)\u001b[0m\u001b[0;34m,\u001b[0m \u001b[0;34m\"rb\"\u001b[0m\u001b[0;34m)\u001b[0m\u001b[0;34m)\u001b[0m\u001b[0;34m\u001b[0m\u001b[0;34m\u001b[0m\u001b[0m\n\u001b[0m\u001b[1;32m    408\u001b[0m             \u001b[0mown_fid\u001b[0m \u001b[0;34m=\u001b[0m \u001b[0;32mTrue\u001b[0m\u001b[0;34m\u001b[0m\u001b[0;34m\u001b[0m\u001b[0m\n\u001b[1;32m    409\u001b[0m \u001b[0;34m\u001b[0m\u001b[0m\n",
            "\u001b[0;31mFileNotFoundError\u001b[0m: [Errno 2] No such file or directory: 'trainer.npy'"
          ]
        }
      ],
      "source": [
        "from keras.callbacks import ModelCheckpoint, EarlyStopping\n",
        "import numpy as np\n",
        "import argparse\n",
        "from keras.layers import Conv3D,ConvLSTM2D,Conv3DTranspose\n",
        "from keras.models import Sequential\n",
        "\n",
        "\n",
        "\n",
        "#load_model starts here :----------------------------------------------------\n",
        "def load_model():\n",
        "\n",
        "\tmodel=Sequential()\n",
        "\tmodel.add(Conv3D(filters=128,kernel_size=(11,11,1),strides=(4,4,1),padding='valid',input_shape=(227,227,10,1),activation='tanh'))\n",
        "\tmodel.add(Conv3D(filters=64,kernel_size=(5,5,1),strides=(2,2,1),padding='valid',activation='tanh'))\n",
        "\n",
        "\n",
        "\n",
        "\tmodel.add(ConvLSTM2D(filters=64,kernel_size=(3,3),strides=1,padding='same',dropout=0.3,recurrent_dropout=0.4,return_sequences=True))\n",
        "\n",
        "\n",
        "\tmodel.add(ConvLSTM2D(filters=32,kernel_size=(3,3),strides=1,padding='same',dropout=0.3,return_sequences=True))\n",
        "\n",
        "\n",
        "\tmodel.add(ConvLSTM2D(filters=64,kernel_size=(3,3),strides=1,return_sequences=True, padding='same',dropout=0.5))\n",
        "\n",
        "\n",
        "\n",
        "\n",
        "\tmodel.add(Conv3DTranspose(filters=128,kernel_size=(5,5,1),strides=(2,2,1),padding='valid',activation='tanh'))\n",
        "\tmodel.add(Conv3DTranspose(filters=1,kernel_size=(11,11,1),strides=(4,4,1),padding='valid',activation='tanh'))\n",
        "\n",
        "\t#model.compile(optimizer='adam', loss='binary_crossentropy', metrics=['accuracy'])\n",
        "\tmodel.compile(optimizer='adam',loss='mean_squared_error',metrics=['accuracy'])\n",
        "\n",
        "\treturn model\n",
        "\n",
        "#load_model ends here :----------------------------------------------------\n",
        "\n",
        "\n",
        "\n",
        "X_train=np.load('trainer.npy')\n",
        "frames=X_train.shape[2]\n",
        "#Need to make number of frames divisible by 10 to ease the load_model\n",
        "\n",
        "\n",
        "frames=frames-frames%10\n",
        "\n",
        "X_train=X_train[:,:,:frames]\n",
        "X_train=X_train.reshape(-1,227,227,10)\n",
        "X_train=np.expand_dims(X_train,axis=4)\n",
        "Y_train=X_train.copy()\n",
        "\n",
        "\n",
        "epochs=2000\n",
        "batch_size=1\n",
        "\n",
        "\n",
        "\n",
        "if __name__==\"__main__\":\n",
        "\n",
        "\tmodel=load_model()\n",
        "\n",
        "\tcallback_save = ModelCheckpoint(\"AnomalyDetector.h5\",\n",
        "\t\t\t\t\t\t\t\t\tmonitor=\"mean_squared_error\")\n",
        "\n",
        "\tcallback_early_stopping = EarlyStopping(monitor='val_loss', patience=4)\n",
        "\n",
        "\tprint('Trainer has been loaded')\n",
        "\tmodel.fit(X_train,Y_train,\n",
        "\t\t\t  batch_size=batch_size,\n",
        "\t\t\t  epochs=epochs,\n",
        "\t\t\t  callbacks = [callback_save,callback_early_stopping]\n",
        "\t\t\t  )\n",
        "print('Done\\n Please wait while AnomalyDetector.h5 has been created \\nRefresh when needed')\n",
        "\n",
        "\n",
        "\n"
      ]
    },
    {
      "cell_type": "code",
      "execution_count": null,
      "metadata": {
        "colab": {
          "base_uri": "https://localhost:8080/"
        },
        "id": "P8sIcLnqEEPN",
        "outputId": "335912b7-f7ae-4f6d-b4b8-4852c1bf6abb"
      },
      "outputs": [
        {
          "output_type": "stream",
          "name": "stdout",
          "text": [
            "Found  22  testing videos\n",
            "Video number:  1\n",
            "Video: 01.avi\n",
            "Number of images: 13 \n",
            "----------\n",
            "\n",
            "Video number:  2\n",
            "Video: 02.avi\n",
            "Number of images: 13 \n",
            "----------\n",
            "\n",
            "Video number:  3\n",
            "Video: 03.avi\n",
            "Number of images: 13 \n",
            "----------\n",
            "\n",
            "Video number:  4\n",
            "Video: 04.avi\n",
            "Number of images: 13 \n",
            "----------\n",
            "\n",
            "Video number:  5\n",
            "Video: 05.avi\n",
            "Number of images: 13 \n",
            "----------\n",
            "\n",
            "Video number:  6\n",
            "Video: 06.avi\n",
            "Number of images: 13 \n",
            "----------\n",
            "\n",
            "Video number:  7\n",
            "Video: 07.avi\n",
            "Number of images: 13 \n",
            "----------\n",
            "\n",
            "Video number:  8\n",
            "Video: 08.avi\n",
            "Number of images: 13 \n",
            "----------\n",
            "\n",
            "Video number:  9\n",
            "Video: 09.avi\n",
            "Number of images: 13 \n",
            "----------\n",
            "\n",
            "Video number:  10\n",
            "Video: 10.avi\n",
            "Number of images: 13 \n",
            "----------\n",
            "\n",
            "Video number:  11\n",
            "Video: 11.avi\n",
            "Number of images: 13 \n",
            "----------\n",
            "\n",
            "Video number:  12\n",
            "Video: 12.avi\n",
            "Number of images: 13 \n",
            "----------\n",
            "\n",
            "Video number:  13\n",
            "Video: 13.avi\n",
            "Number of images: 13 \n",
            "----------\n",
            "\n",
            "Video number:  14\n",
            "Video: 14.avi\n",
            "Number of images: 13 \n",
            "----------\n",
            "\n",
            "Video number:  15\n",
            "Video: 15.avi\n",
            "Number of images: 13 \n",
            "----------\n",
            "\n",
            "Video number:  16\n",
            "Video: 16.avi\n",
            "Number of images: 13 \n",
            "----------\n",
            "\n",
            "Video number:  17\n",
            "Video: 17.avi\n",
            "Number of images: 13 \n",
            "----------\n",
            "\n",
            "Video number:  18\n",
            "Video: 18.avi\n",
            "Number of images: 13 \n",
            "----------\n",
            "\n",
            "Video number:  19\n",
            "Video: 19.avi\n",
            "Number of images: 13 \n",
            "----------\n",
            "\n",
            "Video number:  20\n",
            "Video: 20.avi\n",
            "Number of images: 13 \n",
            "----------\n",
            "\n",
            "Video number:  21\n",
            "Video: 21.avi\n",
            "Number of images: 13 \n",
            "----------\n",
            "\n",
            "Video number:  22\n",
            "Video: test.mp4\n",
            "Number of images: 13 \n",
            "----------\n",
            "\n",
            "Program ended. All testing videos shall be stored in tester.npy \n",
            " Please wait while tester.npy is created. \n",
            "Refresh when needed\n",
            "Number of frames created : 286\n",
            "Number of bunches= 286 /10 =  28\n",
            "\n",
            "Corrupted and unreadable bunches were ignored\n"
          ]
        }
      ],
      "source": [
        "\n",
        "\n",
        "from tensorflow.keras.utils import img_to_array,load_img\n",
        "import numpy as np\n",
        "import glob\n",
        "import os\n",
        "from skimage import data, color\n",
        "from skimage.transform import rescale, resize, downscale_local_mean\n",
        "import argparse\n",
        "from PIL import Image\n",
        "imagestore=[]\n",
        "\n",
        "\n",
        "\n",
        "video_source_path='/content/drive/MyDrive/Avenue/testing_videos'\n",
        "fps=5\n",
        "#fps refers to the number of seconds after which one frame will be taken . fps=5 means 1 frame after every 5 seconds. More like seconds per frame.\n",
        "\n",
        "def create_dir(path):\n",
        "\tif not os.path.exists(path):\n",
        "\t\tos.makedirs(path)\n",
        "\n",
        "def remove_old_images(path):\n",
        "\tfilelist = glob.glob(os.path.join(path, \"*.png\"))\n",
        "\tfor f in filelist:\n",
        "\t\tos.remove(f)\n",
        "\n",
        "def store(image_path):\n",
        "\timg=load_img(image_path)\n",
        "\timg=img_to_array(img)\n",
        "\n",
        "\n",
        "\t#Resize the Image to (227,227,3) for the network to be able to process it.\n",
        "\n",
        "\n",
        "\timg=resize(img,(227,227,3))\n",
        "\n",
        "\t#Convert the Image to Grayscale\n",
        "\n",
        "\n",
        "\tgray=0.2989*img[:,:,0]+0.5870*img[:,:,1]+0.1140*img[:,:,2]\n",
        "\n",
        "\timagestore.append(gray)\n",
        "#List of all Videos in the Source Directory.\n",
        "videos=os.listdir(video_source_path)\n",
        "print(\"Found \",len(videos),\" testing videos\")\n",
        "\n",
        "\n",
        "#Make a temp dir to store all the frames\n",
        "create_dir(video_source_path+'/frames')\n",
        "\n",
        "#Remove old images\n",
        "remove_old_images(video_source_path+'/frames')\n",
        "\n",
        "framepath=video_source_path+'/frames'\n",
        "total=0\n",
        "video_count=0\n",
        "\n",
        "for video in videos:\n",
        "\t\tvideo_count+=1\n",
        "\t\tprint(\"Video number: \",video_count)\n",
        "\t\tprint(\"Video:\",str(video))\n",
        "\t\timage_count=0\n",
        "\t\tos.system( 'ffmpeg -i {}/{} -r 1/{}  {}/frames/%03d.jpg'.format(video_source_path,video,fps,video_source_path))\n",
        "\t\timages=os.listdir(framepath)\n",
        "\t\timage_count=len(images)\n",
        "\t\tfor image in images:\n",
        "\t\t\timage_path=framepath+ '/'+ image\n",
        "\t\t\tstore(image_path)\n",
        "\t\ttotal=len(images)+total\n",
        "\t\tprint(\"Number of images:\",image_count,\"\\n----------\\n\")\n",
        "\n",
        "\n",
        "imagestore=np.array(imagestore)\n",
        "a,b,c=imagestore.shape\n",
        "#Reshape to (227,227,batch_size)\n",
        "imagestore.resize(b,c,a)\n",
        "#Normalize\n",
        "imagestore=(imagestore-imagestore.mean())/(imagestore.std())\n",
        "#Clip negative Values\n",
        "imagestore=np.clip(imagestore,0,1)\n",
        "np.save('tester.npy',imagestore)\n",
        "#Remove Buffer Directory\n",
        "os.system('rm -r {}'.format(framepath))\n",
        "\n",
        "print(\"Program ended. All testing videos shall be stored in tester.npy \\n Please wait while tester.npy is created. \\nRefresh when needed\")\n",
        "print('Number of frames created :', int(total))\n",
        "print ('Number of bunches=',int(total),\"/10 = \",int(total/10))\n",
        "print(\"\\nCorrupted and unreadable bunches were ignored\")"
      ]
    },
    {
      "cell_type": "code",
      "execution_count": null,
      "metadata": {
        "colab": {
          "base_uri": "https://localhost:8080/"
        },
        "id": "dcfYMukPeOx6",
        "outputId": "5be1fbc1-4f48-4542-c117-6c341d0bdeed"
      },
      "outputs": [
        {
          "name": "stdout",
          "output_type": "stream",
          "text": [
            "1/1 [==============================] - 1s 1s/step\n",
            "Anomalous bunch of frames at bunch number 0\n",
            "bunch number:  1\n",
            "1/1 [==============================] - 0s 68ms/step\n",
            "Anomalous bunch of frames at bunch number 1\n",
            "bunch number:  2\n",
            "1/1 [==============================] - 0s 72ms/step\n",
            "No anomaly\n",
            "bunch number:  3\n",
            "1/1 [==============================] - 0s 64ms/step\n",
            "No anomaly\n",
            "bunch number:  4\n",
            "1/1 [==============================] - 0s 63ms/step\n",
            "No anomaly\n",
            "bunch number:  5\n",
            "1/1 [==============================] - 0s 62ms/step\n",
            "No anomaly\n",
            "bunch number:  6\n",
            "1/1 [==============================] - 0s 66ms/step\n",
            "No anomaly\n",
            "bunch number:  7\n",
            "1/1 [==============================] - 0s 63ms/step\n",
            "No anomaly\n",
            "bunch number:  8\n",
            "1/1 [==============================] - 0s 61ms/step\n",
            "Anomalous bunch of frames at bunch number 8\n",
            "bunch number:  9\n",
            "1/1 [==============================] - 0s 64ms/step\n",
            "Anomalous bunch of frames at bunch number 9\n",
            "bunch number:  10\n",
            "1/1 [==============================] - 0s 64ms/step\n",
            "No anomaly\n",
            "bunch number:  11\n",
            "1/1 [==============================] - 0s 68ms/step\n",
            "Anomalous bunch of frames at bunch number 11\n",
            "bunch number:  12\n",
            "1/1 [==============================] - 0s 60ms/step\n",
            "No anomaly\n",
            "bunch number:  13\n",
            "1/1 [==============================] - 0s 65ms/step\n",
            "No anomaly\n",
            "bunch number:  14\n",
            "1/1 [==============================] - 0s 59ms/step\n",
            "No anomaly\n",
            "bunch number:  15\n",
            "1/1 [==============================] - 0s 57ms/step\n",
            "No anomaly\n",
            "bunch number:  16\n",
            "1/1 [==============================] - 0s 66ms/step\n",
            "No anomaly\n",
            "bunch number:  17\n",
            "1/1 [==============================] - 0s 63ms/step\n",
            "No anomaly\n",
            "bunch number:  18\n",
            "1/1 [==============================] - 0s 60ms/step\n",
            "No anomaly\n",
            "bunch number:  19\n",
            "1/1 [==============================] - 0s 60ms/step\n",
            "No anomaly\n",
            "bunch number:  20\n",
            "1/1 [==============================] - 0s 61ms/step\n",
            "Anomalous bunch of frames at bunch number 20\n",
            "bunch number:  21\n",
            "1/1 [==============================] - 0s 67ms/step\n",
            "Anomalous bunch of frames at bunch number 21\n",
            "bunch number:  22\n",
            "1/1 [==============================] - 0s 60ms/step\n",
            "Anomalous bunch of frames at bunch number 22\n",
            "bunch number:  23\n",
            "1/1 [==============================] - 0s 59ms/step\n",
            "Anomalous bunch of frames at bunch number 23\n",
            "bunch number:  24\n",
            "1/1 [==============================] - 0s 61ms/step\n",
            "No anomaly\n",
            "bunch number:  25\n",
            "1/1 [==============================] - 0s 63ms/step\n",
            "Anomalous bunch of frames at bunch number 25\n",
            "bunch number:  26\n",
            "1/1 [==============================] - 0s 61ms/step\n",
            "Anomalous bunch of frames at bunch number 26\n",
            "bunch number:  27\n",
            "Anomalous Events detected\n",
            "\n",
            "Corrupted and unreadable bunches were ignored\n"
          ]
        }
      ],
      "source": [
        "\n",
        "from keras.models import load_model\n",
        "import numpy as np\n",
        "\n",
        "\n",
        "\n",
        "\n",
        "def mean_squared_loss(x1,x2):\n",
        "\n",
        "\n",
        "\n",
        "\n",
        "\tdiff=x1-x2\n",
        "\ta,b,c,d,e=diff.shape\n",
        "\tn_samples=a*b*c*d*e\n",
        "\tsq_diff=diff**2\n",
        "\tSum=sq_diff.sum()\n",
        "\tdist=np.sqrt(Sum)\n",
        "\tmean_dist=dist/n_samples\n",
        "\n",
        "\treturn mean_dist\n",
        "\n",
        "\n",
        "\n",
        "\n",
        "\n",
        "\n",
        "'''Define threshold for Sensitivity\n",
        "Lower the Threshhold,higher the chances that a bunch of frames will be flagged as Anomalous.\n",
        "\n",
        "'''\n",
        "\n",
        "threshold=0.0004 #(Accuracy level 1)\n",
        "#threshold=0.00042 #(Accuracy level 2)\n",
        "#threshold=0.0008#(Accuracy level Vishakha)\n",
        "\n",
        "model=load_model('AnomalyDetector.h5')\n",
        "\n",
        "X_test=np.load('tester.npy')\n",
        "frames=X_test.shape[2]\n",
        "#Need to make number of frames divisible by 10\n",
        "\n",
        "\n",
        "flag=0 #Overall video flagq\n",
        "\n",
        "frames=frames-frames%10\n",
        "\n",
        "X_test=X_test[:,:,:frames]\n",
        "X_test=X_test.reshape(-1,227,227,10)\n",
        "X_test=np.expand_dims(X_test,axis=4)\n",
        "counter =0\n",
        "for number,bunch in enumerate(X_test):\n",
        "\tn_bunch=np.expand_dims(bunch,axis=0)\n",
        "\treconstructed_bunch=model.predict(n_bunch)\n",
        "\n",
        "\n",
        "\tloss=mean_squared_loss(n_bunch,reconstructed_bunch)\n",
        "\n",
        "\tif loss>threshold:\n",
        "\t\tprint(\"Anomalous bunch of frames at bunch number {}\".format(number))\n",
        "\t\tcounter=counter+1\n",
        "\t\tprint(\"bunch number: \",counter)\n",
        "\t\tflag=1\n",
        "\n",
        "\n",
        "\telse:\n",
        "\t\tprint('No anomaly')\n",
        "\t\tcounter=counter+1\n",
        "\t\tprint(\"bunch number: \",counter)\n",
        "\n",
        "\n",
        "\n",
        "if flag==1:\n",
        "\tprint(\"Anomalous Events detected\")\n",
        "else:\n",
        "\tprint(\"No anomaly detected\")\n",
        "\n",
        "print(\"\\nCorrupted and unreadable bunches were ignored\")"
      ]
    },
    {
      "cell_type": "code",
      "execution_count": null,
      "metadata": {
        "colab": {
          "base_uri": "https://localhost:8080/"
        },
        "id": "fhBwtxuwKwQ8",
        "outputId": "5551601b-9586-4c7b-b5e7-83d855367940"
      },
      "outputs": [
        {
          "name": "stdout",
          "output_type": "stream",
          "text": [
            "Found  22  files\n",
            "Test video found\n",
            "Please wait while video is processed. \n",
            "Refresh when needed\n",
            "1/1 [==============================] - 1s 683ms/step\n",
            "Anomalous bunch of frames at bunch number 0\n",
            "bunch number:  1\n",
            "----------------------------------------------------\n",
            "OUTPUT\n",
            "----------------------------------------------------\n",
            "\n",
            "Anomalous Events detected\n",
            "\n",
            "----------------------------------------------------\n",
            "Corrupted and unreadable bunches were ignored\n"
          ]
        }
      ],
      "source": [
        "\n",
        "from keras.models import load_model\n",
        "import numpy as np\n",
        "\n",
        "from tensorflow.keras.utils import img_to_array,load_img\n",
        "import numpy as np\n",
        "import glob\n",
        "import os\n",
        "from skimage import data, color\n",
        "from skimage.transform import rescale, resize, downscale_local_mean\n",
        "import argparse\n",
        "from PIL import Image\n",
        "imagestore=[]\n",
        "\n",
        "\n",
        "\n",
        "video_source_path='/content/drive/MyDrive/Avenue/testing_videos'\n",
        "fps=5\n",
        "#fps refers to the number of seconds after which one frame will be taken . fps=5 means 1 frame after every 5 seconds. More like seconds per frame.\n",
        "\n",
        "def create_dir(path):\n",
        "\tif not os.path.exists(path):\n",
        "\t\tos.makedirs(path)\n",
        "\n",
        "def remove_old_images(path):\n",
        "\tfilelist = glob.glob(os.path.join(path, \"*.png\"))\n",
        "\tfor f in filelist:\n",
        "\t\tos.remove(f)\n",
        "\n",
        "def store(image_path):\n",
        "\timg=load_img(image_path)\n",
        "\timg=img_to_array(img)\n",
        "\n",
        "\n",
        "\t#Resize the Image to (227,227,3) for the network to be able to process it.\n",
        "\n",
        "\n",
        "\timg=resize(img,(227,227,3))\n",
        "\n",
        "\t#Convert the Image to Grayscale\n",
        "\n",
        "\n",
        "\tgray=0.2989*img[:,:,0]+0.5870*img[:,:,1]+0.1140*img[:,:,2]\n",
        "\n",
        "\timagestore.append(gray)\n",
        "\n",
        "\n",
        "\n",
        "#List of all Videos in the Source Directory.\n",
        "videos=os.listdir(video_source_path)\n",
        "print(\"Found \",len(videos),\" files\")\n",
        "\n",
        "\n",
        "#Make a temp dir to store all the frames\n",
        "create_dir(video_source_path+'/frames')\n",
        "\n",
        "#Remove old images\n",
        "remove_old_images(video_source_path+'/frames')\n",
        "\n",
        "framepath=video_source_path+'/frames'\n",
        "flag=0\n",
        "for video in videos:\n",
        "\t\tif (video==\"01.avi\"):\n",
        "\t\t\tprint(\"Test video found\")\n",
        "\t\t\tflag=1\n",
        "\t\t\tos.system( 'ffmpeg -i {}/{} -r 1/{}  {}/frames/%03d.jpg'.format(video_source_path,video,fps,video_source_path))\n",
        "\t\t\timages=os.listdir(framepath)\n",
        "\t\t\tfor image in images:\n",
        "\t\t\t\timage_path=framepath+ '/'+ image\n",
        "\t\t\t\tstore(image_path)\n",
        "\n",
        "if flag==0:\n",
        "\tprint(\"Couldn't find test.mp4 or test.avi. Make sure you reupload and try this\")\n",
        "\texit()\n",
        "imagestore=np.array(imagestore)\n",
        "a,b,c=imagestore.shape\n",
        "#Reshape to (227,227,batch_size)\n",
        "imagestore.resize(b,c,a)\n",
        "#Normalize\n",
        "imagestore=(imagestore-imagestore.mean())/(imagestore.std())\n",
        "#Clip negative Values\n",
        "imagestore=np.clip(imagestore,0,1)\n",
        "np.save('sample.npy',imagestore)\n",
        "#Remove Buffer Directory\n",
        "os.system('rm -r {}'.format(framepath))\n",
        "print(\"Please wait while video is processed. \\nRefresh when needed\")\n",
        "\n",
        "\n",
        "def mean_squared_loss(x1,x2):\n",
        "\n",
        "\n",
        "\t''' Compute Euclidean Distance Loss  between\n",
        "\tinput frame and the reconstructed frame'''\n",
        "\n",
        "\n",
        "\tdiff=x1-x2\n",
        "\ta,b,c,d,e=diff.shape\n",
        "\tn_samples=a*b*c*d*e\n",
        "\tsq_diff=diff**2\n",
        "\tSum=sq_diff.sum()\n",
        "\tdist=np.sqrt(Sum)\n",
        "\tmean_dist=dist/n_samples\n",
        "\n",
        "\treturn mean_dist\n",
        "\n",
        "\n",
        "'''Define threshold for Sensitivity\n",
        "Lower the Threshhold,higher the chances that a bunch of frames will be flagged as Anomalous.\n",
        "\n",
        "'''\n",
        "\n",
        "threshold=0.0004 #(Accuracy level 1)\n",
        "#threshold=0.00042 #(Accuracy level 2)\n",
        "#threshold=0.0008#(Accuracy level 3)\n",
        "\n",
        "model=load_model('AnomalyDetector.h5')\n",
        "\n",
        "X_test=np.load('sample.npy')\n",
        "frames=X_test.shape[2]\n",
        "#Need to make number of frames divisible by 10\n",
        "\n",
        "\n",
        "flag=0 #Overall video flagq\n",
        "\n",
        "frames=frames-frames%10\n",
        "\n",
        "X_test=X_test[:,:,:frames]\n",
        "X_test=X_test.reshape(-1,227,227,10)\n",
        "X_test=np.expand_dims(X_test,axis=4)\n",
        "counter =0\n",
        "for number,bunch in enumerate(X_test):\n",
        "\tn_bunch=np.expand_dims(bunch,axis=0)\n",
        "\treconstructed_bunch=model.predict(n_bunch)\n",
        "\n",
        "\n",
        "\tloss=mean_squared_loss(n_bunch,reconstructed_bunch)\n",
        "\n",
        "\tif loss>threshold:\n",
        "\t\tprint(\"Anomalous bunch of frames at bunch number {}\".format(number))\n",
        "\t\tcounter=counter+1\n",
        "\t\tprint(\"bunch number: \",counter)\n",
        "\t\tflag=1\n",
        "\n",
        "\n",
        "\telse:\n",
        "\t\tprint('No anomaly')\n",
        "\t\tcounter=counter+1\n",
        "\t\tprint(\"bunch number: \",counter)\n",
        "\n",
        "\n",
        "print(\"----------------------------------------------------\\nOUTPUT\\n----------------------------------------------------\\n\")\n",
        "if flag==1:\n",
        "\tprint(\"Anomalous Events detected\")\n",
        "else:\n",
        "\tprint(\"No anomaly detected\")\n",
        "\n",
        "print(\"\\n----------------------------------------------------\\nCorrupted and unreadable bunches were ignored\")\n",
        "\n"
      ]
    },
    {
      "cell_type": "code",
      "execution_count": null,
      "metadata": {
        "colab": {
          "base_uri": "https://localhost:8080/"
        },
        "id": "67qq0IzFLmik",
        "outputId": "57f5ae91-77d0-4865-f9b7-2911a80741e7"
      },
      "outputs": [
        {
          "data": {
            "text/plain": [
              "('UCSD_Anomaly_Dataset.tar.gz', <http.client.HTTPMessage at 0x7f0391687b50>)"
            ]
          },
          "execution_count": 11,
          "metadata": {},
          "output_type": "execute_result"
        }
      ],
      "source": [
        "import urllib.request\n",
        "\n",
        "url = \"http://www.svcl.ucsd.edu/projects/anomaly/UCSD_Anomaly_Dataset.tar.gz\"\n",
        "filename = \"UCSD_Anomaly_Dataset.tar.gz\"\n",
        "\n",
        "urllib.request.urlretrieve(url, filename)"
      ]
    },
    {
      "cell_type": "code",
      "execution_count": null,
      "metadata": {
        "colab": {
          "base_uri": "https://localhost:8080/",
          "height": 345
        },
        "id": "spLugltLMl6M",
        "outputId": "fbadf94f-82e6-4bd0-a389-59227154b5e6"
      },
      "outputs": [
        {
          "ename": "KeyboardInterrupt",
          "evalue": "ignored",
          "output_type": "error",
          "traceback": [
            "\u001b[0;31m---------------------------------------------------------------------------\u001b[0m",
            "\u001b[0;31mKeyboardInterrupt\u001b[0m                         Traceback (most recent call last)",
            "\u001b[0;32m<ipython-input-13-e53ce3236d61>\u001b[0m in \u001b[0;36m<cell line: 6>\u001b[0;34m()\u001b[0m\n\u001b[1;32m      5\u001b[0m \u001b[0;34m\u001b[0m\u001b[0m\n\u001b[1;32m      6\u001b[0m \u001b[0;32mwith\u001b[0m \u001b[0mtarfile\u001b[0m\u001b[0;34m.\u001b[0m\u001b[0mopen\u001b[0m\u001b[0;34m(\u001b[0m\u001b[0mfilename\u001b[0m\u001b[0;34m,\u001b[0m \u001b[0;34m\"r:gz\"\u001b[0m\u001b[0;34m)\u001b[0m \u001b[0;32mas\u001b[0m \u001b[0mtar\u001b[0m\u001b[0;34m:\u001b[0m\u001b[0;34m\u001b[0m\u001b[0;34m\u001b[0m\u001b[0m\n\u001b[0;32m----> 7\u001b[0;31m     \u001b[0mtar\u001b[0m\u001b[0;34m.\u001b[0m\u001b[0mextractall\u001b[0m\u001b[0;34m(\u001b[0m\u001b[0moutput_dir\u001b[0m\u001b[0;34m)\u001b[0m\u001b[0;34m\u001b[0m\u001b[0;34m\u001b[0m\u001b[0m\n\u001b[0m",
            "\u001b[0;32m/usr/lib/python3.10/tarfile.py\u001b[0m in \u001b[0;36mextractall\u001b[0;34m(self, path, members, numeric_owner)\u001b[0m\n\u001b[1;32m   2057\u001b[0m                 \u001b[0mtarinfo\u001b[0m\u001b[0;34m.\u001b[0m\u001b[0mmode\u001b[0m \u001b[0;34m=\u001b[0m \u001b[0;36m0o700\u001b[0m\u001b[0;34m\u001b[0m\u001b[0;34m\u001b[0m\u001b[0m\n\u001b[1;32m   2058\u001b[0m             \u001b[0;31m# Do not set_attrs directories, as we will do that further down\u001b[0m\u001b[0;34m\u001b[0m\u001b[0;34m\u001b[0m\u001b[0m\n\u001b[0;32m-> 2059\u001b[0;31m             self.extract(tarinfo, path, set_attrs=not tarinfo.isdir(),\n\u001b[0m\u001b[1;32m   2060\u001b[0m                          numeric_owner=numeric_owner)\n\u001b[1;32m   2061\u001b[0m \u001b[0;34m\u001b[0m\u001b[0m\n",
            "\u001b[0;32m/usr/lib/python3.10/tarfile.py\u001b[0m in \u001b[0;36mextract\u001b[0;34m(self, member, path, set_attrs, numeric_owner)\u001b[0m\n\u001b[1;32m   2098\u001b[0m \u001b[0;34m\u001b[0m\u001b[0m\n\u001b[1;32m   2099\u001b[0m         \u001b[0;32mtry\u001b[0m\u001b[0;34m:\u001b[0m\u001b[0;34m\u001b[0m\u001b[0;34m\u001b[0m\u001b[0m\n\u001b[0;32m-> 2100\u001b[0;31m             self._extract_member(tarinfo, os.path.join(path, tarinfo.name),\n\u001b[0m\u001b[1;32m   2101\u001b[0m                                  \u001b[0mset_attrs\u001b[0m\u001b[0;34m=\u001b[0m\u001b[0mset_attrs\u001b[0m\u001b[0;34m,\u001b[0m\u001b[0;34m\u001b[0m\u001b[0;34m\u001b[0m\u001b[0m\n\u001b[1;32m   2102\u001b[0m                                  numeric_owner=numeric_owner)\n",
            "\u001b[0;32m/usr/lib/python3.10/tarfile.py\u001b[0m in \u001b[0;36m_extract_member\u001b[0;34m(self, tarinfo, targetpath, set_attrs, numeric_owner)\u001b[0m\n\u001b[1;32m   2171\u001b[0m \u001b[0;34m\u001b[0m\u001b[0m\n\u001b[1;32m   2172\u001b[0m         \u001b[0;32mif\u001b[0m \u001b[0mtarinfo\u001b[0m\u001b[0;34m.\u001b[0m\u001b[0misreg\u001b[0m\u001b[0;34m(\u001b[0m\u001b[0;34m)\u001b[0m\u001b[0;34m:\u001b[0m\u001b[0;34m\u001b[0m\u001b[0;34m\u001b[0m\u001b[0m\n\u001b[0;32m-> 2173\u001b[0;31m             \u001b[0mself\u001b[0m\u001b[0;34m.\u001b[0m\u001b[0mmakefile\u001b[0m\u001b[0;34m(\u001b[0m\u001b[0mtarinfo\u001b[0m\u001b[0;34m,\u001b[0m \u001b[0mtargetpath\u001b[0m\u001b[0;34m)\u001b[0m\u001b[0;34m\u001b[0m\u001b[0;34m\u001b[0m\u001b[0m\n\u001b[0m\u001b[1;32m   2174\u001b[0m         \u001b[0;32melif\u001b[0m \u001b[0mtarinfo\u001b[0m\u001b[0;34m.\u001b[0m\u001b[0misdir\u001b[0m\u001b[0;34m(\u001b[0m\u001b[0;34m)\u001b[0m\u001b[0;34m:\u001b[0m\u001b[0;34m\u001b[0m\u001b[0;34m\u001b[0m\u001b[0m\n\u001b[1;32m   2175\u001b[0m             \u001b[0mself\u001b[0m\u001b[0;34m.\u001b[0m\u001b[0mmakedir\u001b[0m\u001b[0;34m(\u001b[0m\u001b[0mtarinfo\u001b[0m\u001b[0;34m,\u001b[0m \u001b[0mtargetpath\u001b[0m\u001b[0;34m)\u001b[0m\u001b[0;34m\u001b[0m\u001b[0;34m\u001b[0m\u001b[0m\n",
            "\u001b[0;32m/usr/lib/python3.10/tarfile.py\u001b[0m in \u001b[0;36mmakefile\u001b[0;34m(self, tarinfo, targetpath)\u001b[0m\n\u001b[1;32m   2213\u001b[0m         \u001b[0mbufsize\u001b[0m \u001b[0;34m=\u001b[0m \u001b[0mself\u001b[0m\u001b[0;34m.\u001b[0m\u001b[0mcopybufsize\u001b[0m\u001b[0;34m\u001b[0m\u001b[0;34m\u001b[0m\u001b[0m\n\u001b[1;32m   2214\u001b[0m         \u001b[0;32mwith\u001b[0m \u001b[0mbltn_open\u001b[0m\u001b[0;34m(\u001b[0m\u001b[0mtargetpath\u001b[0m\u001b[0;34m,\u001b[0m \u001b[0;34m\"wb\"\u001b[0m\u001b[0;34m)\u001b[0m \u001b[0;32mas\u001b[0m \u001b[0mtarget\u001b[0m\u001b[0;34m:\u001b[0m\u001b[0;34m\u001b[0m\u001b[0;34m\u001b[0m\u001b[0m\n\u001b[0;32m-> 2215\u001b[0;31m             \u001b[0;32mif\u001b[0m \u001b[0mtarinfo\u001b[0m\u001b[0;34m.\u001b[0m\u001b[0msparse\u001b[0m \u001b[0;32mis\u001b[0m \u001b[0;32mnot\u001b[0m \u001b[0;32mNone\u001b[0m\u001b[0;34m:\u001b[0m\u001b[0;34m\u001b[0m\u001b[0;34m\u001b[0m\u001b[0m\n\u001b[0m\u001b[1;32m   2216\u001b[0m                 \u001b[0;32mfor\u001b[0m \u001b[0moffset\u001b[0m\u001b[0;34m,\u001b[0m \u001b[0msize\u001b[0m \u001b[0;32min\u001b[0m \u001b[0mtarinfo\u001b[0m\u001b[0;34m.\u001b[0m\u001b[0msparse\u001b[0m\u001b[0;34m:\u001b[0m\u001b[0;34m\u001b[0m\u001b[0;34m\u001b[0m\u001b[0m\n\u001b[1;32m   2217\u001b[0m                     \u001b[0mtarget\u001b[0m\u001b[0;34m.\u001b[0m\u001b[0mseek\u001b[0m\u001b[0;34m(\u001b[0m\u001b[0moffset\u001b[0m\u001b[0;34m)\u001b[0m\u001b[0;34m\u001b[0m\u001b[0;34m\u001b[0m\u001b[0m\n",
            "\u001b[0;31mKeyboardInterrupt\u001b[0m: "
          ]
        }
      ],
      "source": [
        "import tarfile\n",
        "\n",
        "filename = \"UCSD_Anomaly_Dataset.tar.gz\"\n",
        "output_dir = \"/content/drive/MyDrive\"\n",
        "\n",
        "with tarfile.open(filename, \"r:gz\") as tar:\n",
        "    tar.extractall(output_dir)"
      ]
    },
    {
      "cell_type": "code",
      "execution_count": null,
      "metadata": {
        "colab": {
          "base_uri": "https://localhost:8080/"
        },
        "id": "t9IYYJshN_-X",
        "outputId": "8340795c-72a2-42e1-9364-87a1d54ce1f8"
      },
      "outputs": [
        {
          "name": "stdout",
          "output_type": "stream",
          "text": [
            "/content/drive/MyDrive/UCSD_Anomaly_Dataset.v1p2/UCSDped1/Train/1\n",
            "Found  202  training videos\n",
            "Program ended. Please wait while trainer.npy is created. \n",
            "Refresh when needed\n",
            "Number of frames created : 227\n",
            "/content/drive/MyDrive/UCSD_Anomaly_Dataset.v1p2/UCSDped1/Train/2\n",
            "Found  200  training videos\n",
            "Program ended. Please wait while trainer.npy is created. \n",
            "Refresh when needed\n",
            "Number of frames created : 227\n",
            "/content/drive/MyDrive/UCSD_Anomaly_Dataset.v1p2/UCSDped1/Train/3\n",
            "Found  200  training videos\n",
            "Program ended. Please wait while trainer.npy is created. \n",
            "Refresh when needed\n",
            "Number of frames created : 227\n",
            "/content/drive/MyDrive/UCSD_Anomaly_Dataset.v1p2/UCSDped1/Train/4\n",
            "Found  200  training videos\n",
            "Program ended. Please wait while trainer.npy is created. \n",
            "Refresh when needed\n",
            "Number of frames created : 227\n",
            "/content/drive/MyDrive/UCSD_Anomaly_Dataset.v1p2/UCSDped1/Train/5\n",
            "Found  200  training videos\n",
            "Program ended. Please wait while trainer.npy is created. \n",
            "Refresh when needed\n",
            "Number of frames created : 227\n",
            "/content/drive/MyDrive/UCSD_Anomaly_Dataset.v1p2/UCSDped1/Train/6\n",
            "Found  200  training videos\n",
            "Program ended. Please wait while trainer.npy is created. \n",
            "Refresh when needed\n",
            "Number of frames created : 227\n",
            "/content/drive/MyDrive/UCSD_Anomaly_Dataset.v1p2/UCSDped1/Train/7\n",
            "Found  200  training videos\n",
            "Program ended. Please wait while trainer.npy is created. \n",
            "Refresh when needed\n",
            "Number of frames created : 227\n",
            "/content/drive/MyDrive/UCSD_Anomaly_Dataset.v1p2/UCSDped1/Train/8\n",
            "Found  200  training videos\n",
            "Program ended. Please wait while trainer.npy is created. \n",
            "Refresh when needed\n",
            "Number of frames created : 227\n",
            "/content/drive/MyDrive/UCSD_Anomaly_Dataset.v1p2/UCSDped1/Train/9\n",
            "Found  200  training videos\n",
            "Program ended. Please wait while trainer.npy is created. \n",
            "Refresh when needed\n",
            "Number of frames created : 227\n",
            "/content/drive/MyDrive/UCSD_Anomaly_Dataset.v1p2/UCSDped1/Train/10\n",
            "Found  200  training videos\n",
            "Program ended. Please wait while trainer.npy is created. \n",
            "Refresh when needed\n",
            "Number of frames created : 227\n",
            "/content/drive/MyDrive/UCSD_Anomaly_Dataset.v1p2/UCSDped1/Train/11\n",
            "Found  200  training videos\n",
            "Program ended. Please wait while trainer.npy is created. \n",
            "Refresh when needed\n",
            "Number of frames created : 227\n",
            "/content/drive/MyDrive/UCSD_Anomaly_Dataset.v1p2/UCSDped1/Train/12\n",
            "Found  200  training videos\n",
            "Program ended. Please wait while trainer.npy is created. \n",
            "Refresh when needed\n",
            "Number of frames created : 227\n",
            "/content/drive/MyDrive/UCSD_Anomaly_Dataset.v1p2/UCSDped1/Train/13\n",
            "Found  186  training videos\n",
            "Program ended. Please wait while trainer.npy is created. \n",
            "Refresh when needed\n",
            "Number of frames created : 227\n",
            "/content/drive/MyDrive/UCSD_Anomaly_Dataset.v1p2/UCSDped1/Train/14\n",
            "Found  200  training videos\n",
            "Program ended. Please wait while trainer.npy is created. \n",
            "Refresh when needed\n",
            "Number of frames created : 227\n",
            "/content/drive/MyDrive/UCSD_Anomaly_Dataset.v1p2/UCSDped1/Train/15\n",
            "Found  200  training videos\n",
            "Program ended. Please wait while trainer.npy is created. \n",
            "Refresh when needed\n",
            "Number of frames created : 227\n",
            "/content/drive/MyDrive/UCSD_Anomaly_Dataset.v1p2/UCSDped1/Train/16\n",
            "Found  200  training videos\n",
            "Program ended. Please wait while trainer.npy is created. \n",
            "Refresh when needed\n",
            "Number of frames created : 227\n",
            "/content/drive/MyDrive/UCSD_Anomaly_Dataset.v1p2/UCSDped1/Train/17\n",
            "Found  200  training videos\n",
            "Program ended. Please wait while trainer.npy is created. \n",
            "Refresh when needed\n",
            "Number of frames created : 227\n",
            "/content/drive/MyDrive/UCSD_Anomaly_Dataset.v1p2/UCSDped1/Train/18\n",
            "Found  200  training videos\n",
            "Program ended. Please wait while trainer.npy is created. \n",
            "Refresh when needed\n",
            "Number of frames created : 227\n",
            "/content/drive/MyDrive/UCSD_Anomaly_Dataset.v1p2/UCSDped1/Train/19\n",
            "Found  200  training videos\n",
            "Program ended. Please wait while trainer.npy is created. \n",
            "Refresh when needed\n",
            "Number of frames created : 227\n",
            "/content/drive/MyDrive/UCSD_Anomaly_Dataset.v1p2/UCSDped1/Train/20\n",
            "Found  200  training videos\n",
            "Program ended. Please wait while trainer.npy is created. \n",
            "Refresh when needed\n",
            "Number of frames created : 227\n",
            "/content/drive/MyDrive/UCSD_Anomaly_Dataset.v1p2/UCSDped1/Train/21\n",
            "Found  200  training videos\n",
            "Program ended. Please wait while trainer.npy is created. \n",
            "Refresh when needed\n",
            "Number of frames created : 227\n",
            "/content/drive/MyDrive/UCSD_Anomaly_Dataset.v1p2/UCSDped1/Train/22\n",
            "Found  200  training videos\n",
            "Program ended. Please wait while trainer.npy is created. \n",
            "Refresh when needed\n",
            "Number of frames created : 227\n",
            "/content/drive/MyDrive/UCSD_Anomaly_Dataset.v1p2/UCSDped1/Train/23\n",
            "Found  200  training videos\n",
            "Program ended. Please wait while trainer.npy is created. \n",
            "Refresh when needed\n",
            "Number of frames created : 227\n",
            "/content/drive/MyDrive/UCSD_Anomaly_Dataset.v1p2/UCSDped1/Train/24\n",
            "Found  200  training videos\n",
            "Program ended. Please wait while trainer.npy is created. \n",
            "Refresh when needed\n",
            "Number of frames created : 227\n",
            "/content/drive/MyDrive/UCSD_Anomaly_Dataset.v1p2/UCSDped1/Train/25\n",
            "Found  200  training videos\n",
            "Program ended. Please wait while trainer.npy is created. \n",
            "Refresh when needed\n",
            "Number of frames created : 227\n",
            "/content/drive/MyDrive/UCSD_Anomaly_Dataset.v1p2/UCSDped1/Train/26\n",
            "Found  200  training videos\n",
            "Program ended. Please wait while trainer.npy is created. \n",
            "Refresh when needed\n",
            "Number of frames created : 227\n",
            "/content/drive/MyDrive/UCSD_Anomaly_Dataset.v1p2/UCSDped1/Train/27\n",
            "Found  200  training videos\n",
            "Program ended. Please wait while trainer.npy is created. \n",
            "Refresh when needed\n",
            "Number of frames created : 227\n",
            "/content/drive/MyDrive/UCSD_Anomaly_Dataset.v1p2/UCSDped1/Train/28\n",
            "Found  200  training videos\n",
            "Program ended. Please wait while trainer.npy is created. \n",
            "Refresh when needed\n",
            "Number of frames created : 227\n",
            "/content/drive/MyDrive/UCSD_Anomaly_Dataset.v1p2/UCSDped1/Train/29\n",
            "Found  200  training videos\n",
            "Program ended. Please wait while trainer.npy is created. \n",
            "Refresh when needed\n",
            "Number of frames created : 227\n",
            "/content/drive/MyDrive/UCSD_Anomaly_Dataset.v1p2/UCSDped1/Train/30\n",
            "Found  200  training videos\n",
            "Program ended. Please wait while trainer.npy is created. \n",
            "Refresh when needed\n",
            "Number of frames created : 227\n",
            "/content/drive/MyDrive/UCSD_Anomaly_Dataset.v1p2/UCSDped1/Train/31\n",
            "Found  200  training videos\n",
            "Program ended. Please wait while trainer.npy is created. \n",
            "Refresh when needed\n",
            "Number of frames created : 227\n",
            "/content/drive/MyDrive/UCSD_Anomaly_Dataset.v1p2/UCSDped1/Train/32\n",
            "Found  200  training videos\n",
            "Program ended. Please wait while trainer.npy is created. \n",
            "Refresh when needed\n",
            "Number of frames created : 227\n",
            "/content/drive/MyDrive/UCSD_Anomaly_Dataset.v1p2/UCSDped1/Train/33\n",
            "Found  200  training videos\n",
            "Program ended. Please wait while trainer.npy is created. \n",
            "Refresh when needed\n",
            "Number of frames created : 227\n",
            "/content/drive/MyDrive/UCSD_Anomaly_Dataset.v1p2/UCSDped1/Train/34\n",
            "Found  200  training videos\n",
            "Program ended. Please wait while trainer.npy is created. \n",
            "Refresh when needed\n",
            "Number of frames created : 227\n"
          ]
        }
      ],
      "source": [
        "\n",
        "\n",
        "from tensorflow.keras.utils import img_to_array,load_img\n",
        "import numpy as np\n",
        "import glob\n",
        "import os\n",
        "from skimage import data, color\n",
        "from skimage.transform import rescale, resize, downscale_local_mean\n",
        "import argparse\n",
        "from PIL import Image\n",
        "imagestore=[]\n",
        "\n",
        "\n",
        "for v in range(1,35):\n",
        "  imagestore=[]\n",
        "  video_source_path='/content/drive/MyDrive/UCSD_Anomaly_Dataset.v1p2/UCSDped1/Train/'+str(v)\n",
        "  print(video_source_path)\n",
        "  fps=5\n",
        "#fps refers to the number of seconds after which one frame will be taken . fps=5 means 1 frame after every 5 seconds. More like seconds per frame.\n",
        "\n",
        "  def create_dir(path):\n",
        "    if not os.path.exists(path):\n",
        "      os.makedirs(path)\n",
        "\n",
        "  def remove_old_images(path):\n",
        "    filelist = glob.glob(os.path.join(path, \"*.png\"))\n",
        "    for f in filelist:\n",
        "      os.remove(f)\n",
        "\n",
        "  def store(image_path):\n",
        "\t  img=load_img(image_path)\n",
        "\t  img=img_to_array(img)\n",
        "\t#Resize the Image to (227,227,3) for the network to be able to process it.\n",
        "\t  img=resize(img,(227,227,3))\n",
        "\t#Convert the Image to Grayscale\n",
        "\t  gray=0.2989*img[:,:,0]+0.5870*img[:,:,1]+0.1140*img[:,:,2]\n",
        "\t  imagestore.append(gray)\n",
        "#List of all Videos in the Source Directory.\n",
        "  videos=os.listdir(video_source_path)\n",
        "  print(\"Found \",len(videos),\" training videos\")\n",
        "\n",
        "\n",
        "#Make a temp dir to store all the frames\n",
        "  create_dir(video_source_path+'/frames')\n",
        "\n",
        "#Remove old images\n",
        "  remove_old_images(video_source_path+'/frames')\n",
        "\n",
        "  framepath=video_source_path+'/frames'\n",
        "\n",
        "  for video in videos:\n",
        "\t\t  os.system( 'ffmpeg -i {}/{} -r 1/{}  {}/frames/%03d.jpg'.format(video_source_path,video,fps,video_source_path))\n",
        "\t\t  images=os.listdir(framepath)\n",
        "\t\t  for image in images:\n",
        "\t\t\t  image_path=framepath+ '/'+ image\n",
        "\t\t\t  store(image_path)\n",
        "\n",
        "\n",
        "  imagestore=np.array(imagestore)\n",
        "  a,b,c=imagestore.shape\n",
        "#Reshape to (227,227,batch_size)\n",
        "  imagestore.resize(b,c,a)\n",
        "#Normalize\n",
        "  imagestore=(imagestore-imagestore.mean())/(imagestore.std())\n",
        "#Clip negative Values\n",
        "  imagestore=np.clip(imagestore,0,1)\n",
        "  np.save('trainer.npy',imagestore)\n",
        "#Remove Buffer Directory\n",
        "  os.system('rm -r {}'.format(framepath))\n",
        "  print(\"Program ended. Please wait while trainer.npy is created. \\nRefresh when needed\")\n",
        "  print('Number of frames created :', int(len(imagestore)))\n"
      ]
    },
    {
      "cell_type": "code",
      "execution_count": null,
      "metadata": {
        "colab": {
          "base_uri": "https://localhost:8080/"
        },
        "id": "JgprGWO9YMb0",
        "outputId": "4fd017fa-ea82-40da-f22d-43a67946c5a2"
      },
      "outputs": [
        {
          "name": "stdout",
          "output_type": "stream",
          "text": [
            "Trainer has been loaded\n",
            "Epoch 1/200\n",
            "20/20 [==============================] - ETA: 0s - loss: 0.2397 - accuracy: 0.5709"
          ]
        },
        {
          "name": "stderr",
          "output_type": "stream",
          "text": [
            "WARNING:tensorflow:Early stopping conditioned on metric `val_loss` which is not available. Available metrics are: loss,accuracy\n"
          ]
        },
        {
          "name": "stdout",
          "output_type": "stream",
          "text": [
            "\b\b\b\b\b\b\b\b\b\b\b\b\b\b\b\b\b\b\b\b\b\b\b\b\b\b\b\b\b\b\b\b\b\b\b\b\b\b\b\b\b\b\b\b\b\b\b\b\b\b\b\b\b\b\b\b\b\b\b\b\b\b\b\b\b\b\b\b\b\b\b\b\b\b\b\b\b\b\b\b\b\b\r20/20 [==============================] - 14s 289ms/step - loss: 0.2397 - accuracy: 0.5709\n",
            "Epoch 2/200\n",
            "20/20 [==============================] - ETA: 0s - loss: 0.2079 - accuracy: 0.5866"
          ]
        },
        {
          "name": "stderr",
          "output_type": "stream",
          "text": [
            "WARNING:tensorflow:Early stopping conditioned on metric `val_loss` which is not available. Available metrics are: loss,accuracy\n"
          ]
        },
        {
          "name": "stdout",
          "output_type": "stream",
          "text": [
            "\b\b\b\b\b\b\b\b\b\b\b\b\b\b\b\b\b\b\b\b\b\b\b\b\b\b\b\b\b\b\b\b\b\b\b\b\b\b\b\b\b\b\b\b\b\b\b\b\b\b\b\b\b\b\b\b\b\b\b\b\b\b\b\b\b\b\b\b\b\b\b\b\b\b\b\b\b\b\b\b\b\b\r20/20 [==============================] - 4s 219ms/step - loss: 0.2079 - accuracy: 0.5866\n",
            "Epoch 3/200\n",
            "20/20 [==============================] - ETA: 0s - loss: 0.1731 - accuracy: 0.6235"
          ]
        },
        {
          "name": "stderr",
          "output_type": "stream",
          "text": [
            "WARNING:tensorflow:Early stopping conditioned on metric `val_loss` which is not available. Available metrics are: loss,accuracy\n"
          ]
        },
        {
          "name": "stdout",
          "output_type": "stream",
          "text": [
            "\b\b\b\b\b\b\b\b\b\b\b\b\b\b\b\b\b\b\b\b\b\b\b\b\b\b\b\b\b\b\b\b\b\b\b\b\b\b\b\b\b\b\b\b\b\b\b\b\b\b\b\b\b\b\b\b\b\b\b\b\b\b\b\b\b\b\b\b\b\b\b\b\b\b\b\b\b\b\b\b\b\b\r20/20 [==============================] - 6s 286ms/step - loss: 0.1731 - accuracy: 0.6235\n",
            "Epoch 4/200\n",
            "20/20 [==============================] - ETA: 0s - loss: 0.1635 - accuracy: 0.6388"
          ]
        },
        {
          "name": "stderr",
          "output_type": "stream",
          "text": [
            "WARNING:tensorflow:Early stopping conditioned on metric `val_loss` which is not available. Available metrics are: loss,accuracy\n"
          ]
        },
        {
          "name": "stdout",
          "output_type": "stream",
          "text": [
            "\b\b\b\b\b\b\b\b\b\b\b\b\b\b\b\b\b\b\b\b\b\b\b\b\b\b\b\b\b\b\b\b\b\b\b\b\b\b\b\b\b\b\b\b\b\b\b\b\b\b\b\b\b\b\b\b\b\b\b\b\b\b\b\b\b\b\b\b\b\b\b\b\b\b\b\b\b\b\b\b\b\b\r20/20 [==============================] - 6s 282ms/step - loss: 0.1635 - accuracy: 0.6388\n",
            "Epoch 5/200\n",
            "20/20 [==============================] - ETA: 0s - loss: 0.1589 - accuracy: 0.6493"
          ]
        },
        {
          "name": "stderr",
          "output_type": "stream",
          "text": [
            "WARNING:tensorflow:Early stopping conditioned on metric `val_loss` which is not available. Available metrics are: loss,accuracy\n"
          ]
        },
        {
          "name": "stdout",
          "output_type": "stream",
          "text": [
            "\b\b\b\b\b\b\b\b\b\b\b\b\b\b\b\b\b\b\b\b\b\b\b\b\b\b\b\b\b\b\b\b\b\b\b\b\b\b\b\b\b\b\b\b\b\b\b\b\b\b\b\b\b\b\b\b\b\b\b\b\b\b\b\b\b\b\b\b\b\b\b\b\b\b\b\b\b\b\b\b\b\b\r20/20 [==============================] - 4s 215ms/step - loss: 0.1589 - accuracy: 0.6493\n",
            "Epoch 6/200\n",
            "20/20 [==============================] - ETA: 0s - loss: 0.1450 - accuracy: 0.6774"
          ]
        },
        {
          "name": "stderr",
          "output_type": "stream",
          "text": [
            "WARNING:tensorflow:Early stopping conditioned on metric `val_loss` which is not available. Available metrics are: loss,accuracy\n"
          ]
        },
        {
          "name": "stdout",
          "output_type": "stream",
          "text": [
            "\b\b\b\b\b\b\b\b\b\b\b\b\b\b\b\b\b\b\b\b\b\b\b\b\b\b\b\b\b\b\b\b\b\b\b\b\b\b\b\b\b\b\b\b\b\b\b\b\b\b\b\b\b\b\b\b\b\b\b\b\b\b\b\b\b\b\b\b\b\b\b\b\b\b\b\b\b\b\b\b\b\b\r20/20 [==============================] - 5s 273ms/step - loss: 0.1450 - accuracy: 0.6774\n",
            "Epoch 7/200\n",
            "20/20 [==============================] - ETA: 0s - loss: 0.1087 - accuracy: 0.7554"
          ]
        },
        {
          "name": "stderr",
          "output_type": "stream",
          "text": [
            "WARNING:tensorflow:Early stopping conditioned on metric `val_loss` which is not available. Available metrics are: loss,accuracy\n"
          ]
        },
        {
          "name": "stdout",
          "output_type": "stream",
          "text": [
            "\b\b\b\b\b\b\b\b\b\b\b\b\b\b\b\b\b\b\b\b\b\b\b\b\b\b\b\b\b\b\b\b\b\b\b\b\b\b\b\b\b\b\b\b\b\b\b\b\b\b\b\b\b\b\b\b\b\b\b\b\b\b\b\b\b\b\b\b\b\b\b\b\b\b\b\b\b\b\b\b\b\b\r20/20 [==============================] - 5s 231ms/step - loss: 0.1087 - accuracy: 0.7554\n",
            "Epoch 8/200\n",
            "20/20 [==============================] - ETA: 0s - loss: 0.0832 - accuracy: 0.7801"
          ]
        },
        {
          "name": "stderr",
          "output_type": "stream",
          "text": [
            "WARNING:tensorflow:Early stopping conditioned on metric `val_loss` which is not available. Available metrics are: loss,accuracy\n"
          ]
        },
        {
          "name": "stdout",
          "output_type": "stream",
          "text": [
            "\b\b\b\b\b\b\b\b\b\b\b\b\b\b\b\b\b\b\b\b\b\b\b\b\b\b\b\b\b\b\b\b\b\b\b\b\b\b\b\b\b\b\b\b\b\b\b\b\b\b\b\b\b\b\b\b\b\b\b\b\b\b\b\b\b\b\b\b\b\b\b\b\b\b\b\b\b\b\b\b\b\b\r20/20 [==============================] - 4s 215ms/step - loss: 0.0832 - accuracy: 0.7801\n",
            "Epoch 9/200\n",
            "20/20 [==============================] - ETA: 0s - loss: 0.0698 - accuracy: 0.7958"
          ]
        },
        {
          "name": "stderr",
          "output_type": "stream",
          "text": [
            "WARNING:tensorflow:Early stopping conditioned on metric `val_loss` which is not available. Available metrics are: loss,accuracy\n"
          ]
        },
        {
          "name": "stdout",
          "output_type": "stream",
          "text": [
            "\b\b\b\b\b\b\b\b\b\b\b\b\b\b\b\b\b\b\b\b\b\b\b\b\b\b\b\b\b\b\b\b\b\b\b\b\b\b\b\b\b\b\b\b\b\b\b\b\b\b\b\b\b\b\b\b\b\b\b\b\b\b\b\b\b\b\b\b\b\b\b\b\b\b\b\b\b\b\b\b\b\b\r20/20 [==============================] - 6s 283ms/step - loss: 0.0698 - accuracy: 0.7958\n",
            "Epoch 10/200\n",
            "20/20 [==============================] - ETA: 0s - loss: 0.0627 - accuracy: 0.8055"
          ]
        },
        {
          "name": "stderr",
          "output_type": "stream",
          "text": [
            "WARNING:tensorflow:Early stopping conditioned on metric `val_loss` which is not available. Available metrics are: loss,accuracy\n"
          ]
        },
        {
          "name": "stdout",
          "output_type": "stream",
          "text": [
            "\b\b\b\b\b\b\b\b\b\b\b\b\b\b\b\b\b\b\b\b\b\b\b\b\b\b\b\b\b\b\b\b\b\b\b\b\b\b\b\b\b\b\b\b\b\b\b\b\b\b\b\b\b\b\b\b\b\b\b\b\b\b\b\b\b\b\b\b\b\b\b\b\b\b\b\b\b\b\b\b\b\b\r20/20 [==============================] - 4s 213ms/step - loss: 0.0627 - accuracy: 0.8055\n",
            "Epoch 11/200\n",
            "20/20 [==============================] - ETA: 0s - loss: 0.0577 - accuracy: 0.8126"
          ]
        },
        {
          "name": "stderr",
          "output_type": "stream",
          "text": [
            "WARNING:tensorflow:Early stopping conditioned on metric `val_loss` which is not available. Available metrics are: loss,accuracy\n"
          ]
        },
        {
          "name": "stdout",
          "output_type": "stream",
          "text": [
            "\b\b\b\b\b\b\b\b\b\b\b\b\b\b\b\b\b\b\b\b\b\b\b\b\b\b\b\b\b\b\b\b\b\b\b\b\b\b\b\b\b\b\b\b\b\b\b\b\b\b\b\b\b\b\b\b\b\b\b\b\b\b\b\b\b\b\b\b\b\b\b\b\b\b\b\b\b\b\b\b\b\b\r20/20 [==============================] - 4s 211ms/step - loss: 0.0577 - accuracy: 0.8126\n",
            "Epoch 12/200\n",
            "20/20 [==============================] - ETA: 0s - loss: 0.0542 - accuracy: 0.8174"
          ]
        },
        {
          "name": "stderr",
          "output_type": "stream",
          "text": [
            "WARNING:tensorflow:Early stopping conditioned on metric `val_loss` which is not available. Available metrics are: loss,accuracy\n"
          ]
        },
        {
          "name": "stdout",
          "output_type": "stream",
          "text": [
            "\b\b\b\b\b\b\b\b\b\b\b\b\b\b\b\b\b\b\b\b\b\b\b\b\b\b\b\b\b\b\b\b\b\b\b\b\b\b\b\b\b\b\b\b\b\b\b\b\b\b\b\b\b\b\b\b\b\b\b\b\b\b\b\b\b\b\b\b\b\b\b\b\b\b\b\b\b\b\b\b\b\b\r20/20 [==============================] - 6s 291ms/step - loss: 0.0542 - accuracy: 0.8174\n",
            "Epoch 13/200\n",
            "20/20 [==============================] - ETA: 0s - loss: 0.0517 - accuracy: 0.8198"
          ]
        },
        {
          "name": "stderr",
          "output_type": "stream",
          "text": [
            "WARNING:tensorflow:Early stopping conditioned on metric `val_loss` which is not available. Available metrics are: loss,accuracy\n"
          ]
        },
        {
          "name": "stdout",
          "output_type": "stream",
          "text": [
            "\b\b\b\b\b\b\b\b\b\b\b\b\b\b\b\b\b\b\b\b\b\b\b\b\b\b\b\b\b\b\b\b\b\b\b\b\b\b\b\b\b\b\b\b\b\b\b\b\b\b\b\b\b\b\b\b\b\b\b\b\b\b\b\b\b\b\b\b\b\b\b\b\b\b\b\b\b\b\b\b\b\b\r20/20 [==============================] - 4s 215ms/step - loss: 0.0517 - accuracy: 0.8198\n",
            "Epoch 14/200\n",
            "20/20 [==============================] - ETA: 0s - loss: 0.0494 - accuracy: 0.8219"
          ]
        },
        {
          "name": "stderr",
          "output_type": "stream",
          "text": [
            "WARNING:tensorflow:Early stopping conditioned on metric `val_loss` which is not available. Available metrics are: loss,accuracy\n"
          ]
        },
        {
          "name": "stdout",
          "output_type": "stream",
          "text": [
            "\b\b\b\b\b\b\b\b\b\b\b\b\b\b\b\b\b\b\b\b\b\b\b\b\b\b\b\b\b\b\b\b\b\b\b\b\b\b\b\b\b\b\b\b\b\b\b\b\b\b\b\b\b\b\b\b\b\b\b\b\b\b\b\b\b\b\b\b\b\b\b\b\b\b\b\b\b\b\b\b\b\b\r20/20 [==============================] - 4s 214ms/step - loss: 0.0494 - accuracy: 0.8219\n",
            "Epoch 15/200\n",
            "20/20 [==============================] - ETA: 0s - loss: 0.0474 - accuracy: 0.8235"
          ]
        },
        {
          "name": "stderr",
          "output_type": "stream",
          "text": [
            "WARNING:tensorflow:Early stopping conditioned on metric `val_loss` which is not available. Available metrics are: loss,accuracy\n"
          ]
        },
        {
          "name": "stdout",
          "output_type": "stream",
          "text": [
            "\b\b\b\b\b\b\b\b\b\b\b\b\b\b\b\b\b\b\b\b\b\b\b\b\b\b\b\b\b\b\b\b\b\b\b\b\b\b\b\b\b\b\b\b\b\b\b\b\b\b\b\b\b\b\b\b\b\b\b\b\b\b\b\b\b\b\b\b\b\b\b\b\b\b\b\b\b\b\b\b\b\b\r20/20 [==============================] - 6s 289ms/step - loss: 0.0474 - accuracy: 0.8235\n",
            "Epoch 16/200\n",
            "20/20 [==============================] - ETA: 0s - loss: 0.0453 - accuracy: 0.8256"
          ]
        },
        {
          "name": "stderr",
          "output_type": "stream",
          "text": [
            "WARNING:tensorflow:Early stopping conditioned on metric `val_loss` which is not available. Available metrics are: loss,accuracy\n"
          ]
        },
        {
          "name": "stdout",
          "output_type": "stream",
          "text": [
            "\b\b\b\b\b\b\b\b\b\b\b\b\b\b\b\b\b\b\b\b\b\b\b\b\b\b\b\b\b\b\b\b\b\b\b\b\b\b\b\b\b\b\b\b\b\b\b\b\b\b\b\b\b\b\b\b\b\b\b\b\b\b\b\b\b\b\b\b\b\b\b\b\b\b\b\b\b\b\b\b\b\b\r20/20 [==============================] - 4s 211ms/step - loss: 0.0453 - accuracy: 0.8256\n",
            "Epoch 17/200\n",
            "20/20 [==============================] - ETA: 0s - loss: 0.0439 - accuracy: 0.8267"
          ]
        },
        {
          "name": "stderr",
          "output_type": "stream",
          "text": [
            "WARNING:tensorflow:Early stopping conditioned on metric `val_loss` which is not available. Available metrics are: loss,accuracy\n"
          ]
        },
        {
          "name": "stdout",
          "output_type": "stream",
          "text": [
            "\b\b\b\b\b\b\b\b\b\b\b\b\b\b\b\b\b\b\b\b\b\b\b\b\b\b\b\b\b\b\b\b\b\b\b\b\b\b\b\b\b\b\b\b\b\b\b\b\b\b\b\b\b\b\b\b\b\b\b\b\b\b\b\b\b\b\b\b\b\b\b\b\b\b\b\b\b\b\b\b\b\b\r20/20 [==============================] - 4s 218ms/step - loss: 0.0439 - accuracy: 0.8267\n",
            "Epoch 18/200\n",
            "20/20 [==============================] - ETA: 0s - loss: 0.0425 - accuracy: 0.8278"
          ]
        },
        {
          "name": "stderr",
          "output_type": "stream",
          "text": [
            "WARNING:tensorflow:Early stopping conditioned on metric `val_loss` which is not available. Available metrics are: loss,accuracy\n"
          ]
        },
        {
          "name": "stdout",
          "output_type": "stream",
          "text": [
            "\b\b\b\b\b\b\b\b\b\b\b\b\b\b\b\b\b\b\b\b\b\b\b\b\b\b\b\b\b\b\b\b\b\b\b\b\b\b\b\b\b\b\b\b\b\b\b\b\b\b\b\b\b\b\b\b\b\b\b\b\b\b\b\b\b\b\b\b\b\b\b\b\b\b\b\b\b\b\b\b\b\b\r20/20 [==============================] - 6s 299ms/step - loss: 0.0425 - accuracy: 0.8278\n",
            "Epoch 19/200\n",
            "20/20 [==============================] - ETA: 0s - loss: 0.0413 - accuracy: 0.8288"
          ]
        },
        {
          "name": "stderr",
          "output_type": "stream",
          "text": [
            "WARNING:tensorflow:Early stopping conditioned on metric `val_loss` which is not available. Available metrics are: loss,accuracy\n"
          ]
        },
        {
          "name": "stdout",
          "output_type": "stream",
          "text": [
            "\b\b\b\b\b\b\b\b\b\b\b\b\b\b\b\b\b\b\b\b\b\b\b\b\b\b\b\b\b\b\b\b\b\b\b\b\b\b\b\b\b\b\b\b\b\b\b\b\b\b\b\b\b\b\b\b\b\b\b\b\b\b\b\b\b\b\b\b\b\b\b\b\b\b\b\b\b\b\b\b\b\b\r20/20 [==============================] - 4s 216ms/step - loss: 0.0413 - accuracy: 0.8288\n",
            "Epoch 20/200\n",
            "20/20 [==============================] - ETA: 0s - loss: 0.0402 - accuracy: 0.8297"
          ]
        },
        {
          "name": "stderr",
          "output_type": "stream",
          "text": [
            "WARNING:tensorflow:Early stopping conditioned on metric `val_loss` which is not available. Available metrics are: loss,accuracy\n"
          ]
        },
        {
          "name": "stdout",
          "output_type": "stream",
          "text": [
            "\b\b\b\b\b\b\b\b\b\b\b\b\b\b\b\b\b\b\b\b\b\b\b\b\b\b\b\b\b\b\b\b\b\b\b\b\b\b\b\b\b\b\b\b\b\b\b\b\b\b\b\b\b\b\b\b\b\b\b\b\b\b\b\b\b\b\b\b\b\b\b\b\b\b\b\b\b\b\b\b\b\b\r20/20 [==============================] - 4s 211ms/step - loss: 0.0402 - accuracy: 0.8297\n",
            "Epoch 21/200\n",
            "20/20 [==============================] - ETA: 0s - loss: 0.0393 - accuracy: 0.8305"
          ]
        },
        {
          "name": "stderr",
          "output_type": "stream",
          "text": [
            "WARNING:tensorflow:Early stopping conditioned on metric `val_loss` which is not available. Available metrics are: loss,accuracy\n"
          ]
        },
        {
          "name": "stdout",
          "output_type": "stream",
          "text": [
            "\b\b\b\b\b\b\b\b\b\b\b\b\b\b\b\b\b\b\b\b\b\b\b\b\b\b\b\b\b\b\b\b\b\b\b\b\b\b\b\b\b\b\b\b\b\b\b\b\b\b\b\b\b\b\b\b\b\b\b\b\b\b\b\b\b\b\b\b\b\b\b\b\b\b\b\b\b\b\b\b\b\b\r20/20 [==============================] - 6s 291ms/step - loss: 0.0393 - accuracy: 0.8305\n",
            "Epoch 22/200\n",
            "20/20 [==============================] - ETA: 0s - loss: 0.0387 - accuracy: 0.8311"
          ]
        },
        {
          "name": "stderr",
          "output_type": "stream",
          "text": [
            "WARNING:tensorflow:Early stopping conditioned on metric `val_loss` which is not available. Available metrics are: loss,accuracy\n"
          ]
        },
        {
          "name": "stdout",
          "output_type": "stream",
          "text": [
            "\b\b\b\b\b\b\b\b\b\b\b\b\b\b\b\b\b\b\b\b\b\b\b\b\b\b\b\b\b\b\b\b\b\b\b\b\b\b\b\b\b\b\b\b\b\b\b\b\b\b\b\b\b\b\b\b\b\b\b\b\b\b\b\b\b\b\b\b\b\b\b\b\b\b\b\b\b\b\b\b\b\b\r20/20 [==============================] - 4s 213ms/step - loss: 0.0387 - accuracy: 0.8311\n",
            "Epoch 23/200\n",
            "20/20 [==============================] - ETA: 0s - loss: 0.0380 - accuracy: 0.8316"
          ]
        },
        {
          "name": "stderr",
          "output_type": "stream",
          "text": [
            "WARNING:tensorflow:Early stopping conditioned on metric `val_loss` which is not available. Available metrics are: loss,accuracy\n"
          ]
        },
        {
          "name": "stdout",
          "output_type": "stream",
          "text": [
            "\b\b\b\b\b\b\b\b\b\b\b\b\b\b\b\b\b\b\b\b\b\b\b\b\b\b\b\b\b\b\b\b\b\b\b\b\b\b\b\b\b\b\b\b\b\b\b\b\b\b\b\b\b\b\b\b\b\b\b\b\b\b\b\b\b\b\b\b\b\b\b\b\b\b\b\b\b\b\b\b\b\b\r20/20 [==============================] - 4s 219ms/step - loss: 0.0380 - accuracy: 0.8316\n",
            "Epoch 24/200\n",
            "20/20 [==============================] - ETA: 0s - loss: 0.0373 - accuracy: 0.8322"
          ]
        },
        {
          "name": "stderr",
          "output_type": "stream",
          "text": [
            "WARNING:tensorflow:Early stopping conditioned on metric `val_loss` which is not available. Available metrics are: loss,accuracy\n"
          ]
        },
        {
          "name": "stdout",
          "output_type": "stream",
          "text": [
            "\b\b\b\b\b\b\b\b\b\b\b\b\b\b\b\b\b\b\b\b\b\b\b\b\b\b\b\b\b\b\b\b\b\b\b\b\b\b\b\b\b\b\b\b\b\b\b\b\b\b\b\b\b\b\b\b\b\b\b\b\b\b\b\b\b\b\b\b\b\b\b\b\b\b\b\b\b\b\b\b\b\b\r20/20 [==============================] - 6s 277ms/step - loss: 0.0373 - accuracy: 0.8322\n",
            "Epoch 25/200\n",
            "20/20 [==============================] - ETA: 0s - loss: 0.0367 - accuracy: 0.8329"
          ]
        },
        {
          "name": "stderr",
          "output_type": "stream",
          "text": [
            "WARNING:tensorflow:Early stopping conditioned on metric `val_loss` which is not available. Available metrics are: loss,accuracy\n"
          ]
        },
        {
          "name": "stdout",
          "output_type": "stream",
          "text": [
            "\b\b\b\b\b\b\b\b\b\b\b\b\b\b\b\b\b\b\b\b\b\b\b\b\b\b\b\b\b\b\b\b\b\b\b\b\b\b\b\b\b\b\b\b\b\b\b\b\b\b\b\b\b\b\b\b\b\b\b\b\b\b\b\b\b\b\b\b\b\b\b\b\b\b\b\b\b\b\b\b\b\b\r20/20 [==============================] - 4s 214ms/step - loss: 0.0367 - accuracy: 0.8329\n",
            "Epoch 26/200\n",
            "20/20 [==============================] - ETA: 0s - loss: 0.0360 - accuracy: 0.8333"
          ]
        },
        {
          "name": "stderr",
          "output_type": "stream",
          "text": [
            "WARNING:tensorflow:Early stopping conditioned on metric `val_loss` which is not available. Available metrics are: loss,accuracy\n"
          ]
        },
        {
          "name": "stdout",
          "output_type": "stream",
          "text": [
            "\b\b\b\b\b\b\b\b\b\b\b\b\b\b\b\b\b\b\b\b\b\b\b\b\b\b\b\b\b\b\b\b\b\b\b\b\b\b\b\b\b\b\b\b\b\b\b\b\b\b\b\b\b\b\b\b\b\b\b\b\b\b\b\b\b\b\b\b\b\b\b\b\b\b\b\b\b\b\b\b\b\b\r20/20 [==============================] - 6s 280ms/step - loss: 0.0360 - accuracy: 0.8333\n",
            "Epoch 27/200\n",
            "20/20 [==============================] - ETA: 0s - loss: 0.0356 - accuracy: 0.8338"
          ]
        },
        {
          "name": "stderr",
          "output_type": "stream",
          "text": [
            "WARNING:tensorflow:Early stopping conditioned on metric `val_loss` which is not available. Available metrics are: loss,accuracy\n"
          ]
        },
        {
          "name": "stdout",
          "output_type": "stream",
          "text": [
            "\b\b\b\b\b\b\b\b\b\b\b\b\b\b\b\b\b\b\b\b\b\b\b\b\b\b\b\b\b\b\b\b\b\b\b\b\b\b\b\b\b\b\b\b\b\b\b\b\b\b\b\b\b\b\b\b\b\b\b\b\b\b\b\b\b\b\b\b\b\b\b\b\b\b\b\b\b\b\b\b\b\b\r20/20 [==============================] - 5s 258ms/step - loss: 0.0356 - accuracy: 0.8338\n",
            "Epoch 28/200\n",
            "20/20 [==============================] - ETA: 0s - loss: 0.0351 - accuracy: 0.8341"
          ]
        },
        {
          "name": "stderr",
          "output_type": "stream",
          "text": [
            "WARNING:tensorflow:Early stopping conditioned on metric `val_loss` which is not available. Available metrics are: loss,accuracy\n"
          ]
        },
        {
          "name": "stdout",
          "output_type": "stream",
          "text": [
            "\b\b\b\b\b\b\b\b\b\b\b\b\b\b\b\b\b\b\b\b\b\b\b\b\b\b\b\b\b\b\b\b\b\b\b\b\b\b\b\b\b\b\b\b\b\b\b\b\b\b\b\b\b\b\b\b\b\b\b\b\b\b\b\b\b\b\b\b\b\b\b\b\b\b\b\b\b\b\b\b\b\b\r20/20 [==============================] - 4s 214ms/step - loss: 0.0351 - accuracy: 0.8341\n",
            "Epoch 29/200\n",
            "20/20 [==============================] - ETA: 0s - loss: 0.0346 - accuracy: 0.8344"
          ]
        },
        {
          "name": "stderr",
          "output_type": "stream",
          "text": [
            "WARNING:tensorflow:Early stopping conditioned on metric `val_loss` which is not available. Available metrics are: loss,accuracy\n"
          ]
        },
        {
          "name": "stdout",
          "output_type": "stream",
          "text": [
            "\b\b\b\b\b\b\b\b\b\b\b\b\b\b\b\b\b\b\b\b\b\b\b\b\b\b\b\b\b\b\b\b\b\b\b\b\b\b\b\b\b\b\b\b\b\b\b\b\b\b\b\b\b\b\b\b\b\b\b\b\b\b\b\b\b\b\b\b\b\b\b\b\b\b\b\b\b\b\b\b\b\b\r20/20 [==============================] - 5s 269ms/step - loss: 0.0346 - accuracy: 0.8344\n",
            "Epoch 30/200\n",
            "20/20 [==============================] - ETA: 0s - loss: 0.0343 - accuracy: 0.8346"
          ]
        },
        {
          "name": "stderr",
          "output_type": "stream",
          "text": [
            "WARNING:tensorflow:Early stopping conditioned on metric `val_loss` which is not available. Available metrics are: loss,accuracy\n"
          ]
        },
        {
          "name": "stdout",
          "output_type": "stream",
          "text": [
            "\b\b\b\b\b\b\b\b\b\b\b\b\b\b\b\b\b\b\b\b\b\b\b\b\b\b\b\b\b\b\b\b\b\b\b\b\b\b\b\b\b\b\b\b\b\b\b\b\b\b\b\b\b\b\b\b\b\b\b\b\b\b\b\b\b\b\b\b\b\b\b\b\b\b\b\b\b\b\b\b\b\b\r20/20 [==============================] - 5s 241ms/step - loss: 0.0343 - accuracy: 0.8346\n",
            "Epoch 31/200\n",
            "20/20 [==============================] - ETA: 0s - loss: 0.0338 - accuracy: 0.8350"
          ]
        },
        {
          "name": "stderr",
          "output_type": "stream",
          "text": [
            "WARNING:tensorflow:Early stopping conditioned on metric `val_loss` which is not available. Available metrics are: loss,accuracy\n"
          ]
        },
        {
          "name": "stdout",
          "output_type": "stream",
          "text": [
            "\b\b\b\b\b\b\b\b\b\b\b\b\b\b\b\b\b\b\b\b\b\b\b\b\b\b\b\b\b\b\b\b\b\b\b\b\b\b\b\b\b\b\b\b\b\b\b\b\b\b\b\b\b\b\b\b\b\b\b\b\b\b\b\b\b\b\b\b\b\b\b\b\b\b\b\b\b\b\b\b\b\b\r20/20 [==============================] - 4s 225ms/step - loss: 0.0338 - accuracy: 0.8350\n",
            "Epoch 32/200\n",
            "20/20 [==============================] - ETA: 0s - loss: 0.0335 - accuracy: 0.8353"
          ]
        },
        {
          "name": "stderr",
          "output_type": "stream",
          "text": [
            "WARNING:tensorflow:Early stopping conditioned on metric `val_loss` which is not available. Available metrics are: loss,accuracy\n"
          ]
        },
        {
          "name": "stdout",
          "output_type": "stream",
          "text": [
            "\b\b\b\b\b\b\b\b\b\b\b\b\b\b\b\b\b\b\b\b\b\b\b\b\b\b\b\b\b\b\b\b\b\b\b\b\b\b\b\b\b\b\b\b\b\b\b\b\b\b\b\b\b\b\b\b\b\b\b\b\b\b\b\b\b\b\b\b\b\b\b\b\b\b\b\b\b\b\b\b\b\b\r20/20 [==============================] - 6s 287ms/step - loss: 0.0335 - accuracy: 0.8353\n",
            "Epoch 33/200\n",
            "20/20 [==============================] - ETA: 0s - loss: 0.0332 - accuracy: 0.8355"
          ]
        },
        {
          "name": "stderr",
          "output_type": "stream",
          "text": [
            "WARNING:tensorflow:Early stopping conditioned on metric `val_loss` which is not available. Available metrics are: loss,accuracy\n"
          ]
        },
        {
          "name": "stdout",
          "output_type": "stream",
          "text": [
            "\b\b\b\b\b\b\b\b\b\b\b\b\b\b\b\b\b\b\b\b\b\b\b\b\b\b\b\b\b\b\b\b\b\b\b\b\b\b\b\b\b\b\b\b\b\b\b\b\b\b\b\b\b\b\b\b\b\b\b\b\b\b\b\b\b\b\b\b\b\b\b\b\b\b\b\b\b\b\b\b\b\b\r20/20 [==============================] - 4s 214ms/step - loss: 0.0332 - accuracy: 0.8355\n",
            "Epoch 34/200\n",
            "20/20 [==============================] - ETA: 0s - loss: 0.0329 - accuracy: 0.8356"
          ]
        },
        {
          "name": "stderr",
          "output_type": "stream",
          "text": [
            "WARNING:tensorflow:Early stopping conditioned on metric `val_loss` which is not available. Available metrics are: loss,accuracy\n"
          ]
        },
        {
          "name": "stdout",
          "output_type": "stream",
          "text": [
            "\b\b\b\b\b\b\b\b\b\b\b\b\b\b\b\b\b\b\b\b\b\b\b\b\b\b\b\b\b\b\b\b\b\b\b\b\b\b\b\b\b\b\b\b\b\b\b\b\b\b\b\b\b\b\b\b\b\b\b\b\b\b\b\b\b\b\b\b\b\b\b\b\b\b\b\b\b\b\b\b\b\b\r20/20 [==============================] - 4s 219ms/step - loss: 0.0329 - accuracy: 0.8356\n",
            "Epoch 35/200\n",
            "20/20 [==============================] - ETA: 0s - loss: 0.0325 - accuracy: 0.8360"
          ]
        },
        {
          "name": "stderr",
          "output_type": "stream",
          "text": [
            "WARNING:tensorflow:Early stopping conditioned on metric `val_loss` which is not available. Available metrics are: loss,accuracy\n"
          ]
        },
        {
          "name": "stdout",
          "output_type": "stream",
          "text": [
            "\b\b\b\b\b\b\b\b\b\b\b\b\b\b\b\b\b\b\b\b\b\b\b\b\b\b\b\b\b\b\b\b\b\b\b\b\b\b\b\b\b\b\b\b\b\b\b\b\b\b\b\b\b\b\b\b\b\b\b\b\b\b\b\b\b\b\b\b\b\b\b\b\b\b\b\b\b\b\b\b\b\b\r20/20 [==============================] - 6s 294ms/step - loss: 0.0325 - accuracy: 0.8360\n",
            "Epoch 36/200\n",
            "20/20 [==============================] - ETA: 0s - loss: 0.0321 - accuracy: 0.8363"
          ]
        },
        {
          "name": "stderr",
          "output_type": "stream",
          "text": [
            "WARNING:tensorflow:Early stopping conditioned on metric `val_loss` which is not available. Available metrics are: loss,accuracy\n"
          ]
        },
        {
          "name": "stdout",
          "output_type": "stream",
          "text": [
            "\b\b\b\b\b\b\b\b\b\b\b\b\b\b\b\b\b\b\b\b\b\b\b\b\b\b\b\b\b\b\b\b\b\b\b\b\b\b\b\b\b\b\b\b\b\b\b\b\b\b\b\b\b\b\b\b\b\b\b\b\b\b\b\b\b\b\b\b\b\b\b\b\b\b\b\b\b\b\b\b\b\b\r20/20 [==============================] - 4s 213ms/step - loss: 0.0321 - accuracy: 0.8363\n",
            "Epoch 37/200\n",
            "20/20 [==============================] - ETA: 0s - loss: 0.0319 - accuracy: 0.8364"
          ]
        },
        {
          "name": "stderr",
          "output_type": "stream",
          "text": [
            "WARNING:tensorflow:Early stopping conditioned on metric `val_loss` which is not available. Available metrics are: loss,accuracy\n"
          ]
        },
        {
          "name": "stdout",
          "output_type": "stream",
          "text": [
            "\b\b\b\b\b\b\b\b\b\b\b\b\b\b\b\b\b\b\b\b\b\b\b\b\b\b\b\b\b\b\b\b\b\b\b\b\b\b\b\b\b\b\b\b\b\b\b\b\b\b\b\b\b\b\b\b\b\b\b\b\b\b\b\b\b\b\b\b\b\b\b\b\b\b\b\b\b\b\b\b\b\b\r20/20 [==============================] - 4s 213ms/step - loss: 0.0319 - accuracy: 0.8364\n",
            "Epoch 38/200\n",
            "20/20 [==============================] - ETA: 0s - loss: 0.0317 - accuracy: 0.8366"
          ]
        },
        {
          "name": "stderr",
          "output_type": "stream",
          "text": [
            "WARNING:tensorflow:Early stopping conditioned on metric `val_loss` which is not available. Available metrics are: loss,accuracy\n"
          ]
        },
        {
          "name": "stdout",
          "output_type": "stream",
          "text": [
            "\b\b\b\b\b\b\b\b\b\b\b\b\b\b\b\b\b\b\b\b\b\b\b\b\b\b\b\b\b\b\b\b\b\b\b\b\b\b\b\b\b\b\b\b\b\b\b\b\b\b\b\b\b\b\b\b\b\b\b\b\b\b\b\b\b\b\b\b\b\b\b\b\b\b\b\b\b\b\b\b\b\b\r20/20 [==============================] - 6s 289ms/step - loss: 0.0317 - accuracy: 0.8366\n",
            "Epoch 39/200\n",
            "20/20 [==============================] - ETA: 0s - loss: 0.0313 - accuracy: 0.8368"
          ]
        },
        {
          "name": "stderr",
          "output_type": "stream",
          "text": [
            "WARNING:tensorflow:Early stopping conditioned on metric `val_loss` which is not available. Available metrics are: loss,accuracy\n"
          ]
        },
        {
          "name": "stdout",
          "output_type": "stream",
          "text": [
            "\b\b\b\b\b\b\b\b\b\b\b\b\b\b\b\b\b\b\b\b\b\b\b\b\b\b\b\b\b\b\b\b\b\b\b\b\b\b\b\b\b\b\b\b\b\b\b\b\b\b\b\b\b\b\b\b\b\b\b\b\b\b\b\b\b\b\b\b\b\b\b\b\b\b\b\b\b\b\b\b\b\b\r20/20 [==============================] - 4s 223ms/step - loss: 0.0313 - accuracy: 0.8368\n",
            "Epoch 40/200\n",
            "20/20 [==============================] - ETA: 0s - loss: 0.0312 - accuracy: 0.8370"
          ]
        },
        {
          "name": "stderr",
          "output_type": "stream",
          "text": [
            "WARNING:tensorflow:Early stopping conditioned on metric `val_loss` which is not available. Available metrics are: loss,accuracy\n"
          ]
        },
        {
          "name": "stdout",
          "output_type": "stream",
          "text": [
            "\b\b\b\b\b\b\b\b\b\b\b\b\b\b\b\b\b\b\b\b\b\b\b\b\b\b\b\b\b\b\b\b\b\b\b\b\b\b\b\b\b\b\b\b\b\b\b\b\b\b\b\b\b\b\b\b\b\b\b\b\b\b\b\b\b\b\b\b\b\b\b\b\b\b\b\b\b\b\b\b\b\b\r20/20 [==============================] - 4s 223ms/step - loss: 0.0312 - accuracy: 0.8370\n",
            "Epoch 41/200\n",
            "20/20 [==============================] - ETA: 0s - loss: 0.0310 - accuracy: 0.8371"
          ]
        },
        {
          "name": "stderr",
          "output_type": "stream",
          "text": [
            "WARNING:tensorflow:Early stopping conditioned on metric `val_loss` which is not available. Available metrics are: loss,accuracy\n"
          ]
        },
        {
          "name": "stdout",
          "output_type": "stream",
          "text": [
            "\b\b\b\b\b\b\b\b\b\b\b\b\b\b\b\b\b\b\b\b\b\b\b\b\b\b\b\b\b\b\b\b\b\b\b\b\b\b\b\b\b\b\b\b\b\b\b\b\b\b\b\b\b\b\b\b\b\b\b\b\b\b\b\b\b\b\b\b\b\b\b\b\b\b\b\b\b\b\b\b\b\b\r20/20 [==============================] - 6s 285ms/step - loss: 0.0310 - accuracy: 0.8371\n",
            "Epoch 42/200\n",
            "20/20 [==============================] - ETA: 0s - loss: 0.0306 - accuracy: 0.8374"
          ]
        },
        {
          "name": "stderr",
          "output_type": "stream",
          "text": [
            "WARNING:tensorflow:Early stopping conditioned on metric `val_loss` which is not available. Available metrics are: loss,accuracy\n"
          ]
        },
        {
          "name": "stdout",
          "output_type": "stream",
          "text": [
            "\b\b\b\b\b\b\b\b\b\b\b\b\b\b\b\b\b\b\b\b\b\b\b\b\b\b\b\b\b\b\b\b\b\b\b\b\b\b\b\b\b\b\b\b\b\b\b\b\b\b\b\b\b\b\b\b\b\b\b\b\b\b\b\b\b\b\b\b\b\b\b\b\b\b\b\b\b\b\b\b\b\b\r20/20 [==============================] - 4s 210ms/step - loss: 0.0306 - accuracy: 0.8374\n",
            "Epoch 43/200\n",
            "20/20 [==============================] - ETA: 0s - loss: 0.0306 - accuracy: 0.8375"
          ]
        },
        {
          "name": "stderr",
          "output_type": "stream",
          "text": [
            "WARNING:tensorflow:Early stopping conditioned on metric `val_loss` which is not available. Available metrics are: loss,accuracy\n"
          ]
        },
        {
          "name": "stdout",
          "output_type": "stream",
          "text": [
            "\b\b\b\b\b\b\b\b\b\b\b\b\b\b\b\b\b\b\b\b\b\b\b\b\b\b\b\b\b\b\b\b\b\b\b\b\b\b\b\b\b\b\b\b\b\b\b\b\b\b\b\b\b\b\b\b\b\b\b\b\b\b\b\b\b\b\b\b\b\b\b\b\b\b\b\b\b\b\b\b\b\b\r20/20 [==============================] - 5s 237ms/step - loss: 0.0306 - accuracy: 0.8375\n",
            "Epoch 44/200\n",
            "20/20 [==============================] - ETA: 0s - loss: 0.0303 - accuracy: 0.8377"
          ]
        },
        {
          "name": "stderr",
          "output_type": "stream",
          "text": [
            "WARNING:tensorflow:Early stopping conditioned on metric `val_loss` which is not available. Available metrics are: loss,accuracy\n"
          ]
        },
        {
          "name": "stdout",
          "output_type": "stream",
          "text": [
            "\b\b\b\b\b\b\b\b\b\b\b\b\b\b\b\b\b\b\b\b\b\b\b\b\b\b\b\b\b\b\b\b\b\b\b\b\b\b\b\b\b\b\b\b\b\b\b\b\b\b\b\b\b\b\b\b\b\b\b\b\b\b\b\b\b\b\b\b\b\b\b\b\b\b\b\b\b\b\b\b\b\b\r20/20 [==============================] - 5s 265ms/step - loss: 0.0303 - accuracy: 0.8377\n",
            "Epoch 45/200\n",
            "20/20 [==============================] - ETA: 0s - loss: 0.0300 - accuracy: 0.8378"
          ]
        },
        {
          "name": "stderr",
          "output_type": "stream",
          "text": [
            "WARNING:tensorflow:Early stopping conditioned on metric `val_loss` which is not available. Available metrics are: loss,accuracy\n"
          ]
        },
        {
          "name": "stdout",
          "output_type": "stream",
          "text": [
            "\b\b\b\b\b\b\b\b\b\b\b\b\b\b\b\b\b\b\b\b\b\b\b\b\b\b\b\b\b\b\b\b\b\b\b\b\b\b\b\b\b\b\b\b\b\b\b\b\b\b\b\b\b\b\b\b\b\b\b\b\b\b\b\b\b\b\b\b\b\b\b\b\b\b\b\b\b\b\b\b\b\b\r20/20 [==============================] - 4s 211ms/step - loss: 0.0300 - accuracy: 0.8378\n",
            "Epoch 46/200\n",
            "20/20 [==============================] - ETA: 0s - loss: 0.0299 - accuracy: 0.8380"
          ]
        },
        {
          "name": "stderr",
          "output_type": "stream",
          "text": [
            "WARNING:tensorflow:Early stopping conditioned on metric `val_loss` which is not available. Available metrics are: loss,accuracy\n"
          ]
        },
        {
          "name": "stdout",
          "output_type": "stream",
          "text": [
            "\b\b\b\b\b\b\b\b\b\b\b\b\b\b\b\b\b\b\b\b\b\b\b\b\b\b\b\b\b\b\b\b\b\b\b\b\b\b\b\b\b\b\b\b\b\b\b\b\b\b\b\b\b\b\b\b\b\b\b\b\b\b\b\b\b\b\b\b\b\b\b\b\b\b\b\b\b\b\b\b\b\b\r20/20 [==============================] - 5s 236ms/step - loss: 0.0299 - accuracy: 0.8380\n",
            "Epoch 47/200\n",
            "20/20 [==============================] - ETA: 0s - loss: 0.0297 - accuracy: 0.8380"
          ]
        },
        {
          "name": "stderr",
          "output_type": "stream",
          "text": [
            "WARNING:tensorflow:Early stopping conditioned on metric `val_loss` which is not available. Available metrics are: loss,accuracy\n"
          ]
        },
        {
          "name": "stdout",
          "output_type": "stream",
          "text": [
            "\b\b\b\b\b\b\b\b\b\b\b\b\b\b\b\b\b\b\b\b\b\b\b\b\b\b\b\b\b\b\b\b\b\b\b\b\b\b\b\b\b\b\b\b\b\b\b\b\b\b\b\b\b\b\b\b\b\b\b\b\b\b\b\b\b\b\b\b\b\b\b\b\b\b\b\b\b\b\b\b\b\b\r20/20 [==============================] - 5s 254ms/step - loss: 0.0297 - accuracy: 0.8380\n",
            "Epoch 48/200\n",
            "20/20 [==============================] - ETA: 0s - loss: 0.0295 - accuracy: 0.8382"
          ]
        },
        {
          "name": "stderr",
          "output_type": "stream",
          "text": [
            "WARNING:tensorflow:Early stopping conditioned on metric `val_loss` which is not available. Available metrics are: loss,accuracy\n"
          ]
        },
        {
          "name": "stdout",
          "output_type": "stream",
          "text": [
            "\b\b\b\b\b\b\b\b\b\b\b\b\b\b\b\b\b\b\b\b\b\b\b\b\b\b\b\b\b\b\b\b\b\b\b\b\b\b\b\b\b\b\b\b\b\b\b\b\b\b\b\b\b\b\b\b\b\b\b\b\b\b\b\b\b\b\b\b\b\b\b\b\b\b\b\b\b\b\b\b\b\b\r20/20 [==============================] - 4s 214ms/step - loss: 0.0295 - accuracy: 0.8382\n",
            "Epoch 49/200\n",
            "20/20 [==============================] - ETA: 0s - loss: 0.0293 - accuracy: 0.8383"
          ]
        },
        {
          "name": "stderr",
          "output_type": "stream",
          "text": [
            "WARNING:tensorflow:Early stopping conditioned on metric `val_loss` which is not available. Available metrics are: loss,accuracy\n"
          ]
        },
        {
          "name": "stdout",
          "output_type": "stream",
          "text": [
            "\b\b\b\b\b\b\b\b\b\b\b\b\b\b\b\b\b\b\b\b\b\b\b\b\b\b\b\b\b\b\b\b\b\b\b\b\b\b\b\b\b\b\b\b\b\b\b\b\b\b\b\b\b\b\b\b\b\b\b\b\b\b\b\b\b\b\b\b\b\b\b\b\b\b\b\b\b\b\b\b\b\b\r20/20 [==============================] - 5s 246ms/step - loss: 0.0293 - accuracy: 0.8383\n",
            "Epoch 50/200\n",
            "20/20 [==============================] - ETA: 0s - loss: 0.0292 - accuracy: 0.8383"
          ]
        },
        {
          "name": "stderr",
          "output_type": "stream",
          "text": [
            "WARNING:tensorflow:Early stopping conditioned on metric `val_loss` which is not available. Available metrics are: loss,accuracy\n"
          ]
        },
        {
          "name": "stdout",
          "output_type": "stream",
          "text": [
            "\b\b\b\b\b\b\b\b\b\b\b\b\b\b\b\b\b\b\b\b\b\b\b\b\b\b\b\b\b\b\b\b\b\b\b\b\b\b\b\b\b\b\b\b\b\b\b\b\b\b\b\b\b\b\b\b\b\b\b\b\b\b\b\b\b\b\b\b\b\b\b\b\b\b\b\b\b\b\b\b\b\b\r20/20 [==============================] - 5s 250ms/step - loss: 0.0292 - accuracy: 0.8383\n",
            "Epoch 51/200\n",
            "20/20 [==============================] - ETA: 0s - loss: 0.0290 - accuracy: 0.8385"
          ]
        },
        {
          "name": "stderr",
          "output_type": "stream",
          "text": [
            "WARNING:tensorflow:Early stopping conditioned on metric `val_loss` which is not available. Available metrics are: loss,accuracy\n"
          ]
        },
        {
          "name": "stdout",
          "output_type": "stream",
          "text": [
            "\b\b\b\b\b\b\b\b\b\b\b\b\b\b\b\b\b\b\b\b\b\b\b\b\b\b\b\b\b\b\b\b\b\b\b\b\b\b\b\b\b\b\b\b\b\b\b\b\b\b\b\b\b\b\b\b\b\b\b\b\b\b\b\b\b\b\b\b\b\b\b\b\b\b\b\b\b\b\b\b\b\b\r20/20 [==============================] - 4s 213ms/step - loss: 0.0290 - accuracy: 0.8385\n",
            "Epoch 52/200\n",
            "20/20 [==============================] - ETA: 0s - loss: 0.0288 - accuracy: 0.8386"
          ]
        },
        {
          "name": "stderr",
          "output_type": "stream",
          "text": [
            "WARNING:tensorflow:Early stopping conditioned on metric `val_loss` which is not available. Available metrics are: loss,accuracy\n"
          ]
        },
        {
          "name": "stdout",
          "output_type": "stream",
          "text": [
            "\b\b\b\b\b\b\b\b\b\b\b\b\b\b\b\b\b\b\b\b\b\b\b\b\b\b\b\b\b\b\b\b\b\b\b\b\b\b\b\b\b\b\b\b\b\b\b\b\b\b\b\b\b\b\b\b\b\b\b\b\b\b\b\b\b\b\b\b\b\b\b\b\b\b\b\b\b\b\b\b\b\b\r20/20 [==============================] - 5s 265ms/step - loss: 0.0288 - accuracy: 0.8386\n",
            "Epoch 53/200\n",
            "20/20 [==============================] - ETA: 0s - loss: 0.0288 - accuracy: 0.8386"
          ]
        },
        {
          "name": "stderr",
          "output_type": "stream",
          "text": [
            "WARNING:tensorflow:Early stopping conditioned on metric `val_loss` which is not available. Available metrics are: loss,accuracy\n"
          ]
        },
        {
          "name": "stdout",
          "output_type": "stream",
          "text": [
            "\b\b\b\b\b\b\b\b\b\b\b\b\b\b\b\b\b\b\b\b\b\b\b\b\b\b\b\b\b\b\b\b\b\b\b\b\b\b\b\b\b\b\b\b\b\b\b\b\b\b\b\b\b\b\b\b\b\b\b\b\b\b\b\b\b\b\b\b\b\b\b\b\b\b\b\b\b\b\b\b\b\b\r20/20 [==============================] - 5s 235ms/step - loss: 0.0288 - accuracy: 0.8386\n",
            "Epoch 54/200\n",
            "20/20 [==============================] - ETA: 0s - loss: 0.0286 - accuracy: 0.8388"
          ]
        },
        {
          "name": "stderr",
          "output_type": "stream",
          "text": [
            "WARNING:tensorflow:Early stopping conditioned on metric `val_loss` which is not available. Available metrics are: loss,accuracy\n"
          ]
        },
        {
          "name": "stdout",
          "output_type": "stream",
          "text": [
            "\b\b\b\b\b\b\b\b\b\b\b\b\b\b\b\b\b\b\b\b\b\b\b\b\b\b\b\b\b\b\b\b\b\b\b\b\b\b\b\b\b\b\b\b\b\b\b\b\b\b\b\b\b\b\b\b\b\b\b\b\b\b\b\b\b\b\b\b\b\b\b\b\b\b\b\b\b\b\b\b\b\b\r20/20 [==============================] - 4s 214ms/step - loss: 0.0286 - accuracy: 0.8388\n",
            "Epoch 55/200\n",
            "20/20 [==============================] - ETA: 0s - loss: 0.0284 - accuracy: 0.8389"
          ]
        },
        {
          "name": "stderr",
          "output_type": "stream",
          "text": [
            "WARNING:tensorflow:Early stopping conditioned on metric `val_loss` which is not available. Available metrics are: loss,accuracy\n"
          ]
        },
        {
          "name": "stdout",
          "output_type": "stream",
          "text": [
            "\b\b\b\b\b\b\b\b\b\b\b\b\b\b\b\b\b\b\b\b\b\b\b\b\b\b\b\b\b\b\b\b\b\b\b\b\b\b\b\b\b\b\b\b\b\b\b\b\b\b\b\b\b\b\b\b\b\b\b\b\b\b\b\b\b\b\b\b\b\b\b\b\b\b\b\b\b\b\b\b\b\b\r20/20 [==============================] - 5s 274ms/step - loss: 0.0284 - accuracy: 0.8389\n",
            "Epoch 56/200\n",
            "20/20 [==============================] - ETA: 0s - loss: 0.0283 - accuracy: 0.8389"
          ]
        },
        {
          "name": "stderr",
          "output_type": "stream",
          "text": [
            "WARNING:tensorflow:Early stopping conditioned on metric `val_loss` which is not available. Available metrics are: loss,accuracy\n"
          ]
        },
        {
          "name": "stdout",
          "output_type": "stream",
          "text": [
            "\b\b\b\b\b\b\b\b\b\b\b\b\b\b\b\b\b\b\b\b\b\b\b\b\b\b\b\b\b\b\b\b\b\b\b\b\b\b\b\b\b\b\b\b\b\b\b\b\b\b\b\b\b\b\b\b\b\b\b\b\b\b\b\b\b\b\b\b\b\b\b\b\b\b\b\b\b\b\b\b\b\b\r20/20 [==============================] - 5s 231ms/step - loss: 0.0283 - accuracy: 0.8389\n",
            "Epoch 57/200\n",
            "20/20 [==============================] - ETA: 0s - loss: 0.0282 - accuracy: 0.8389"
          ]
        },
        {
          "name": "stderr",
          "output_type": "stream",
          "text": [
            "WARNING:tensorflow:Early stopping conditioned on metric `val_loss` which is not available. Available metrics are: loss,accuracy\n"
          ]
        },
        {
          "name": "stdout",
          "output_type": "stream",
          "text": [
            "\b\b\b\b\b\b\b\b\b\b\b\b\b\b\b\b\b\b\b\b\b\b\b\b\b\b\b\b\b\b\b\b\b\b\b\b\b\b\b\b\b\b\b\b\b\b\b\b\b\b\b\b\b\b\b\b\b\b\b\b\b\b\b\b\b\b\b\b\b\b\b\b\b\b\b\b\b\b\b\b\b\b\r20/20 [==============================] - 5s 228ms/step - loss: 0.0282 - accuracy: 0.8389\n",
            "Epoch 58/200\n",
            "20/20 [==============================] - ETA: 0s - loss: 0.0280 - accuracy: 0.8391"
          ]
        },
        {
          "name": "stderr",
          "output_type": "stream",
          "text": [
            "WARNING:tensorflow:Early stopping conditioned on metric `val_loss` which is not available. Available metrics are: loss,accuracy\n"
          ]
        },
        {
          "name": "stdout",
          "output_type": "stream",
          "text": [
            "\b\b\b\b\b\b\b\b\b\b\b\b\b\b\b\b\b\b\b\b\b\b\b\b\b\b\b\b\b\b\b\b\b\b\b\b\b\b\b\b\b\b\b\b\b\b\b\b\b\b\b\b\b\b\b\b\b\b\b\b\b\b\b\b\b\b\b\b\b\b\b\b\b\b\b\b\b\b\b\b\b\b\r20/20 [==============================] - 6s 294ms/step - loss: 0.0280 - accuracy: 0.8391\n",
            "Epoch 59/200\n",
            "20/20 [==============================] - ETA: 0s - loss: 0.0279 - accuracy: 0.8392"
          ]
        },
        {
          "name": "stderr",
          "output_type": "stream",
          "text": [
            "WARNING:tensorflow:Early stopping conditioned on metric `val_loss` which is not available. Available metrics are: loss,accuracy\n"
          ]
        },
        {
          "name": "stdout",
          "output_type": "stream",
          "text": [
            "\b\b\b\b\b\b\b\b\b\b\b\b\b\b\b\b\b\b\b\b\b\b\b\b\b\b\b\b\b\b\b\b\b\b\b\b\b\b\b\b\b\b\b\b\b\b\b\b\b\b\b\b\b\b\b\b\b\b\b\b\b\b\b\b\b\b\b\b\b\b\b\b\b\b\b\b\b\b\b\b\b\b\r20/20 [==============================] - 4s 216ms/step - loss: 0.0279 - accuracy: 0.8392\n",
            "Epoch 60/200\n",
            "20/20 [==============================] - ETA: 0s - loss: 0.0278 - accuracy: 0.8392"
          ]
        },
        {
          "name": "stderr",
          "output_type": "stream",
          "text": [
            "WARNING:tensorflow:Early stopping conditioned on metric `val_loss` which is not available. Available metrics are: loss,accuracy\n"
          ]
        },
        {
          "name": "stdout",
          "output_type": "stream",
          "text": [
            "\b\b\b\b\b\b\b\b\b\b\b\b\b\b\b\b\b\b\b\b\b\b\b\b\b\b\b\b\b\b\b\b\b\b\b\b\b\b\b\b\b\b\b\b\b\b\b\b\b\b\b\b\b\b\b\b\b\b\b\b\b\b\b\b\b\b\b\b\b\b\b\b\b\b\b\b\b\b\b\b\b\b\r20/20 [==============================] - 4s 211ms/step - loss: 0.0278 - accuracy: 0.8392\n",
            "Epoch 61/200\n",
            "20/20 [==============================] - ETA: 0s - loss: 0.0277 - accuracy: 0.8392"
          ]
        },
        {
          "name": "stderr",
          "output_type": "stream",
          "text": [
            "WARNING:tensorflow:Early stopping conditioned on metric `val_loss` which is not available. Available metrics are: loss,accuracy\n"
          ]
        },
        {
          "name": "stdout",
          "output_type": "stream",
          "text": [
            "\b\b\b\b\b\b\b\b\b\b\b\b\b\b\b\b\b\b\b\b\b\b\b\b\b\b\b\b\b\b\b\b\b\b\b\b\b\b\b\b\b\b\b\b\b\b\b\b\b\b\b\b\b\b\b\b\b\b\b\b\b\b\b\b\b\b\b\b\b\b\b\b\b\b\b\b\b\b\b\b\b\b\r20/20 [==============================] - 6s 291ms/step - loss: 0.0277 - accuracy: 0.8392\n",
            "Epoch 62/200\n",
            "20/20 [==============================] - ETA: 0s - loss: 0.0276 - accuracy: 0.8394"
          ]
        },
        {
          "name": "stderr",
          "output_type": "stream",
          "text": [
            "WARNING:tensorflow:Early stopping conditioned on metric `val_loss` which is not available. Available metrics are: loss,accuracy\n"
          ]
        },
        {
          "name": "stdout",
          "output_type": "stream",
          "text": [
            "\b\b\b\b\b\b\b\b\b\b\b\b\b\b\b\b\b\b\b\b\b\b\b\b\b\b\b\b\b\b\b\b\b\b\b\b\b\b\b\b\b\b\b\b\b\b\b\b\b\b\b\b\b\b\b\b\b\b\b\b\b\b\b\b\b\b\b\b\b\b\b\b\b\b\b\b\b\b\b\b\b\b\r20/20 [==============================] - 4s 215ms/step - loss: 0.0276 - accuracy: 0.8394\n",
            "Epoch 63/200\n",
            "20/20 [==============================] - ETA: 0s - loss: 0.0274 - accuracy: 0.8394"
          ]
        },
        {
          "name": "stderr",
          "output_type": "stream",
          "text": [
            "WARNING:tensorflow:Early stopping conditioned on metric `val_loss` which is not available. Available metrics are: loss,accuracy\n"
          ]
        },
        {
          "name": "stdout",
          "output_type": "stream",
          "text": [
            "\b\b\b\b\b\b\b\b\b\b\b\b\b\b\b\b\b\b\b\b\b\b\b\b\b\b\b\b\b\b\b\b\b\b\b\b\b\b\b\b\b\b\b\b\b\b\b\b\b\b\b\b\b\b\b\b\b\b\b\b\b\b\b\b\b\b\b\b\b\b\b\b\b\b\b\b\b\b\b\b\b\b\r20/20 [==============================] - 4s 212ms/step - loss: 0.0274 - accuracy: 0.8394\n",
            "Epoch 64/200\n",
            "20/20 [==============================] - ETA: 0s - loss: 0.0273 - accuracy: 0.8395"
          ]
        },
        {
          "name": "stderr",
          "output_type": "stream",
          "text": [
            "WARNING:tensorflow:Early stopping conditioned on metric `val_loss` which is not available. Available metrics are: loss,accuracy\n"
          ]
        },
        {
          "name": "stdout",
          "output_type": "stream",
          "text": [
            "\b\b\b\b\b\b\b\b\b\b\b\b\b\b\b\b\b\b\b\b\b\b\b\b\b\b\b\b\b\b\b\b\b\b\b\b\b\b\b\b\b\b\b\b\b\b\b\b\b\b\b\b\b\b\b\b\b\b\b\b\b\b\b\b\b\b\b\b\b\b\b\b\b\b\b\b\b\b\b\b\b\b\r20/20 [==============================] - 6s 279ms/step - loss: 0.0273 - accuracy: 0.8395\n",
            "Epoch 65/200\n",
            "20/20 [==============================] - ETA: 0s - loss: 0.0272 - accuracy: 0.8396"
          ]
        },
        {
          "name": "stderr",
          "output_type": "stream",
          "text": [
            "WARNING:tensorflow:Early stopping conditioned on metric `val_loss` which is not available. Available metrics are: loss,accuracy\n"
          ]
        },
        {
          "name": "stdout",
          "output_type": "stream",
          "text": [
            "\b\b\b\b\b\b\b\b\b\b\b\b\b\b\b\b\b\b\b\b\b\b\b\b\b\b\b\b\b\b\b\b\b\b\b\b\b\b\b\b\b\b\b\b\b\b\b\b\b\b\b\b\b\b\b\b\b\b\b\b\b\b\b\b\b\b\b\b\b\b\b\b\b\b\b\b\b\b\b\b\b\b\r20/20 [==============================] - 4s 209ms/step - loss: 0.0272 - accuracy: 0.8396\n",
            "Epoch 66/200\n",
            "20/20 [==============================] - ETA: 0s - loss: 0.0271 - accuracy: 0.8396"
          ]
        },
        {
          "name": "stderr",
          "output_type": "stream",
          "text": [
            "WARNING:tensorflow:Early stopping conditioned on metric `val_loss` which is not available. Available metrics are: loss,accuracy\n"
          ]
        },
        {
          "name": "stdout",
          "output_type": "stream",
          "text": [
            "\b\b\b\b\b\b\b\b\b\b\b\b\b\b\b\b\b\b\b\b\b\b\b\b\b\b\b\b\b\b\b\b\b\b\b\b\b\b\b\b\b\b\b\b\b\b\b\b\b\b\b\b\b\b\b\b\b\b\b\b\b\b\b\b\b\b\b\b\b\b\b\b\b\b\b\b\b\b\b\b\b\b\r20/20 [==============================] - 4s 214ms/step - loss: 0.0271 - accuracy: 0.8396\n",
            "Epoch 67/200\n",
            "20/20 [==============================] - ETA: 0s - loss: 0.0269 - accuracy: 0.8398"
          ]
        },
        {
          "name": "stderr",
          "output_type": "stream",
          "text": [
            "WARNING:tensorflow:Early stopping conditioned on metric `val_loss` which is not available. Available metrics are: loss,accuracy\n"
          ]
        },
        {
          "name": "stdout",
          "output_type": "stream",
          "text": [
            "\b\b\b\b\b\b\b\b\b\b\b\b\b\b\b\b\b\b\b\b\b\b\b\b\b\b\b\b\b\b\b\b\b\b\b\b\b\b\b\b\b\b\b\b\b\b\b\b\b\b\b\b\b\b\b\b\b\b\b\b\b\b\b\b\b\b\b\b\b\b\b\b\b\b\b\b\b\b\b\b\b\b\r20/20 [==============================] - 6s 289ms/step - loss: 0.0269 - accuracy: 0.8398\n",
            "Epoch 68/200\n",
            "20/20 [==============================] - ETA: 0s - loss: 0.0269 - accuracy: 0.8398"
          ]
        },
        {
          "name": "stderr",
          "output_type": "stream",
          "text": [
            "WARNING:tensorflow:Early stopping conditioned on metric `val_loss` which is not available. Available metrics are: loss,accuracy\n"
          ]
        },
        {
          "name": "stdout",
          "output_type": "stream",
          "text": [
            "\b\b\b\b\b\b\b\b\b\b\b\b\b\b\b\b\b\b\b\b\b\b\b\b\b\b\b\b\b\b\b\b\b\b\b\b\b\b\b\b\b\b\b\b\b\b\b\b\b\b\b\b\b\b\b\b\b\b\b\b\b\b\b\b\b\b\b\b\b\b\b\b\b\b\b\b\b\b\b\b\b\b\r20/20 [==============================] - 4s 217ms/step - loss: 0.0269 - accuracy: 0.8398\n",
            "Epoch 69/200\n",
            "20/20 [==============================] - ETA: 0s - loss: 0.0269 - accuracy: 0.8398"
          ]
        },
        {
          "name": "stderr",
          "output_type": "stream",
          "text": [
            "WARNING:tensorflow:Early stopping conditioned on metric `val_loss` which is not available. Available metrics are: loss,accuracy\n"
          ]
        },
        {
          "name": "stdout",
          "output_type": "stream",
          "text": [
            "\b\b\b\b\b\b\b\b\b\b\b\b\b\b\b\b\b\b\b\b\b\b\b\b\b\b\b\b\b\b\b\b\b\b\b\b\b\b\b\b\b\b\b\b\b\b\b\b\b\b\b\b\b\b\b\b\b\b\b\b\b\b\b\b\b\b\b\b\b\b\b\b\b\b\b\b\b\b\b\b\b\b\r20/20 [==============================] - 4s 219ms/step - loss: 0.0269 - accuracy: 0.8398\n",
            "Epoch 70/200\n",
            "20/20 [==============================] - ETA: 0s - loss: 0.0267 - accuracy: 0.8399"
          ]
        },
        {
          "name": "stderr",
          "output_type": "stream",
          "text": [
            "WARNING:tensorflow:Early stopping conditioned on metric `val_loss` which is not available. Available metrics are: loss,accuracy\n"
          ]
        },
        {
          "name": "stdout",
          "output_type": "stream",
          "text": [
            "\b\b\b\b\b\b\b\b\b\b\b\b\b\b\b\b\b\b\b\b\b\b\b\b\b\b\b\b\b\b\b\b\b\b\b\b\b\b\b\b\b\b\b\b\b\b\b\b\b\b\b\b\b\b\b\b\b\b\b\b\b\b\b\b\b\b\b\b\b\b\b\b\b\b\b\b\b\b\b\b\b\b\r20/20 [==============================] - 6s 275ms/step - loss: 0.0267 - accuracy: 0.8399\n",
            "Epoch 71/200\n",
            "20/20 [==============================] - ETA: 0s - loss: 0.0267 - accuracy: 0.8399"
          ]
        },
        {
          "name": "stderr",
          "output_type": "stream",
          "text": [
            "WARNING:tensorflow:Early stopping conditioned on metric `val_loss` which is not available. Available metrics are: loss,accuracy\n"
          ]
        },
        {
          "name": "stdout",
          "output_type": "stream",
          "text": [
            "\b\b\b\b\b\b\b\b\b\b\b\b\b\b\b\b\b\b\b\b\b\b\b\b\b\b\b\b\b\b\b\b\b\b\b\b\b\b\b\b\b\b\b\b\b\b\b\b\b\b\b\b\b\b\b\b\b\b\b\b\b\b\b\b\b\b\b\b\b\b\b\b\b\b\b\b\b\b\b\b\b\b\r20/20 [==============================] - 4s 213ms/step - loss: 0.0267 - accuracy: 0.8399\n",
            "Epoch 72/200\n",
            "20/20 [==============================] - ETA: 0s - loss: 0.0266 - accuracy: 0.8400"
          ]
        },
        {
          "name": "stderr",
          "output_type": "stream",
          "text": [
            "WARNING:tensorflow:Early stopping conditioned on metric `val_loss` which is not available. Available metrics are: loss,accuracy\n"
          ]
        },
        {
          "name": "stdout",
          "output_type": "stream",
          "text": [
            "\b\b\b\b\b\b\b\b\b\b\b\b\b\b\b\b\b\b\b\b\b\b\b\b\b\b\b\b\b\b\b\b\b\b\b\b\b\b\b\b\b\b\b\b\b\b\b\b\b\b\b\b\b\b\b\b\b\b\b\b\b\b\b\b\b\b\b\b\b\b\b\b\b\b\b\b\b\b\b\b\b\b\r20/20 [==============================] - 4s 226ms/step - loss: 0.0266 - accuracy: 0.8400\n",
            "Epoch 73/200\n",
            "20/20 [==============================] - ETA: 0s - loss: 0.0265 - accuracy: 0.8400"
          ]
        },
        {
          "name": "stderr",
          "output_type": "stream",
          "text": [
            "WARNING:tensorflow:Early stopping conditioned on metric `val_loss` which is not available. Available metrics are: loss,accuracy\n"
          ]
        },
        {
          "name": "stdout",
          "output_type": "stream",
          "text": [
            "\b\b\b\b\b\b\b\b\b\b\b\b\b\b\b\b\b\b\b\b\b\b\b\b\b\b\b\b\b\b\b\b\b\b\b\b\b\b\b\b\b\b\b\b\b\b\b\b\b\b\b\b\b\b\b\b\b\b\b\b\b\b\b\b\b\b\b\b\b\b\b\b\b\b\b\b\b\b\b\b\b\b\r20/20 [==============================] - 5s 264ms/step - loss: 0.0265 - accuracy: 0.8400\n",
            "Epoch 74/200\n",
            "20/20 [==============================] - ETA: 0s - loss: 0.0264 - accuracy: 0.8400"
          ]
        },
        {
          "name": "stderr",
          "output_type": "stream",
          "text": [
            "WARNING:tensorflow:Early stopping conditioned on metric `val_loss` which is not available. Available metrics are: loss,accuracy\n"
          ]
        },
        {
          "name": "stdout",
          "output_type": "stream",
          "text": [
            "\b\b\b\b\b\b\b\b\b\b\b\b\b\b\b\b\b\b\b\b\b\b\b\b\b\b\b\b\b\b\b\b\b\b\b\b\b\b\b\b\b\b\b\b\b\b\b\b\b\b\b\b\b\b\b\b\b\b\b\b\b\b\b\b\b\b\b\b\b\b\b\b\b\b\b\b\b\b\b\b\b\b\r20/20 [==============================] - 4s 213ms/step - loss: 0.0264 - accuracy: 0.8400\n",
            "Epoch 75/200\n",
            "20/20 [==============================] - ETA: 0s - loss: 0.0262 - accuracy: 0.8401"
          ]
        },
        {
          "name": "stderr",
          "output_type": "stream",
          "text": [
            "WARNING:tensorflow:Early stopping conditioned on metric `val_loss` which is not available. Available metrics are: loss,accuracy\n"
          ]
        },
        {
          "name": "stdout",
          "output_type": "stream",
          "text": [
            "\b\b\b\b\b\b\b\b\b\b\b\b\b\b\b\b\b\b\b\b\b\b\b\b\b\b\b\b\b\b\b\b\b\b\b\b\b\b\b\b\b\b\b\b\b\b\b\b\b\b\b\b\b\b\b\b\b\b\b\b\b\b\b\b\b\b\b\b\b\b\b\b\b\b\b\b\b\b\b\b\b\b\r20/20 [==============================] - 5s 243ms/step - loss: 0.0262 - accuracy: 0.8401\n",
            "Epoch 76/200\n",
            "20/20 [==============================] - ETA: 0s - loss: 0.0262 - accuracy: 0.8401"
          ]
        },
        {
          "name": "stderr",
          "output_type": "stream",
          "text": [
            "WARNING:tensorflow:Early stopping conditioned on metric `val_loss` which is not available. Available metrics are: loss,accuracy\n"
          ]
        },
        {
          "name": "stdout",
          "output_type": "stream",
          "text": [
            "\b\b\b\b\b\b\b\b\b\b\b\b\b\b\b\b\b\b\b\b\b\b\b\b\b\b\b\b\b\b\b\b\b\b\b\b\b\b\b\b\b\b\b\b\b\b\b\b\b\b\b\b\b\b\b\b\b\b\b\b\b\b\b\b\b\b\b\b\b\b\b\b\b\b\b\b\b\b\b\b\b\b\r20/20 [==============================] - 5s 251ms/step - loss: 0.0262 - accuracy: 0.8401\n",
            "Epoch 77/200\n",
            "20/20 [==============================] - ETA: 0s - loss: 0.0261 - accuracy: 0.8401"
          ]
        },
        {
          "name": "stderr",
          "output_type": "stream",
          "text": [
            "WARNING:tensorflow:Early stopping conditioned on metric `val_loss` which is not available. Available metrics are: loss,accuracy\n"
          ]
        },
        {
          "name": "stdout",
          "output_type": "stream",
          "text": [
            "\b\b\b\b\b\b\b\b\b\b\b\b\b\b\b\b\b\b\b\b\b\b\b\b\b\b\b\b\b\b\b\b\b\b\b\b\b\b\b\b\b\b\b\b\b\b\b\b\b\b\b\b\b\b\b\b\b\b\b\b\b\b\b\b\b\b\b\b\b\b\b\b\b\b\b\b\b\b\b\b\b\b\r20/20 [==============================] - 4s 214ms/step - loss: 0.0261 - accuracy: 0.8401\n",
            "Epoch 78/200\n",
            "20/20 [==============================] - ETA: 0s - loss: 0.0260 - accuracy: 0.8402"
          ]
        },
        {
          "name": "stderr",
          "output_type": "stream",
          "text": [
            "WARNING:tensorflow:Early stopping conditioned on metric `val_loss` which is not available. Available metrics are: loss,accuracy\n"
          ]
        },
        {
          "name": "stdout",
          "output_type": "stream",
          "text": [
            "\b\b\b\b\b\b\b\b\b\b\b\b\b\b\b\b\b\b\b\b\b\b\b\b\b\b\b\b\b\b\b\b\b\b\b\b\b\b\b\b\b\b\b\b\b\b\b\b\b\b\b\b\b\b\b\b\b\b\b\b\b\b\b\b\b\b\b\b\b\b\b\b\b\b\b\b\b\b\b\b\b\b\r20/20 [==============================] - 5s 246ms/step - loss: 0.0260 - accuracy: 0.8402\n",
            "Epoch 79/200\n",
            "20/20 [==============================] - ETA: 0s - loss: 0.0260 - accuracy: 0.8402"
          ]
        },
        {
          "name": "stderr",
          "output_type": "stream",
          "text": [
            "WARNING:tensorflow:Early stopping conditioned on metric `val_loss` which is not available. Available metrics are: loss,accuracy\n"
          ]
        },
        {
          "name": "stdout",
          "output_type": "stream",
          "text": [
            "\b\b\b\b\b\b\b\b\b\b\b\b\b\b\b\b\b\b\b\b\b\b\b\b\b\b\b\b\b\b\b\b\b\b\b\b\b\b\b\b\b\b\b\b\b\b\b\b\b\b\b\b\b\b\b\b\b\b\b\b\b\b\b\b\b\b\b\b\b\b\b\b\b\b\b\b\b\b\b\b\b\b\r20/20 [==============================] - 5s 247ms/step - loss: 0.0260 - accuracy: 0.8402\n",
            "Epoch 80/200\n",
            "20/20 [==============================] - ETA: 0s - loss: 0.0259 - accuracy: 0.8403"
          ]
        },
        {
          "name": "stderr",
          "output_type": "stream",
          "text": [
            "WARNING:tensorflow:Early stopping conditioned on metric `val_loss` which is not available. Available metrics are: loss,accuracy\n"
          ]
        },
        {
          "name": "stdout",
          "output_type": "stream",
          "text": [
            "\b\b\b\b\b\b\b\b\b\b\b\b\b\b\b\b\b\b\b\b\b\b\b\b\b\b\b\b\b\b\b\b\b\b\b\b\b\b\b\b\b\b\b\b\b\b\b\b\b\b\b\b\b\b\b\b\b\b\b\b\b\b\b\b\b\b\b\b\b\b\b\b\b\b\b\b\b\b\b\b\b\b\r20/20 [==============================] - 4s 217ms/step - loss: 0.0259 - accuracy: 0.8403\n",
            "Epoch 81/200\n",
            "20/20 [==============================] - ETA: 0s - loss: 0.0258 - accuracy: 0.8403"
          ]
        },
        {
          "name": "stderr",
          "output_type": "stream",
          "text": [
            "WARNING:tensorflow:Early stopping conditioned on metric `val_loss` which is not available. Available metrics are: loss,accuracy\n"
          ]
        },
        {
          "name": "stdout",
          "output_type": "stream",
          "text": [
            "\b\b\b\b\b\b\b\b\b\b\b\b\b\b\b\b\b\b\b\b\b\b\b\b\b\b\b\b\b\b\b\b\b\b\b\b\b\b\b\b\b\b\b\b\b\b\b\b\b\b\b\b\b\b\b\b\b\b\b\b\b\b\b\b\b\b\b\b\b\b\b\b\b\b\b\b\b\b\b\b\b\b\r20/20 [==============================] - 5s 270ms/step - loss: 0.0258 - accuracy: 0.8403\n",
            "Epoch 82/200\n",
            "20/20 [==============================] - ETA: 0s - loss: 0.0258 - accuracy: 0.8404"
          ]
        },
        {
          "name": "stderr",
          "output_type": "stream",
          "text": [
            "WARNING:tensorflow:Early stopping conditioned on metric `val_loss` which is not available. Available metrics are: loss,accuracy\n"
          ]
        },
        {
          "name": "stdout",
          "output_type": "stream",
          "text": [
            "\b\b\b\b\b\b\b\b\b\b\b\b\b\b\b\b\b\b\b\b\b\b\b\b\b\b\b\b\b\b\b\b\b\b\b\b\b\b\b\b\b\b\b\b\b\b\b\b\b\b\b\b\b\b\b\b\b\b\b\b\b\b\b\b\b\b\b\b\b\b\b\b\b\b\b\b\b\b\b\b\b\b\r20/20 [==============================] - 5s 228ms/step - loss: 0.0258 - accuracy: 0.8404\n",
            "Epoch 83/200\n",
            "20/20 [==============================] - ETA: 0s - loss: 0.0257 - accuracy: 0.8404"
          ]
        },
        {
          "name": "stderr",
          "output_type": "stream",
          "text": [
            "WARNING:tensorflow:Early stopping conditioned on metric `val_loss` which is not available. Available metrics are: loss,accuracy\n"
          ]
        },
        {
          "name": "stdout",
          "output_type": "stream",
          "text": [
            "\b\b\b\b\b\b\b\b\b\b\b\b\b\b\b\b\b\b\b\b\b\b\b\b\b\b\b\b\b\b\b\b\b\b\b\b\b\b\b\b\b\b\b\b\b\b\b\b\b\b\b\b\b\b\b\b\b\b\b\b\b\b\b\b\b\b\b\b\b\b\b\b\b\b\b\b\b\b\b\b\b\b\r20/20 [==============================] - 4s 214ms/step - loss: 0.0257 - accuracy: 0.8404\n",
            "Epoch 84/200\n",
            "20/20 [==============================] - ETA: 0s - loss: 0.0255 - accuracy: 0.8404"
          ]
        },
        {
          "name": "stderr",
          "output_type": "stream",
          "text": [
            "WARNING:tensorflow:Early stopping conditioned on metric `val_loss` which is not available. Available metrics are: loss,accuracy\n"
          ]
        },
        {
          "name": "stdout",
          "output_type": "stream",
          "text": [
            "\b\b\b\b\b\b\b\b\b\b\b\b\b\b\b\b\b\b\b\b\b\b\b\b\b\b\b\b\b\b\b\b\b\b\b\b\b\b\b\b\b\b\b\b\b\b\b\b\b\b\b\b\b\b\b\b\b\b\b\b\b\b\b\b\b\b\b\b\b\b\b\b\b\b\b\b\b\b\b\b\b\b\r20/20 [==============================] - 6s 283ms/step - loss: 0.0255 - accuracy: 0.8404\n",
            "Epoch 85/200\n",
            "20/20 [==============================] - ETA: 0s - loss: 0.0255 - accuracy: 0.8405"
          ]
        },
        {
          "name": "stderr",
          "output_type": "stream",
          "text": [
            "WARNING:tensorflow:Early stopping conditioned on metric `val_loss` which is not available. Available metrics are: loss,accuracy\n"
          ]
        },
        {
          "name": "stdout",
          "output_type": "stream",
          "text": [
            "\b\b\b\b\b\b\b\b\b\b\b\b\b\b\b\b\b\b\b\b\b\b\b\b\b\b\b\b\b\b\b\b\b\b\b\b\b\b\b\b\b\b\b\b\b\b\b\b\b\b\b\b\b\b\b\b\b\b\b\b\b\b\b\b\b\b\b\b\b\b\b\b\b\b\b\b\b\b\b\b\b\b\r20/20 [==============================] - 4s 214ms/step - loss: 0.0255 - accuracy: 0.8405\n",
            "Epoch 86/200\n",
            "20/20 [==============================] - ETA: 0s - loss: 0.0254 - accuracy: 0.8405"
          ]
        },
        {
          "name": "stderr",
          "output_type": "stream",
          "text": [
            "WARNING:tensorflow:Early stopping conditioned on metric `val_loss` which is not available. Available metrics are: loss,accuracy\n"
          ]
        },
        {
          "name": "stdout",
          "output_type": "stream",
          "text": [
            "\b\b\b\b\b\b\b\b\b\b\b\b\b\b\b\b\b\b\b\b\b\b\b\b\b\b\b\b\b\b\b\b\b\b\b\b\b\b\b\b\b\b\b\b\b\b\b\b\b\b\b\b\b\b\b\b\b\b\b\b\b\b\b\b\b\b\b\b\b\b\b\b\b\b\b\b\b\b\b\b\b\b\r20/20 [==============================] - 4s 213ms/step - loss: 0.0254 - accuracy: 0.8405\n",
            "Epoch 87/200\n",
            "20/20 [==============================] - ETA: 0s - loss: 0.0254 - accuracy: 0.8405"
          ]
        },
        {
          "name": "stderr",
          "output_type": "stream",
          "text": [
            "WARNING:tensorflow:Early stopping conditioned on metric `val_loss` which is not available. Available metrics are: loss,accuracy\n"
          ]
        },
        {
          "name": "stdout",
          "output_type": "stream",
          "text": [
            "\b\b\b\b\b\b\b\b\b\b\b\b\b\b\b\b\b\b\b\b\b\b\b\b\b\b\b\b\b\b\b\b\b\b\b\b\b\b\b\b\b\b\b\b\b\b\b\b\b\b\b\b\b\b\b\b\b\b\b\b\b\b\b\b\b\b\b\b\b\b\b\b\b\b\b\b\b\b\b\b\b\b\r20/20 [==============================] - 6s 292ms/step - loss: 0.0254 - accuracy: 0.8405\n",
            "Epoch 88/200\n",
            "20/20 [==============================] - ETA: 0s - loss: 0.0254 - accuracy: 0.8405"
          ]
        },
        {
          "name": "stderr",
          "output_type": "stream",
          "text": [
            "WARNING:tensorflow:Early stopping conditioned on metric `val_loss` which is not available. Available metrics are: loss,accuracy\n"
          ]
        },
        {
          "name": "stdout",
          "output_type": "stream",
          "text": [
            "\b\b\b\b\b\b\b\b\b\b\b\b\b\b\b\b\b\b\b\b\b\b\b\b\b\b\b\b\b\b\b\b\b\b\b\b\b\b\b\b\b\b\b\b\b\b\b\b\b\b\b\b\b\b\b\b\b\b\b\b\b\b\b\b\b\b\b\b\b\b\b\b\b\b\b\b\b\b\b\b\b\b\r20/20 [==============================] - 4s 216ms/step - loss: 0.0254 - accuracy: 0.8405\n",
            "Epoch 89/200\n",
            "20/20 [==============================] - ETA: 0s - loss: 0.0253 - accuracy: 0.8406"
          ]
        },
        {
          "name": "stderr",
          "output_type": "stream",
          "text": [
            "WARNING:tensorflow:Early stopping conditioned on metric `val_loss` which is not available. Available metrics are: loss,accuracy\n"
          ]
        },
        {
          "name": "stdout",
          "output_type": "stream",
          "text": [
            "\b\b\b\b\b\b\b\b\b\b\b\b\b\b\b\b\b\b\b\b\b\b\b\b\b\b\b\b\b\b\b\b\b\b\b\b\b\b\b\b\b\b\b\b\b\b\b\b\b\b\b\b\b\b\b\b\b\b\b\b\b\b\b\b\b\b\b\b\b\b\b\b\b\b\b\b\b\b\b\b\b\b\r20/20 [==============================] - 4s 212ms/step - loss: 0.0253 - accuracy: 0.8406\n",
            "Epoch 90/200\n",
            "20/20 [==============================] - ETA: 0s - loss: 0.0252 - accuracy: 0.8407"
          ]
        },
        {
          "name": "stderr",
          "output_type": "stream",
          "text": [
            "WARNING:tensorflow:Early stopping conditioned on metric `val_loss` which is not available. Available metrics are: loss,accuracy\n"
          ]
        },
        {
          "name": "stdout",
          "output_type": "stream",
          "text": [
            "\b\b\b\b\b\b\b\b\b\b\b\b\b\b\b\b\b\b\b\b\b\b\b\b\b\b\b\b\b\b\b\b\b\b\b\b\b\b\b\b\b\b\b\b\b\b\b\b\b\b\b\b\b\b\b\b\b\b\b\b\b\b\b\b\b\b\b\b\b\b\b\b\b\b\b\b\b\b\b\b\b\b\r20/20 [==============================] - 6s 287ms/step - loss: 0.0252 - accuracy: 0.8407\n",
            "Epoch 91/200\n",
            "20/20 [==============================] - ETA: 0s - loss: 0.0252 - accuracy: 0.8406"
          ]
        },
        {
          "name": "stderr",
          "output_type": "stream",
          "text": [
            "WARNING:tensorflow:Early stopping conditioned on metric `val_loss` which is not available. Available metrics are: loss,accuracy\n"
          ]
        },
        {
          "name": "stdout",
          "output_type": "stream",
          "text": [
            "\b\b\b\b\b\b\b\b\b\b\b\b\b\b\b\b\b\b\b\b\b\b\b\b\b\b\b\b\b\b\b\b\b\b\b\b\b\b\b\b\b\b\b\b\b\b\b\b\b\b\b\b\b\b\b\b\b\b\b\b\b\b\b\b\b\b\b\b\b\b\b\b\b\b\b\b\b\b\b\b\b\b\r20/20 [==============================] - 4s 214ms/step - loss: 0.0252 - accuracy: 0.8406\n",
            "Epoch 92/200\n",
            "20/20 [==============================] - ETA: 0s - loss: 0.0252 - accuracy: 0.8406"
          ]
        },
        {
          "name": "stderr",
          "output_type": "stream",
          "text": [
            "WARNING:tensorflow:Early stopping conditioned on metric `val_loss` which is not available. Available metrics are: loss,accuracy\n"
          ]
        },
        {
          "name": "stdout",
          "output_type": "stream",
          "text": [
            "\b\b\b\b\b\b\b\b\b\b\b\b\b\b\b\b\b\b\b\b\b\b\b\b\b\b\b\b\b\b\b\b\b\b\b\b\b\b\b\b\b\b\b\b\b\b\b\b\b\b\b\b\b\b\b\b\b\b\b\b\b\b\b\b\b\b\b\b\b\b\b\b\b\b\b\b\b\b\b\b\b\b\r20/20 [==============================] - 4s 214ms/step - loss: 0.0252 - accuracy: 0.8406\n",
            "Epoch 93/200\n",
            "20/20 [==============================] - ETA: 0s - loss: 0.0250 - accuracy: 0.8407"
          ]
        },
        {
          "name": "stderr",
          "output_type": "stream",
          "text": [
            "WARNING:tensorflow:Early stopping conditioned on metric `val_loss` which is not available. Available metrics are: loss,accuracy\n"
          ]
        },
        {
          "name": "stdout",
          "output_type": "stream",
          "text": [
            "\b\b\b\b\b\b\b\b\b\b\b\b\b\b\b\b\b\b\b\b\b\b\b\b\b\b\b\b\b\b\b\b\b\b\b\b\b\b\b\b\b\b\b\b\b\b\b\b\b\b\b\b\b\b\b\b\b\b\b\b\b\b\b\b\b\b\b\b\b\b\b\b\b\b\b\b\b\b\b\b\b\b\r20/20 [==============================] - 6s 298ms/step - loss: 0.0250 - accuracy: 0.8407\n",
            "Epoch 94/200\n",
            "20/20 [==============================] - ETA: 0s - loss: 0.0249 - accuracy: 0.8409"
          ]
        },
        {
          "name": "stderr",
          "output_type": "stream",
          "text": [
            "WARNING:tensorflow:Early stopping conditioned on metric `val_loss` which is not available. Available metrics are: loss,accuracy\n"
          ]
        },
        {
          "name": "stdout",
          "output_type": "stream",
          "text": [
            "\b\b\b\b\b\b\b\b\b\b\b\b\b\b\b\b\b\b\b\b\b\b\b\b\b\b\b\b\b\b\b\b\b\b\b\b\b\b\b\b\b\b\b\b\b\b\b\b\b\b\b\b\b\b\b\b\b\b\b\b\b\b\b\b\b\b\b\b\b\b\b\b\b\b\b\b\b\b\b\b\b\b\r20/20 [==============================] - 4s 215ms/step - loss: 0.0249 - accuracy: 0.8409\n",
            "Epoch 95/200\n",
            "20/20 [==============================] - ETA: 0s - loss: 0.0248 - accuracy: 0.8409"
          ]
        },
        {
          "name": "stderr",
          "output_type": "stream",
          "text": [
            "WARNING:tensorflow:Early stopping conditioned on metric `val_loss` which is not available. Available metrics are: loss,accuracy\n"
          ]
        },
        {
          "name": "stdout",
          "output_type": "stream",
          "text": [
            "\b\b\b\b\b\b\b\b\b\b\b\b\b\b\b\b\b\b\b\b\b\b\b\b\b\b\b\b\b\b\b\b\b\b\b\b\b\b\b\b\b\b\b\b\b\b\b\b\b\b\b\b\b\b\b\b\b\b\b\b\b\b\b\b\b\b\b\b\b\b\b\b\b\b\b\b\b\b\b\b\b\b\r20/20 [==============================] - 4s 213ms/step - loss: 0.0248 - accuracy: 0.8409\n",
            "Epoch 96/200\n",
            "20/20 [==============================] - ETA: 0s - loss: 0.0248 - accuracy: 0.8409"
          ]
        },
        {
          "name": "stderr",
          "output_type": "stream",
          "text": [
            "WARNING:tensorflow:Early stopping conditioned on metric `val_loss` which is not available. Available metrics are: loss,accuracy\n"
          ]
        },
        {
          "name": "stdout",
          "output_type": "stream",
          "text": [
            "\b\b\b\b\b\b\b\b\b\b\b\b\b\b\b\b\b\b\b\b\b\b\b\b\b\b\b\b\b\b\b\b\b\b\b\b\b\b\b\b\b\b\b\b\b\b\b\b\b\b\b\b\b\b\b\b\b\b\b\b\b\b\b\b\b\b\b\b\b\b\b\b\b\b\b\b\b\b\b\b\b\b\r20/20 [==============================] - 6s 290ms/step - loss: 0.0248 - accuracy: 0.8409\n",
            "Epoch 97/200\n",
            "20/20 [==============================] - ETA: 0s - loss: 0.0248 - accuracy: 0.8409"
          ]
        },
        {
          "name": "stderr",
          "output_type": "stream",
          "text": [
            "WARNING:tensorflow:Early stopping conditioned on metric `val_loss` which is not available. Available metrics are: loss,accuracy\n"
          ]
        },
        {
          "name": "stdout",
          "output_type": "stream",
          "text": [
            "\b\b\b\b\b\b\b\b\b\b\b\b\b\b\b\b\b\b\b\b\b\b\b\b\b\b\b\b\b\b\b\b\b\b\b\b\b\b\b\b\b\b\b\b\b\b\b\b\b\b\b\b\b\b\b\b\b\b\b\b\b\b\b\b\b\b\b\b\b\b\b\b\b\b\b\b\b\b\b\b\b\b\r20/20 [==============================] - 4s 217ms/step - loss: 0.0248 - accuracy: 0.8409\n",
            "Epoch 98/200\n",
            "20/20 [==============================] - ETA: 0s - loss: 0.0248 - accuracy: 0.8409"
          ]
        },
        {
          "name": "stderr",
          "output_type": "stream",
          "text": [
            "WARNING:tensorflow:Early stopping conditioned on metric `val_loss` which is not available. Available metrics are: loss,accuracy\n"
          ]
        },
        {
          "name": "stdout",
          "output_type": "stream",
          "text": [
            "\b\b\b\b\b\b\b\b\b\b\b\b\b\b\b\b\b\b\b\b\b\b\b\b\b\b\b\b\b\b\b\b\b\b\b\b\b\b\b\b\b\b\b\b\b\b\b\b\b\b\b\b\b\b\b\b\b\b\b\b\b\b\b\b\b\b\b\b\b\b\b\b\b\b\b\b\b\b\b\b\b\b\r20/20 [==============================] - 4s 218ms/step - loss: 0.0248 - accuracy: 0.8409\n",
            "Epoch 99/200\n",
            "20/20 [==============================] - ETA: 0s - loss: 0.0246 - accuracy: 0.8410"
          ]
        },
        {
          "name": "stderr",
          "output_type": "stream",
          "text": [
            "WARNING:tensorflow:Early stopping conditioned on metric `val_loss` which is not available. Available metrics are: loss,accuracy\n"
          ]
        },
        {
          "name": "stdout",
          "output_type": "stream",
          "text": [
            "\b\b\b\b\b\b\b\b\b\b\b\b\b\b\b\b\b\b\b\b\b\b\b\b\b\b\b\b\b\b\b\b\b\b\b\b\b\b\b\b\b\b\b\b\b\b\b\b\b\b\b\b\b\b\b\b\b\b\b\b\b\b\b\b\b\b\b\b\b\b\b\b\b\b\b\b\b\b\b\b\b\b\r20/20 [==============================] - 6s 277ms/step - loss: 0.0246 - accuracy: 0.8410\n",
            "Epoch 100/200\n",
            "20/20 [==============================] - ETA: 0s - loss: 0.0245 - accuracy: 0.8410"
          ]
        },
        {
          "name": "stderr",
          "output_type": "stream",
          "text": [
            "WARNING:tensorflow:Early stopping conditioned on metric `val_loss` which is not available. Available metrics are: loss,accuracy\n"
          ]
        },
        {
          "name": "stdout",
          "output_type": "stream",
          "text": [
            "\b\b\b\b\b\b\b\b\b\b\b\b\b\b\b\b\b\b\b\b\b\b\b\b\b\b\b\b\b\b\b\b\b\b\b\b\b\b\b\b\b\b\b\b\b\b\b\b\b\b\b\b\b\b\b\b\b\b\b\b\b\b\b\b\b\b\b\b\b\b\b\b\b\b\b\b\b\b\b\b\b\b\r20/20 [==============================] - 4s 214ms/step - loss: 0.0245 - accuracy: 0.8410\n",
            "Epoch 101/200\n",
            "20/20 [==============================] - ETA: 0s - loss: 0.0245 - accuracy: 0.8410"
          ]
        },
        {
          "name": "stderr",
          "output_type": "stream",
          "text": [
            "WARNING:tensorflow:Early stopping conditioned on metric `val_loss` which is not available. Available metrics are: loss,accuracy\n"
          ]
        },
        {
          "name": "stdout",
          "output_type": "stream",
          "text": [
            "\b\b\b\b\b\b\b\b\b\b\b\b\b\b\b\b\b\b\b\b\b\b\b\b\b\b\b\b\b\b\b\b\b\b\b\b\b\b\b\b\b\b\b\b\b\b\b\b\b\b\b\b\b\b\b\b\b\b\b\b\b\b\b\b\b\b\b\b\b\b\b\b\b\b\b\b\b\b\b\b\b\b\r20/20 [==============================] - 5s 243ms/step - loss: 0.0245 - accuracy: 0.8410\n",
            "Epoch 102/200\n",
            "20/20 [==============================] - ETA: 0s - loss: 0.0245 - accuracy: 0.8410"
          ]
        },
        {
          "name": "stderr",
          "output_type": "stream",
          "text": [
            "WARNING:tensorflow:Early stopping conditioned on metric `val_loss` which is not available. Available metrics are: loss,accuracy\n"
          ]
        },
        {
          "name": "stdout",
          "output_type": "stream",
          "text": [
            "\b\b\b\b\b\b\b\b\b\b\b\b\b\b\b\b\b\b\b\b\b\b\b\b\b\b\b\b\b\b\b\b\b\b\b\b\b\b\b\b\b\b\b\b\b\b\b\b\b\b\b\b\b\b\b\b\b\b\b\b\b\b\b\b\b\b\b\b\b\b\b\b\b\b\b\b\b\b\b\b\b\b\r20/20 [==============================] - 5s 266ms/step - loss: 0.0245 - accuracy: 0.8410\n",
            "Epoch 103/200\n",
            "20/20 [==============================] - ETA: 0s - loss: 0.0244 - accuracy: 0.8411"
          ]
        },
        {
          "name": "stderr",
          "output_type": "stream",
          "text": [
            "WARNING:tensorflow:Early stopping conditioned on metric `val_loss` which is not available. Available metrics are: loss,accuracy\n"
          ]
        },
        {
          "name": "stdout",
          "output_type": "stream",
          "text": [
            "\b\b\b\b\b\b\b\b\b\b\b\b\b\b\b\b\b\b\b\b\b\b\b\b\b\b\b\b\b\b\b\b\b\b\b\b\b\b\b\b\b\b\b\b\b\b\b\b\b\b\b\b\b\b\b\b\b\b\b\b\b\b\b\b\b\b\b\b\b\b\b\b\b\b\b\b\b\b\b\b\b\b\r20/20 [==============================] - 4s 216ms/step - loss: 0.0244 - accuracy: 0.8411\n",
            "Epoch 104/200\n",
            "20/20 [==============================] - ETA: 0s - loss: 0.0244 - accuracy: 0.8412"
          ]
        },
        {
          "name": "stderr",
          "output_type": "stream",
          "text": [
            "WARNING:tensorflow:Early stopping conditioned on metric `val_loss` which is not available. Available metrics are: loss,accuracy\n"
          ]
        },
        {
          "name": "stdout",
          "output_type": "stream",
          "text": [
            "\b\b\b\b\b\b\b\b\b\b\b\b\b\b\b\b\b\b\b\b\b\b\b\b\b\b\b\b\b\b\b\b\b\b\b\b\b\b\b\b\b\b\b\b\b\b\b\b\b\b\b\b\b\b\b\b\b\b\b\b\b\b\b\b\b\b\b\b\b\b\b\b\b\b\b\b\b\b\b\b\b\b\r20/20 [==============================] - 5s 250ms/step - loss: 0.0244 - accuracy: 0.8412\n",
            "Epoch 105/200\n",
            "20/20 [==============================] - ETA: 0s - loss: 0.0243 - accuracy: 0.8412"
          ]
        },
        {
          "name": "stderr",
          "output_type": "stream",
          "text": [
            "WARNING:tensorflow:Early stopping conditioned on metric `val_loss` which is not available. Available metrics are: loss,accuracy\n"
          ]
        },
        {
          "name": "stdout",
          "output_type": "stream",
          "text": [
            "\b\b\b\b\b\b\b\b\b\b\b\b\b\b\b\b\b\b\b\b\b\b\b\b\b\b\b\b\b\b\b\b\b\b\b\b\b\b\b\b\b\b\b\b\b\b\b\b\b\b\b\b\b\b\b\b\b\b\b\b\b\b\b\b\b\b\b\b\b\b\b\b\b\b\b\b\b\b\b\b\b\b\r20/20 [==============================] - 5s 253ms/step - loss: 0.0243 - accuracy: 0.8412\n",
            "Epoch 106/200\n",
            "20/20 [==============================] - ETA: 0s - loss: 0.0242 - accuracy: 0.8412"
          ]
        },
        {
          "name": "stderr",
          "output_type": "stream",
          "text": [
            "WARNING:tensorflow:Early stopping conditioned on metric `val_loss` which is not available. Available metrics are: loss,accuracy\n"
          ]
        },
        {
          "name": "stdout",
          "output_type": "stream",
          "text": [
            "\b\b\b\b\b\b\b\b\b\b\b\b\b\b\b\b\b\b\b\b\b\b\b\b\b\b\b\b\b\b\b\b\b\b\b\b\b\b\b\b\b\b\b\b\b\b\b\b\b\b\b\b\b\b\b\b\b\b\b\b\b\b\b\b\b\b\b\b\b\b\b\b\b\b\b\b\b\b\b\b\b\b\r20/20 [==============================] - 4s 222ms/step - loss: 0.0242 - accuracy: 0.8412\n",
            "Epoch 107/200\n",
            "20/20 [==============================] - ETA: 0s - loss: 0.0242 - accuracy: 0.8412"
          ]
        },
        {
          "name": "stderr",
          "output_type": "stream",
          "text": [
            "WARNING:tensorflow:Early stopping conditioned on metric `val_loss` which is not available. Available metrics are: loss,accuracy\n"
          ]
        },
        {
          "name": "stdout",
          "output_type": "stream",
          "text": [
            "\b\b\b\b\b\b\b\b\b\b\b\b\b\b\b\b\b\b\b\b\b\b\b\b\b\b\b\b\b\b\b\b\b\b\b\b\b\b\b\b\b\b\b\b\b\b\b\b\b\b\b\b\b\b\b\b\b\b\b\b\b\b\b\b\b\b\b\b\b\b\b\b\b\b\b\b\b\b\b\b\b\b\r20/20 [==============================] - 5s 269ms/step - loss: 0.0242 - accuracy: 0.8412\n",
            "Epoch 108/200\n",
            "20/20 [==============================] - ETA: 0s - loss: 0.0241 - accuracy: 0.8413"
          ]
        },
        {
          "name": "stderr",
          "output_type": "stream",
          "text": [
            "WARNING:tensorflow:Early stopping conditioned on metric `val_loss` which is not available. Available metrics are: loss,accuracy\n"
          ]
        },
        {
          "name": "stdout",
          "output_type": "stream",
          "text": [
            "\b\b\b\b\b\b\b\b\b\b\b\b\b\b\b\b\b\b\b\b\b\b\b\b\b\b\b\b\b\b\b\b\b\b\b\b\b\b\b\b\b\b\b\b\b\b\b\b\b\b\b\b\b\b\b\b\b\b\b\b\b\b\b\b\b\b\b\b\b\b\b\b\b\b\b\b\b\b\b\b\b\b\r20/20 [==============================] - 5s 230ms/step - loss: 0.0241 - accuracy: 0.8413\n",
            "Epoch 109/200\n",
            "20/20 [==============================] - ETA: 0s - loss: 0.0240 - accuracy: 0.8413"
          ]
        },
        {
          "name": "stderr",
          "output_type": "stream",
          "text": [
            "WARNING:tensorflow:Early stopping conditioned on metric `val_loss` which is not available. Available metrics are: loss,accuracy\n"
          ]
        },
        {
          "name": "stdout",
          "output_type": "stream",
          "text": [
            "\b\b\b\b\b\b\b\b\b\b\b\b\b\b\b\b\b\b\b\b\b\b\b\b\b\b\b\b\b\b\b\b\b\b\b\b\b\b\b\b\b\b\b\b\b\b\b\b\b\b\b\b\b\b\b\b\b\b\b\b\b\b\b\b\b\b\b\b\b\b\b\b\b\b\b\b\b\b\b\b\b\b\r20/20 [==============================] - 4s 215ms/step - loss: 0.0240 - accuracy: 0.8413\n",
            "Epoch 110/200\n",
            "20/20 [==============================] - ETA: 0s - loss: 0.0240 - accuracy: 0.8413"
          ]
        },
        {
          "name": "stderr",
          "output_type": "stream",
          "text": [
            "WARNING:tensorflow:Early stopping conditioned on metric `val_loss` which is not available. Available metrics are: loss,accuracy\n"
          ]
        },
        {
          "name": "stdout",
          "output_type": "stream",
          "text": [
            "\b\b\b\b\b\b\b\b\b\b\b\b\b\b\b\b\b\b\b\b\b\b\b\b\b\b\b\b\b\b\b\b\b\b\b\b\b\b\b\b\b\b\b\b\b\b\b\b\b\b\b\b\b\b\b\b\b\b\b\b\b\b\b\b\b\b\b\b\b\b\b\b\b\b\b\b\b\b\b\b\b\b\r20/20 [==============================] - 6s 285ms/step - loss: 0.0240 - accuracy: 0.8413\n",
            "Epoch 111/200\n",
            "20/20 [==============================] - ETA: 0s - loss: 0.0240 - accuracy: 0.8413"
          ]
        },
        {
          "name": "stderr",
          "output_type": "stream",
          "text": [
            "WARNING:tensorflow:Early stopping conditioned on metric `val_loss` which is not available. Available metrics are: loss,accuracy\n"
          ]
        },
        {
          "name": "stdout",
          "output_type": "stream",
          "text": [
            "\b\b\b\b\b\b\b\b\b\b\b\b\b\b\b\b\b\b\b\b\b\b\b\b\b\b\b\b\b\b\b\b\b\b\b\b\b\b\b\b\b\b\b\b\b\b\b\b\b\b\b\b\b\b\b\b\b\b\b\b\b\b\b\b\b\b\b\b\b\b\b\b\b\b\b\b\b\b\b\b\b\b\r20/20 [==============================] - 4s 210ms/step - loss: 0.0240 - accuracy: 0.8413\n",
            "Epoch 112/200\n",
            "20/20 [==============================] - ETA: 0s - loss: 0.0240 - accuracy: 0.8413"
          ]
        },
        {
          "name": "stderr",
          "output_type": "stream",
          "text": [
            "WARNING:tensorflow:Early stopping conditioned on metric `val_loss` which is not available. Available metrics are: loss,accuracy\n"
          ]
        },
        {
          "name": "stdout",
          "output_type": "stream",
          "text": [
            "\b\b\b\b\b\b\b\b\b\b\b\b\b\b\b\b\b\b\b\b\b\b\b\b\b\b\b\b\b\b\b\b\b\b\b\b\b\b\b\b\b\b\b\b\b\b\b\b\b\b\b\b\b\b\b\b\b\b\b\b\b\b\b\b\b\b\b\b\b\b\b\b\b\b\b\b\b\b\b\b\b\b\r20/20 [==============================] - 4s 216ms/step - loss: 0.0240 - accuracy: 0.8413\n",
            "Epoch 113/200\n",
            "20/20 [==============================] - ETA: 0s - loss: 0.0239 - accuracy: 0.8413"
          ]
        },
        {
          "name": "stderr",
          "output_type": "stream",
          "text": [
            "WARNING:tensorflow:Early stopping conditioned on metric `val_loss` which is not available. Available metrics are: loss,accuracy\n"
          ]
        },
        {
          "name": "stdout",
          "output_type": "stream",
          "text": [
            "\b\b\b\b\b\b\b\b\b\b\b\b\b\b\b\b\b\b\b\b\b\b\b\b\b\b\b\b\b\b\b\b\b\b\b\b\b\b\b\b\b\b\b\b\b\b\b\b\b\b\b\b\b\b\b\b\b\b\b\b\b\b\b\b\b\b\b\b\b\b\b\b\b\b\b\b\b\b\b\b\b\b\r20/20 [==============================] - 6s 286ms/step - loss: 0.0239 - accuracy: 0.8413\n",
            "Epoch 114/200\n",
            "20/20 [==============================] - ETA: 0s - loss: 0.0239 - accuracy: 0.8414"
          ]
        },
        {
          "name": "stderr",
          "output_type": "stream",
          "text": [
            "WARNING:tensorflow:Early stopping conditioned on metric `val_loss` which is not available. Available metrics are: loss,accuracy\n"
          ]
        },
        {
          "name": "stdout",
          "output_type": "stream",
          "text": [
            "\b\b\b\b\b\b\b\b\b\b\b\b\b\b\b\b\b\b\b\b\b\b\b\b\b\b\b\b\b\b\b\b\b\b\b\b\b\b\b\b\b\b\b\b\b\b\b\b\b\b\b\b\b\b\b\b\b\b\b\b\b\b\b\b\b\b\b\b\b\b\b\b\b\b\b\b\b\b\b\b\b\b\r20/20 [==============================] - 4s 212ms/step - loss: 0.0239 - accuracy: 0.8414\n",
            "Epoch 115/200\n",
            "20/20 [==============================] - ETA: 0s - loss: 0.0238 - accuracy: 0.8414"
          ]
        },
        {
          "name": "stderr",
          "output_type": "stream",
          "text": [
            "WARNING:tensorflow:Early stopping conditioned on metric `val_loss` which is not available. Available metrics are: loss,accuracy\n"
          ]
        },
        {
          "name": "stdout",
          "output_type": "stream",
          "text": [
            "\b\b\b\b\b\b\b\b\b\b\b\b\b\b\b\b\b\b\b\b\b\b\b\b\b\b\b\b\b\b\b\b\b\b\b\b\b\b\b\b\b\b\b\b\b\b\b\b\b\b\b\b\b\b\b\b\b\b\b\b\b\b\b\b\b\b\b\b\b\b\b\b\b\b\b\b\b\b\b\b\b\b\r20/20 [==============================] - 4s 216ms/step - loss: 0.0238 - accuracy: 0.8414\n",
            "Epoch 116/200\n",
            "20/20 [==============================] - ETA: 0s - loss: 0.0238 - accuracy: 0.8414"
          ]
        },
        {
          "name": "stderr",
          "output_type": "stream",
          "text": [
            "WARNING:tensorflow:Early stopping conditioned on metric `val_loss` which is not available. Available metrics are: loss,accuracy\n"
          ]
        },
        {
          "name": "stdout",
          "output_type": "stream",
          "text": [
            "\b\b\b\b\b\b\b\b\b\b\b\b\b\b\b\b\b\b\b\b\b\b\b\b\b\b\b\b\b\b\b\b\b\b\b\b\b\b\b\b\b\b\b\b\b\b\b\b\b\b\b\b\b\b\b\b\b\b\b\b\b\b\b\b\b\b\b\b\b\b\b\b\b\b\b\b\b\b\b\b\b\b\r20/20 [==============================] - 6s 285ms/step - loss: 0.0238 - accuracy: 0.8414\n",
            "Epoch 117/200\n",
            "20/20 [==============================] - ETA: 0s - loss: 0.0237 - accuracy: 0.8415"
          ]
        },
        {
          "name": "stderr",
          "output_type": "stream",
          "text": [
            "WARNING:tensorflow:Early stopping conditioned on metric `val_loss` which is not available. Available metrics are: loss,accuracy\n"
          ]
        },
        {
          "name": "stdout",
          "output_type": "stream",
          "text": [
            "\b\b\b\b\b\b\b\b\b\b\b\b\b\b\b\b\b\b\b\b\b\b\b\b\b\b\b\b\b\b\b\b\b\b\b\b\b\b\b\b\b\b\b\b\b\b\b\b\b\b\b\b\b\b\b\b\b\b\b\b\b\b\b\b\b\b\b\b\b\b\b\b\b\b\b\b\b\b\b\b\b\b\r20/20 [==============================] - 4s 215ms/step - loss: 0.0237 - accuracy: 0.8415\n",
            "Epoch 118/200\n",
            "20/20 [==============================] - ETA: 0s - loss: 0.0237 - accuracy: 0.8415"
          ]
        },
        {
          "name": "stderr",
          "output_type": "stream",
          "text": [
            "WARNING:tensorflow:Early stopping conditioned on metric `val_loss` which is not available. Available metrics are: loss,accuracy\n"
          ]
        },
        {
          "name": "stdout",
          "output_type": "stream",
          "text": [
            "\b\b\b\b\b\b\b\b\b\b\b\b\b\b\b\b\b\b\b\b\b\b\b\b\b\b\b\b\b\b\b\b\b\b\b\b\b\b\b\b\b\b\b\b\b\b\b\b\b\b\b\b\b\b\b\b\b\b\b\b\b\b\b\b\b\b\b\b\b\b\b\b\b\b\b\b\b\b\b\b\b\b\r20/20 [==============================] - 4s 219ms/step - loss: 0.0237 - accuracy: 0.8415\n",
            "Epoch 119/200\n",
            "20/20 [==============================] - ETA: 0s - loss: 0.0236 - accuracy: 0.8416"
          ]
        },
        {
          "name": "stderr",
          "output_type": "stream",
          "text": [
            "WARNING:tensorflow:Early stopping conditioned on metric `val_loss` which is not available. Available metrics are: loss,accuracy\n"
          ]
        },
        {
          "name": "stdout",
          "output_type": "stream",
          "text": [
            "\b\b\b\b\b\b\b\b\b\b\b\b\b\b\b\b\b\b\b\b\b\b\b\b\b\b\b\b\b\b\b\b\b\b\b\b\b\b\b\b\b\b\b\b\b\b\b\b\b\b\b\b\b\b\b\b\b\b\b\b\b\b\b\b\b\b\b\b\b\b\b\b\b\b\b\b\b\b\b\b\b\b\r20/20 [==============================] - 6s 295ms/step - loss: 0.0236 - accuracy: 0.8416\n",
            "Epoch 120/200\n",
            "20/20 [==============================] - ETA: 0s - loss: 0.0236 - accuracy: 0.8415"
          ]
        },
        {
          "name": "stderr",
          "output_type": "stream",
          "text": [
            "WARNING:tensorflow:Early stopping conditioned on metric `val_loss` which is not available. Available metrics are: loss,accuracy\n"
          ]
        },
        {
          "name": "stdout",
          "output_type": "stream",
          "text": [
            "\b\b\b\b\b\b\b\b\b\b\b\b\b\b\b\b\b\b\b\b\b\b\b\b\b\b\b\b\b\b\b\b\b\b\b\b\b\b\b\b\b\b\b\b\b\b\b\b\b\b\b\b\b\b\b\b\b\b\b\b\b\b\b\b\b\b\b\b\b\b\b\b\b\b\b\b\b\b\b\b\b\b\r20/20 [==============================] - 4s 214ms/step - loss: 0.0236 - accuracy: 0.8415\n",
            "Epoch 121/200\n",
            "20/20 [==============================] - ETA: 0s - loss: 0.0236 - accuracy: 0.8416"
          ]
        },
        {
          "name": "stderr",
          "output_type": "stream",
          "text": [
            "WARNING:tensorflow:Early stopping conditioned on metric `val_loss` which is not available. Available metrics are: loss,accuracy\n"
          ]
        },
        {
          "name": "stdout",
          "output_type": "stream",
          "text": [
            "\b\b\b\b\b\b\b\b\b\b\b\b\b\b\b\b\b\b\b\b\b\b\b\b\b\b\b\b\b\b\b\b\b\b\b\b\b\b\b\b\b\b\b\b\b\b\b\b\b\b\b\b\b\b\b\b\b\b\b\b\b\b\b\b\b\b\b\b\b\b\b\b\b\b\b\b\b\b\b\b\b\b\r20/20 [==============================] - 4s 214ms/step - loss: 0.0236 - accuracy: 0.8416\n",
            "Epoch 122/200\n",
            "20/20 [==============================] - ETA: 0s - loss: 0.0235 - accuracy: 0.8416"
          ]
        },
        {
          "name": "stderr",
          "output_type": "stream",
          "text": [
            "WARNING:tensorflow:Early stopping conditioned on metric `val_loss` which is not available. Available metrics are: loss,accuracy\n"
          ]
        },
        {
          "name": "stdout",
          "output_type": "stream",
          "text": [
            "\b\b\b\b\b\b\b\b\b\b\b\b\b\b\b\b\b\b\b\b\b\b\b\b\b\b\b\b\b\b\b\b\b\b\b\b\b\b\b\b\b\b\b\b\b\b\b\b\b\b\b\b\b\b\b\b\b\b\b\b\b\b\b\b\b\b\b\b\b\b\b\b\b\b\b\b\b\b\b\b\b\b\r20/20 [==============================] - 6s 287ms/step - loss: 0.0235 - accuracy: 0.8416\n",
            "Epoch 123/200\n",
            "20/20 [==============================] - ETA: 0s - loss: 0.0235 - accuracy: 0.8416"
          ]
        },
        {
          "name": "stderr",
          "output_type": "stream",
          "text": [
            "WARNING:tensorflow:Early stopping conditioned on metric `val_loss` which is not available. Available metrics are: loss,accuracy\n"
          ]
        },
        {
          "name": "stdout",
          "output_type": "stream",
          "text": [
            "\b\b\b\b\b\b\b\b\b\b\b\b\b\b\b\b\b\b\b\b\b\b\b\b\b\b\b\b\b\b\b\b\b\b\b\b\b\b\b\b\b\b\b\b\b\b\b\b\b\b\b\b\b\b\b\b\b\b\b\b\b\b\b\b\b\b\b\b\b\b\b\b\b\b\b\b\b\b\b\b\b\b\r20/20 [==============================] - 4s 214ms/step - loss: 0.0235 - accuracy: 0.8416\n",
            "Epoch 124/200\n",
            "20/20 [==============================] - ETA: 0s - loss: 0.0234 - accuracy: 0.8417"
          ]
        },
        {
          "name": "stderr",
          "output_type": "stream",
          "text": [
            "WARNING:tensorflow:Early stopping conditioned on metric `val_loss` which is not available. Available metrics are: loss,accuracy\n"
          ]
        },
        {
          "name": "stdout",
          "output_type": "stream",
          "text": [
            "\b\b\b\b\b\b\b\b\b\b\b\b\b\b\b\b\b\b\b\b\b\b\b\b\b\b\b\b\b\b\b\b\b\b\b\b\b\b\b\b\b\b\b\b\b\b\b\b\b\b\b\b\b\b\b\b\b\b\b\b\b\b\b\b\b\b\b\b\b\b\b\b\b\b\b\b\b\b\b\b\b\b\r20/20 [==============================] - 4s 221ms/step - loss: 0.0234 - accuracy: 0.8417\n",
            "Epoch 125/200\n",
            "20/20 [==============================] - ETA: 0s - loss: 0.0233 - accuracy: 0.8417"
          ]
        },
        {
          "name": "stderr",
          "output_type": "stream",
          "text": [
            "WARNING:tensorflow:Early stopping conditioned on metric `val_loss` which is not available. Available metrics are: loss,accuracy\n"
          ]
        },
        {
          "name": "stdout",
          "output_type": "stream",
          "text": [
            "\b\b\b\b\b\b\b\b\b\b\b\b\b\b\b\b\b\b\b\b\b\b\b\b\b\b\b\b\b\b\b\b\b\b\b\b\b\b\b\b\b\b\b\b\b\b\b\b\b\b\b\b\b\b\b\b\b\b\b\b\b\b\b\b\b\b\b\b\b\b\b\b\b\b\b\b\b\b\b\b\b\b\r20/20 [==============================] - 6s 283ms/step - loss: 0.0233 - accuracy: 0.8417\n",
            "Epoch 126/200\n",
            "20/20 [==============================] - ETA: 0s - loss: 0.0234 - accuracy: 0.8417"
          ]
        },
        {
          "name": "stderr",
          "output_type": "stream",
          "text": [
            "WARNING:tensorflow:Early stopping conditioned on metric `val_loss` which is not available. Available metrics are: loss,accuracy\n"
          ]
        },
        {
          "name": "stdout",
          "output_type": "stream",
          "text": [
            "\b\b\b\b\b\b\b\b\b\b\b\b\b\b\b\b\b\b\b\b\b\b\b\b\b\b\b\b\b\b\b\b\b\b\b\b\b\b\b\b\b\b\b\b\b\b\b\b\b\b\b\b\b\b\b\b\b\b\b\b\b\b\b\b\b\b\b\b\b\b\b\b\b\b\b\b\b\b\b\b\b\b\r20/20 [==============================] - 4s 216ms/step - loss: 0.0234 - accuracy: 0.8417\n",
            "Epoch 127/200\n",
            "20/20 [==============================] - ETA: 0s - loss: 0.0233 - accuracy: 0.8417"
          ]
        },
        {
          "name": "stderr",
          "output_type": "stream",
          "text": [
            "WARNING:tensorflow:Early stopping conditioned on metric `val_loss` which is not available. Available metrics are: loss,accuracy\n"
          ]
        },
        {
          "name": "stdout",
          "output_type": "stream",
          "text": [
            "\b\b\b\b\b\b\b\b\b\b\b\b\b\b\b\b\b\b\b\b\b\b\b\b\b\b\b\b\b\b\b\b\b\b\b\b\b\b\b\b\b\b\b\b\b\b\b\b\b\b\b\b\b\b\b\b\b\b\b\b\b\b\b\b\b\b\b\b\b\b\b\b\b\b\b\b\b\b\b\b\b\b\r20/20 [==============================] - 5s 240ms/step - loss: 0.0233 - accuracy: 0.8417\n",
            "Epoch 128/200\n",
            "20/20 [==============================] - ETA: 0s - loss: 0.0233 - accuracy: 0.8417"
          ]
        },
        {
          "name": "stderr",
          "output_type": "stream",
          "text": [
            "WARNING:tensorflow:Early stopping conditioned on metric `val_loss` which is not available. Available metrics are: loss,accuracy\n"
          ]
        },
        {
          "name": "stdout",
          "output_type": "stream",
          "text": [
            "\b\b\b\b\b\b\b\b\b\b\b\b\b\b\b\b\b\b\b\b\b\b\b\b\b\b\b\b\b\b\b\b\b\b\b\b\b\b\b\b\b\b\b\b\b\b\b\b\b\b\b\b\b\b\b\b\b\b\b\b\b\b\b\b\b\b\b\b\b\b\b\b\b\b\b\b\b\b\b\b\b\b\r20/20 [==============================] - 5s 266ms/step - loss: 0.0233 - accuracy: 0.8417\n",
            "Epoch 129/200\n",
            "20/20 [==============================] - ETA: 0s - loss: 0.0232 - accuracy: 0.8417"
          ]
        },
        {
          "name": "stderr",
          "output_type": "stream",
          "text": [
            "WARNING:tensorflow:Early stopping conditioned on metric `val_loss` which is not available. Available metrics are: loss,accuracy\n"
          ]
        },
        {
          "name": "stdout",
          "output_type": "stream",
          "text": [
            "\b\b\b\b\b\b\b\b\b\b\b\b\b\b\b\b\b\b\b\b\b\b\b\b\b\b\b\b\b\b\b\b\b\b\b\b\b\b\b\b\b\b\b\b\b\b\b\b\b\b\b\b\b\b\b\b\b\b\b\b\b\b\b\b\b\b\b\b\b\b\b\b\b\b\b\b\b\b\b\b\b\b\r20/20 [==============================] - 4s 217ms/step - loss: 0.0232 - accuracy: 0.8417\n",
            "Epoch 130/200\n",
            "20/20 [==============================] - ETA: 0s - loss: 0.0232 - accuracy: 0.8417"
          ]
        },
        {
          "name": "stderr",
          "output_type": "stream",
          "text": [
            "WARNING:tensorflow:Early stopping conditioned on metric `val_loss` which is not available. Available metrics are: loss,accuracy\n"
          ]
        },
        {
          "name": "stdout",
          "output_type": "stream",
          "text": [
            "\b\b\b\b\b\b\b\b\b\b\b\b\b\b\b\b\b\b\b\b\b\b\b\b\b\b\b\b\b\b\b\b\b\b\b\b\b\b\b\b\b\b\b\b\b\b\b\b\b\b\b\b\b\b\b\b\b\b\b\b\b\b\b\b\b\b\b\b\b\b\b\b\b\b\b\b\b\b\b\b\b\b\r20/20 [==============================] - 5s 252ms/step - loss: 0.0232 - accuracy: 0.8417\n",
            "Epoch 131/200\n",
            "20/20 [==============================] - ETA: 0s - loss: 0.0232 - accuracy: 0.8417"
          ]
        },
        {
          "name": "stderr",
          "output_type": "stream",
          "text": [
            "WARNING:tensorflow:Early stopping conditioned on metric `val_loss` which is not available. Available metrics are: loss,accuracy\n"
          ]
        },
        {
          "name": "stdout",
          "output_type": "stream",
          "text": [
            "\b\b\b\b\b\b\b\b\b\b\b\b\b\b\b\b\b\b\b\b\b\b\b\b\b\b\b\b\b\b\b\b\b\b\b\b\b\b\b\b\b\b\b\b\b\b\b\b\b\b\b\b\b\b\b\b\b\b\b\b\b\b\b\b\b\b\b\b\b\b\b\b\b\b\b\b\b\b\b\b\b\b\r20/20 [==============================] - 5s 247ms/step - loss: 0.0232 - accuracy: 0.8417\n",
            "Epoch 132/200\n",
            "20/20 [==============================] - ETA: 0s - loss: 0.0231 - accuracy: 0.8418"
          ]
        },
        {
          "name": "stderr",
          "output_type": "stream",
          "text": [
            "WARNING:tensorflow:Early stopping conditioned on metric `val_loss` which is not available. Available metrics are: loss,accuracy\n"
          ]
        },
        {
          "name": "stdout",
          "output_type": "stream",
          "text": [
            "\b\b\b\b\b\b\b\b\b\b\b\b\b\b\b\b\b\b\b\b\b\b\b\b\b\b\b\b\b\b\b\b\b\b\b\b\b\b\b\b\b\b\b\b\b\b\b\b\b\b\b\b\b\b\b\b\b\b\b\b\b\b\b\b\b\b\b\b\b\b\b\b\b\b\b\b\b\b\b\b\b\b\r20/20 [==============================] - 4s 209ms/step - loss: 0.0231 - accuracy: 0.8418\n",
            "Epoch 133/200\n",
            "20/20 [==============================] - ETA: 0s - loss: 0.0230 - accuracy: 0.8418"
          ]
        },
        {
          "name": "stderr",
          "output_type": "stream",
          "text": [
            "WARNING:tensorflow:Early stopping conditioned on metric `val_loss` which is not available. Available metrics are: loss,accuracy\n"
          ]
        },
        {
          "name": "stdout",
          "output_type": "stream",
          "text": [
            "\b\b\b\b\b\b\b\b\b\b\b\b\b\b\b\b\b\b\b\b\b\b\b\b\b\b\b\b\b\b\b\b\b\b\b\b\b\b\b\b\b\b\b\b\b\b\b\b\b\b\b\b\b\b\b\b\b\b\b\b\b\b\b\b\b\b\b\b\b\b\b\b\b\b\b\b\b\b\b\b\b\b\r20/20 [==============================] - 5s 260ms/step - loss: 0.0230 - accuracy: 0.8418\n",
            "Epoch 134/200\n",
            "20/20 [==============================] - ETA: 0s - loss: 0.0230 - accuracy: 0.8419"
          ]
        },
        {
          "name": "stderr",
          "output_type": "stream",
          "text": [
            "WARNING:tensorflow:Early stopping conditioned on metric `val_loss` which is not available. Available metrics are: loss,accuracy\n"
          ]
        },
        {
          "name": "stdout",
          "output_type": "stream",
          "text": [
            "\b\b\b\b\b\b\b\b\b\b\b\b\b\b\b\b\b\b\b\b\b\b\b\b\b\b\b\b\b\b\b\b\b\b\b\b\b\b\b\b\b\b\b\b\b\b\b\b\b\b\b\b\b\b\b\b\b\b\b\b\b\b\b\b\b\b\b\b\b\b\b\b\b\b\b\b\b\b\b\b\b\b\r20/20 [==============================] - 5s 241ms/step - loss: 0.0230 - accuracy: 0.8419\n",
            "Epoch 135/200\n",
            "20/20 [==============================] - ETA: 0s - loss: 0.0230 - accuracy: 0.8419"
          ]
        },
        {
          "name": "stderr",
          "output_type": "stream",
          "text": [
            "WARNING:tensorflow:Early stopping conditioned on metric `val_loss` which is not available. Available metrics are: loss,accuracy\n"
          ]
        },
        {
          "name": "stdout",
          "output_type": "stream",
          "text": [
            "\b\b\b\b\b\b\b\b\b\b\b\b\b\b\b\b\b\b\b\b\b\b\b\b\b\b\b\b\b\b\b\b\b\b\b\b\b\b\b\b\b\b\b\b\b\b\b\b\b\b\b\b\b\b\b\b\b\b\b\b\b\b\b\b\b\b\b\b\b\b\b\b\b\b\b\b\b\b\b\b\b\b\r20/20 [==============================] - 4s 215ms/step - loss: 0.0230 - accuracy: 0.8419\n",
            "Epoch 136/200\n",
            "20/20 [==============================] - ETA: 0s - loss: 0.0229 - accuracy: 0.8419"
          ]
        },
        {
          "name": "stderr",
          "output_type": "stream",
          "text": [
            "WARNING:tensorflow:Early stopping conditioned on metric `val_loss` which is not available. Available metrics are: loss,accuracy\n"
          ]
        },
        {
          "name": "stdout",
          "output_type": "stream",
          "text": [
            "\b\b\b\b\b\b\b\b\b\b\b\b\b\b\b\b\b\b\b\b\b\b\b\b\b\b\b\b\b\b\b\b\b\b\b\b\b\b\b\b\b\b\b\b\b\b\b\b\b\b\b\b\b\b\b\b\b\b\b\b\b\b\b\b\b\b\b\b\b\b\b\b\b\b\b\b\b\b\b\b\b\b\r20/20 [==============================] - 5s 265ms/step - loss: 0.0229 - accuracy: 0.8419\n",
            "Epoch 137/200\n",
            "20/20 [==============================] - ETA: 0s - loss: 0.0229 - accuracy: 0.8419"
          ]
        },
        {
          "name": "stderr",
          "output_type": "stream",
          "text": [
            "WARNING:tensorflow:Early stopping conditioned on metric `val_loss` which is not available. Available metrics are: loss,accuracy\n"
          ]
        },
        {
          "name": "stdout",
          "output_type": "stream",
          "text": [
            "\b\b\b\b\b\b\b\b\b\b\b\b\b\b\b\b\b\b\b\b\b\b\b\b\b\b\b\b\b\b\b\b\b\b\b\b\b\b\b\b\b\b\b\b\b\b\b\b\b\b\b\b\b\b\b\b\b\b\b\b\b\b\b\b\b\b\b\b\b\b\b\b\b\b\b\b\b\b\b\b\b\b\r20/20 [==============================] - 5s 233ms/step - loss: 0.0229 - accuracy: 0.8419\n",
            "Epoch 138/200\n",
            "20/20 [==============================] - ETA: 0s - loss: 0.0228 - accuracy: 0.8420"
          ]
        },
        {
          "name": "stderr",
          "output_type": "stream",
          "text": [
            "WARNING:tensorflow:Early stopping conditioned on metric `val_loss` which is not available. Available metrics are: loss,accuracy\n"
          ]
        },
        {
          "name": "stdout",
          "output_type": "stream",
          "text": [
            "\b\b\b\b\b\b\b\b\b\b\b\b\b\b\b\b\b\b\b\b\b\b\b\b\b\b\b\b\b\b\b\b\b\b\b\b\b\b\b\b\b\b\b\b\b\b\b\b\b\b\b\b\b\b\b\b\b\b\b\b\b\b\b\b\b\b\b\b\b\b\b\b\b\b\b\b\b\b\b\b\b\b\r20/20 [==============================] - 4s 212ms/step - loss: 0.0228 - accuracy: 0.8420\n",
            "Epoch 139/200\n",
            "20/20 [==============================] - ETA: 0s - loss: 0.0228 - accuracy: 0.8420"
          ]
        },
        {
          "name": "stderr",
          "output_type": "stream",
          "text": [
            "WARNING:tensorflow:Early stopping conditioned on metric `val_loss` which is not available. Available metrics are: loss,accuracy\n"
          ]
        },
        {
          "name": "stdout",
          "output_type": "stream",
          "text": [
            "\b\b\b\b\b\b\b\b\b\b\b\b\b\b\b\b\b\b\b\b\b\b\b\b\b\b\b\b\b\b\b\b\b\b\b\b\b\b\b\b\b\b\b\b\b\b\b\b\b\b\b\b\b\b\b\b\b\b\b\b\b\b\b\b\b\b\b\b\b\b\b\b\b\b\b\b\b\b\b\b\b\b\r20/20 [==============================] - 6s 283ms/step - loss: 0.0228 - accuracy: 0.8420\n",
            "Epoch 140/200\n",
            "20/20 [==============================] - ETA: 0s - loss: 0.0228 - accuracy: 0.8420"
          ]
        },
        {
          "name": "stderr",
          "output_type": "stream",
          "text": [
            "WARNING:tensorflow:Early stopping conditioned on metric `val_loss` which is not available. Available metrics are: loss,accuracy\n"
          ]
        },
        {
          "name": "stdout",
          "output_type": "stream",
          "text": [
            "\b\b\b\b\b\b\b\b\b\b\b\b\b\b\b\b\b\b\b\b\b\b\b\b\b\b\b\b\b\b\b\b\b\b\b\b\b\b\b\b\b\b\b\b\b\b\b\b\b\b\b\b\b\b\b\b\b\b\b\b\b\b\b\b\b\b\b\b\b\b\b\b\b\b\b\b\b\b\b\b\b\b\r20/20 [==============================] - 4s 213ms/step - loss: 0.0228 - accuracy: 0.8420\n",
            "Epoch 141/200\n",
            "20/20 [==============================] - ETA: 0s - loss: 0.0227 - accuracy: 0.8420"
          ]
        },
        {
          "name": "stderr",
          "output_type": "stream",
          "text": [
            "WARNING:tensorflow:Early stopping conditioned on metric `val_loss` which is not available. Available metrics are: loss,accuracy\n"
          ]
        },
        {
          "name": "stdout",
          "output_type": "stream",
          "text": [
            "\b\b\b\b\b\b\b\b\b\b\b\b\b\b\b\b\b\b\b\b\b\b\b\b\b\b\b\b\b\b\b\b\b\b\b\b\b\b\b\b\b\b\b\b\b\b\b\b\b\b\b\b\b\b\b\b\b\b\b\b\b\b\b\b\b\b\b\b\b\b\b\b\b\b\b\b\b\b\b\b\b\b\r20/20 [==============================] - 4s 217ms/step - loss: 0.0227 - accuracy: 0.8420\n",
            "Epoch 142/200\n",
            "20/20 [==============================] - ETA: 0s - loss: 0.0227 - accuracy: 0.8420"
          ]
        },
        {
          "name": "stderr",
          "output_type": "stream",
          "text": [
            "WARNING:tensorflow:Early stopping conditioned on metric `val_loss` which is not available. Available metrics are: loss,accuracy\n"
          ]
        },
        {
          "name": "stdout",
          "output_type": "stream",
          "text": [
            "\b\b\b\b\b\b\b\b\b\b\b\b\b\b\b\b\b\b\b\b\b\b\b\b\b\b\b\b\b\b\b\b\b\b\b\b\b\b\b\b\b\b\b\b\b\b\b\b\b\b\b\b\b\b\b\b\b\b\b\b\b\b\b\b\b\b\b\b\b\b\b\b\b\b\b\b\b\b\b\b\b\b\r20/20 [==============================] - 6s 295ms/step - loss: 0.0227 - accuracy: 0.8420\n",
            "Epoch 143/200\n",
            "20/20 [==============================] - ETA: 0s - loss: 0.0227 - accuracy: 0.8420"
          ]
        },
        {
          "name": "stderr",
          "output_type": "stream",
          "text": [
            "WARNING:tensorflow:Early stopping conditioned on metric `val_loss` which is not available. Available metrics are: loss,accuracy\n"
          ]
        },
        {
          "name": "stdout",
          "output_type": "stream",
          "text": [
            "\b\b\b\b\b\b\b\b\b\b\b\b\b\b\b\b\b\b\b\b\b\b\b\b\b\b\b\b\b\b\b\b\b\b\b\b\b\b\b\b\b\b\b\b\b\b\b\b\b\b\b\b\b\b\b\b\b\b\b\b\b\b\b\b\b\b\b\b\b\b\b\b\b\b\b\b\b\b\b\b\b\b\r20/20 [==============================] - 4s 223ms/step - loss: 0.0227 - accuracy: 0.8420\n",
            "Epoch 144/200\n",
            "20/20 [==============================] - ETA: 0s - loss: 0.0227 - accuracy: 0.8420"
          ]
        },
        {
          "name": "stderr",
          "output_type": "stream",
          "text": [
            "WARNING:tensorflow:Early stopping conditioned on metric `val_loss` which is not available. Available metrics are: loss,accuracy\n"
          ]
        },
        {
          "name": "stdout",
          "output_type": "stream",
          "text": [
            "\b\b\b\b\b\b\b\b\b\b\b\b\b\b\b\b\b\b\b\b\b\b\b\b\b\b\b\b\b\b\b\b\b\b\b\b\b\b\b\b\b\b\b\b\b\b\b\b\b\b\b\b\b\b\b\b\b\b\b\b\b\b\b\b\b\b\b\b\b\b\b\b\b\b\b\b\b\b\b\b\b\b\r20/20 [==============================] - 4s 213ms/step - loss: 0.0227 - accuracy: 0.8420\n",
            "Epoch 145/200\n",
            "20/20 [==============================] - ETA: 0s - loss: 0.0226 - accuracy: 0.8421"
          ]
        },
        {
          "name": "stderr",
          "output_type": "stream",
          "text": [
            "WARNING:tensorflow:Early stopping conditioned on metric `val_loss` which is not available. Available metrics are: loss,accuracy\n"
          ]
        },
        {
          "name": "stdout",
          "output_type": "stream",
          "text": [
            "\b\b\b\b\b\b\b\b\b\b\b\b\b\b\b\b\b\b\b\b\b\b\b\b\b\b\b\b\b\b\b\b\b\b\b\b\b\b\b\b\b\b\b\b\b\b\b\b\b\b\b\b\b\b\b\b\b\b\b\b\b\b\b\b\b\b\b\b\b\b\b\b\b\b\b\b\b\b\b\b\b\b\r20/20 [==============================] - 6s 287ms/step - loss: 0.0226 - accuracy: 0.8421\n",
            "Epoch 146/200\n",
            "20/20 [==============================] - ETA: 0s - loss: 0.0226 - accuracy: 0.8421"
          ]
        },
        {
          "name": "stderr",
          "output_type": "stream",
          "text": [
            "WARNING:tensorflow:Early stopping conditioned on metric `val_loss` which is not available. Available metrics are: loss,accuracy\n"
          ]
        },
        {
          "name": "stdout",
          "output_type": "stream",
          "text": [
            "\b\b\b\b\b\b\b\b\b\b\b\b\b\b\b\b\b\b\b\b\b\b\b\b\b\b\b\b\b\b\b\b\b\b\b\b\b\b\b\b\b\b\b\b\b\b\b\b\b\b\b\b\b\b\b\b\b\b\b\b\b\b\b\b\b\b\b\b\b\b\b\b\b\b\b\b\b\b\b\b\b\b\r20/20 [==============================] - 4s 215ms/step - loss: 0.0226 - accuracy: 0.8421\n",
            "Epoch 147/200\n",
            "20/20 [==============================] - ETA: 0s - loss: 0.0226 - accuracy: 0.8421"
          ]
        },
        {
          "name": "stderr",
          "output_type": "stream",
          "text": [
            "WARNING:tensorflow:Early stopping conditioned on metric `val_loss` which is not available. Available metrics are: loss,accuracy\n"
          ]
        },
        {
          "name": "stdout",
          "output_type": "stream",
          "text": [
            "\b\b\b\b\b\b\b\b\b\b\b\b\b\b\b\b\b\b\b\b\b\b\b\b\b\b\b\b\b\b\b\b\b\b\b\b\b\b\b\b\b\b\b\b\b\b\b\b\b\b\b\b\b\b\b\b\b\b\b\b\b\b\b\b\b\b\b\b\b\b\b\b\b\b\b\b\b\b\b\b\b\b\r20/20 [==============================] - 4s 214ms/step - loss: 0.0226 - accuracy: 0.8421\n",
            "Epoch 148/200\n",
            "20/20 [==============================] - ETA: 0s - loss: 0.0225 - accuracy: 0.8422"
          ]
        },
        {
          "name": "stderr",
          "output_type": "stream",
          "text": [
            "WARNING:tensorflow:Early stopping conditioned on metric `val_loss` which is not available. Available metrics are: loss,accuracy\n"
          ]
        },
        {
          "name": "stdout",
          "output_type": "stream",
          "text": [
            "\b\b\b\b\b\b\b\b\b\b\b\b\b\b\b\b\b\b\b\b\b\b\b\b\b\b\b\b\b\b\b\b\b\b\b\b\b\b\b\b\b\b\b\b\b\b\b\b\b\b\b\b\b\b\b\b\b\b\b\b\b\b\b\b\b\b\b\b\b\b\b\b\b\b\b\b\b\b\b\b\b\b\r20/20 [==============================] - 6s 292ms/step - loss: 0.0225 - accuracy: 0.8422\n",
            "Epoch 149/200\n",
            "20/20 [==============================] - ETA: 0s - loss: 0.0224 - accuracy: 0.8422"
          ]
        },
        {
          "name": "stderr",
          "output_type": "stream",
          "text": [
            "WARNING:tensorflow:Early stopping conditioned on metric `val_loss` which is not available. Available metrics are: loss,accuracy\n"
          ]
        },
        {
          "name": "stdout",
          "output_type": "stream",
          "text": [
            "\b\b\b\b\b\b\b\b\b\b\b\b\b\b\b\b\b\b\b\b\b\b\b\b\b\b\b\b\b\b\b\b\b\b\b\b\b\b\b\b\b\b\b\b\b\b\b\b\b\b\b\b\b\b\b\b\b\b\b\b\b\b\b\b\b\b\b\b\b\b\b\b\b\b\b\b\b\b\b\b\b\b\r20/20 [==============================] - 4s 215ms/step - loss: 0.0224 - accuracy: 0.8422\n",
            "Epoch 150/200\n",
            "20/20 [==============================] - ETA: 0s - loss: 0.0224 - accuracy: 0.8422"
          ]
        },
        {
          "name": "stderr",
          "output_type": "stream",
          "text": [
            "WARNING:tensorflow:Early stopping conditioned on metric `val_loss` which is not available. Available metrics are: loss,accuracy\n"
          ]
        },
        {
          "name": "stdout",
          "output_type": "stream",
          "text": [
            "\b\b\b\b\b\b\b\b\b\b\b\b\b\b\b\b\b\b\b\b\b\b\b\b\b\b\b\b\b\b\b\b\b\b\b\b\b\b\b\b\b\b\b\b\b\b\b\b\b\b\b\b\b\b\b\b\b\b\b\b\b\b\b\b\b\b\b\b\b\b\b\b\b\b\b\b\b\b\b\b\b\b\r20/20 [==============================] - 4s 215ms/step - loss: 0.0224 - accuracy: 0.8422\n",
            "Epoch 151/200\n",
            "20/20 [==============================] - ETA: 0s - loss: 0.0224 - accuracy: 0.8421"
          ]
        },
        {
          "name": "stderr",
          "output_type": "stream",
          "text": [
            "WARNING:tensorflow:Early stopping conditioned on metric `val_loss` which is not available. Available metrics are: loss,accuracy\n"
          ]
        },
        {
          "name": "stdout",
          "output_type": "stream",
          "text": [
            "\b\b\b\b\b\b\b\b\b\b\b\b\b\b\b\b\b\b\b\b\b\b\b\b\b\b\b\b\b\b\b\b\b\b\b\b\b\b\b\b\b\b\b\b\b\b\b\b\b\b\b\b\b\b\b\b\b\b\b\b\b\b\b\b\b\b\b\b\b\b\b\b\b\b\b\b\b\b\b\b\b\b\r20/20 [==============================] - 6s 290ms/step - loss: 0.0224 - accuracy: 0.8421\n",
            "Epoch 152/200\n",
            "20/20 [==============================] - ETA: 0s - loss: 0.0224 - accuracy: 0.8422"
          ]
        },
        {
          "name": "stderr",
          "output_type": "stream",
          "text": [
            "WARNING:tensorflow:Early stopping conditioned on metric `val_loss` which is not available. Available metrics are: loss,accuracy\n"
          ]
        },
        {
          "name": "stdout",
          "output_type": "stream",
          "text": [
            "\b\b\b\b\b\b\b\b\b\b\b\b\b\b\b\b\b\b\b\b\b\b\b\b\b\b\b\b\b\b\b\b\b\b\b\b\b\b\b\b\b\b\b\b\b\b\b\b\b\b\b\b\b\b\b\b\b\b\b\b\b\b\b\b\b\b\b\b\b\b\b\b\b\b\b\b\b\b\b\b\b\b\r20/20 [==============================] - 4s 217ms/step - loss: 0.0224 - accuracy: 0.8422\n",
            "Epoch 153/200\n",
            "20/20 [==============================] - ETA: 0s - loss: 0.0224 - accuracy: 0.8422"
          ]
        },
        {
          "name": "stderr",
          "output_type": "stream",
          "text": [
            "WARNING:tensorflow:Early stopping conditioned on metric `val_loss` which is not available. Available metrics are: loss,accuracy\n"
          ]
        },
        {
          "name": "stdout",
          "output_type": "stream",
          "text": [
            "\b\b\b\b\b\b\b\b\b\b\b\b\b\b\b\b\b\b\b\b\b\b\b\b\b\b\b\b\b\b\b\b\b\b\b\b\b\b\b\b\b\b\b\b\b\b\b\b\b\b\b\b\b\b\b\b\b\b\b\b\b\b\b\b\b\b\b\b\b\b\b\b\b\b\b\b\b\b\b\b\b\b\r20/20 [==============================] - 4s 226ms/step - loss: 0.0224 - accuracy: 0.8422\n",
            "Epoch 154/200\n",
            "20/20 [==============================] - ETA: 0s - loss: 0.0224 - accuracy: 0.8422"
          ]
        },
        {
          "name": "stderr",
          "output_type": "stream",
          "text": [
            "WARNING:tensorflow:Early stopping conditioned on metric `val_loss` which is not available. Available metrics are: loss,accuracy\n"
          ]
        },
        {
          "name": "stdout",
          "output_type": "stream",
          "text": [
            "\b\b\b\b\b\b\b\b\b\b\b\b\b\b\b\b\b\b\b\b\b\b\b\b\b\b\b\b\b\b\b\b\b\b\b\b\b\b\b\b\b\b\b\b\b\b\b\b\b\b\b\b\b\b\b\b\b\b\b\b\b\b\b\b\b\b\b\b\b\b\b\b\b\b\b\b\b\b\b\b\b\b\r20/20 [==============================] - 5s 269ms/step - loss: 0.0224 - accuracy: 0.8422\n",
            "Epoch 155/200\n",
            "20/20 [==============================] - ETA: 0s - loss: 0.0223 - accuracy: 0.8423"
          ]
        },
        {
          "name": "stderr",
          "output_type": "stream",
          "text": [
            "WARNING:tensorflow:Early stopping conditioned on metric `val_loss` which is not available. Available metrics are: loss,accuracy\n"
          ]
        },
        {
          "name": "stdout",
          "output_type": "stream",
          "text": [
            "\b\b\b\b\b\b\b\b\b\b\b\b\b\b\b\b\b\b\b\b\b\b\b\b\b\b\b\b\b\b\b\b\b\b\b\b\b\b\b\b\b\b\b\b\b\b\b\b\b\b\b\b\b\b\b\b\b\b\b\b\b\b\b\b\b\b\b\b\b\b\b\b\b\b\b\b\b\b\b\b\b\b\r20/20 [==============================] - 4s 221ms/step - loss: 0.0223 - accuracy: 0.8423\n",
            "Epoch 156/200\n",
            "20/20 [==============================] - ETA: 0s - loss: 0.0223 - accuracy: 0.8422"
          ]
        },
        {
          "name": "stderr",
          "output_type": "stream",
          "text": [
            "WARNING:tensorflow:Early stopping conditioned on metric `val_loss` which is not available. Available metrics are: loss,accuracy\n"
          ]
        },
        {
          "name": "stdout",
          "output_type": "stream",
          "text": [
            "\b\b\b\b\b\b\b\b\b\b\b\b\b\b\b\b\b\b\b\b\b\b\b\b\b\b\b\b\b\b\b\b\b\b\b\b\b\b\b\b\b\b\b\b\b\b\b\b\b\b\b\b\b\b\b\b\b\b\b\b\b\b\b\b\b\b\b\b\b\b\b\b\b\b\b\b\b\b\b\b\b\b\r20/20 [==============================] - 5s 249ms/step - loss: 0.0223 - accuracy: 0.8422\n",
            "Epoch 157/200\n",
            "20/20 [==============================] - ETA: 0s - loss: 0.0222 - accuracy: 0.8423"
          ]
        },
        {
          "name": "stderr",
          "output_type": "stream",
          "text": [
            "WARNING:tensorflow:Early stopping conditioned on metric `val_loss` which is not available. Available metrics are: loss,accuracy\n"
          ]
        },
        {
          "name": "stdout",
          "output_type": "stream",
          "text": [
            "\b\b\b\b\b\b\b\b\b\b\b\b\b\b\b\b\b\b\b\b\b\b\b\b\b\b\b\b\b\b\b\b\b\b\b\b\b\b\b\b\b\b\b\b\b\b\b\b\b\b\b\b\b\b\b\b\b\b\b\b\b\b\b\b\b\b\b\b\b\b\b\b\b\b\b\b\b\b\b\b\b\b\r20/20 [==============================] - 5s 249ms/step - loss: 0.0222 - accuracy: 0.8423\n",
            "Epoch 158/200\n",
            "20/20 [==============================] - ETA: 0s - loss: 0.0221 - accuracy: 0.8423"
          ]
        },
        {
          "name": "stderr",
          "output_type": "stream",
          "text": [
            "WARNING:tensorflow:Early stopping conditioned on metric `val_loss` which is not available. Available metrics are: loss,accuracy\n"
          ]
        },
        {
          "name": "stdout",
          "output_type": "stream",
          "text": [
            "\b\b\b\b\b\b\b\b\b\b\b\b\b\b\b\b\b\b\b\b\b\b\b\b\b\b\b\b\b\b\b\b\b\b\b\b\b\b\b\b\b\b\b\b\b\b\b\b\b\b\b\b\b\b\b\b\b\b\b\b\b\b\b\b\b\b\b\b\b\b\b\b\b\b\b\b\b\b\b\b\b\b\r20/20 [==============================] - 4s 213ms/step - loss: 0.0221 - accuracy: 0.8423\n",
            "Epoch 159/200\n",
            "20/20 [==============================] - ETA: 0s - loss: 0.0221 - accuracy: 0.8423"
          ]
        },
        {
          "name": "stderr",
          "output_type": "stream",
          "text": [
            "WARNING:tensorflow:Early stopping conditioned on metric `val_loss` which is not available. Available metrics are: loss,accuracy\n"
          ]
        },
        {
          "name": "stdout",
          "output_type": "stream",
          "text": [
            "\b\b\b\b\b\b\b\b\b\b\b\b\b\b\b\b\b\b\b\b\b\b\b\b\b\b\b\b\b\b\b\b\b\b\b\b\b\b\b\b\b\b\b\b\b\b\b\b\b\b\b\b\b\b\b\b\b\b\b\b\b\b\b\b\b\b\b\b\b\b\b\b\b\b\b\b\b\b\b\b\b\b\r20/20 [==============================] - 5s 260ms/step - loss: 0.0221 - accuracy: 0.8423\n",
            "Epoch 160/200\n",
            "20/20 [==============================] - ETA: 0s - loss: 0.0221 - accuracy: 0.8424"
          ]
        },
        {
          "name": "stderr",
          "output_type": "stream",
          "text": [
            "WARNING:tensorflow:Early stopping conditioned on metric `val_loss` which is not available. Available metrics are: loss,accuracy\n"
          ]
        },
        {
          "name": "stdout",
          "output_type": "stream",
          "text": [
            "\b\b\b\b\b\b\b\b\b\b\b\b\b\b\b\b\b\b\b\b\b\b\b\b\b\b\b\b\b\b\b\b\b\b\b\b\b\b\b\b\b\b\b\b\b\b\b\b\b\b\b\b\b\b\b\b\b\b\b\b\b\b\b\b\b\b\b\b\b\b\b\b\b\b\b\b\b\b\b\b\b\b\r20/20 [==============================] - 5s 239ms/step - loss: 0.0221 - accuracy: 0.8424\n",
            "Epoch 161/200\n",
            "20/20 [==============================] - ETA: 0s - loss: 0.0220 - accuracy: 0.8424"
          ]
        },
        {
          "name": "stderr",
          "output_type": "stream",
          "text": [
            "WARNING:tensorflow:Early stopping conditioned on metric `val_loss` which is not available. Available metrics are: loss,accuracy\n"
          ]
        },
        {
          "name": "stdout",
          "output_type": "stream",
          "text": [
            "\b\b\b\b\b\b\b\b\b\b\b\b\b\b\b\b\b\b\b\b\b\b\b\b\b\b\b\b\b\b\b\b\b\b\b\b\b\b\b\b\b\b\b\b\b\b\b\b\b\b\b\b\b\b\b\b\b\b\b\b\b\b\b\b\b\b\b\b\b\b\b\b\b\b\b\b\b\b\b\b\b\b\r20/20 [==============================] - 4s 216ms/step - loss: 0.0220 - accuracy: 0.8424\n",
            "Epoch 162/200\n",
            "20/20 [==============================] - ETA: 0s - loss: 0.0220 - accuracy: 0.8424"
          ]
        },
        {
          "name": "stderr",
          "output_type": "stream",
          "text": [
            "WARNING:tensorflow:Early stopping conditioned on metric `val_loss` which is not available. Available metrics are: loss,accuracy\n"
          ]
        },
        {
          "name": "stdout",
          "output_type": "stream",
          "text": [
            "\b\b\b\b\b\b\b\b\b\b\b\b\b\b\b\b\b\b\b\b\b\b\b\b\b\b\b\b\b\b\b\b\b\b\b\b\b\b\b\b\b\b\b\b\b\b\b\b\b\b\b\b\b\b\b\b\b\b\b\b\b\b\b\b\b\b\b\b\b\b\b\b\b\b\b\b\b\b\b\b\b\b\r20/20 [==============================] - 5s 275ms/step - loss: 0.0220 - accuracy: 0.8424\n",
            "Epoch 163/200\n",
            "20/20 [==============================] - ETA: 0s - loss: 0.0220 - accuracy: 0.8424"
          ]
        },
        {
          "name": "stderr",
          "output_type": "stream",
          "text": [
            "WARNING:tensorflow:Early stopping conditioned on metric `val_loss` which is not available. Available metrics are: loss,accuracy\n"
          ]
        },
        {
          "name": "stdout",
          "output_type": "stream",
          "text": [
            "\b\b\b\b\b\b\b\b\b\b\b\b\b\b\b\b\b\b\b\b\b\b\b\b\b\b\b\b\b\b\b\b\b\b\b\b\b\b\b\b\b\b\b\b\b\b\b\b\b\b\b\b\b\b\b\b\b\b\b\b\b\b\b\b\b\b\b\b\b\b\b\b\b\b\b\b\b\b\b\b\b\b\r20/20 [==============================] - 5s 220ms/step - loss: 0.0220 - accuracy: 0.8424\n",
            "Epoch 164/200\n",
            "20/20 [==============================] - ETA: 0s - loss: 0.0219 - accuracy: 0.8425"
          ]
        },
        {
          "name": "stderr",
          "output_type": "stream",
          "text": [
            "WARNING:tensorflow:Early stopping conditioned on metric `val_loss` which is not available. Available metrics are: loss,accuracy\n"
          ]
        },
        {
          "name": "stdout",
          "output_type": "stream",
          "text": [
            "\b\b\b\b\b\b\b\b\b\b\b\b\b\b\b\b\b\b\b\b\b\b\b\b\b\b\b\b\b\b\b\b\b\b\b\b\b\b\b\b\b\b\b\b\b\b\b\b\b\b\b\b\b\b\b\b\b\b\b\b\b\b\b\b\b\b\b\b\b\b\b\b\b\b\b\b\b\b\b\b\b\b\r20/20 [==============================] - 4s 216ms/step - loss: 0.0219 - accuracy: 0.8425\n",
            "Epoch 165/200\n",
            "20/20 [==============================] - ETA: 0s - loss: 0.0219 - accuracy: 0.8425"
          ]
        },
        {
          "name": "stderr",
          "output_type": "stream",
          "text": [
            "WARNING:tensorflow:Early stopping conditioned on metric `val_loss` which is not available. Available metrics are: loss,accuracy\n"
          ]
        },
        {
          "name": "stdout",
          "output_type": "stream",
          "text": [
            "\b\b\b\b\b\b\b\b\b\b\b\b\b\b\b\b\b\b\b\b\b\b\b\b\b\b\b\b\b\b\b\b\b\b\b\b\b\b\b\b\b\b\b\b\b\b\b\b\b\b\b\b\b\b\b\b\b\b\b\b\b\b\b\b\b\b\b\b\b\b\b\b\b\b\b\b\b\b\b\b\b\b\r20/20 [==============================] - 6s 288ms/step - loss: 0.0219 - accuracy: 0.8425\n",
            "Epoch 166/200\n",
            "20/20 [==============================] - ETA: 0s - loss: 0.0219 - accuracy: 0.8425"
          ]
        },
        {
          "name": "stderr",
          "output_type": "stream",
          "text": [
            "WARNING:tensorflow:Early stopping conditioned on metric `val_loss` which is not available. Available metrics are: loss,accuracy\n"
          ]
        },
        {
          "name": "stdout",
          "output_type": "stream",
          "text": [
            "\b\b\b\b\b\b\b\b\b\b\b\b\b\b\b\b\b\b\b\b\b\b\b\b\b\b\b\b\b\b\b\b\b\b\b\b\b\b\b\b\b\b\b\b\b\b\b\b\b\b\b\b\b\b\b\b\b\b\b\b\b\b\b\b\b\b\b\b\b\b\b\b\b\b\b\b\b\b\b\b\b\b\r20/20 [==============================] - 4s 213ms/step - loss: 0.0219 - accuracy: 0.8425\n",
            "Epoch 167/200\n",
            "20/20 [==============================] - ETA: 0s - loss: 0.0218 - accuracy: 0.8425"
          ]
        },
        {
          "name": "stderr",
          "output_type": "stream",
          "text": [
            "WARNING:tensorflow:Early stopping conditioned on metric `val_loss` which is not available. Available metrics are: loss,accuracy\n"
          ]
        },
        {
          "name": "stdout",
          "output_type": "stream",
          "text": [
            "\b\b\b\b\b\b\b\b\b\b\b\b\b\b\b\b\b\b\b\b\b\b\b\b\b\b\b\b\b\b\b\b\b\b\b\b\b\b\b\b\b\b\b\b\b\b\b\b\b\b\b\b\b\b\b\b\b\b\b\b\b\b\b\b\b\b\b\b\b\b\b\b\b\b\b\b\b\b\b\b\b\b\r20/20 [==============================] - 4s 213ms/step - loss: 0.0218 - accuracy: 0.8425\n",
            "Epoch 168/200\n",
            "20/20 [==============================] - ETA: 0s - loss: 0.0218 - accuracy: 0.8425"
          ]
        },
        {
          "name": "stderr",
          "output_type": "stream",
          "text": [
            "WARNING:tensorflow:Early stopping conditioned on metric `val_loss` which is not available. Available metrics are: loss,accuracy\n"
          ]
        },
        {
          "name": "stdout",
          "output_type": "stream",
          "text": [
            "\b\b\b\b\b\b\b\b\b\b\b\b\b\b\b\b\b\b\b\b\b\b\b\b\b\b\b\b\b\b\b\b\b\b\b\b\b\b\b\b\b\b\b\b\b\b\b\b\b\b\b\b\b\b\b\b\b\b\b\b\b\b\b\b\b\b\b\b\b\b\b\b\b\b\b\b\b\b\b\b\b\b\r20/20 [==============================] - 6s 295ms/step - loss: 0.0218 - accuracy: 0.8425\n",
            "Epoch 169/200\n",
            "20/20 [==============================] - ETA: 0s - loss: 0.0218 - accuracy: 0.8425"
          ]
        },
        {
          "name": "stderr",
          "output_type": "stream",
          "text": [
            "WARNING:tensorflow:Early stopping conditioned on metric `val_loss` which is not available. Available metrics are: loss,accuracy\n"
          ]
        },
        {
          "name": "stdout",
          "output_type": "stream",
          "text": [
            "\b\b\b\b\b\b\b\b\b\b\b\b\b\b\b\b\b\b\b\b\b\b\b\b\b\b\b\b\b\b\b\b\b\b\b\b\b\b\b\b\b\b\b\b\b\b\b\b\b\b\b\b\b\b\b\b\b\b\b\b\b\b\b\b\b\b\b\b\b\b\b\b\b\b\b\b\b\b\b\b\b\b\r20/20 [==============================] - 4s 214ms/step - loss: 0.0218 - accuracy: 0.8425\n",
            "Epoch 170/200\n",
            "20/20 [==============================] - ETA: 0s - loss: 0.0218 - accuracy: 0.8426"
          ]
        },
        {
          "name": "stderr",
          "output_type": "stream",
          "text": [
            "WARNING:tensorflow:Early stopping conditioned on metric `val_loss` which is not available. Available metrics are: loss,accuracy\n"
          ]
        },
        {
          "name": "stdout",
          "output_type": "stream",
          "text": [
            "\b\b\b\b\b\b\b\b\b\b\b\b\b\b\b\b\b\b\b\b\b\b\b\b\b\b\b\b\b\b\b\b\b\b\b\b\b\b\b\b\b\b\b\b\b\b\b\b\b\b\b\b\b\b\b\b\b\b\b\b\b\b\b\b\b\b\b\b\b\b\b\b\b\b\b\b\b\b\b\b\b\b\r20/20 [==============================] - 4s 215ms/step - loss: 0.0218 - accuracy: 0.8426\n",
            "Epoch 171/200\n",
            "20/20 [==============================] - ETA: 0s - loss: 0.0217 - accuracy: 0.8426"
          ]
        },
        {
          "name": "stderr",
          "output_type": "stream",
          "text": [
            "WARNING:tensorflow:Early stopping conditioned on metric `val_loss` which is not available. Available metrics are: loss,accuracy\n"
          ]
        },
        {
          "name": "stdout",
          "output_type": "stream",
          "text": [
            "\b\b\b\b\b\b\b\b\b\b\b\b\b\b\b\b\b\b\b\b\b\b\b\b\b\b\b\b\b\b\b\b\b\b\b\b\b\b\b\b\b\b\b\b\b\b\b\b\b\b\b\b\b\b\b\b\b\b\b\b\b\b\b\b\b\b\b\b\b\b\b\b\b\b\b\b\b\b\b\b\b\b\r20/20 [==============================] - 6s 285ms/step - loss: 0.0217 - accuracy: 0.8426\n",
            "Epoch 172/200\n",
            "20/20 [==============================] - ETA: 0s - loss: 0.0217 - accuracy: 0.8426"
          ]
        },
        {
          "name": "stderr",
          "output_type": "stream",
          "text": [
            "WARNING:tensorflow:Early stopping conditioned on metric `val_loss` which is not available. Available metrics are: loss,accuracy\n"
          ]
        },
        {
          "name": "stdout",
          "output_type": "stream",
          "text": [
            "\b\b\b\b\b\b\b\b\b\b\b\b\b\b\b\b\b\b\b\b\b\b\b\b\b\b\b\b\b\b\b\b\b\b\b\b\b\b\b\b\b\b\b\b\b\b\b\b\b\b\b\b\b\b\b\b\b\b\b\b\b\b\b\b\b\b\b\b\b\b\b\b\b\b\b\b\b\b\b\b\b\b\r20/20 [==============================] - 4s 212ms/step - loss: 0.0217 - accuracy: 0.8426\n",
            "Epoch 173/200\n",
            "20/20 [==============================] - ETA: 0s - loss: 0.0217 - accuracy: 0.8426"
          ]
        },
        {
          "name": "stderr",
          "output_type": "stream",
          "text": [
            "WARNING:tensorflow:Early stopping conditioned on metric `val_loss` which is not available. Available metrics are: loss,accuracy\n"
          ]
        },
        {
          "name": "stdout",
          "output_type": "stream",
          "text": [
            "\b\b\b\b\b\b\b\b\b\b\b\b\b\b\b\b\b\b\b\b\b\b\b\b\b\b\b\b\b\b\b\b\b\b\b\b\b\b\b\b\b\b\b\b\b\b\b\b\b\b\b\b\b\b\b\b\b\b\b\b\b\b\b\b\b\b\b\b\b\b\b\b\b\b\b\b\b\b\b\b\b\b\r20/20 [==============================] - 4s 216ms/step - loss: 0.0217 - accuracy: 0.8426\n",
            "Epoch 174/200\n",
            "20/20 [==============================] - ETA: 0s - loss: 0.0217 - accuracy: 0.8426"
          ]
        },
        {
          "name": "stderr",
          "output_type": "stream",
          "text": [
            "WARNING:tensorflow:Early stopping conditioned on metric `val_loss` which is not available. Available metrics are: loss,accuracy\n"
          ]
        },
        {
          "name": "stdout",
          "output_type": "stream",
          "text": [
            "\b\b\b\b\b\b\b\b\b\b\b\b\b\b\b\b\b\b\b\b\b\b\b\b\b\b\b\b\b\b\b\b\b\b\b\b\b\b\b\b\b\b\b\b\b\b\b\b\b\b\b\b\b\b\b\b\b\b\b\b\b\b\b\b\b\b\b\b\b\b\b\b\b\b\b\b\b\b\b\b\b\b\r20/20 [==============================] - 6s 289ms/step - loss: 0.0217 - accuracy: 0.8426\n",
            "Epoch 175/200\n",
            "20/20 [==============================] - ETA: 0s - loss: 0.0216 - accuracy: 0.8426"
          ]
        },
        {
          "name": "stderr",
          "output_type": "stream",
          "text": [
            "WARNING:tensorflow:Early stopping conditioned on metric `val_loss` which is not available. Available metrics are: loss,accuracy\n"
          ]
        },
        {
          "name": "stdout",
          "output_type": "stream",
          "text": [
            "\b\b\b\b\b\b\b\b\b\b\b\b\b\b\b\b\b\b\b\b\b\b\b\b\b\b\b\b\b\b\b\b\b\b\b\b\b\b\b\b\b\b\b\b\b\b\b\b\b\b\b\b\b\b\b\b\b\b\b\b\b\b\b\b\b\b\b\b\b\b\b\b\b\b\b\b\b\b\b\b\b\b\r20/20 [==============================] - 4s 211ms/step - loss: 0.0216 - accuracy: 0.8426\n",
            "Epoch 176/200\n",
            "20/20 [==============================] - ETA: 0s - loss: 0.0216 - accuracy: 0.8426"
          ]
        },
        {
          "name": "stderr",
          "output_type": "stream",
          "text": [
            "WARNING:tensorflow:Early stopping conditioned on metric `val_loss` which is not available. Available metrics are: loss,accuracy\n"
          ]
        },
        {
          "name": "stdout",
          "output_type": "stream",
          "text": [
            "\b\b\b\b\b\b\b\b\b\b\b\b\b\b\b\b\b\b\b\b\b\b\b\b\b\b\b\b\b\b\b\b\b\b\b\b\b\b\b\b\b\b\b\b\b\b\b\b\b\b\b\b\b\b\b\b\b\b\b\b\b\b\b\b\b\b\b\b\b\b\b\b\b\b\b\b\b\b\b\b\b\b\r20/20 [==============================] - 4s 214ms/step - loss: 0.0216 - accuracy: 0.8426\n",
            "Epoch 177/200\n",
            "20/20 [==============================] - ETA: 0s - loss: 0.0216 - accuracy: 0.8426"
          ]
        },
        {
          "name": "stderr",
          "output_type": "stream",
          "text": [
            "WARNING:tensorflow:Early stopping conditioned on metric `val_loss` which is not available. Available metrics are: loss,accuracy\n"
          ]
        },
        {
          "name": "stdout",
          "output_type": "stream",
          "text": [
            "\b\b\b\b\b\b\b\b\b\b\b\b\b\b\b\b\b\b\b\b\b\b\b\b\b\b\b\b\b\b\b\b\b\b\b\b\b\b\b\b\b\b\b\b\b\b\b\b\b\b\b\b\b\b\b\b\b\b\b\b\b\b\b\b\b\b\b\b\b\b\b\b\b\b\b\b\b\b\b\b\b\b\r20/20 [==============================] - 6s 288ms/step - loss: 0.0216 - accuracy: 0.8426\n",
            "Epoch 178/200\n",
            "20/20 [==============================] - ETA: 0s - loss: 0.0216 - accuracy: 0.8427"
          ]
        },
        {
          "name": "stderr",
          "output_type": "stream",
          "text": [
            "WARNING:tensorflow:Early stopping conditioned on metric `val_loss` which is not available. Available metrics are: loss,accuracy\n"
          ]
        },
        {
          "name": "stdout",
          "output_type": "stream",
          "text": [
            "\b\b\b\b\b\b\b\b\b\b\b\b\b\b\b\b\b\b\b\b\b\b\b\b\b\b\b\b\b\b\b\b\b\b\b\b\b\b\b\b\b\b\b\b\b\b\b\b\b\b\b\b\b\b\b\b\b\b\b\b\b\b\b\b\b\b\b\b\b\b\b\b\b\b\b\b\b\b\b\b\b\b\r20/20 [==============================] - 4s 213ms/step - loss: 0.0216 - accuracy: 0.8427\n",
            "Epoch 179/200\n",
            "20/20 [==============================] - ETA: 0s - loss: 0.0215 - accuracy: 0.8427"
          ]
        },
        {
          "name": "stderr",
          "output_type": "stream",
          "text": [
            "WARNING:tensorflow:Early stopping conditioned on metric `val_loss` which is not available. Available metrics are: loss,accuracy\n"
          ]
        },
        {
          "name": "stdout",
          "output_type": "stream",
          "text": [
            "\b\b\b\b\b\b\b\b\b\b\b\b\b\b\b\b\b\b\b\b\b\b\b\b\b\b\b\b\b\b\b\b\b\b\b\b\b\b\b\b\b\b\b\b\b\b\b\b\b\b\b\b\b\b\b\b\b\b\b\b\b\b\b\b\b\b\b\b\b\b\b\b\b\b\b\b\b\b\b\b\b\b\r20/20 [==============================] - 5s 226ms/step - loss: 0.0215 - accuracy: 0.8427\n",
            "Epoch 180/200\n",
            "20/20 [==============================] - ETA: 0s - loss: 0.0215 - accuracy: 0.8427"
          ]
        },
        {
          "name": "stderr",
          "output_type": "stream",
          "text": [
            "WARNING:tensorflow:Early stopping conditioned on metric `val_loss` which is not available. Available metrics are: loss,accuracy\n"
          ]
        },
        {
          "name": "stdout",
          "output_type": "stream",
          "text": [
            "\b\b\b\b\b\b\b\b\b\b\b\b\b\b\b\b\b\b\b\b\b\b\b\b\b\b\b\b\b\b\b\b\b\b\b\b\b\b\b\b\b\b\b\b\b\b\b\b\b\b\b\b\b\b\b\b\b\b\b\b\b\b\b\b\b\b\b\b\b\b\b\b\b\b\b\b\b\b\b\b\b\b\r20/20 [==============================] - 6s 289ms/step - loss: 0.0215 - accuracy: 0.8427\n",
            "Epoch 181/200\n",
            "20/20 [==============================] - ETA: 0s - loss: 0.0214 - accuracy: 0.8427"
          ]
        },
        {
          "name": "stderr",
          "output_type": "stream",
          "text": [
            "WARNING:tensorflow:Early stopping conditioned on metric `val_loss` which is not available. Available metrics are: loss,accuracy\n"
          ]
        },
        {
          "name": "stdout",
          "output_type": "stream",
          "text": [
            "\b\b\b\b\b\b\b\b\b\b\b\b\b\b\b\b\b\b\b\b\b\b\b\b\b\b\b\b\b\b\b\b\b\b\b\b\b\b\b\b\b\b\b\b\b\b\b\b\b\b\b\b\b\b\b\b\b\b\b\b\b\b\b\b\b\b\b\b\b\b\b\b\b\b\b\b\b\b\b\b\b\b\r20/20 [==============================] - 4s 219ms/step - loss: 0.0214 - accuracy: 0.8427\n",
            "Epoch 182/200\n",
            "20/20 [==============================] - ETA: 0s - loss: 0.0214 - accuracy: 0.8428"
          ]
        },
        {
          "name": "stderr",
          "output_type": "stream",
          "text": [
            "WARNING:tensorflow:Early stopping conditioned on metric `val_loss` which is not available. Available metrics are: loss,accuracy\n"
          ]
        },
        {
          "name": "stdout",
          "output_type": "stream",
          "text": [
            "\b\b\b\b\b\b\b\b\b\b\b\b\b\b\b\b\b\b\b\b\b\b\b\b\b\b\b\b\b\b\b\b\b\b\b\b\b\b\b\b\b\b\b\b\b\b\b\b\b\b\b\b\b\b\b\b\b\b\b\b\b\b\b\b\b\b\b\b\b\b\b\b\b\b\b\b\b\b\b\b\b\b\r20/20 [==============================] - 5s 243ms/step - loss: 0.0214 - accuracy: 0.8428\n",
            "Epoch 183/200\n",
            "20/20 [==============================] - ETA: 0s - loss: 0.0214 - accuracy: 0.8427"
          ]
        },
        {
          "name": "stderr",
          "output_type": "stream",
          "text": [
            "WARNING:tensorflow:Early stopping conditioned on metric `val_loss` which is not available. Available metrics are: loss,accuracy\n"
          ]
        },
        {
          "name": "stdout",
          "output_type": "stream",
          "text": [
            "\b\b\b\b\b\b\b\b\b\b\b\b\b\b\b\b\b\b\b\b\b\b\b\b\b\b\b\b\b\b\b\b\b\b\b\b\b\b\b\b\b\b\b\b\b\b\b\b\b\b\b\b\b\b\b\b\b\b\b\b\b\b\b\b\b\b\b\b\b\b\b\b\b\b\b\b\b\b\b\b\b\b\r20/20 [==============================] - 5s 246ms/step - loss: 0.0214 - accuracy: 0.8427\n",
            "Epoch 184/200\n",
            "20/20 [==============================] - ETA: 0s - loss: 0.0214 - accuracy: 0.8428"
          ]
        },
        {
          "name": "stderr",
          "output_type": "stream",
          "text": [
            "WARNING:tensorflow:Early stopping conditioned on metric `val_loss` which is not available. Available metrics are: loss,accuracy\n"
          ]
        },
        {
          "name": "stdout",
          "output_type": "stream",
          "text": [
            "\b\b\b\b\b\b\b\b\b\b\b\b\b\b\b\b\b\b\b\b\b\b\b\b\b\b\b\b\b\b\b\b\b\b\b\b\b\b\b\b\b\b\b\b\b\b\b\b\b\b\b\b\b\b\b\b\b\b\b\b\b\b\b\b\b\b\b\b\b\b\b\b\b\b\b\b\b\b\b\b\b\b\r20/20 [==============================] - 4s 214ms/step - loss: 0.0214 - accuracy: 0.8428\n",
            "Epoch 185/200\n",
            "20/20 [==============================] - ETA: 0s - loss: 0.0213 - accuracy: 0.8428"
          ]
        },
        {
          "name": "stderr",
          "output_type": "stream",
          "text": [
            "WARNING:tensorflow:Early stopping conditioned on metric `val_loss` which is not available. Available metrics are: loss,accuracy\n"
          ]
        },
        {
          "name": "stdout",
          "output_type": "stream",
          "text": [
            "\b\b\b\b\b\b\b\b\b\b\b\b\b\b\b\b\b\b\b\b\b\b\b\b\b\b\b\b\b\b\b\b\b\b\b\b\b\b\b\b\b\b\b\b\b\b\b\b\b\b\b\b\b\b\b\b\b\b\b\b\b\b\b\b\b\b\b\b\b\b\b\b\b\b\b\b\b\b\b\b\b\b\r20/20 [==============================] - 5s 273ms/step - loss: 0.0213 - accuracy: 0.8428\n",
            "Epoch 186/200\n",
            "20/20 [==============================] - ETA: 0s - loss: 0.0213 - accuracy: 0.8428"
          ]
        },
        {
          "name": "stderr",
          "output_type": "stream",
          "text": [
            "WARNING:tensorflow:Early stopping conditioned on metric `val_loss` which is not available. Available metrics are: loss,accuracy\n"
          ]
        },
        {
          "name": "stdout",
          "output_type": "stream",
          "text": [
            "\b\b\b\b\b\b\b\b\b\b\b\b\b\b\b\b\b\b\b\b\b\b\b\b\b\b\b\b\b\b\b\b\b\b\b\b\b\b\b\b\b\b\b\b\b\b\b\b\b\b\b\b\b\b\b\b\b\b\b\b\b\b\b\b\b\b\b\b\b\b\b\b\b\b\b\b\b\b\b\b\b\b\r20/20 [==============================] - 5s 237ms/step - loss: 0.0213 - accuracy: 0.8428\n",
            "Epoch 187/200\n",
            "20/20 [==============================] - ETA: 0s - loss: 0.0213 - accuracy: 0.8428"
          ]
        },
        {
          "name": "stderr",
          "output_type": "stream",
          "text": [
            "WARNING:tensorflow:Early stopping conditioned on metric `val_loss` which is not available. Available metrics are: loss,accuracy\n"
          ]
        },
        {
          "name": "stdout",
          "output_type": "stream",
          "text": [
            "\b\b\b\b\b\b\b\b\b\b\b\b\b\b\b\b\b\b\b\b\b\b\b\b\b\b\b\b\b\b\b\b\b\b\b\b\b\b\b\b\b\b\b\b\b\b\b\b\b\b\b\b\b\b\b\b\b\b\b\b\b\b\b\b\b\b\b\b\b\b\b\b\b\b\b\b\b\b\b\b\b\b\r20/20 [==============================] - 4s 214ms/step - loss: 0.0213 - accuracy: 0.8428\n",
            "Epoch 188/200\n",
            "20/20 [==============================] - ETA: 0s - loss: 0.0213 - accuracy: 0.8428"
          ]
        },
        {
          "name": "stderr",
          "output_type": "stream",
          "text": [
            "WARNING:tensorflow:Early stopping conditioned on metric `val_loss` which is not available. Available metrics are: loss,accuracy\n"
          ]
        },
        {
          "name": "stdout",
          "output_type": "stream",
          "text": [
            "\b\b\b\b\b\b\b\b\b\b\b\b\b\b\b\b\b\b\b\b\b\b\b\b\b\b\b\b\b\b\b\b\b\b\b\b\b\b\b\b\b\b\b\b\b\b\b\b\b\b\b\b\b\b\b\b\b\b\b\b\b\b\b\b\b\b\b\b\b\b\b\b\b\b\b\b\b\b\b\b\b\b\r20/20 [==============================] - 5s 262ms/step - loss: 0.0213 - accuracy: 0.8428\n",
            "Epoch 189/200\n",
            "20/20 [==============================] - ETA: 0s - loss: 0.0212 - accuracy: 0.8429"
          ]
        },
        {
          "name": "stderr",
          "output_type": "stream",
          "text": [
            "WARNING:tensorflow:Early stopping conditioned on metric `val_loss` which is not available. Available metrics are: loss,accuracy\n"
          ]
        },
        {
          "name": "stdout",
          "output_type": "stream",
          "text": [
            "\b\b\b\b\b\b\b\b\b\b\b\b\b\b\b\b\b\b\b\b\b\b\b\b\b\b\b\b\b\b\b\b\b\b\b\b\b\b\b\b\b\b\b\b\b\b\b\b\b\b\b\b\b\b\b\b\b\b\b\b\b\b\b\b\b\b\b\b\b\b\b\b\b\b\b\b\b\b\b\b\b\b\r20/20 [==============================] - 5s 229ms/step - loss: 0.0212 - accuracy: 0.8429\n",
            "Epoch 190/200\n",
            "20/20 [==============================] - ETA: 0s - loss: 0.0212 - accuracy: 0.8429"
          ]
        },
        {
          "name": "stderr",
          "output_type": "stream",
          "text": [
            "WARNING:tensorflow:Early stopping conditioned on metric `val_loss` which is not available. Available metrics are: loss,accuracy\n"
          ]
        },
        {
          "name": "stdout",
          "output_type": "stream",
          "text": [
            "\b\b\b\b\b\b\b\b\b\b\b\b\b\b\b\b\b\b\b\b\b\b\b\b\b\b\b\b\b\b\b\b\b\b\b\b\b\b\b\b\b\b\b\b\b\b\b\b\b\b\b\b\b\b\b\b\b\b\b\b\b\b\b\b\b\b\b\b\b\b\b\b\b\b\b\b\b\b\b\b\b\b\r20/20 [==============================] - 5s 230ms/step - loss: 0.0212 - accuracy: 0.8429\n",
            "Epoch 191/200\n",
            "20/20 [==============================] - ETA: 0s - loss: 0.0212 - accuracy: 0.8429"
          ]
        },
        {
          "name": "stderr",
          "output_type": "stream",
          "text": [
            "WARNING:tensorflow:Early stopping conditioned on metric `val_loss` which is not available. Available metrics are: loss,accuracy\n"
          ]
        },
        {
          "name": "stdout",
          "output_type": "stream",
          "text": [
            "\b\b\b\b\b\b\b\b\b\b\b\b\b\b\b\b\b\b\b\b\b\b\b\b\b\b\b\b\b\b\b\b\b\b\b\b\b\b\b\b\b\b\b\b\b\b\b\b\b\b\b\b\b\b\b\b\b\b\b\b\b\b\b\b\b\b\b\b\b\b\b\b\b\b\b\b\b\b\b\b\b\b\r20/20 [==============================] - 6s 291ms/step - loss: 0.0212 - accuracy: 0.8429\n",
            "Epoch 192/200\n",
            "20/20 [==============================] - ETA: 0s - loss: 0.0212 - accuracy: 0.8429"
          ]
        },
        {
          "name": "stderr",
          "output_type": "stream",
          "text": [
            "WARNING:tensorflow:Early stopping conditioned on metric `val_loss` which is not available. Available metrics are: loss,accuracy\n"
          ]
        },
        {
          "name": "stdout",
          "output_type": "stream",
          "text": [
            "\b\b\b\b\b\b\b\b\b\b\b\b\b\b\b\b\b\b\b\b\b\b\b\b\b\b\b\b\b\b\b\b\b\b\b\b\b\b\b\b\b\b\b\b\b\b\b\b\b\b\b\b\b\b\b\b\b\b\b\b\b\b\b\b\b\b\b\b\b\b\b\b\b\b\b\b\b\b\b\b\b\b\r20/20 [==============================] - 4s 217ms/step - loss: 0.0212 - accuracy: 0.8429\n",
            "Epoch 193/200\n",
            "20/20 [==============================] - ETA: 0s - loss: 0.0212 - accuracy: 0.8429"
          ]
        },
        {
          "name": "stderr",
          "output_type": "stream",
          "text": [
            "WARNING:tensorflow:Early stopping conditioned on metric `val_loss` which is not available. Available metrics are: loss,accuracy\n"
          ]
        },
        {
          "name": "stdout",
          "output_type": "stream",
          "text": [
            "\b\b\b\b\b\b\b\b\b\b\b\b\b\b\b\b\b\b\b\b\b\b\b\b\b\b\b\b\b\b\b\b\b\b\b\b\b\b\b\b\b\b\b\b\b\b\b\b\b\b\b\b\b\b\b\b\b\b\b\b\b\b\b\b\b\b\b\b\b\b\b\b\b\b\b\b\b\b\b\b\b\b\r20/20 [==============================] - 4s 220ms/step - loss: 0.0212 - accuracy: 0.8429\n",
            "Epoch 194/200\n",
            "20/20 [==============================] - ETA: 0s - loss: 0.0211 - accuracy: 0.8429"
          ]
        },
        {
          "name": "stderr",
          "output_type": "stream",
          "text": [
            "WARNING:tensorflow:Early stopping conditioned on metric `val_loss` which is not available. Available metrics are: loss,accuracy\n"
          ]
        },
        {
          "name": "stdout",
          "output_type": "stream",
          "text": [
            "\b\b\b\b\b\b\b\b\b\b\b\b\b\b\b\b\b\b\b\b\b\b\b\b\b\b\b\b\b\b\b\b\b\b\b\b\b\b\b\b\b\b\b\b\b\b\b\b\b\b\b\b\b\b\b\b\b\b\b\b\b\b\b\b\b\b\b\b\b\b\b\b\b\b\b\b\b\b\b\b\b\b\r20/20 [==============================] - 6s 289ms/step - loss: 0.0211 - accuracy: 0.8429\n",
            "Epoch 195/200\n",
            "20/20 [==============================] - ETA: 0s - loss: 0.0211 - accuracy: 0.8429"
          ]
        },
        {
          "name": "stderr",
          "output_type": "stream",
          "text": [
            "WARNING:tensorflow:Early stopping conditioned on metric `val_loss` which is not available. Available metrics are: loss,accuracy\n"
          ]
        },
        {
          "name": "stdout",
          "output_type": "stream",
          "text": [
            "\b\b\b\b\b\b\b\b\b\b\b\b\b\b\b\b\b\b\b\b\b\b\b\b\b\b\b\b\b\b\b\b\b\b\b\b\b\b\b\b\b\b\b\b\b\b\b\b\b\b\b\b\b\b\b\b\b\b\b\b\b\b\b\b\b\b\b\b\b\b\b\b\b\b\b\b\b\b\b\b\b\b\r20/20 [==============================] - 4s 212ms/step - loss: 0.0211 - accuracy: 0.8429\n",
            "Epoch 196/200\n",
            "20/20 [==============================] - ETA: 0s - loss: 0.0210 - accuracy: 0.8430"
          ]
        },
        {
          "name": "stderr",
          "output_type": "stream",
          "text": [
            "WARNING:tensorflow:Early stopping conditioned on metric `val_loss` which is not available. Available metrics are: loss,accuracy\n"
          ]
        },
        {
          "name": "stdout",
          "output_type": "stream",
          "text": [
            "\b\b\b\b\b\b\b\b\b\b\b\b\b\b\b\b\b\b\b\b\b\b\b\b\b\b\b\b\b\b\b\b\b\b\b\b\b\b\b\b\b\b\b\b\b\b\b\b\b\b\b\b\b\b\b\b\b\b\b\b\b\b\b\b\b\b\b\b\b\b\b\b\b\b\b\b\b\b\b\b\b\b\r20/20 [==============================] - 4s 217ms/step - loss: 0.0210 - accuracy: 0.8430\n",
            "Epoch 197/200\n",
            "20/20 [==============================] - ETA: 0s - loss: 0.0211 - accuracy: 0.8430"
          ]
        },
        {
          "name": "stderr",
          "output_type": "stream",
          "text": [
            "WARNING:tensorflow:Early stopping conditioned on metric `val_loss` which is not available. Available metrics are: loss,accuracy\n"
          ]
        },
        {
          "name": "stdout",
          "output_type": "stream",
          "text": [
            "\b\b\b\b\b\b\b\b\b\b\b\b\b\b\b\b\b\b\b\b\b\b\b\b\b\b\b\b\b\b\b\b\b\b\b\b\b\b\b\b\b\b\b\b\b\b\b\b\b\b\b\b\b\b\b\b\b\b\b\b\b\b\b\b\b\b\b\b\b\b\b\b\b\b\b\b\b\b\b\b\b\b\r20/20 [==============================] - 6s 292ms/step - loss: 0.0211 - accuracy: 0.8430\n",
            "Epoch 198/200\n",
            "20/20 [==============================] - ETA: 0s - loss: 0.0211 - accuracy: 0.8430"
          ]
        },
        {
          "name": "stderr",
          "output_type": "stream",
          "text": [
            "WARNING:tensorflow:Early stopping conditioned on metric `val_loss` which is not available. Available metrics are: loss,accuracy\n"
          ]
        },
        {
          "name": "stdout",
          "output_type": "stream",
          "text": [
            "\b\b\b\b\b\b\b\b\b\b\b\b\b\b\b\b\b\b\b\b\b\b\b\b\b\b\b\b\b\b\b\b\b\b\b\b\b\b\b\b\b\b\b\b\b\b\b\b\b\b\b\b\b\b\b\b\b\b\b\b\b\b\b\b\b\b\b\b\b\b\b\b\b\b\b\b\b\b\b\b\b\b\r20/20 [==============================] - 4s 215ms/step - loss: 0.0211 - accuracy: 0.8430\n",
            "Epoch 199/200\n",
            "20/20 [==============================] - ETA: 0s - loss: 0.0210 - accuracy: 0.8430"
          ]
        },
        {
          "name": "stderr",
          "output_type": "stream",
          "text": [
            "WARNING:tensorflow:Early stopping conditioned on metric `val_loss` which is not available. Available metrics are: loss,accuracy\n"
          ]
        },
        {
          "name": "stdout",
          "output_type": "stream",
          "text": [
            "\b\b\b\b\b\b\b\b\b\b\b\b\b\b\b\b\b\b\b\b\b\b\b\b\b\b\b\b\b\b\b\b\b\b\b\b\b\b\b\b\b\b\b\b\b\b\b\b\b\b\b\b\b\b\b\b\b\b\b\b\b\b\b\b\b\b\b\b\b\b\b\b\b\b\b\b\b\b\b\b\b\b\r20/20 [==============================] - 4s 213ms/step - loss: 0.0210 - accuracy: 0.8430\n",
            "Epoch 200/200\n",
            "20/20 [==============================] - ETA: 0s - loss: 0.0210 - accuracy: 0.8430"
          ]
        },
        {
          "name": "stderr",
          "output_type": "stream",
          "text": [
            "WARNING:tensorflow:Early stopping conditioned on metric `val_loss` which is not available. Available metrics are: loss,accuracy\n"
          ]
        },
        {
          "name": "stdout",
          "output_type": "stream",
          "text": [
            "\b\b\b\b\b\b\b\b\b\b\b\b\b\b\b\b\b\b\b\b\b\b\b\b\b\b\b\b\b\b\b\b\b\b\b\b\b\b\b\b\b\b\b\b\b\b\b\b\b\b\b\b\b\b\b\b\b\b\b\b\b\b\b\b\b\b\b\b\b\b\b\b\b\b\b\b\b\b\b\b\b\b\r20/20 [==============================] - 6s 285ms/step - loss: 0.0210 - accuracy: 0.8430\n",
            "Done\n",
            " Please wait while AnomalyDetector.h5 has been created \n",
            "Refresh when needed\n"
          ]
        }
      ],
      "source": [
        "from keras.callbacks import ModelCheckpoint, EarlyStopping\n",
        "import numpy as np\n",
        "import argparse\n",
        "from keras.layers import Conv3D,ConvLSTM2D,Conv3DTranspose\n",
        "from keras.models import Sequential\n",
        "\n",
        "\n",
        "\n",
        "def load_model():\n",
        "\n",
        "\tmodel=Sequential()\n",
        "\tmodel.add(Conv3D(filters=128,kernel_size=(11,11,1),strides=(4,4,1),padding='valid',input_shape=(227,227,10,1),activation='tanh'))\n",
        "\tmodel.add(Conv3D(filters=64,kernel_size=(5,5,1),strides=(2,2,1),padding='valid',activation='tanh'))\n",
        "\n",
        "\n",
        "\n",
        "\tmodel.add(ConvLSTM2D(filters=64,kernel_size=(3,3),strides=1,padding='same',dropout=0.4,recurrent_dropout=0.3,return_sequences=True))\n",
        "\n",
        "\n",
        "\tmodel.add(ConvLSTM2D(filters=32,kernel_size=(3,3),strides=1,padding='same',dropout=0.3,return_sequences=True))\n",
        "\n",
        "\n",
        "\tmodel.add(ConvLSTM2D(filters=64,kernel_size=(3,3),strides=1,return_sequences=True, padding='same',dropout=0.5))\n",
        "\n",
        "\n",
        "\n",
        "\n",
        "\tmodel.add(Conv3DTranspose(filters=128,kernel_size=(5,5,1),strides=(2,2,1),padding='valid',activation='tanh'))\n",
        "\tmodel.add(Conv3DTranspose(filters=1,kernel_size=(11,11,1),strides=(4,4,1),padding='valid',activation='tanh'))\n",
        "\n",
        "\tmodel.compile(optimizer='adam',loss='mean_squared_error',metrics=['accuracy'])\n",
        "\n",
        "\treturn model\n",
        "\n",
        "\n",
        "\n",
        "\n",
        "\n",
        "X_train=np.load('trainer.npy')\n",
        "frames=X_train.shape[2]\n",
        "frames=frames-frames%10\n",
        "X_train=X_train[:,:,:frames]\n",
        "X_train=X_train.reshape(-1,227,227,10)\n",
        "X_train=np.expand_dims(X_train,axis=4)\n",
        "Y_train=X_train.copy()\n",
        "epochs=200\n",
        "batch_size=1\n",
        "\n",
        "\n",
        "\n",
        "if __name__==\"__main__\":\n",
        "\n",
        "\tmodel=load_model()\n",
        "\n",
        "\tcallback_save = ModelCheckpoint(\"AnomalyDetector.h5\",\n",
        "\t\t\t\t\t\t\t\t\tmonitor=\"mean_squared_error\")\n",
        "\n",
        "\tcallback_early_stopping = EarlyStopping(monitor='val_loss', patience=3)\n",
        "\n",
        "\tprint('Trainer has been loaded')\n",
        "\tmodel.fit(X_train,Y_train,\n",
        "\t\t\t  batch_size=batch_size,\n",
        "\t\t\t  epochs=epochs,\n",
        "\t\t\t  callbacks = [callback_save,callback_early_stopping]\n",
        "\t\t\t  )\n",
        "print('Done\\n Please wait while AnomalyDetector.h5 has been created \\nRefresh when needed')\n"
      ]
    },
    {
      "cell_type": "code",
      "execution_count": null,
      "metadata": {
        "colab": {
          "base_uri": "https://localhost:8080/"
        },
        "id": "QPT63tofkMEy",
        "outputId": "64514649-81d3-49c8-a15e-325f5c25b7c9"
      },
      "outputs": [
        {
          "name": "stdout",
          "output_type": "stream",
          "text": [
            "\u001b[1;30;43mStreaming output truncated to the last 5000 lines.\u001b[0m\n",
            "\n",
            "Video number:  11\n",
            "Video: 141.bmp\n",
            "Number of images: 1 \n",
            "----------\n",
            "\n",
            "Video number:  12\n",
            "Video: 064.bmp\n",
            "Number of images: 1 \n",
            "----------\n",
            "\n",
            "Video number:  13\n",
            "Video: 140.bmp\n",
            "Number of images: 1 \n",
            "----------\n",
            "\n",
            "Video number:  14\n",
            "Video: 023.bmp\n",
            "Number of images: 1 \n",
            "----------\n",
            "\n",
            "Video number:  15\n",
            "Video: 164.bmp\n",
            "Number of images: 1 \n",
            "----------\n",
            "\n",
            "Video number:  16\n",
            "Video: 056.bmp\n",
            "Number of images: 1 \n",
            "----------\n",
            "\n",
            "Video number:  17\n",
            "Video: 112.bmp\n",
            "Number of images: 1 \n",
            "----------\n",
            "\n",
            "Video number:  18\n",
            "Video: 153.bmp\n",
            "Number of images: 1 \n",
            "----------\n",
            "\n",
            "Video number:  19\n",
            "Video: 116.bmp\n",
            "Number of images: 1 \n",
            "----------\n",
            "\n",
            "Video number:  20\n",
            "Video: 157.bmp\n",
            "Number of images: 1 \n",
            "----------\n",
            "\n",
            "Video number:  21\n",
            "Video: 114.bmp\n",
            "Number of images: 1 \n",
            "----------\n",
            "\n",
            "Video number:  22\n",
            "Video: 063.bmp\n",
            "Number of images: 1 \n",
            "----------\n",
            "\n",
            "Video number:  23\n",
            "Video: 145.bmp\n",
            "Number of images: 1 \n",
            "----------\n",
            "\n",
            "Video number:  24\n",
            "Video: 084.bmp\n",
            "Number of images: 1 \n",
            "----------\n",
            "\n",
            "Video number:  25\n",
            "Video: 058.bmp\n",
            "Number of images: 1 \n",
            "----------\n",
            "\n",
            "Video number:  26\n",
            "Video: 129.bmp\n",
            "Number of images: 1 \n",
            "----------\n",
            "\n",
            "Video number:  27\n",
            "Video: 073.bmp\n",
            "Number of images: 1 \n",
            "----------\n",
            "\n",
            "Video number:  28\n",
            "Video: 147.bmp\n",
            "Number of images: 1 \n",
            "----------\n",
            "\n",
            "Video number:  29\n",
            "Video: 172.bmp\n",
            "Number of images: 1 \n",
            "----------\n",
            "\n",
            "Video number:  30\n",
            "Video: 128.bmp\n",
            "Number of images: 1 \n",
            "----------\n",
            "\n",
            "Video number:  31\n",
            "Video: 120.bmp\n",
            "Number of images: 1 \n",
            "----------\n",
            "\n",
            "Video number:  32\n",
            "Video: 055.bmp\n",
            "Number of images: 1 \n",
            "----------\n",
            "\n",
            "Video number:  33\n",
            "Video: 196.bmp\n",
            "Number of images: 1 \n",
            "----------\n",
            "\n",
            "Video number:  34\n",
            "Video: 185.bmp\n",
            "Number of images: 1 \n",
            "----------\n",
            "\n",
            "Video number:  35\n",
            "Video: 079.bmp\n",
            "Number of images: 1 \n",
            "----------\n",
            "\n",
            "Video number:  36\n",
            "Video: 053.bmp\n",
            "Number of images: 1 \n",
            "----------\n",
            "\n",
            "Video number:  37\n",
            "Video: 088.bmp\n",
            "Number of images: 1 \n",
            "----------\n",
            "\n",
            "Video number:  38\n",
            "Video: 109.bmp\n",
            "Number of images: 1 \n",
            "----------\n",
            "\n",
            "Video number:  39\n",
            "Video: 038.bmp\n",
            "Number of images: 1 \n",
            "----------\n",
            "\n",
            "Video number:  40\n",
            "Video: 123.bmp\n",
            "Number of images: 1 \n",
            "----------\n",
            "\n",
            "Video number:  41\n",
            "Video: 087.bmp\n",
            "Number of images: 1 \n",
            "----------\n",
            "\n",
            "Video number:  42\n",
            "Video: 173.bmp\n",
            "Number of images: 1 \n",
            "----------\n",
            "\n",
            "Video number:  43\n",
            "Video: 098.bmp\n",
            "Number of images: 1 \n",
            "----------\n",
            "\n",
            "Video number:  44\n",
            "Video: 057.bmp\n",
            "Number of images: 1 \n",
            "----------\n",
            "\n",
            "Video number:  45\n",
            "Video: 146.bmp\n",
            "Number of images: 1 \n",
            "----------\n",
            "\n",
            "Video number:  46\n",
            "Video: 077.bmp\n",
            "Number of images: 1 \n",
            "----------\n",
            "\n",
            "Video number:  47\n",
            "Video: 135.bmp\n",
            "Number of images: 1 \n",
            "----------\n",
            "\n",
            "Video number:  48\n",
            "Video: 005.bmp\n",
            "Number of images: 1 \n",
            "----------\n",
            "\n",
            "Video number:  49\n",
            "Video: 136.bmp\n",
            "Number of images: 1 \n",
            "----------\n",
            "\n",
            "Video number:  50\n",
            "Video: 095.bmp\n",
            "Number of images: 1 \n",
            "----------\n",
            "\n",
            "Video number:  51\n",
            "Video: 097.bmp\n",
            "Number of images: 1 \n",
            "----------\n",
            "\n",
            "Video number:  52\n",
            "Video: 150.bmp\n",
            "Number of images: 1 \n",
            "----------\n",
            "\n",
            "Video number:  53\n",
            "Video: 039.bmp\n",
            "Number of images: 1 \n",
            "----------\n",
            "\n",
            "Video number:  54\n",
            "Video: 119.bmp\n",
            "Number of images: 1 \n",
            "----------\n",
            "\n",
            "Video number:  55\n",
            "Video: 054.bmp\n",
            "Number of images: 1 \n",
            "----------\n",
            "\n",
            "Video number:  56\n",
            "Video: 019.bmp\n",
            "Number of images: 1 \n",
            "----------\n",
            "\n",
            "Video number:  57\n",
            "Video: 142.bmp\n",
            "Number of images: 1 \n",
            "----------\n",
            "\n",
            "Video number:  58\n",
            "Video: 134.bmp\n",
            "Number of images: 1 \n",
            "----------\n",
            "\n",
            "Video number:  59\n",
            "Video: 045.bmp\n",
            "Number of images: 1 \n",
            "----------\n",
            "\n",
            "Video number:  60\n",
            "Video: 001.bmp\n",
            "Number of images: 1 \n",
            "----------\n",
            "\n",
            "Video number:  61\n",
            "Video: 132.bmp\n",
            "Number of images: 1 \n",
            "----------\n",
            "\n",
            "Video number:  62\n",
            "Video: 016.bmp\n",
            "Number of images: 1 \n",
            "----------\n",
            "\n",
            "Video number:  63\n",
            "Video: 082.bmp\n",
            "Number of images: 1 \n",
            "----------\n",
            "\n",
            "Video number:  64\n",
            "Video: 187.bmp\n",
            "Number of images: 1 \n",
            "----------\n",
            "\n",
            "Video number:  65\n",
            "Video: 036.bmp\n",
            "Number of images: 1 \n",
            "----------\n",
            "\n",
            "Video number:  66\n",
            "Video: 125.bmp\n",
            "Number of images: 1 \n",
            "----------\n",
            "\n",
            "Video number:  67\n",
            "Video: 026.bmp\n",
            "Number of images: 1 \n",
            "----------\n",
            "\n",
            "Video number:  68\n",
            "Video: 065.bmp\n",
            "Number of images: 1 \n",
            "----------\n",
            "\n",
            "Video number:  69\n",
            "Video: 179.bmp\n",
            "Number of images: 1 \n",
            "----------\n",
            "\n",
            "Video number:  70\n",
            "Video: 011.bmp\n",
            "Number of images: 1 \n",
            "----------\n",
            "\n",
            "Video number:  71\n",
            "Video: 021.bmp\n",
            "Number of images: 1 \n",
            "----------\n",
            "\n",
            "Video number:  72\n",
            "Video: 043.bmp\n",
            "Number of images: 1 \n",
            "----------\n",
            "\n",
            "Video number:  73\n",
            "Video: 027.bmp\n",
            "Number of images: 1 \n",
            "----------\n",
            "\n",
            "Video number:  74\n",
            "Video: 193.bmp\n",
            "Number of images: 1 \n",
            "----------\n",
            "\n",
            "Video number:  75\n",
            "Video: 072.bmp\n",
            "Number of images: 1 \n",
            "----------\n",
            "\n",
            "Video number:  76\n",
            "Video: 100.bmp\n",
            "Number of images: 1 \n",
            "----------\n",
            "\n",
            "Video number:  77\n",
            "Video: 003.bmp\n",
            "Number of images: 1 \n",
            "----------\n",
            "\n",
            "Video number:  78\n",
            "Video: 061.bmp\n",
            "Number of images: 1 \n",
            "----------\n",
            "\n",
            "Video number:  79\n",
            "Video: 030.bmp\n",
            "Number of images: 1 \n",
            "----------\n",
            "\n",
            "Video number:  80\n",
            "Video: 111.bmp\n",
            "Number of images: 1 \n",
            "----------\n",
            "\n",
            "Video number:  81\n",
            "Video: 051.bmp\n",
            "Number of images: 1 \n",
            "----------\n",
            "\n",
            "Video number:  82\n",
            "Video: 089.bmp\n",
            "Number of images: 1 \n",
            "----------\n",
            "\n",
            "Video number:  83\n",
            "Video: 178.bmp\n",
            "Number of images: 1 \n",
            "----------\n",
            "\n",
            "Video number:  84\n",
            "Video: 124.bmp\n",
            "Number of images: 1 \n",
            "----------\n",
            "\n",
            "Video number:  85\n",
            "Video: 138.bmp\n",
            "Number of images: 1 \n",
            "----------\n",
            "\n",
            "Video number:  86\n",
            "Video: 013.bmp\n",
            "Number of images: 1 \n",
            "----------\n",
            "\n",
            "Video number:  87\n",
            "Video: 083.bmp\n",
            "Number of images: 1 \n",
            "----------\n",
            "\n",
            "Video number:  88\n",
            "Video: 048.bmp\n",
            "Number of images: 1 \n",
            "----------\n",
            "\n",
            "Video number:  89\n",
            "Video: 092.bmp\n",
            "Number of images: 1 \n",
            "----------\n",
            "\n",
            "Video number:  90\n",
            "Video: 182.bmp\n",
            "Number of images: 1 \n",
            "----------\n",
            "\n",
            "Video number:  91\n",
            "Video: 049.bmp\n",
            "Number of images: 1 \n",
            "----------\n",
            "\n",
            "Video number:  92\n",
            "Video: 066.bmp\n",
            "Number of images: 1 \n",
            "----------\n",
            "\n",
            "Video number:  93\n",
            "Video: 139.bmp\n",
            "Number of images: 1 \n",
            "----------\n",
            "\n",
            "Video number:  94\n",
            "Video: 159.bmp\n",
            "Number of images: 1 \n",
            "----------\n",
            "\n",
            "Video number:  95\n",
            "Video: 002.bmp\n",
            "Number of images: 1 \n",
            "----------\n",
            "\n",
            "Video number:  96\n",
            "Video: 060.bmp\n",
            "Number of images: 1 \n",
            "----------\n",
            "\n",
            "Video number:  97\n",
            "Video: 170.bmp\n",
            "Number of images: 1 \n",
            "----------\n",
            "\n",
            "Video number:  98\n",
            "Video: 176.bmp\n",
            "Number of images: 1 \n",
            "----------\n",
            "\n",
            "Video number:  99\n",
            "Video: 165.bmp\n",
            "Number of images: 1 \n",
            "----------\n",
            "\n",
            "Video number:  100\n",
            "Video: 189.bmp\n",
            "Number of images: 1 \n",
            "----------\n",
            "\n",
            "Video number:  101\n",
            "Video: 085.bmp\n",
            "Number of images: 1 \n",
            "----------\n",
            "\n",
            "Video number:  102\n",
            "Video: 067.bmp\n",
            "Number of images: 1 \n",
            "----------\n",
            "\n",
            "Video number:  103\n",
            "Video: 127.bmp\n",
            "Number of images: 1 \n",
            "----------\n",
            "\n",
            "Video number:  104\n",
            "Video: 131.bmp\n",
            "Number of images: 1 \n",
            "----------\n",
            "\n",
            "Video number:  105\n",
            "Video: 012.bmp\n",
            "Number of images: 1 \n",
            "----------\n",
            "\n",
            "Video number:  106\n",
            "Video: 163.bmp\n",
            "Number of images: 1 \n",
            "----------\n",
            "\n",
            "Video number:  107\n",
            "Video: 171.bmp\n",
            "Number of images: 1 \n",
            "----------\n",
            "\n",
            "Video number:  108\n",
            "Video: 148.bmp\n",
            "Number of images: 1 \n",
            "----------\n",
            "\n",
            "Video number:  109\n",
            "Video: 144.bmp\n",
            "Number of images: 1 \n",
            "----------\n",
            "\n",
            "Video number:  110\n",
            "Video: 015.bmp\n",
            "Number of images: 1 \n",
            "----------\n",
            "\n",
            "Video number:  111\n",
            "Video: 160.bmp\n",
            "Number of images: 1 \n",
            "----------\n",
            "\n",
            "Video number:  112\n",
            "Video: 009.bmp\n",
            "Number of images: 1 \n",
            "----------\n",
            "\n",
            "Video number:  113\n",
            "Video: 152.bmp\n",
            "Number of images: 1 \n",
            "----------\n",
            "\n",
            "Video number:  114\n",
            "Video: 195.bmp\n",
            "Number of images: 1 \n",
            "----------\n",
            "\n",
            "Video number:  115\n",
            "Video: 102.bmp\n",
            "Number of images: 1 \n",
            "----------\n",
            "\n",
            "Video number:  116\n",
            "Video: 184.bmp\n",
            "Number of images: 1 \n",
            "----------\n",
            "\n",
            "Video number:  117\n",
            "Video: 143.bmp\n",
            "Number of images: 1 \n",
            "----------\n",
            "\n",
            "Video number:  118\n",
            "Video: 174.bmp\n",
            "Number of images: 1 \n",
            "----------\n",
            "\n",
            "Video number:  119\n",
            "Video: 158.bmp\n",
            "Number of images: 1 \n",
            "----------\n",
            "\n",
            "Video number:  120\n",
            "Video: 078.bmp\n",
            "Number of images: 1 \n",
            "----------\n",
            "\n",
            "Video number:  121\n",
            "Video: 017.bmp\n",
            "Number of images: 1 \n",
            "----------\n",
            "\n",
            "Video number:  122\n",
            "Video: 181.bmp\n",
            "Number of images: 1 \n",
            "----------\n",
            "\n",
            "Video number:  123\n",
            "Video: 044.bmp\n",
            "Number of images: 1 \n",
            "----------\n",
            "\n",
            "Video number:  124\n",
            "Video: 074.bmp\n",
            "Number of images: 1 \n",
            "----------\n",
            "\n",
            "Video number:  125\n",
            "Video: 115.bmp\n",
            "Number of images: 1 \n",
            "----------\n",
            "\n",
            "Video number:  126\n",
            "Video: 062.bmp\n",
            "Number of images: 1 \n",
            "----------\n",
            "\n",
            "Video number:  127\n",
            "Video: 086.bmp\n",
            "Number of images: 1 \n",
            "----------\n",
            "\n",
            "Video number:  128\n",
            "Video: ._.DS_Store\n",
            "Number of images: 1 \n",
            "----------\n",
            "\n",
            "Video number:  129\n",
            "Video: 149.bmp\n",
            "Number of images: 1 \n",
            "----------\n",
            "\n",
            "Video number:  130\n",
            "Video: 126.bmp\n",
            "Number of images: 1 \n",
            "----------\n",
            "\n",
            "Video number:  131\n",
            "Video: 007.bmp\n",
            "Number of images: 1 \n",
            "----------\n",
            "\n",
            "Video number:  132\n",
            "Video: 191.bmp\n",
            "Number of images: 1 \n",
            "----------\n",
            "\n",
            "Video number:  133\n",
            "Video: 006.bmp\n",
            "Number of images: 1 \n",
            "----------\n",
            "\n",
            "Video number:  134\n",
            "Video: 094.bmp\n",
            "Number of images: 1 \n",
            "----------\n",
            "\n",
            "Video number:  135\n",
            "Video: 175.bmp\n",
            "Number of images: 1 \n",
            "----------\n",
            "\n",
            "Video number:  136\n",
            "Video: 093.bmp\n",
            "Number of images: 1 \n",
            "----------\n",
            "\n",
            "Video number:  137\n",
            "Video: 070.bmp\n",
            "Number of images: 1 \n",
            "----------\n",
            "\n",
            "Video number:  138\n",
            "Video: 020.bmp\n",
            "Number of images: 1 \n",
            "----------\n",
            "\n",
            "Video number:  139\n",
            "Video: 200.bmp\n",
            "Number of images: 1 \n",
            "----------\n",
            "\n",
            "Video number:  140\n",
            "Video: 180.bmp\n",
            "Number of images: 1 \n",
            "----------\n",
            "\n",
            "Video number:  141\n",
            "Video: 108.bmp\n",
            "Number of images: 1 \n",
            "----------\n",
            "\n",
            "Video number:  142\n",
            "Video: 197.bmp\n",
            "Number of images: 1 \n",
            "----------\n",
            "\n",
            "Video number:  143\n",
            "Video: 076.bmp\n",
            "Number of images: 1 \n",
            "----------\n",
            "\n",
            "Video number:  144\n",
            "Video: 059.bmp\n",
            "Number of images: 1 \n",
            "----------\n",
            "\n",
            "Video number:  145\n",
            "Video: 183.bmp\n",
            "Number of images: 1 \n",
            "----------\n",
            "\n",
            "Video number:  146\n",
            "Video: 022.bmp\n",
            "Number of images: 1 \n",
            "----------\n",
            "\n",
            "Video number:  147\n",
            "Video: 069.bmp\n",
            "Number of images: 1 \n",
            "----------\n",
            "\n",
            "Video number:  148\n",
            "Video: 192.bmp\n",
            "Number of images: 1 \n",
            "----------\n",
            "\n",
            "Video number:  149\n",
            "Video: 047.bmp\n",
            "Number of images: 1 \n",
            "----------\n",
            "\n",
            "Video number:  150\n",
            "Video: 050.bmp\n",
            "Number of images: 1 \n",
            "----------\n",
            "\n",
            "Video number:  151\n",
            "Video: 110.bmp\n",
            "Number of images: 1 \n",
            "----------\n",
            "\n",
            "Video number:  152\n",
            "Video: 188.bmp\n",
            "Number of images: 1 \n",
            "----------\n",
            "\n",
            "Video number:  153\n",
            "Video: 046.bmp\n",
            "Number of images: 1 \n",
            "----------\n",
            "\n",
            "Video number:  154\n",
            "Video: 008.bmp\n",
            "Number of images: 1 \n",
            "----------\n",
            "\n",
            "Video number:  155\n",
            "Video: 096.bmp\n",
            "Number of images: 1 \n",
            "----------\n",
            "\n",
            "Video number:  156\n",
            "Video: 090.bmp\n",
            "Number of images: 1 \n",
            "----------\n",
            "\n",
            "Video number:  157\n",
            "Video: 167.bmp\n",
            "Number of images: 1 \n",
            "----------\n",
            "\n",
            "Video number:  158\n",
            "Video: 024.bmp\n",
            "Number of images: 1 \n",
            "----------\n",
            "\n",
            "Video number:  159\n",
            "Video: 122.bmp\n",
            "Number of images: 1 \n",
            "----------\n",
            "\n",
            "Video number:  160\n",
            "Video: 041.bmp\n",
            "Number of images: 1 \n",
            "----------\n",
            "\n",
            "Video number:  161\n",
            "Video: 032.bmp\n",
            "Number of images: 1 \n",
            "----------\n",
            "\n",
            "Video number:  162\n",
            "Video: 101.bmp\n",
            "Number of images: 1 \n",
            "----------\n",
            "\n",
            "Video number:  163\n",
            "Video: 080.bmp\n",
            "Number of images: 1 \n",
            "----------\n",
            "\n",
            "Video number:  164\n",
            "Video: 106.bmp\n",
            "Number of images: 1 \n",
            "----------\n",
            "\n",
            "Video number:  165\n",
            "Video: 034.bmp\n",
            "Number of images: 1 \n",
            "----------\n",
            "\n",
            "Video number:  166\n",
            "Video: 166.bmp\n",
            "Number of images: 1 \n",
            "----------\n",
            "\n",
            "Video number:  167\n",
            "Video: 025.bmp\n",
            "Number of images: 1 \n",
            "----------\n",
            "\n",
            "Video number:  168\n",
            "Video: 199.bmp\n",
            "Number of images: 1 \n",
            "----------\n",
            "\n",
            "Video number:  169\n",
            "Video: 151.bmp\n",
            "Number of images: 1 \n",
            "----------\n",
            "\n",
            "Video number:  170\n",
            "Video: 004.bmp\n",
            "Number of images: 1 \n",
            "----------\n",
            "\n",
            "Video number:  171\n",
            "Video: 117.bmp\n",
            "Number of images: 1 \n",
            "----------\n",
            "\n",
            "Video number:  172\n",
            "Video: 018.bmp\n",
            "Number of images: 1 \n",
            "----------\n",
            "\n",
            "Video number:  173\n",
            "Video: 137.bmp\n",
            "Number of images: 1 \n",
            "----------\n",
            "\n",
            "Video number:  174\n",
            "Video: 071.bmp\n",
            "Number of images: 1 \n",
            "----------\n",
            "\n",
            "Video number:  175\n",
            "Video: 168.bmp\n",
            "Number of images: 1 \n",
            "----------\n",
            "\n",
            "Video number:  176\n",
            "Video: 161.bmp\n",
            "Number of images: 1 \n",
            "----------\n",
            "\n",
            "Video number:  177\n",
            "Video: 154.bmp\n",
            "Number of images: 1 \n",
            "----------\n",
            "\n",
            "Video number:  178\n",
            "Video: 028.bmp\n",
            "Number of images: 1 \n",
            "----------\n",
            "\n",
            "Video number:  179\n",
            "Video: 033.bmp\n",
            "Number of images: 1 \n",
            "----------\n",
            "\n",
            "Video number:  180\n",
            "Video: 103.bmp\n",
            "Number of images: 1 \n",
            "----------\n",
            "\n",
            "Video number:  181\n",
            "Video: 113.bmp\n",
            "Number of images: 1 \n",
            "----------\n",
            "\n",
            "Video number:  182\n",
            "Video: 118.bmp\n",
            "Number of images: 1 \n",
            "----------\n",
            "\n",
            "Video number:  183\n",
            "Video: 035.bmp\n",
            "Number of images: 1 \n",
            "----------\n",
            "\n",
            "Video number:  184\n",
            "Video: 107.bmp\n",
            "Number of images: 1 \n",
            "----------\n",
            "\n",
            "Video number:  185\n",
            "Video: 105.bmp\n",
            "Number of images: 1 \n",
            "----------\n",
            "\n",
            "Video number:  186\n",
            "Video: 121.bmp\n",
            "Number of images: 1 \n",
            "----------\n",
            "\n",
            "Video number:  187\n",
            "Video: 042.bmp\n",
            "Number of images: 1 \n",
            "----------\n",
            "\n",
            "Video number:  188\n",
            "Video: 194.bmp\n",
            "Number of images: 1 \n",
            "----------\n",
            "\n",
            "Video number:  189\n",
            "Video: .DS_Store\n",
            "Number of images: 1 \n",
            "----------\n",
            "\n",
            "Video number:  190\n",
            "Video: 104.bmp\n",
            "Number of images: 1 \n",
            "----------\n",
            "\n",
            "Video number:  191\n",
            "Video: 029.bmp\n",
            "Number of images: 1 \n",
            "----------\n",
            "\n",
            "Video number:  192\n",
            "Video: 091.bmp\n",
            "Number of images: 1 \n",
            "----------\n",
            "\n",
            "Video number:  193\n",
            "Video: 162.bmp\n",
            "Number of images: 1 \n",
            "----------\n",
            "\n",
            "Video number:  194\n",
            "Video: 052.bmp\n",
            "Number of images: 1 \n",
            "----------\n",
            "\n",
            "Video number:  195\n",
            "Video: 169.bmp\n",
            "Number of images: 1 \n",
            "----------\n",
            "\n",
            "Video number:  196\n",
            "Video: 186.bmp\n",
            "Number of images: 1 \n",
            "----------\n",
            "\n",
            "Video number:  197\n",
            "Video: 075.bmp\n",
            "Number of images: 1 \n",
            "----------\n",
            "\n",
            "Video number:  198\n",
            "Video: 068.bmp\n",
            "Number of images: 1 \n",
            "----------\n",
            "\n",
            "Video number:  199\n",
            "Video: 133.bmp\n",
            "Number of images: 1 \n",
            "----------\n",
            "\n",
            "Video number:  200\n",
            "Video: 014.bmp\n",
            "Number of images: 1 \n",
            "----------\n",
            "\n",
            "Video number:  201\n",
            "Video: 198.bmp\n",
            "Number of images: 1 \n",
            "----------\n",
            "\n",
            "Video number:  202\n",
            "Video: 156.bmp\n",
            "Number of images: 1 \n",
            "----------\n",
            "\n",
            "Program ended. All testing videos shall be stored in tester.npy \n",
            " Please wait while tester.npy is created. \n",
            "Refresh when needed\n",
            "Number of frames created : 202\n",
            "Number of bunches= 202 /10 =  20\n",
            "\n",
            "Corrupted and unreadable bunches were ignored\n",
            "Found  200  testing videos\n",
            "Video number:  1\n",
            "Video: 139.tif\n",
            "Number of images: 1 \n",
            "----------\n",
            "\n",
            "Video number:  2\n",
            "Video: 051.tif\n",
            "Number of images: 1 \n",
            "----------\n",
            "\n",
            "Video number:  3\n",
            "Video: 166.tif\n",
            "Number of images: 1 \n",
            "----------\n",
            "\n",
            "Video number:  4\n",
            "Video: 136.tif\n",
            "Number of images: 1 \n",
            "----------\n",
            "\n",
            "Video number:  5\n",
            "Video: 178.tif\n",
            "Number of images: 1 \n",
            "----------\n",
            "\n",
            "Video number:  6\n",
            "Video: 043.tif\n",
            "Number of images: 1 \n",
            "----------\n",
            "\n",
            "Video number:  7\n",
            "Video: 167.tif\n",
            "Number of images: 1 \n",
            "----------\n",
            "\n",
            "Video number:  8\n",
            "Video: 004.tif\n",
            "Number of images: 1 \n",
            "----------\n",
            "\n",
            "Video number:  9\n",
            "Video: 171.tif\n",
            "Number of images: 1 \n",
            "----------\n",
            "\n",
            "Video number:  10\n",
            "Video: 157.tif\n",
            "Number of images: 1 \n",
            "----------\n",
            "\n",
            "Video number:  11\n",
            "Video: 119.tif\n",
            "Number of images: 1 \n",
            "----------\n",
            "\n",
            "Video number:  12\n",
            "Video: 141.tif\n",
            "Number of images: 1 \n",
            "----------\n",
            "\n",
            "Video number:  13\n",
            "Video: 113.tif\n",
            "Number of images: 1 \n",
            "----------\n",
            "\n",
            "Video number:  14\n",
            "Video: 162.tif\n",
            "Number of images: 1 \n",
            "----------\n",
            "\n",
            "Video number:  15\n",
            "Video: 175.tif\n",
            "Number of images: 1 \n",
            "----------\n",
            "\n",
            "Video number:  16\n",
            "Video: 135.tif\n",
            "Number of images: 1 \n",
            "----------\n",
            "\n",
            "Video number:  17\n",
            "Video: 003.tif\n",
            "Number of images: 1 \n",
            "----------\n",
            "\n",
            "Video number:  18\n",
            "Video: 193.tif\n",
            "Number of images: 1 \n",
            "----------\n",
            "\n",
            "Video number:  19\n",
            "Video: 146.tif\n",
            "Number of images: 1 \n",
            "----------\n",
            "\n",
            "Video number:  20\n",
            "Video: 010.tif\n",
            "Number of images: 1 \n",
            "----------\n",
            "\n",
            "Video number:  21\n",
            "Video: 077.tif\n",
            "Number of images: 1 \n",
            "----------\n",
            "\n",
            "Video number:  22\n",
            "Video: 127.tif\n",
            "Number of images: 1 \n",
            "----------\n",
            "\n",
            "Video number:  23\n",
            "Video: 144.tif\n",
            "Number of images: 1 \n",
            "----------\n",
            "\n",
            "Video number:  24\n",
            "Video: 092.tif\n",
            "Number of images: 1 \n",
            "----------\n",
            "\n",
            "Video number:  25\n",
            "Video: 107.tif\n",
            "Number of images: 1 \n",
            "----------\n",
            "\n",
            "Video number:  26\n",
            "Video: 124.tif\n",
            "Number of images: 1 \n",
            "----------\n",
            "\n",
            "Video number:  27\n",
            "Video: 159.tif\n",
            "Number of images: 1 \n",
            "----------\n",
            "\n",
            "Video number:  28\n",
            "Video: 170.tif\n",
            "Number of images: 1 \n",
            "----------\n",
            "\n",
            "Video number:  29\n",
            "Video: 035.tif\n",
            "Number of images: 1 \n",
            "----------\n",
            "\n",
            "Video number:  30\n",
            "Video: 046.tif\n",
            "Number of images: 1 \n",
            "----------\n",
            "\n",
            "Video number:  31\n",
            "Video: 066.tif\n",
            "Number of images: 1 \n",
            "----------\n",
            "\n",
            "Video number:  32\n",
            "Video: 087.tif\n",
            "Number of images: 1 \n",
            "----------\n",
            "\n",
            "Video number:  33\n",
            "Video: 191.tif\n",
            "Number of images: 1 \n",
            "----------\n",
            "\n",
            "Video number:  34\n",
            "Video: 172.tif\n",
            "Number of images: 1 \n",
            "----------\n",
            "\n",
            "Video number:  35\n",
            "Video: 137.tif\n",
            "Number of images: 1 \n",
            "----------\n",
            "\n",
            "Video number:  36\n",
            "Video: 062.tif\n",
            "Number of images: 1 \n",
            "----------\n",
            "\n",
            "Video number:  37\n",
            "Video: 110.tif\n",
            "Number of images: 1 \n",
            "----------\n",
            "\n",
            "Video number:  38\n",
            "Video: 163.tif\n",
            "Number of images: 1 \n",
            "----------\n",
            "\n",
            "Video number:  39\n",
            "Video: 021.tif\n",
            "Number of images: 1 \n",
            "----------\n",
            "\n",
            "Video number:  40\n",
            "Video: 008.tif\n",
            "Number of images: 1 \n",
            "----------\n",
            "\n",
            "Video number:  41\n",
            "Video: 098.tif\n",
            "Number of images: 1 \n",
            "----------\n",
            "\n",
            "Video number:  42\n",
            "Video: 011.tif\n",
            "Number of images: 1 \n",
            "----------\n",
            "\n",
            "Video number:  43\n",
            "Video: 108.tif\n",
            "Number of images: 1 \n",
            "----------\n",
            "\n",
            "Video number:  44\n",
            "Video: 081.tif\n",
            "Number of images: 1 \n",
            "----------\n",
            "\n",
            "Video number:  45\n",
            "Video: 125.tif\n",
            "Number of images: 1 \n",
            "----------\n",
            "\n",
            "Video number:  46\n",
            "Video: 067.tif\n",
            "Number of images: 1 \n",
            "----------\n",
            "\n",
            "Video number:  47\n",
            "Video: 029.tif\n",
            "Number of images: 1 \n",
            "----------\n",
            "\n",
            "Video number:  48\n",
            "Video: 031.tif\n",
            "Number of images: 1 \n",
            "----------\n",
            "\n",
            "Video number:  49\n",
            "Video: 199.tif\n",
            "Number of images: 1 \n",
            "----------\n",
            "\n",
            "Video number:  50\n",
            "Video: 140.tif\n",
            "Number of images: 1 \n",
            "----------\n",
            "\n",
            "Video number:  51\n",
            "Video: 114.tif\n",
            "Number of images: 1 \n",
            "----------\n",
            "\n",
            "Video number:  52\n",
            "Video: 041.tif\n",
            "Number of images: 1 \n",
            "----------\n",
            "\n",
            "Video number:  53\n",
            "Video: 196.tif\n",
            "Number of images: 1 \n",
            "----------\n",
            "\n",
            "Video number:  54\n",
            "Video: 095.tif\n",
            "Number of images: 1 \n",
            "----------\n",
            "\n",
            "Video number:  55\n",
            "Video: 115.tif\n",
            "Number of images: 1 \n",
            "----------\n",
            "\n",
            "Video number:  56\n",
            "Video: 038.tif\n",
            "Number of images: 1 \n",
            "----------\n",
            "\n",
            "Video number:  57\n",
            "Video: 073.tif\n",
            "Number of images: 1 \n",
            "----------\n",
            "\n",
            "Video number:  58\n",
            "Video: 158.tif\n",
            "Number of images: 1 \n",
            "----------\n",
            "\n",
            "Video number:  59\n",
            "Video: 118.tif\n",
            "Number of images: 1 \n",
            "----------\n",
            "\n",
            "Video number:  60\n",
            "Video: 013.tif\n",
            "Number of images: 1 \n",
            "----------\n",
            "\n",
            "Video number:  61\n",
            "Video: 189.tif\n",
            "Number of images: 1 \n",
            "----------\n",
            "\n",
            "Video number:  62\n",
            "Video: 076.tif\n",
            "Number of images: 1 \n",
            "----------\n",
            "\n",
            "Video number:  63\n",
            "Video: 160.tif\n",
            "Number of images: 1 \n",
            "----------\n",
            "\n",
            "Video number:  64\n",
            "Video: 102.tif\n",
            "Number of images: 1 \n",
            "----------\n",
            "\n",
            "Video number:  65\n",
            "Video: 105.tif\n",
            "Number of images: 1 \n",
            "----------\n",
            "\n",
            "Video number:  66\n",
            "Video: 131.tif\n",
            "Number of images: 1 \n",
            "----------\n",
            "\n",
            "Video number:  67\n",
            "Video: 091.tif\n",
            "Number of images: 1 \n",
            "----------\n",
            "\n",
            "Video number:  68\n",
            "Video: 060.tif\n",
            "Number of images: 1 \n",
            "----------\n",
            "\n",
            "Video number:  69\n",
            "Video: 133.tif\n",
            "Number of images: 1 \n",
            "----------\n",
            "\n",
            "Video number:  70\n",
            "Video: 161.tif\n",
            "Number of images: 1 \n",
            "----------\n",
            "\n",
            "Video number:  71\n",
            "Video: 019.tif\n",
            "Number of images: 1 \n",
            "----------\n",
            "\n",
            "Video number:  72\n",
            "Video: 188.tif\n",
            "Number of images: 1 \n",
            "----------\n",
            "\n",
            "Video number:  73\n",
            "Video: 039.tif\n",
            "Number of images: 1 \n",
            "----------\n",
            "\n",
            "Video number:  74\n",
            "Video: 022.tif\n",
            "Number of images: 1 \n",
            "----------\n",
            "\n",
            "Video number:  75\n",
            "Video: 071.tif\n",
            "Number of images: 1 \n",
            "----------\n",
            "\n",
            "Video number:  76\n",
            "Video: 069.tif\n",
            "Number of images: 1 \n",
            "----------\n",
            "\n",
            "Video number:  77\n",
            "Video: 052.tif\n",
            "Number of images: 1 \n",
            "----------\n",
            "\n",
            "Video number:  78\n",
            "Video: 116.tif\n",
            "Number of images: 1 \n",
            "----------\n",
            "\n",
            "Video number:  79\n",
            "Video: 034.tif\n",
            "Number of images: 1 \n",
            "----------\n",
            "\n",
            "Video number:  80\n",
            "Video: 025.tif\n",
            "Number of images: 1 \n",
            "----------\n",
            "\n",
            "Video number:  81\n",
            "Video: 186.tif\n",
            "Number of images: 1 \n",
            "----------\n",
            "\n",
            "Video number:  82\n",
            "Video: 156.tif\n",
            "Number of images: 1 \n",
            "----------\n",
            "\n",
            "Video number:  83\n",
            "Video: 083.tif\n",
            "Number of images: 1 \n",
            "----------\n",
            "\n",
            "Video number:  84\n",
            "Video: 070.tif\n",
            "Number of images: 1 \n",
            "----------\n",
            "\n",
            "Video number:  85\n",
            "Video: 176.tif\n",
            "Number of images: 1 \n",
            "----------\n",
            "\n",
            "Video number:  86\n",
            "Video: 020.tif\n",
            "Number of images: 1 \n",
            "----------\n",
            "\n",
            "Video number:  87\n",
            "Video: 129.tif\n",
            "Number of images: 1 \n",
            "----------\n",
            "\n",
            "Video number:  88\n",
            "Video: 152.tif\n",
            "Number of images: 1 \n",
            "----------\n",
            "\n",
            "Video number:  89\n",
            "Video: 027.tif\n",
            "Number of images: 1 \n",
            "----------\n",
            "\n",
            "Video number:  90\n",
            "Video: 037.tif\n",
            "Number of images: 1 \n",
            "----------\n",
            "\n",
            "Video number:  91\n",
            "Video: 100.tif\n",
            "Number of images: 1 \n",
            "----------\n",
            "\n",
            "Video number:  92\n",
            "Video: 106.tif\n",
            "Number of images: 1 \n",
            "----------\n",
            "\n",
            "Video number:  93\n",
            "Video: 197.tif\n",
            "Number of images: 1 \n",
            "----------\n",
            "\n",
            "Video number:  94\n",
            "Video: 032.tif\n",
            "Number of images: 1 \n",
            "----------\n",
            "\n",
            "Video number:  95\n",
            "Video: 169.tif\n",
            "Number of images: 1 \n",
            "----------\n",
            "\n",
            "Video number:  96\n",
            "Video: 040.tif\n",
            "Number of images: 1 \n",
            "----------\n",
            "\n",
            "Video number:  97\n",
            "Video: 044.tif\n",
            "Number of images: 1 \n",
            "----------\n",
            "\n",
            "Video number:  98\n",
            "Video: 082.tif\n",
            "Number of images: 1 \n",
            "----------\n",
            "\n",
            "Video number:  99\n",
            "Video: 055.tif\n",
            "Number of images: 1 \n",
            "----------\n",
            "\n",
            "Video number:  100\n",
            "Video: 014.tif\n",
            "Number of images: 1 \n",
            "----------\n",
            "\n",
            "Video number:  101\n",
            "Video: 036.tif\n",
            "Number of images: 1 \n",
            "----------\n",
            "\n",
            "Video number:  102\n",
            "Video: 030.tif\n",
            "Number of images: 1 \n",
            "----------\n",
            "\n",
            "Video number:  103\n",
            "Video: 085.tif\n",
            "Number of images: 1 \n",
            "----------\n",
            "\n",
            "Video number:  104\n",
            "Video: 001.tif\n",
            "Number of images: 1 \n",
            "----------\n",
            "\n",
            "Video number:  105\n",
            "Video: 130.tif\n",
            "Number of images: 1 \n",
            "----------\n",
            "\n",
            "Video number:  106\n",
            "Video: 068.tif\n",
            "Number of images: 1 \n",
            "----------\n",
            "\n",
            "Video number:  107\n",
            "Video: 094.tif\n",
            "Number of images: 1 \n",
            "----------\n",
            "\n",
            "Video number:  108\n",
            "Video: 183.tif\n",
            "Number of images: 1 \n",
            "----------\n",
            "\n",
            "Video number:  109\n",
            "Video: 198.tif\n",
            "Number of images: 1 \n",
            "----------\n",
            "\n",
            "Video number:  110\n",
            "Video: 180.tif\n",
            "Number of images: 1 \n",
            "----------\n",
            "\n",
            "Video number:  111\n",
            "Video: 143.tif\n",
            "Number of images: 1 \n",
            "----------\n",
            "\n",
            "Video number:  112\n",
            "Video: 149.tif\n",
            "Number of images: 1 \n",
            "----------\n",
            "\n",
            "Video number:  113\n",
            "Video: 164.tif\n",
            "Number of images: 1 \n",
            "----------\n",
            "\n",
            "Video number:  114\n",
            "Video: 018.tif\n",
            "Number of images: 1 \n",
            "----------\n",
            "\n",
            "Video number:  115\n",
            "Video: 074.tif\n",
            "Number of images: 1 \n",
            "----------\n",
            "\n",
            "Video number:  116\n",
            "Video: 151.tif\n",
            "Number of images: 1 \n",
            "----------\n",
            "\n",
            "Video number:  117\n",
            "Video: 054.tif\n",
            "Number of images: 1 \n",
            "----------\n",
            "\n",
            "Video number:  118\n",
            "Video: 190.tif\n",
            "Number of images: 1 \n",
            "----------\n",
            "\n",
            "Video number:  119\n",
            "Video: 065.tif\n",
            "Number of images: 1 \n",
            "----------\n",
            "\n",
            "Video number:  120\n",
            "Video: 045.tif\n",
            "Number of images: 1 \n",
            "----------\n",
            "\n",
            "Video number:  121\n",
            "Video: 057.tif\n",
            "Number of images: 1 \n",
            "----------\n",
            "\n",
            "Video number:  122\n",
            "Video: 090.tif\n",
            "Number of images: 1 \n",
            "----------\n",
            "\n",
            "Video number:  123\n",
            "Video: 049.tif\n",
            "Number of images: 1 \n",
            "----------\n",
            "\n",
            "Video number:  124\n",
            "Video: 154.tif\n",
            "Number of images: 1 \n",
            "----------\n",
            "\n",
            "Video number:  125\n",
            "Video: 023.tif\n",
            "Number of images: 1 \n",
            "----------\n",
            "\n",
            "Video number:  126\n",
            "Video: 128.tif\n",
            "Number of images: 1 \n",
            "----------\n",
            "\n",
            "Video number:  127\n",
            "Video: 080.tif\n",
            "Number of images: 1 \n",
            "----------\n",
            "\n",
            "Video number:  128\n",
            "Video: 168.tif\n",
            "Number of images: 1 \n",
            "----------\n",
            "\n",
            "Video number:  129\n",
            "Video: 050.tif\n",
            "Number of images: 1 \n",
            "----------\n",
            "\n",
            "Video number:  130\n",
            "Video: 117.tif\n",
            "Number of images: 1 \n",
            "----------\n",
            "\n",
            "Video number:  131\n",
            "Video: 126.tif\n",
            "Number of images: 1 \n",
            "----------\n",
            "\n",
            "Video number:  132\n",
            "Video: 058.tif\n",
            "Number of images: 1 \n",
            "----------\n",
            "\n",
            "Video number:  133\n",
            "Video: 153.tif\n",
            "Number of images: 1 \n",
            "----------\n",
            "\n",
            "Video number:  134\n",
            "Video: 024.tif\n",
            "Number of images: 1 \n",
            "----------\n",
            "\n",
            "Video number:  135\n",
            "Video: 086.tif\n",
            "Number of images: 1 \n",
            "----------\n",
            "\n",
            "Video number:  136\n",
            "Video: 111.tif\n",
            "Number of images: 1 \n",
            "----------\n",
            "\n",
            "Video number:  137\n",
            "Video: 075.tif\n",
            "Number of images: 1 \n",
            "----------\n",
            "\n",
            "Video number:  138\n",
            "Video: 179.tif\n",
            "Number of images: 1 \n",
            "----------\n",
            "\n",
            "Video number:  139\n",
            "Video: 056.tif\n",
            "Number of images: 1 \n",
            "----------\n",
            "\n",
            "Video number:  140\n",
            "Video: 150.tif\n",
            "Number of images: 1 \n",
            "----------\n",
            "\n",
            "Video number:  141\n",
            "Video: 063.tif\n",
            "Number of images: 1 \n",
            "----------\n",
            "\n",
            "Video number:  142\n",
            "Video: 181.tif\n",
            "Number of images: 1 \n",
            "----------\n",
            "\n",
            "Video number:  143\n",
            "Video: 006.tif\n",
            "Number of images: 1 \n",
            "----------\n",
            "\n",
            "Video number:  144\n",
            "Video: 012.tif\n",
            "Number of images: 1 \n",
            "----------\n",
            "\n",
            "Video number:  145\n",
            "Video: 177.tif\n",
            "Number of images: 1 \n",
            "----------\n",
            "\n",
            "Video number:  146\n",
            "Video: 192.tif\n",
            "Number of images: 1 \n",
            "----------\n",
            "\n",
            "Video number:  147\n",
            "Video: 002.tif\n",
            "Number of images: 1 \n",
            "----------\n",
            "\n",
            "Video number:  148\n",
            "Video: 099.tif\n",
            "Number of images: 1 \n",
            "----------\n",
            "\n",
            "Video number:  149\n",
            "Video: 120.tif\n",
            "Number of images: 1 \n",
            "----------\n",
            "\n",
            "Video number:  150\n",
            "Video: 184.tif\n",
            "Number of images: 1 \n",
            "----------\n",
            "\n",
            "Video number:  151\n",
            "Video: 185.tif\n",
            "Number of images: 1 \n",
            "----------\n",
            "\n",
            "Video number:  152\n",
            "Video: 033.tif\n",
            "Number of images: 1 \n",
            "----------\n",
            "\n",
            "Video number:  153\n",
            "Video: 103.tif\n",
            "Number of images: 1 \n",
            "----------\n",
            "\n",
            "Video number:  154\n",
            "Video: 089.tif\n",
            "Number of images: 1 \n",
            "----------\n",
            "\n",
            "Video number:  155\n",
            "Video: 134.tif\n",
            "Number of images: 1 \n",
            "----------\n",
            "\n",
            "Video number:  156\n",
            "Video: 061.tif\n",
            "Number of images: 1 \n",
            "----------\n",
            "\n",
            "Video number:  157\n",
            "Video: 109.tif\n",
            "Number of images: 1 \n",
            "----------\n",
            "\n",
            "Video number:  158\n",
            "Video: 007.tif\n",
            "Number of images: 1 \n",
            "----------\n",
            "\n",
            "Video number:  159\n",
            "Video: 059.tif\n",
            "Number of images: 1 \n",
            "----------\n",
            "\n",
            "Video number:  160\n",
            "Video: 101.tif\n",
            "Number of images: 1 \n",
            "----------\n",
            "\n",
            "Video number:  161\n",
            "Video: 079.tif\n",
            "Number of images: 1 \n",
            "----------\n",
            "\n",
            "Video number:  162\n",
            "Video: 173.tif\n",
            "Number of images: 1 \n",
            "----------\n",
            "\n",
            "Video number:  163\n",
            "Video: 121.tif\n",
            "Number of images: 1 \n",
            "----------\n",
            "\n",
            "Video number:  164\n",
            "Video: 026.tif\n",
            "Number of images: 1 \n",
            "----------\n",
            "\n",
            "Video number:  165\n",
            "Video: 142.tif\n",
            "Number of images: 1 \n",
            "----------\n",
            "\n",
            "Video number:  166\n",
            "Video: 122.tif\n",
            "Number of images: 1 \n",
            "----------\n",
            "\n",
            "Video number:  167\n",
            "Video: 187.tif\n",
            "Number of images: 1 \n",
            "----------\n",
            "\n",
            "Video number:  168\n",
            "Video: 182.tif\n",
            "Number of images: 1 \n",
            "----------\n",
            "\n",
            "Video number:  169\n",
            "Video: 138.tif\n",
            "Number of images: 1 \n",
            "----------\n",
            "\n",
            "Video number:  170\n",
            "Video: 015.tif\n",
            "Number of images: 1 \n",
            "----------\n",
            "\n",
            "Video number:  171\n",
            "Video: 016.tif\n",
            "Number of images: 1 \n",
            "----------\n",
            "\n",
            "Video number:  172\n",
            "Video: 096.tif\n",
            "Number of images: 1 \n",
            "----------\n",
            "\n",
            "Video number:  173\n",
            "Video: 078.tif\n",
            "Number of images: 1 \n",
            "----------\n",
            "\n",
            "Video number:  174\n",
            "Video: 093.tif\n",
            "Number of images: 1 \n",
            "----------\n",
            "\n",
            "Video number:  175\n",
            "Video: 112.tif\n",
            "Number of images: 1 \n",
            "----------\n",
            "\n",
            "Video number:  176\n",
            "Video: 165.tif\n",
            "Number of images: 1 \n",
            "----------\n",
            "\n",
            "Video number:  177\n",
            "Video: 053.tif\n",
            "Number of images: 1 \n",
            "----------\n",
            "\n",
            "Video number:  178\n",
            "Video: 200.tif\n",
            "Number of images: 1 \n",
            "----------\n",
            "\n",
            "Video number:  179\n",
            "Video: 123.tif\n",
            "Number of images: 1 \n",
            "----------\n",
            "\n",
            "Video number:  180\n",
            "Video: 047.tif\n",
            "Number of images: 1 \n",
            "----------\n",
            "\n",
            "Video number:  181\n",
            "Video: 048.tif\n",
            "Number of images: 1 \n",
            "----------\n",
            "\n",
            "Video number:  182\n",
            "Video: 195.tif\n",
            "Number of images: 1 \n",
            "----------\n",
            "\n",
            "Video number:  183\n",
            "Video: 028.tif\n",
            "Number of images: 1 \n",
            "----------\n",
            "\n",
            "Video number:  184\n",
            "Video: 009.tif\n",
            "Number of images: 1 \n",
            "----------\n",
            "\n",
            "Video number:  185\n",
            "Video: 148.tif\n",
            "Number of images: 1 \n",
            "----------\n",
            "\n",
            "Video number:  186\n",
            "Video: 147.tif\n",
            "Number of images: 1 \n",
            "----------\n",
            "\n",
            "Video number:  187\n",
            "Video: 145.tif\n",
            "Number of images: 1 \n",
            "----------\n",
            "\n",
            "Video number:  188\n",
            "Video: 005.tif\n",
            "Number of images: 1 \n",
            "----------\n",
            "\n",
            "Video number:  189\n",
            "Video: 042.tif\n",
            "Number of images: 1 \n",
            "----------\n",
            "\n",
            "Video number:  190\n",
            "Video: 155.tif\n",
            "Number of images: 1 \n",
            "----------\n",
            "\n",
            "Video number:  191\n",
            "Video: 104.tif\n",
            "Number of images: 1 \n",
            "----------\n",
            "\n",
            "Video number:  192\n",
            "Video: 088.tif\n",
            "Number of images: 1 \n",
            "----------\n",
            "\n",
            "Video number:  193\n",
            "Video: 194.tif\n",
            "Number of images: 1 \n",
            "----------\n",
            "\n",
            "Video number:  194\n",
            "Video: 132.tif\n",
            "Number of images: 1 \n",
            "----------\n",
            "\n",
            "Video number:  195\n",
            "Video: 097.tif\n",
            "Number of images: 1 \n",
            "----------\n",
            "\n",
            "Video number:  196\n",
            "Video: 072.tif\n",
            "Number of images: 1 \n",
            "----------\n",
            "\n",
            "Video number:  197\n",
            "Video: 064.tif\n",
            "Number of images: 1 \n",
            "----------\n",
            "\n",
            "Video number:  198\n",
            "Video: 084.tif\n",
            "Number of images: 1 \n",
            "----------\n",
            "\n",
            "Video number:  199\n",
            "Video: 174.tif\n",
            "Number of images: 1 \n",
            "----------\n",
            "\n",
            "Video number:  200\n",
            "Video: 017.tif\n",
            "Number of images: 1 \n",
            "----------\n",
            "\n",
            "Program ended. All testing videos shall be stored in tester.npy \n",
            " Please wait while tester.npy is created. \n",
            "Refresh when needed\n",
            "Number of frames created : 200\n",
            "Number of bunches= 200 /10 =  20\n",
            "\n",
            "Corrupted and unreadable bunches were ignored\n",
            "Found  200  testing videos\n",
            "Video number:  1\n",
            "Video: 139.tif\n",
            "Number of images: 1 \n",
            "----------\n",
            "\n",
            "Video number:  2\n",
            "Video: 051.tif\n",
            "Number of images: 1 \n",
            "----------\n",
            "\n",
            "Video number:  3\n",
            "Video: 166.tif\n",
            "Number of images: 1 \n",
            "----------\n",
            "\n",
            "Video number:  4\n",
            "Video: 136.tif\n",
            "Number of images: 1 \n",
            "----------\n",
            "\n",
            "Video number:  5\n",
            "Video: 178.tif\n",
            "Number of images: 1 \n",
            "----------\n",
            "\n",
            "Video number:  6\n",
            "Video: 043.tif\n",
            "Number of images: 1 \n",
            "----------\n",
            "\n",
            "Video number:  7\n",
            "Video: 167.tif\n",
            "Number of images: 1 \n",
            "----------\n",
            "\n",
            "Video number:  8\n",
            "Video: 004.tif\n",
            "Number of images: 1 \n",
            "----------\n",
            "\n",
            "Video number:  9\n",
            "Video: 171.tif\n",
            "Number of images: 1 \n",
            "----------\n",
            "\n",
            "Video number:  10\n",
            "Video: 157.tif\n",
            "Number of images: 1 \n",
            "----------\n",
            "\n",
            "Video number:  11\n",
            "Video: 119.tif\n",
            "Number of images: 1 \n",
            "----------\n",
            "\n",
            "Video number:  12\n",
            "Video: 141.tif\n",
            "Number of images: 1 \n",
            "----------\n",
            "\n",
            "Video number:  13\n",
            "Video: 113.tif\n",
            "Number of images: 1 \n",
            "----------\n",
            "\n",
            "Video number:  14\n",
            "Video: 162.tif\n",
            "Number of images: 1 \n",
            "----------\n",
            "\n",
            "Video number:  15\n",
            "Video: 175.tif\n",
            "Number of images: 1 \n",
            "----------\n",
            "\n",
            "Video number:  16\n",
            "Video: 135.tif\n",
            "Number of images: 1 \n",
            "----------\n",
            "\n",
            "Video number:  17\n",
            "Video: 003.tif\n",
            "Number of images: 1 \n",
            "----------\n",
            "\n",
            "Video number:  18\n",
            "Video: 193.tif\n",
            "Number of images: 1 \n",
            "----------\n",
            "\n",
            "Video number:  19\n",
            "Video: 146.tif\n",
            "Number of images: 1 \n",
            "----------\n",
            "\n",
            "Video number:  20\n",
            "Video: 010.tif\n",
            "Number of images: 1 \n",
            "----------\n",
            "\n",
            "Video number:  21\n",
            "Video: 077.tif\n",
            "Number of images: 1 \n",
            "----------\n",
            "\n",
            "Video number:  22\n",
            "Video: 127.tif\n",
            "Number of images: 1 \n",
            "----------\n",
            "\n",
            "Video number:  23\n",
            "Video: 144.tif\n",
            "Number of images: 1 \n",
            "----------\n",
            "\n",
            "Video number:  24\n",
            "Video: 092.tif\n",
            "Number of images: 1 \n",
            "----------\n",
            "\n",
            "Video number:  25\n",
            "Video: 107.tif\n",
            "Number of images: 1 \n",
            "----------\n",
            "\n",
            "Video number:  26\n",
            "Video: 124.tif\n",
            "Number of images: 1 \n",
            "----------\n",
            "\n",
            "Video number:  27\n",
            "Video: 159.tif\n",
            "Number of images: 1 \n",
            "----------\n",
            "\n",
            "Video number:  28\n",
            "Video: 170.tif\n",
            "Number of images: 1 \n",
            "----------\n",
            "\n",
            "Video number:  29\n",
            "Video: 035.tif\n",
            "Number of images: 1 \n",
            "----------\n",
            "\n",
            "Video number:  30\n",
            "Video: 046.tif\n",
            "Number of images: 1 \n",
            "----------\n",
            "\n",
            "Video number:  31\n",
            "Video: 066.tif\n",
            "Number of images: 1 \n",
            "----------\n",
            "\n",
            "Video number:  32\n",
            "Video: 087.tif\n",
            "Number of images: 1 \n",
            "----------\n",
            "\n",
            "Video number:  33\n",
            "Video: 191.tif\n",
            "Number of images: 1 \n",
            "----------\n",
            "\n",
            "Video number:  34\n",
            "Video: 172.tif\n",
            "Number of images: 1 \n",
            "----------\n",
            "\n",
            "Video number:  35\n",
            "Video: 137.tif\n",
            "Number of images: 1 \n",
            "----------\n",
            "\n",
            "Video number:  36\n",
            "Video: 062.tif\n",
            "Number of images: 1 \n",
            "----------\n",
            "\n",
            "Video number:  37\n",
            "Video: 110.tif\n",
            "Number of images: 1 \n",
            "----------\n",
            "\n",
            "Video number:  38\n",
            "Video: 163.tif\n",
            "Number of images: 1 \n",
            "----------\n",
            "\n",
            "Video number:  39\n",
            "Video: 021.tif\n",
            "Number of images: 1 \n",
            "----------\n",
            "\n",
            "Video number:  40\n",
            "Video: 008.tif\n",
            "Number of images: 1 \n",
            "----------\n",
            "\n",
            "Video number:  41\n",
            "Video: 098.tif\n",
            "Number of images: 1 \n",
            "----------\n",
            "\n",
            "Video number:  42\n",
            "Video: 011.tif\n",
            "Number of images: 1 \n",
            "----------\n",
            "\n",
            "Video number:  43\n",
            "Video: 108.tif\n",
            "Number of images: 1 \n",
            "----------\n",
            "\n",
            "Video number:  44\n",
            "Video: 081.tif\n",
            "Number of images: 1 \n",
            "----------\n",
            "\n",
            "Video number:  45\n",
            "Video: 125.tif\n",
            "Number of images: 1 \n",
            "----------\n",
            "\n",
            "Video number:  46\n",
            "Video: 067.tif\n",
            "Number of images: 1 \n",
            "----------\n",
            "\n",
            "Video number:  47\n",
            "Video: 029.tif\n",
            "Number of images: 1 \n",
            "----------\n",
            "\n",
            "Video number:  48\n",
            "Video: 031.tif\n",
            "Number of images: 1 \n",
            "----------\n",
            "\n",
            "Video number:  49\n",
            "Video: 199.tif\n",
            "Number of images: 1 \n",
            "----------\n",
            "\n",
            "Video number:  50\n",
            "Video: 140.tif\n",
            "Number of images: 1 \n",
            "----------\n",
            "\n",
            "Video number:  51\n",
            "Video: 114.tif\n",
            "Number of images: 1 \n",
            "----------\n",
            "\n",
            "Video number:  52\n",
            "Video: 041.tif\n",
            "Number of images: 1 \n",
            "----------\n",
            "\n",
            "Video number:  53\n",
            "Video: 196.tif\n",
            "Number of images: 1 \n",
            "----------\n",
            "\n",
            "Video number:  54\n",
            "Video: 095.tif\n",
            "Number of images: 1 \n",
            "----------\n",
            "\n",
            "Video number:  55\n",
            "Video: 115.tif\n",
            "Number of images: 1 \n",
            "----------\n",
            "\n",
            "Video number:  56\n",
            "Video: 038.tif\n",
            "Number of images: 1 \n",
            "----------\n",
            "\n",
            "Video number:  57\n",
            "Video: 073.tif\n",
            "Number of images: 1 \n",
            "----------\n",
            "\n",
            "Video number:  58\n",
            "Video: 158.tif\n",
            "Number of images: 1 \n",
            "----------\n",
            "\n",
            "Video number:  59\n",
            "Video: 118.tif\n",
            "Number of images: 1 \n",
            "----------\n",
            "\n",
            "Video number:  60\n",
            "Video: 013.tif\n",
            "Number of images: 1 \n",
            "----------\n",
            "\n",
            "Video number:  61\n",
            "Video: 189.tif\n",
            "Number of images: 1 \n",
            "----------\n",
            "\n",
            "Video number:  62\n",
            "Video: 076.tif\n",
            "Number of images: 1 \n",
            "----------\n",
            "\n",
            "Video number:  63\n",
            "Video: 160.tif\n",
            "Number of images: 1 \n",
            "----------\n",
            "\n",
            "Video number:  64\n",
            "Video: 102.tif\n",
            "Number of images: 1 \n",
            "----------\n",
            "\n",
            "Video number:  65\n",
            "Video: 105.tif\n",
            "Number of images: 1 \n",
            "----------\n",
            "\n",
            "Video number:  66\n",
            "Video: 131.tif\n",
            "Number of images: 1 \n",
            "----------\n",
            "\n",
            "Video number:  67\n",
            "Video: 091.tif\n",
            "Number of images: 1 \n",
            "----------\n",
            "\n",
            "Video number:  68\n",
            "Video: 060.tif\n",
            "Number of images: 1 \n",
            "----------\n",
            "\n",
            "Video number:  69\n",
            "Video: 133.tif\n",
            "Number of images: 1 \n",
            "----------\n",
            "\n",
            "Video number:  70\n",
            "Video: 161.tif\n",
            "Number of images: 1 \n",
            "----------\n",
            "\n",
            "Video number:  71\n",
            "Video: 019.tif\n",
            "Number of images: 1 \n",
            "----------\n",
            "\n",
            "Video number:  72\n",
            "Video: 188.tif\n",
            "Number of images: 1 \n",
            "----------\n",
            "\n",
            "Video number:  73\n",
            "Video: 039.tif\n",
            "Number of images: 1 \n",
            "----------\n",
            "\n",
            "Video number:  74\n",
            "Video: 022.tif\n",
            "Number of images: 1 \n",
            "----------\n",
            "\n",
            "Video number:  75\n",
            "Video: 071.tif\n",
            "Number of images: 1 \n",
            "----------\n",
            "\n",
            "Video number:  76\n",
            "Video: 069.tif\n",
            "Number of images: 1 \n",
            "----------\n",
            "\n",
            "Video number:  77\n",
            "Video: 052.tif\n",
            "Number of images: 1 \n",
            "----------\n",
            "\n",
            "Video number:  78\n",
            "Video: 116.tif\n",
            "Number of images: 1 \n",
            "----------\n",
            "\n",
            "Video number:  79\n",
            "Video: 034.tif\n",
            "Number of images: 1 \n",
            "----------\n",
            "\n",
            "Video number:  80\n",
            "Video: 025.tif\n",
            "Number of images: 1 \n",
            "----------\n",
            "\n",
            "Video number:  81\n",
            "Video: 186.tif\n",
            "Number of images: 1 \n",
            "----------\n",
            "\n",
            "Video number:  82\n",
            "Video: 156.tif\n",
            "Number of images: 1 \n",
            "----------\n",
            "\n",
            "Video number:  83\n",
            "Video: 083.tif\n",
            "Number of images: 1 \n",
            "----------\n",
            "\n",
            "Video number:  84\n",
            "Video: 070.tif\n",
            "Number of images: 1 \n",
            "----------\n",
            "\n",
            "Video number:  85\n",
            "Video: 176.tif\n",
            "Number of images: 1 \n",
            "----------\n",
            "\n",
            "Video number:  86\n",
            "Video: 020.tif\n",
            "Number of images: 1 \n",
            "----------\n",
            "\n",
            "Video number:  87\n",
            "Video: 129.tif\n",
            "Number of images: 1 \n",
            "----------\n",
            "\n",
            "Video number:  88\n",
            "Video: 152.tif\n",
            "Number of images: 1 \n",
            "----------\n",
            "\n",
            "Video number:  89\n",
            "Video: 027.tif\n",
            "Number of images: 1 \n",
            "----------\n",
            "\n",
            "Video number:  90\n",
            "Video: 037.tif\n",
            "Number of images: 1 \n",
            "----------\n",
            "\n",
            "Video number:  91\n",
            "Video: 100.tif\n",
            "Number of images: 1 \n",
            "----------\n",
            "\n",
            "Video number:  92\n",
            "Video: 106.tif\n",
            "Number of images: 1 \n",
            "----------\n",
            "\n",
            "Video number:  93\n",
            "Video: 197.tif\n",
            "Number of images: 1 \n",
            "----------\n",
            "\n",
            "Video number:  94\n",
            "Video: 032.tif\n",
            "Number of images: 1 \n",
            "----------\n",
            "\n",
            "Video number:  95\n",
            "Video: 169.tif\n",
            "Number of images: 1 \n",
            "----------\n",
            "\n",
            "Video number:  96\n",
            "Video: 040.tif\n",
            "Number of images: 1 \n",
            "----------\n",
            "\n",
            "Video number:  97\n",
            "Video: 044.tif\n",
            "Number of images: 1 \n",
            "----------\n",
            "\n",
            "Video number:  98\n",
            "Video: 082.tif\n",
            "Number of images: 1 \n",
            "----------\n",
            "\n",
            "Video number:  99\n",
            "Video: 055.tif\n",
            "Number of images: 1 \n",
            "----------\n",
            "\n",
            "Video number:  100\n",
            "Video: 014.tif\n",
            "Number of images: 1 \n",
            "----------\n",
            "\n",
            "Video number:  101\n",
            "Video: 036.tif\n",
            "Number of images: 1 \n",
            "----------\n",
            "\n",
            "Video number:  102\n",
            "Video: 030.tif\n",
            "Number of images: 1 \n",
            "----------\n",
            "\n",
            "Video number:  103\n",
            "Video: 085.tif\n",
            "Number of images: 1 \n",
            "----------\n",
            "\n",
            "Video number:  104\n",
            "Video: 001.tif\n",
            "Number of images: 1 \n",
            "----------\n",
            "\n",
            "Video number:  105\n",
            "Video: 130.tif\n",
            "Number of images: 1 \n",
            "----------\n",
            "\n",
            "Video number:  106\n",
            "Video: 068.tif\n",
            "Number of images: 1 \n",
            "----------\n",
            "\n",
            "Video number:  107\n",
            "Video: 094.tif\n",
            "Number of images: 1 \n",
            "----------\n",
            "\n",
            "Video number:  108\n",
            "Video: 183.tif\n",
            "Number of images: 1 \n",
            "----------\n",
            "\n",
            "Video number:  109\n",
            "Video: 198.tif\n",
            "Number of images: 1 \n",
            "----------\n",
            "\n",
            "Video number:  110\n",
            "Video: 180.tif\n",
            "Number of images: 1 \n",
            "----------\n",
            "\n",
            "Video number:  111\n",
            "Video: 143.tif\n",
            "Number of images: 1 \n",
            "----------\n",
            "\n",
            "Video number:  112\n",
            "Video: 149.tif\n",
            "Number of images: 1 \n",
            "----------\n",
            "\n",
            "Video number:  113\n",
            "Video: 164.tif\n",
            "Number of images: 1 \n",
            "----------\n",
            "\n",
            "Video number:  114\n",
            "Video: 018.tif\n",
            "Number of images: 1 \n",
            "----------\n",
            "\n",
            "Video number:  115\n",
            "Video: 074.tif\n",
            "Number of images: 1 \n",
            "----------\n",
            "\n",
            "Video number:  116\n",
            "Video: 151.tif\n",
            "Number of images: 1 \n",
            "----------\n",
            "\n",
            "Video number:  117\n",
            "Video: 054.tif\n",
            "Number of images: 1 \n",
            "----------\n",
            "\n",
            "Video number:  118\n",
            "Video: 190.tif\n",
            "Number of images: 1 \n",
            "----------\n",
            "\n",
            "Video number:  119\n",
            "Video: 065.tif\n",
            "Number of images: 1 \n",
            "----------\n",
            "\n",
            "Video number:  120\n",
            "Video: 045.tif\n",
            "Number of images: 1 \n",
            "----------\n",
            "\n",
            "Video number:  121\n",
            "Video: 057.tif\n",
            "Number of images: 1 \n",
            "----------\n",
            "\n",
            "Video number:  122\n",
            "Video: 090.tif\n",
            "Number of images: 1 \n",
            "----------\n",
            "\n",
            "Video number:  123\n",
            "Video: 049.tif\n",
            "Number of images: 1 \n",
            "----------\n",
            "\n",
            "Video number:  124\n",
            "Video: 154.tif\n",
            "Number of images: 1 \n",
            "----------\n",
            "\n",
            "Video number:  125\n",
            "Video: 023.tif\n",
            "Number of images: 1 \n",
            "----------\n",
            "\n",
            "Video number:  126\n",
            "Video: 128.tif\n",
            "Number of images: 1 \n",
            "----------\n",
            "\n",
            "Video number:  127\n",
            "Video: 080.tif\n",
            "Number of images: 1 \n",
            "----------\n",
            "\n",
            "Video number:  128\n",
            "Video: 168.tif\n",
            "Number of images: 1 \n",
            "----------\n",
            "\n",
            "Video number:  129\n",
            "Video: 050.tif\n",
            "Number of images: 1 \n",
            "----------\n",
            "\n",
            "Video number:  130\n",
            "Video: 117.tif\n",
            "Number of images: 1 \n",
            "----------\n",
            "\n",
            "Video number:  131\n",
            "Video: 126.tif\n",
            "Number of images: 1 \n",
            "----------\n",
            "\n",
            "Video number:  132\n",
            "Video: 058.tif\n",
            "Number of images: 1 \n",
            "----------\n",
            "\n",
            "Video number:  133\n",
            "Video: 153.tif\n",
            "Number of images: 1 \n",
            "----------\n",
            "\n",
            "Video number:  134\n",
            "Video: 024.tif\n",
            "Number of images: 1 \n",
            "----------\n",
            "\n",
            "Video number:  135\n",
            "Video: 086.tif\n",
            "Number of images: 1 \n",
            "----------\n",
            "\n",
            "Video number:  136\n",
            "Video: 111.tif\n",
            "Number of images: 1 \n",
            "----------\n",
            "\n",
            "Video number:  137\n",
            "Video: 075.tif\n",
            "Number of images: 1 \n",
            "----------\n",
            "\n",
            "Video number:  138\n",
            "Video: 179.tif\n",
            "Number of images: 1 \n",
            "----------\n",
            "\n",
            "Video number:  139\n",
            "Video: 056.tif\n",
            "Number of images: 1 \n",
            "----------\n",
            "\n",
            "Video number:  140\n",
            "Video: 150.tif\n",
            "Number of images: 1 \n",
            "----------\n",
            "\n",
            "Video number:  141\n",
            "Video: 063.tif\n",
            "Number of images: 1 \n",
            "----------\n",
            "\n",
            "Video number:  142\n",
            "Video: 181.tif\n",
            "Number of images: 1 \n",
            "----------\n",
            "\n",
            "Video number:  143\n",
            "Video: 006.tif\n",
            "Number of images: 1 \n",
            "----------\n",
            "\n",
            "Video number:  144\n",
            "Video: 012.tif\n",
            "Number of images: 1 \n",
            "----------\n",
            "\n",
            "Video number:  145\n",
            "Video: 177.tif\n",
            "Number of images: 1 \n",
            "----------\n",
            "\n",
            "Video number:  146\n",
            "Video: 192.tif\n",
            "Number of images: 1 \n",
            "----------\n",
            "\n",
            "Video number:  147\n",
            "Video: 002.tif\n",
            "Number of images: 1 \n",
            "----------\n",
            "\n",
            "Video number:  148\n",
            "Video: 099.tif\n",
            "Number of images: 1 \n",
            "----------\n",
            "\n",
            "Video number:  149\n",
            "Video: 120.tif\n",
            "Number of images: 1 \n",
            "----------\n",
            "\n",
            "Video number:  150\n",
            "Video: 184.tif\n",
            "Number of images: 1 \n",
            "----------\n",
            "\n",
            "Video number:  151\n",
            "Video: 185.tif\n",
            "Number of images: 1 \n",
            "----------\n",
            "\n",
            "Video number:  152\n",
            "Video: 033.tif\n",
            "Number of images: 1 \n",
            "----------\n",
            "\n",
            "Video number:  153\n",
            "Video: 103.tif\n",
            "Number of images: 1 \n",
            "----------\n",
            "\n",
            "Video number:  154\n",
            "Video: 089.tif\n",
            "Number of images: 1 \n",
            "----------\n",
            "\n",
            "Video number:  155\n",
            "Video: 134.tif\n",
            "Number of images: 1 \n",
            "----------\n",
            "\n",
            "Video number:  156\n",
            "Video: 061.tif\n",
            "Number of images: 1 \n",
            "----------\n",
            "\n",
            "Video number:  157\n",
            "Video: 109.tif\n",
            "Number of images: 1 \n",
            "----------\n",
            "\n",
            "Video number:  158\n",
            "Video: 007.tif\n",
            "Number of images: 1 \n",
            "----------\n",
            "\n",
            "Video number:  159\n",
            "Video: 059.tif\n",
            "Number of images: 1 \n",
            "----------\n",
            "\n",
            "Video number:  160\n",
            "Video: 101.tif\n",
            "Number of images: 1 \n",
            "----------\n",
            "\n",
            "Video number:  161\n",
            "Video: 079.tif\n",
            "Number of images: 1 \n",
            "----------\n",
            "\n",
            "Video number:  162\n",
            "Video: 173.tif\n",
            "Number of images: 1 \n",
            "----------\n",
            "\n",
            "Video number:  163\n",
            "Video: 121.tif\n",
            "Number of images: 1 \n",
            "----------\n",
            "\n",
            "Video number:  164\n",
            "Video: 026.tif\n",
            "Number of images: 1 \n",
            "----------\n",
            "\n",
            "Video number:  165\n",
            "Video: 142.tif\n",
            "Number of images: 1 \n",
            "----------\n",
            "\n",
            "Video number:  166\n",
            "Video: 122.tif\n",
            "Number of images: 1 \n",
            "----------\n",
            "\n",
            "Video number:  167\n",
            "Video: 187.tif\n",
            "Number of images: 1 \n",
            "----------\n",
            "\n",
            "Video number:  168\n",
            "Video: 182.tif\n",
            "Number of images: 1 \n",
            "----------\n",
            "\n",
            "Video number:  169\n",
            "Video: 138.tif\n",
            "Number of images: 1 \n",
            "----------\n",
            "\n",
            "Video number:  170\n",
            "Video: 015.tif\n",
            "Number of images: 1 \n",
            "----------\n",
            "\n",
            "Video number:  171\n",
            "Video: 016.tif\n",
            "Number of images: 1 \n",
            "----------\n",
            "\n",
            "Video number:  172\n",
            "Video: 096.tif\n",
            "Number of images: 1 \n",
            "----------\n",
            "\n",
            "Video number:  173\n",
            "Video: 078.tif\n",
            "Number of images: 1 \n",
            "----------\n",
            "\n",
            "Video number:  174\n",
            "Video: 093.tif\n",
            "Number of images: 1 \n",
            "----------\n",
            "\n",
            "Video number:  175\n",
            "Video: 112.tif\n",
            "Number of images: 1 \n",
            "----------\n",
            "\n",
            "Video number:  176\n",
            "Video: 165.tif\n",
            "Number of images: 1 \n",
            "----------\n",
            "\n",
            "Video number:  177\n",
            "Video: 053.tif\n",
            "Number of images: 1 \n",
            "----------\n",
            "\n",
            "Video number:  178\n",
            "Video: 200.tif\n",
            "Number of images: 1 \n",
            "----------\n",
            "\n",
            "Video number:  179\n",
            "Video: 123.tif\n",
            "Number of images: 1 \n",
            "----------\n",
            "\n",
            "Video number:  180\n",
            "Video: 047.tif\n",
            "Number of images: 1 \n",
            "----------\n",
            "\n",
            "Video number:  181\n",
            "Video: 048.tif\n",
            "Number of images: 1 \n",
            "----------\n",
            "\n",
            "Video number:  182\n",
            "Video: 195.tif\n",
            "Number of images: 1 \n",
            "----------\n",
            "\n",
            "Video number:  183\n",
            "Video: 028.tif\n",
            "Number of images: 1 \n",
            "----------\n",
            "\n",
            "Video number:  184\n",
            "Video: 009.tif\n",
            "Number of images: 1 \n",
            "----------\n",
            "\n",
            "Video number:  185\n",
            "Video: 148.tif\n",
            "Number of images: 1 \n",
            "----------\n",
            "\n",
            "Video number:  186\n",
            "Video: 147.tif\n",
            "Number of images: 1 \n",
            "----------\n",
            "\n",
            "Video number:  187\n",
            "Video: 145.tif\n",
            "Number of images: 1 \n",
            "----------\n",
            "\n",
            "Video number:  188\n",
            "Video: 005.tif\n",
            "Number of images: 1 \n",
            "----------\n",
            "\n",
            "Video number:  189\n",
            "Video: 042.tif\n",
            "Number of images: 1 \n",
            "----------\n",
            "\n",
            "Video number:  190\n",
            "Video: 155.tif\n",
            "Number of images: 1 \n",
            "----------\n",
            "\n",
            "Video number:  191\n",
            "Video: 104.tif\n",
            "Number of images: 1 \n",
            "----------\n",
            "\n",
            "Video number:  192\n",
            "Video: 088.tif\n",
            "Number of images: 1 \n",
            "----------\n",
            "\n",
            "Video number:  193\n",
            "Video: 194.tif\n",
            "Number of images: 1 \n",
            "----------\n",
            "\n",
            "Video number:  194\n",
            "Video: 132.tif\n",
            "Number of images: 1 \n",
            "----------\n",
            "\n",
            "Video number:  195\n",
            "Video: 097.tif\n",
            "Number of images: 1 \n",
            "----------\n",
            "\n",
            "Video number:  196\n",
            "Video: 072.tif\n",
            "Number of images: 1 \n",
            "----------\n",
            "\n",
            "Video number:  197\n",
            "Video: 064.tif\n",
            "Number of images: 1 \n",
            "----------\n",
            "\n",
            "Video number:  198\n",
            "Video: 084.tif\n",
            "Number of images: 1 \n",
            "----------\n",
            "\n",
            "Video number:  199\n",
            "Video: 174.tif\n",
            "Number of images: 1 \n",
            "----------\n",
            "\n",
            "Video number:  200\n",
            "Video: 017.tif\n",
            "Number of images: 1 \n",
            "----------\n",
            "\n",
            "Program ended. All testing videos shall be stored in tester.npy \n",
            " Please wait while tester.npy is created. \n",
            "Refresh when needed\n",
            "Number of frames created : 200\n",
            "Number of bunches= 200 /10 =  20\n",
            "\n",
            "Corrupted and unreadable bunches were ignored\n",
            "Found  200  testing videos\n",
            "Video number:  1\n",
            "Video: 139.tif\n",
            "Number of images: 1 \n",
            "----------\n",
            "\n",
            "Video number:  2\n",
            "Video: 051.tif\n",
            "Number of images: 1 \n",
            "----------\n",
            "\n",
            "Video number:  3\n",
            "Video: 166.tif\n",
            "Number of images: 1 \n",
            "----------\n",
            "\n",
            "Video number:  4\n",
            "Video: 136.tif\n",
            "Number of images: 1 \n",
            "----------\n",
            "\n",
            "Video number:  5\n",
            "Video: 178.tif\n",
            "Number of images: 1 \n",
            "----------\n",
            "\n",
            "Video number:  6\n",
            "Video: 043.tif\n",
            "Number of images: 1 \n",
            "----------\n",
            "\n",
            "Video number:  7\n",
            "Video: 167.tif\n",
            "Number of images: 1 \n",
            "----------\n",
            "\n",
            "Video number:  8\n",
            "Video: 004.tif\n",
            "Number of images: 1 \n",
            "----------\n",
            "\n",
            "Video number:  9\n",
            "Video: 171.tif\n",
            "Number of images: 1 \n",
            "----------\n",
            "\n",
            "Video number:  10\n",
            "Video: 157.tif\n",
            "Number of images: 1 \n",
            "----------\n",
            "\n",
            "Video number:  11\n",
            "Video: 119.tif\n",
            "Number of images: 1 \n",
            "----------\n",
            "\n",
            "Video number:  12\n",
            "Video: 141.tif\n",
            "Number of images: 1 \n",
            "----------\n",
            "\n",
            "Video number:  13\n",
            "Video: 113.tif\n",
            "Number of images: 1 \n",
            "----------\n",
            "\n",
            "Video number:  14\n",
            "Video: 162.tif\n",
            "Number of images: 1 \n",
            "----------\n",
            "\n",
            "Video number:  15\n",
            "Video: 175.tif\n",
            "Number of images: 1 \n",
            "----------\n",
            "\n",
            "Video number:  16\n",
            "Video: 135.tif\n",
            "Number of images: 1 \n",
            "----------\n",
            "\n",
            "Video number:  17\n",
            "Video: 003.tif\n",
            "Number of images: 1 \n",
            "----------\n",
            "\n",
            "Video number:  18\n",
            "Video: 193.tif\n",
            "Number of images: 1 \n",
            "----------\n",
            "\n",
            "Video number:  19\n",
            "Video: 146.tif\n",
            "Number of images: 1 \n",
            "----------\n",
            "\n",
            "Video number:  20\n",
            "Video: 010.tif\n",
            "Number of images: 1 \n",
            "----------\n",
            "\n",
            "Video number:  21\n",
            "Video: 077.tif\n",
            "Number of images: 1 \n",
            "----------\n",
            "\n",
            "Video number:  22\n",
            "Video: 127.tif\n",
            "Number of images: 1 \n",
            "----------\n",
            "\n",
            "Video number:  23\n",
            "Video: 144.tif\n",
            "Number of images: 1 \n",
            "----------\n",
            "\n",
            "Video number:  24\n",
            "Video: 092.tif\n",
            "Number of images: 1 \n",
            "----------\n",
            "\n",
            "Video number:  25\n",
            "Video: 107.tif\n",
            "Number of images: 1 \n",
            "----------\n",
            "\n",
            "Video number:  26\n",
            "Video: 124.tif\n",
            "Number of images: 1 \n",
            "----------\n",
            "\n",
            "Video number:  27\n",
            "Video: 159.tif\n",
            "Number of images: 1 \n",
            "----------\n",
            "\n",
            "Video number:  28\n",
            "Video: 170.tif\n",
            "Number of images: 1 \n",
            "----------\n",
            "\n",
            "Video number:  29\n",
            "Video: 035.tif\n",
            "Number of images: 1 \n",
            "----------\n",
            "\n",
            "Video number:  30\n",
            "Video: 046.tif\n",
            "Number of images: 1 \n",
            "----------\n",
            "\n",
            "Video number:  31\n",
            "Video: 066.tif\n",
            "Number of images: 1 \n",
            "----------\n",
            "\n",
            "Video number:  32\n",
            "Video: 087.tif\n",
            "Number of images: 1 \n",
            "----------\n",
            "\n",
            "Video number:  33\n",
            "Video: 191.tif\n",
            "Number of images: 1 \n",
            "----------\n",
            "\n",
            "Video number:  34\n",
            "Video: 172.tif\n",
            "Number of images: 1 \n",
            "----------\n",
            "\n",
            "Video number:  35\n",
            "Video: 137.tif\n",
            "Number of images: 1 \n",
            "----------\n",
            "\n",
            "Video number:  36\n",
            "Video: 062.tif\n",
            "Number of images: 1 \n",
            "----------\n",
            "\n",
            "Video number:  37\n",
            "Video: 110.tif\n",
            "Number of images: 1 \n",
            "----------\n",
            "\n",
            "Video number:  38\n",
            "Video: 163.tif\n",
            "Number of images: 1 \n",
            "----------\n",
            "\n",
            "Video number:  39\n",
            "Video: 021.tif\n",
            "Number of images: 1 \n",
            "----------\n",
            "\n",
            "Video number:  40\n",
            "Video: 008.tif\n",
            "Number of images: 1 \n",
            "----------\n",
            "\n",
            "Video number:  41\n",
            "Video: 098.tif\n",
            "Number of images: 1 \n",
            "----------\n",
            "\n",
            "Video number:  42\n",
            "Video: 011.tif\n",
            "Number of images: 1 \n",
            "----------\n",
            "\n",
            "Video number:  43\n",
            "Video: 108.tif\n",
            "Number of images: 1 \n",
            "----------\n",
            "\n",
            "Video number:  44\n",
            "Video: 081.tif\n",
            "Number of images: 1 \n",
            "----------\n",
            "\n",
            "Video number:  45\n",
            "Video: 125.tif\n",
            "Number of images: 1 \n",
            "----------\n",
            "\n",
            "Video number:  46\n",
            "Video: 067.tif\n",
            "Number of images: 1 \n",
            "----------\n",
            "\n",
            "Video number:  47\n",
            "Video: 029.tif\n",
            "Number of images: 1 \n",
            "----------\n",
            "\n",
            "Video number:  48\n",
            "Video: 031.tif\n",
            "Number of images: 1 \n",
            "----------\n",
            "\n",
            "Video number:  49\n",
            "Video: 199.tif\n",
            "Number of images: 1 \n",
            "----------\n",
            "\n",
            "Video number:  50\n",
            "Video: 140.tif\n",
            "Number of images: 1 \n",
            "----------\n",
            "\n",
            "Video number:  51\n",
            "Video: 114.tif\n",
            "Number of images: 1 \n",
            "----------\n",
            "\n",
            "Video number:  52\n",
            "Video: 041.tif\n",
            "Number of images: 1 \n",
            "----------\n",
            "\n",
            "Video number:  53\n",
            "Video: 196.tif\n",
            "Number of images: 1 \n",
            "----------\n",
            "\n",
            "Video number:  54\n",
            "Video: 095.tif\n",
            "Number of images: 1 \n",
            "----------\n",
            "\n",
            "Video number:  55\n",
            "Video: 115.tif\n",
            "Number of images: 1 \n",
            "----------\n",
            "\n",
            "Video number:  56\n",
            "Video: 038.tif\n",
            "Number of images: 1 \n",
            "----------\n",
            "\n",
            "Video number:  57\n",
            "Video: 073.tif\n",
            "Number of images: 1 \n",
            "----------\n",
            "\n",
            "Video number:  58\n",
            "Video: 158.tif\n",
            "Number of images: 1 \n",
            "----------\n",
            "\n",
            "Video number:  59\n",
            "Video: 118.tif\n",
            "Number of images: 1 \n",
            "----------\n",
            "\n",
            "Video number:  60\n",
            "Video: 013.tif\n",
            "Number of images: 1 \n",
            "----------\n",
            "\n",
            "Video number:  61\n",
            "Video: 189.tif\n",
            "Number of images: 1 \n",
            "----------\n",
            "\n",
            "Video number:  62\n",
            "Video: 076.tif\n",
            "Number of images: 1 \n",
            "----------\n",
            "\n",
            "Video number:  63\n",
            "Video: 160.tif\n",
            "Number of images: 1 \n",
            "----------\n",
            "\n",
            "Video number:  64\n",
            "Video: 102.tif\n",
            "Number of images: 1 \n",
            "----------\n",
            "\n",
            "Video number:  65\n",
            "Video: 105.tif\n",
            "Number of images: 1 \n",
            "----------\n",
            "\n",
            "Video number:  66\n",
            "Video: 131.tif\n",
            "Number of images: 1 \n",
            "----------\n",
            "\n",
            "Video number:  67\n",
            "Video: 091.tif\n",
            "Number of images: 1 \n",
            "----------\n",
            "\n",
            "Video number:  68\n",
            "Video: 060.tif\n",
            "Number of images: 1 \n",
            "----------\n",
            "\n",
            "Video number:  69\n",
            "Video: 133.tif\n",
            "Number of images: 1 \n",
            "----------\n",
            "\n",
            "Video number:  70\n",
            "Video: 161.tif\n",
            "Number of images: 1 \n",
            "----------\n",
            "\n",
            "Video number:  71\n",
            "Video: 019.tif\n",
            "Number of images: 1 \n",
            "----------\n",
            "\n",
            "Video number:  72\n",
            "Video: 188.tif\n",
            "Number of images: 1 \n",
            "----------\n",
            "\n",
            "Video number:  73\n",
            "Video: 039.tif\n",
            "Number of images: 1 \n",
            "----------\n",
            "\n",
            "Video number:  74\n",
            "Video: 022.tif\n",
            "Number of images: 1 \n",
            "----------\n",
            "\n",
            "Video number:  75\n",
            "Video: 071.tif\n",
            "Number of images: 1 \n",
            "----------\n",
            "\n",
            "Video number:  76\n",
            "Video: 069.tif\n",
            "Number of images: 1 \n",
            "----------\n",
            "\n",
            "Video number:  77\n",
            "Video: 052.tif\n",
            "Number of images: 1 \n",
            "----------\n",
            "\n",
            "Video number:  78\n",
            "Video: 116.tif\n",
            "Number of images: 1 \n",
            "----------\n",
            "\n",
            "Video number:  79\n",
            "Video: 034.tif\n",
            "Number of images: 1 \n",
            "----------\n",
            "\n",
            "Video number:  80\n",
            "Video: 025.tif\n",
            "Number of images: 1 \n",
            "----------\n",
            "\n",
            "Video number:  81\n",
            "Video: 186.tif\n",
            "Number of images: 1 \n",
            "----------\n",
            "\n",
            "Video number:  82\n",
            "Video: 156.tif\n",
            "Number of images: 1 \n",
            "----------\n",
            "\n",
            "Video number:  83\n",
            "Video: 083.tif\n",
            "Number of images: 1 \n",
            "----------\n",
            "\n",
            "Video number:  84\n",
            "Video: 070.tif\n",
            "Number of images: 1 \n",
            "----------\n",
            "\n",
            "Video number:  85\n",
            "Video: 176.tif\n",
            "Number of images: 1 \n",
            "----------\n",
            "\n",
            "Video number:  86\n",
            "Video: 020.tif\n",
            "Number of images: 1 \n",
            "----------\n",
            "\n",
            "Video number:  87\n",
            "Video: 129.tif\n",
            "Number of images: 1 \n",
            "----------\n",
            "\n",
            "Video number:  88\n",
            "Video: 152.tif\n",
            "Number of images: 1 \n",
            "----------\n",
            "\n",
            "Video number:  89\n",
            "Video: 027.tif\n",
            "Number of images: 1 \n",
            "----------\n",
            "\n",
            "Video number:  90\n",
            "Video: 037.tif\n",
            "Number of images: 1 \n",
            "----------\n",
            "\n",
            "Video number:  91\n",
            "Video: 100.tif\n",
            "Number of images: 1 \n",
            "----------\n",
            "\n",
            "Video number:  92\n",
            "Video: 106.tif\n",
            "Number of images: 1 \n",
            "----------\n",
            "\n",
            "Video number:  93\n",
            "Video: 197.tif\n",
            "Number of images: 1 \n",
            "----------\n",
            "\n",
            "Video number:  94\n",
            "Video: 032.tif\n",
            "Number of images: 1 \n",
            "----------\n",
            "\n",
            "Video number:  95\n",
            "Video: 169.tif\n",
            "Number of images: 1 \n",
            "----------\n",
            "\n",
            "Video number:  96\n",
            "Video: 040.tif\n",
            "Number of images: 1 \n",
            "----------\n",
            "\n",
            "Video number:  97\n",
            "Video: 044.tif\n",
            "Number of images: 1 \n",
            "----------\n",
            "\n",
            "Video number:  98\n",
            "Video: 082.tif\n",
            "Number of images: 1 \n",
            "----------\n",
            "\n",
            "Video number:  99\n",
            "Video: 055.tif\n",
            "Number of images: 1 \n",
            "----------\n",
            "\n",
            "Video number:  100\n",
            "Video: 014.tif\n",
            "Number of images: 1 \n",
            "----------\n",
            "\n",
            "Video number:  101\n",
            "Video: 036.tif\n",
            "Number of images: 1 \n",
            "----------\n",
            "\n",
            "Video number:  102\n",
            "Video: 030.tif\n",
            "Number of images: 1 \n",
            "----------\n",
            "\n",
            "Video number:  103\n",
            "Video: 085.tif\n",
            "Number of images: 1 \n",
            "----------\n",
            "\n",
            "Video number:  104\n",
            "Video: 001.tif\n",
            "Number of images: 1 \n",
            "----------\n",
            "\n",
            "Video number:  105\n",
            "Video: 130.tif\n",
            "Number of images: 1 \n",
            "----------\n",
            "\n",
            "Video number:  106\n",
            "Video: 068.tif\n",
            "Number of images: 1 \n",
            "----------\n",
            "\n",
            "Video number:  107\n",
            "Video: 094.tif\n",
            "Number of images: 1 \n",
            "----------\n",
            "\n",
            "Video number:  108\n",
            "Video: 183.tif\n",
            "Number of images: 1 \n",
            "----------\n",
            "\n",
            "Video number:  109\n",
            "Video: 198.tif\n",
            "Number of images: 1 \n",
            "----------\n",
            "\n",
            "Video number:  110\n",
            "Video: 180.tif\n",
            "Number of images: 1 \n",
            "----------\n",
            "\n",
            "Video number:  111\n",
            "Video: 143.tif\n",
            "Number of images: 1 \n",
            "----------\n",
            "\n",
            "Video number:  112\n",
            "Video: 149.tif\n",
            "Number of images: 1 \n",
            "----------\n",
            "\n",
            "Video number:  113\n",
            "Video: 164.tif\n",
            "Number of images: 1 \n",
            "----------\n",
            "\n",
            "Video number:  114\n",
            "Video: 018.tif\n",
            "Number of images: 1 \n",
            "----------\n",
            "\n",
            "Video number:  115\n",
            "Video: 074.tif\n",
            "Number of images: 1 \n",
            "----------\n",
            "\n",
            "Video number:  116\n",
            "Video: 151.tif\n",
            "Number of images: 1 \n",
            "----------\n",
            "\n",
            "Video number:  117\n",
            "Video: 054.tif\n",
            "Number of images: 1 \n",
            "----------\n",
            "\n",
            "Video number:  118\n",
            "Video: 190.tif\n",
            "Number of images: 1 \n",
            "----------\n",
            "\n",
            "Video number:  119\n",
            "Video: 065.tif\n",
            "Number of images: 1 \n",
            "----------\n",
            "\n",
            "Video number:  120\n",
            "Video: 045.tif\n",
            "Number of images: 1 \n",
            "----------\n",
            "\n",
            "Video number:  121\n",
            "Video: 057.tif\n",
            "Number of images: 1 \n",
            "----------\n",
            "\n",
            "Video number:  122\n",
            "Video: 090.tif\n",
            "Number of images: 1 \n",
            "----------\n",
            "\n",
            "Video number:  123\n",
            "Video: 049.tif\n",
            "Number of images: 1 \n",
            "----------\n",
            "\n",
            "Video number:  124\n",
            "Video: 154.tif\n",
            "Number of images: 1 \n",
            "----------\n",
            "\n",
            "Video number:  125\n",
            "Video: 023.tif\n",
            "Number of images: 1 \n",
            "----------\n",
            "\n",
            "Video number:  126\n",
            "Video: 128.tif\n",
            "Number of images: 1 \n",
            "----------\n",
            "\n",
            "Video number:  127\n",
            "Video: 080.tif\n",
            "Number of images: 1 \n",
            "----------\n",
            "\n",
            "Video number:  128\n",
            "Video: 168.tif\n",
            "Number of images: 1 \n",
            "----------\n",
            "\n",
            "Video number:  129\n",
            "Video: 050.tif\n",
            "Number of images: 1 \n",
            "----------\n",
            "\n",
            "Video number:  130\n",
            "Video: 117.tif\n",
            "Number of images: 1 \n",
            "----------\n",
            "\n",
            "Video number:  131\n",
            "Video: 126.tif\n",
            "Number of images: 1 \n",
            "----------\n",
            "\n",
            "Video number:  132\n",
            "Video: 058.tif\n",
            "Number of images: 1 \n",
            "----------\n",
            "\n",
            "Video number:  133\n",
            "Video: 153.tif\n",
            "Number of images: 1 \n",
            "----------\n",
            "\n",
            "Video number:  134\n",
            "Video: 024.tif\n",
            "Number of images: 1 \n",
            "----------\n",
            "\n",
            "Video number:  135\n",
            "Video: 086.tif\n",
            "Number of images: 1 \n",
            "----------\n",
            "\n",
            "Video number:  136\n",
            "Video: 111.tif\n",
            "Number of images: 1 \n",
            "----------\n",
            "\n",
            "Video number:  137\n",
            "Video: 075.tif\n",
            "Number of images: 1 \n",
            "----------\n",
            "\n",
            "Video number:  138\n",
            "Video: 179.tif\n",
            "Number of images: 1 \n",
            "----------\n",
            "\n",
            "Video number:  139\n",
            "Video: 056.tif\n",
            "Number of images: 1 \n",
            "----------\n",
            "\n",
            "Video number:  140\n",
            "Video: 150.tif\n",
            "Number of images: 1 \n",
            "----------\n",
            "\n",
            "Video number:  141\n",
            "Video: 063.tif\n",
            "Number of images: 1 \n",
            "----------\n",
            "\n",
            "Video number:  142\n",
            "Video: 181.tif\n",
            "Number of images: 1 \n",
            "----------\n",
            "\n",
            "Video number:  143\n",
            "Video: 006.tif\n",
            "Number of images: 1 \n",
            "----------\n",
            "\n",
            "Video number:  144\n",
            "Video: 012.tif\n",
            "Number of images: 1 \n",
            "----------\n",
            "\n",
            "Video number:  145\n",
            "Video: 177.tif\n",
            "Number of images: 1 \n",
            "----------\n",
            "\n",
            "Video number:  146\n",
            "Video: 192.tif\n",
            "Number of images: 1 \n",
            "----------\n",
            "\n",
            "Video number:  147\n",
            "Video: 002.tif\n",
            "Number of images: 1 \n",
            "----------\n",
            "\n",
            "Video number:  148\n",
            "Video: 099.tif\n",
            "Number of images: 1 \n",
            "----------\n",
            "\n",
            "Video number:  149\n",
            "Video: 120.tif\n",
            "Number of images: 1 \n",
            "----------\n",
            "\n",
            "Video number:  150\n",
            "Video: 184.tif\n",
            "Number of images: 1 \n",
            "----------\n",
            "\n",
            "Video number:  151\n",
            "Video: 185.tif\n",
            "Number of images: 1 \n",
            "----------\n",
            "\n",
            "Video number:  152\n",
            "Video: 033.tif\n",
            "Number of images: 1 \n",
            "----------\n",
            "\n",
            "Video number:  153\n",
            "Video: 103.tif\n",
            "Number of images: 1 \n",
            "----------\n",
            "\n",
            "Video number:  154\n",
            "Video: 089.tif\n",
            "Number of images: 1 \n",
            "----------\n",
            "\n",
            "Video number:  155\n",
            "Video: 134.tif\n",
            "Number of images: 1 \n",
            "----------\n",
            "\n",
            "Video number:  156\n",
            "Video: 061.tif\n",
            "Number of images: 1 \n",
            "----------\n",
            "\n",
            "Video number:  157\n",
            "Video: 109.tif\n",
            "Number of images: 1 \n",
            "----------\n",
            "\n",
            "Video number:  158\n",
            "Video: 007.tif\n",
            "Number of images: 1 \n",
            "----------\n",
            "\n",
            "Video number:  159\n",
            "Video: 059.tif\n",
            "Number of images: 1 \n",
            "----------\n",
            "\n",
            "Video number:  160\n",
            "Video: 101.tif\n",
            "Number of images: 1 \n",
            "----------\n",
            "\n",
            "Video number:  161\n",
            "Video: 079.tif\n",
            "Number of images: 1 \n",
            "----------\n",
            "\n",
            "Video number:  162\n",
            "Video: 173.tif\n",
            "Number of images: 1 \n",
            "----------\n",
            "\n",
            "Video number:  163\n",
            "Video: 121.tif\n",
            "Number of images: 1 \n",
            "----------\n",
            "\n",
            "Video number:  164\n",
            "Video: 026.tif\n",
            "Number of images: 1 \n",
            "----------\n",
            "\n",
            "Video number:  165\n",
            "Video: 142.tif\n",
            "Number of images: 1 \n",
            "----------\n",
            "\n",
            "Video number:  166\n",
            "Video: 122.tif\n",
            "Number of images: 1 \n",
            "----------\n",
            "\n",
            "Video number:  167\n",
            "Video: 187.tif\n",
            "Number of images: 1 \n",
            "----------\n",
            "\n",
            "Video number:  168\n",
            "Video: 182.tif\n",
            "Number of images: 1 \n",
            "----------\n",
            "\n",
            "Video number:  169\n",
            "Video: 138.tif\n",
            "Number of images: 1 \n",
            "----------\n",
            "\n",
            "Video number:  170\n",
            "Video: 015.tif\n",
            "Number of images: 1 \n",
            "----------\n",
            "\n",
            "Video number:  171\n",
            "Video: 016.tif\n",
            "Number of images: 1 \n",
            "----------\n",
            "\n",
            "Video number:  172\n",
            "Video: 096.tif\n",
            "Number of images: 1 \n",
            "----------\n",
            "\n",
            "Video number:  173\n",
            "Video: 078.tif\n",
            "Number of images: 1 \n",
            "----------\n",
            "\n",
            "Video number:  174\n",
            "Video: 093.tif\n",
            "Number of images: 1 \n",
            "----------\n",
            "\n",
            "Video number:  175\n",
            "Video: 112.tif\n",
            "Number of images: 1 \n",
            "----------\n",
            "\n",
            "Video number:  176\n",
            "Video: 165.tif\n",
            "Number of images: 1 \n",
            "----------\n",
            "\n",
            "Video number:  177\n",
            "Video: 053.tif\n",
            "Number of images: 1 \n",
            "----------\n",
            "\n",
            "Video number:  178\n",
            "Video: 200.tif\n",
            "Number of images: 1 \n",
            "----------\n",
            "\n",
            "Video number:  179\n",
            "Video: 123.tif\n",
            "Number of images: 1 \n",
            "----------\n",
            "\n",
            "Video number:  180\n",
            "Video: 047.tif\n",
            "Number of images: 1 \n",
            "----------\n",
            "\n",
            "Video number:  181\n",
            "Video: 048.tif\n",
            "Number of images: 1 \n",
            "----------\n",
            "\n",
            "Video number:  182\n",
            "Video: 195.tif\n",
            "Number of images: 1 \n",
            "----------\n",
            "\n",
            "Video number:  183\n",
            "Video: 028.tif\n",
            "Number of images: 1 \n",
            "----------\n",
            "\n",
            "Video number:  184\n",
            "Video: 009.tif\n",
            "Number of images: 1 \n",
            "----------\n",
            "\n",
            "Video number:  185\n",
            "Video: 148.tif\n",
            "Number of images: 1 \n",
            "----------\n",
            "\n",
            "Video number:  186\n",
            "Video: 147.tif\n",
            "Number of images: 1 \n",
            "----------\n",
            "\n",
            "Video number:  187\n",
            "Video: 145.tif\n",
            "Number of images: 1 \n",
            "----------\n",
            "\n",
            "Video number:  188\n",
            "Video: 005.tif\n",
            "Number of images: 1 \n",
            "----------\n",
            "\n",
            "Video number:  189\n",
            "Video: 042.tif\n",
            "Number of images: 1 \n",
            "----------\n",
            "\n",
            "Video number:  190\n",
            "Video: 155.tif\n",
            "Number of images: 1 \n",
            "----------\n",
            "\n",
            "Video number:  191\n",
            "Video: 104.tif\n",
            "Number of images: 1 \n",
            "----------\n",
            "\n",
            "Video number:  192\n",
            "Video: 088.tif\n",
            "Number of images: 1 \n",
            "----------\n",
            "\n",
            "Video number:  193\n",
            "Video: 194.tif\n",
            "Number of images: 1 \n",
            "----------\n",
            "\n",
            "Video number:  194\n",
            "Video: 132.tif\n",
            "Number of images: 1 \n",
            "----------\n",
            "\n",
            "Video number:  195\n",
            "Video: 097.tif\n",
            "Number of images: 1 \n",
            "----------\n",
            "\n",
            "Video number:  196\n",
            "Video: 072.tif\n",
            "Number of images: 1 \n",
            "----------\n",
            "\n",
            "Video number:  197\n",
            "Video: 064.tif\n",
            "Number of images: 1 \n",
            "----------\n",
            "\n",
            "Video number:  198\n",
            "Video: 084.tif\n",
            "Number of images: 1 \n",
            "----------\n",
            "\n",
            "Video number:  199\n",
            "Video: 174.tif\n",
            "Number of images: 1 \n",
            "----------\n",
            "\n",
            "Video number:  200\n",
            "Video: 017.tif\n",
            "Number of images: 1 \n",
            "----------\n",
            "\n",
            "Program ended. All testing videos shall be stored in tester.npy \n",
            " Please wait while tester.npy is created. \n",
            "Refresh when needed\n",
            "Number of frames created : 200\n",
            "Number of bunches= 200 /10 =  20\n",
            "\n",
            "Corrupted and unreadable bunches were ignored\n",
            "Found  200  testing videos\n",
            "Video number:  1\n",
            "Video: 139.tif\n",
            "Number of images: 1 \n",
            "----------\n",
            "\n",
            "Video number:  2\n",
            "Video: 051.tif\n",
            "Number of images: 1 \n",
            "----------\n",
            "\n",
            "Video number:  3\n",
            "Video: 166.tif\n",
            "Number of images: 1 \n",
            "----------\n",
            "\n",
            "Video number:  4\n",
            "Video: 136.tif\n",
            "Number of images: 1 \n",
            "----------\n",
            "\n",
            "Video number:  5\n",
            "Video: 178.tif\n",
            "Number of images: 1 \n",
            "----------\n",
            "\n",
            "Video number:  6\n",
            "Video: 043.tif\n",
            "Number of images: 1 \n",
            "----------\n",
            "\n",
            "Video number:  7\n",
            "Video: 167.tif\n",
            "Number of images: 1 \n",
            "----------\n",
            "\n",
            "Video number:  8\n",
            "Video: 004.tif\n",
            "Number of images: 1 \n",
            "----------\n",
            "\n",
            "Video number:  9\n",
            "Video: 171.tif\n",
            "Number of images: 1 \n",
            "----------\n",
            "\n",
            "Video number:  10\n",
            "Video: 157.tif\n",
            "Number of images: 1 \n",
            "----------\n",
            "\n",
            "Video number:  11\n",
            "Video: 119.tif\n",
            "Number of images: 1 \n",
            "----------\n",
            "\n",
            "Video number:  12\n",
            "Video: 141.tif\n",
            "Number of images: 1 \n",
            "----------\n",
            "\n",
            "Video number:  13\n",
            "Video: 113.tif\n",
            "Number of images: 1 \n",
            "----------\n",
            "\n",
            "Video number:  14\n",
            "Video: 162.tif\n",
            "Number of images: 1 \n",
            "----------\n",
            "\n",
            "Video number:  15\n",
            "Video: 175.tif\n",
            "Number of images: 1 \n",
            "----------\n",
            "\n",
            "Video number:  16\n",
            "Video: 135.tif\n",
            "Number of images: 1 \n",
            "----------\n",
            "\n",
            "Video number:  17\n",
            "Video: 003.tif\n",
            "Number of images: 1 \n",
            "----------\n",
            "\n",
            "Video number:  18\n",
            "Video: 193.tif\n",
            "Number of images: 1 \n",
            "----------\n",
            "\n",
            "Video number:  19\n",
            "Video: 146.tif\n",
            "Number of images: 1 \n",
            "----------\n",
            "\n",
            "Video number:  20\n",
            "Video: 010.tif\n",
            "Number of images: 1 \n",
            "----------\n",
            "\n",
            "Video number:  21\n",
            "Video: 077.tif\n",
            "Number of images: 1 \n",
            "----------\n",
            "\n",
            "Video number:  22\n",
            "Video: 127.tif\n",
            "Number of images: 1 \n",
            "----------\n",
            "\n",
            "Video number:  23\n",
            "Video: 144.tif\n",
            "Number of images: 1 \n",
            "----------\n",
            "\n",
            "Video number:  24\n",
            "Video: 092.tif\n",
            "Number of images: 1 \n",
            "----------\n",
            "\n",
            "Video number:  25\n",
            "Video: 107.tif\n",
            "Number of images: 1 \n",
            "----------\n",
            "\n",
            "Video number:  26\n",
            "Video: 124.tif\n",
            "Number of images: 1 \n",
            "----------\n",
            "\n",
            "Video number:  27\n",
            "Video: 159.tif\n",
            "Number of images: 1 \n",
            "----------\n",
            "\n",
            "Video number:  28\n",
            "Video: 170.tif\n",
            "Number of images: 1 \n",
            "----------\n",
            "\n",
            "Video number:  29\n",
            "Video: 035.tif\n",
            "Number of images: 1 \n",
            "----------\n",
            "\n",
            "Video number:  30\n",
            "Video: 046.tif\n",
            "Number of images: 1 \n",
            "----------\n",
            "\n",
            "Video number:  31\n",
            "Video: 066.tif\n",
            "Number of images: 1 \n",
            "----------\n",
            "\n",
            "Video number:  32\n",
            "Video: 087.tif\n",
            "Number of images: 1 \n",
            "----------\n",
            "\n",
            "Video number:  33\n",
            "Video: 191.tif\n",
            "Number of images: 1 \n",
            "----------\n",
            "\n",
            "Video number:  34\n",
            "Video: 172.tif\n",
            "Number of images: 1 \n",
            "----------\n",
            "\n",
            "Video number:  35\n",
            "Video: 137.tif\n",
            "Number of images: 1 \n",
            "----------\n",
            "\n",
            "Video number:  36\n",
            "Video: 062.tif\n",
            "Number of images: 1 \n",
            "----------\n",
            "\n",
            "Video number:  37\n",
            "Video: 110.tif\n",
            "Number of images: 1 \n",
            "----------\n",
            "\n",
            "Video number:  38\n",
            "Video: 163.tif\n",
            "Number of images: 1 \n",
            "----------\n",
            "\n",
            "Video number:  39\n",
            "Video: 021.tif\n",
            "Number of images: 1 \n",
            "----------\n",
            "\n",
            "Video number:  40\n",
            "Video: 008.tif\n",
            "Number of images: 1 \n",
            "----------\n",
            "\n",
            "Video number:  41\n",
            "Video: 098.tif\n",
            "Number of images: 1 \n",
            "----------\n",
            "\n",
            "Video number:  42\n",
            "Video: 011.tif\n",
            "Number of images: 1 \n",
            "----------\n",
            "\n",
            "Video number:  43\n",
            "Video: 108.tif\n",
            "Number of images: 1 \n",
            "----------\n",
            "\n",
            "Video number:  44\n",
            "Video: 081.tif\n",
            "Number of images: 1 \n",
            "----------\n",
            "\n",
            "Video number:  45\n",
            "Video: 125.tif\n",
            "Number of images: 1 \n",
            "----------\n",
            "\n",
            "Video number:  46\n",
            "Video: 067.tif\n",
            "Number of images: 1 \n",
            "----------\n",
            "\n",
            "Video number:  47\n",
            "Video: 029.tif\n",
            "Number of images: 1 \n",
            "----------\n",
            "\n",
            "Video number:  48\n",
            "Video: 031.tif\n",
            "Number of images: 1 \n",
            "----------\n",
            "\n",
            "Video number:  49\n",
            "Video: 199.tif\n",
            "Number of images: 1 \n",
            "----------\n",
            "\n",
            "Video number:  50\n",
            "Video: 140.tif\n",
            "Number of images: 1 \n",
            "----------\n",
            "\n",
            "Video number:  51\n",
            "Video: 114.tif\n",
            "Number of images: 1 \n",
            "----------\n",
            "\n",
            "Video number:  52\n",
            "Video: 041.tif\n",
            "Number of images: 1 \n",
            "----------\n",
            "\n",
            "Video number:  53\n",
            "Video: 196.tif\n",
            "Number of images: 1 \n",
            "----------\n",
            "\n",
            "Video number:  54\n",
            "Video: 095.tif\n",
            "Number of images: 1 \n",
            "----------\n",
            "\n",
            "Video number:  55\n",
            "Video: 115.tif\n",
            "Number of images: 1 \n",
            "----------\n",
            "\n",
            "Video number:  56\n",
            "Video: 038.tif\n",
            "Number of images: 1 \n",
            "----------\n",
            "\n",
            "Video number:  57\n",
            "Video: 073.tif\n",
            "Number of images: 1 \n",
            "----------\n",
            "\n",
            "Video number:  58\n",
            "Video: 158.tif\n",
            "Number of images: 1 \n",
            "----------\n",
            "\n",
            "Video number:  59\n",
            "Video: 118.tif\n",
            "Number of images: 1 \n",
            "----------\n",
            "\n",
            "Video number:  60\n",
            "Video: 013.tif\n",
            "Number of images: 1 \n",
            "----------\n",
            "\n",
            "Video number:  61\n",
            "Video: 189.tif\n",
            "Number of images: 1 \n",
            "----------\n",
            "\n",
            "Video number:  62\n",
            "Video: 076.tif\n",
            "Number of images: 1 \n",
            "----------\n",
            "\n",
            "Video number:  63\n",
            "Video: 160.tif\n",
            "Number of images: 1 \n",
            "----------\n",
            "\n",
            "Video number:  64\n",
            "Video: 102.tif\n",
            "Number of images: 1 \n",
            "----------\n",
            "\n",
            "Video number:  65\n",
            "Video: 105.tif\n",
            "Number of images: 1 \n",
            "----------\n",
            "\n",
            "Video number:  66\n",
            "Video: 131.tif\n",
            "Number of images: 1 \n",
            "----------\n",
            "\n",
            "Video number:  67\n",
            "Video: 091.tif\n",
            "Number of images: 1 \n",
            "----------\n",
            "\n",
            "Video number:  68\n",
            "Video: 060.tif\n",
            "Number of images: 1 \n",
            "----------\n",
            "\n",
            "Video number:  69\n",
            "Video: 133.tif\n",
            "Number of images: 1 \n",
            "----------\n",
            "\n",
            "Video number:  70\n",
            "Video: 161.tif\n",
            "Number of images: 1 \n",
            "----------\n",
            "\n",
            "Video number:  71\n",
            "Video: 019.tif\n",
            "Number of images: 1 \n",
            "----------\n",
            "\n",
            "Video number:  72\n",
            "Video: 188.tif\n",
            "Number of images: 1 \n",
            "----------\n",
            "\n",
            "Video number:  73\n",
            "Video: 039.tif\n",
            "Number of images: 1 \n",
            "----------\n",
            "\n",
            "Video number:  74\n",
            "Video: 022.tif\n",
            "Number of images: 1 \n",
            "----------\n",
            "\n",
            "Video number:  75\n",
            "Video: 071.tif\n",
            "Number of images: 1 \n",
            "----------\n",
            "\n",
            "Video number:  76\n",
            "Video: 069.tif\n",
            "Number of images: 1 \n",
            "----------\n",
            "\n",
            "Video number:  77\n",
            "Video: 052.tif\n",
            "Number of images: 1 \n",
            "----------\n",
            "\n",
            "Video number:  78\n",
            "Video: 116.tif\n",
            "Number of images: 1 \n",
            "----------\n",
            "\n",
            "Video number:  79\n",
            "Video: 034.tif\n",
            "Number of images: 1 \n",
            "----------\n",
            "\n",
            "Video number:  80\n",
            "Video: 025.tif\n",
            "Number of images: 1 \n",
            "----------\n",
            "\n",
            "Video number:  81\n",
            "Video: 186.tif\n",
            "Number of images: 1 \n",
            "----------\n",
            "\n",
            "Video number:  82\n",
            "Video: 156.tif\n",
            "Number of images: 1 \n",
            "----------\n",
            "\n",
            "Video number:  83\n",
            "Video: 083.tif\n",
            "Number of images: 1 \n",
            "----------\n",
            "\n",
            "Video number:  84\n",
            "Video: 070.tif\n",
            "Number of images: 1 \n",
            "----------\n",
            "\n",
            "Video number:  85\n",
            "Video: 176.tif\n",
            "Number of images: 1 \n",
            "----------\n",
            "\n",
            "Video number:  86\n",
            "Video: 020.tif\n",
            "Number of images: 1 \n",
            "----------\n",
            "\n",
            "Video number:  87\n",
            "Video: 129.tif\n",
            "Number of images: 1 \n",
            "----------\n",
            "\n",
            "Video number:  88\n",
            "Video: 152.tif\n",
            "Number of images: 1 \n",
            "----------\n",
            "\n",
            "Video number:  89\n",
            "Video: 027.tif\n",
            "Number of images: 1 \n",
            "----------\n",
            "\n",
            "Video number:  90\n",
            "Video: 037.tif\n",
            "Number of images: 1 \n",
            "----------\n",
            "\n",
            "Video number:  91\n",
            "Video: 100.tif\n",
            "Number of images: 1 \n",
            "----------\n",
            "\n",
            "Video number:  92\n",
            "Video: 106.tif\n",
            "Number of images: 1 \n",
            "----------\n",
            "\n",
            "Video number:  93\n",
            "Video: 197.tif\n",
            "Number of images: 1 \n",
            "----------\n",
            "\n",
            "Video number:  94\n",
            "Video: 032.tif\n",
            "Number of images: 1 \n",
            "----------\n",
            "\n",
            "Video number:  95\n",
            "Video: 169.tif\n",
            "Number of images: 1 \n",
            "----------\n",
            "\n",
            "Video number:  96\n",
            "Video: 040.tif\n",
            "Number of images: 1 \n",
            "----------\n",
            "\n",
            "Video number:  97\n",
            "Video: 044.tif\n",
            "Number of images: 1 \n",
            "----------\n",
            "\n",
            "Video number:  98\n",
            "Video: 082.tif\n",
            "Number of images: 1 \n",
            "----------\n",
            "\n",
            "Video number:  99\n",
            "Video: 055.tif\n",
            "Number of images: 1 \n",
            "----------\n",
            "\n",
            "Video number:  100\n",
            "Video: 014.tif\n",
            "Number of images: 1 \n",
            "----------\n",
            "\n",
            "Video number:  101\n",
            "Video: 036.tif\n",
            "Number of images: 1 \n",
            "----------\n",
            "\n",
            "Video number:  102\n",
            "Video: 030.tif\n",
            "Number of images: 1 \n",
            "----------\n",
            "\n",
            "Video number:  103\n",
            "Video: 085.tif\n",
            "Number of images: 1 \n",
            "----------\n",
            "\n",
            "Video number:  104\n",
            "Video: 001.tif\n",
            "Number of images: 1 \n",
            "----------\n",
            "\n",
            "Video number:  105\n",
            "Video: 130.tif\n",
            "Number of images: 1 \n",
            "----------\n",
            "\n",
            "Video number:  106\n",
            "Video: 068.tif\n",
            "Number of images: 1 \n",
            "----------\n",
            "\n",
            "Video number:  107\n",
            "Video: 094.tif\n",
            "Number of images: 1 \n",
            "----------\n",
            "\n",
            "Video number:  108\n",
            "Video: 183.tif\n",
            "Number of images: 1 \n",
            "----------\n",
            "\n",
            "Video number:  109\n",
            "Video: 198.tif\n",
            "Number of images: 1 \n",
            "----------\n",
            "\n",
            "Video number:  110\n",
            "Video: 180.tif\n",
            "Number of images: 1 \n",
            "----------\n",
            "\n",
            "Video number:  111\n",
            "Video: 143.tif\n",
            "Number of images: 1 \n",
            "----------\n",
            "\n",
            "Video number:  112\n",
            "Video: 149.tif\n",
            "Number of images: 1 \n",
            "----------\n",
            "\n",
            "Video number:  113\n",
            "Video: 164.tif\n",
            "Number of images: 1 \n",
            "----------\n",
            "\n",
            "Video number:  114\n",
            "Video: 018.tif\n",
            "Number of images: 1 \n",
            "----------\n",
            "\n",
            "Video number:  115\n",
            "Video: 074.tif\n",
            "Number of images: 1 \n",
            "----------\n",
            "\n",
            "Video number:  116\n",
            "Video: 151.tif\n",
            "Number of images: 1 \n",
            "----------\n",
            "\n",
            "Video number:  117\n",
            "Video: 054.tif\n",
            "Number of images: 1 \n",
            "----------\n",
            "\n",
            "Video number:  118\n",
            "Video: 190.tif\n",
            "Number of images: 1 \n",
            "----------\n",
            "\n",
            "Video number:  119\n",
            "Video: 065.tif\n",
            "Number of images: 1 \n",
            "----------\n",
            "\n",
            "Video number:  120\n",
            "Video: 045.tif\n",
            "Number of images: 1 \n",
            "----------\n",
            "\n",
            "Video number:  121\n",
            "Video: 057.tif\n",
            "Number of images: 1 \n",
            "----------\n",
            "\n",
            "Video number:  122\n",
            "Video: 090.tif\n",
            "Number of images: 1 \n",
            "----------\n",
            "\n",
            "Video number:  123\n",
            "Video: 049.tif\n",
            "Number of images: 1 \n",
            "----------\n",
            "\n",
            "Video number:  124\n",
            "Video: 154.tif\n",
            "Number of images: 1 \n",
            "----------\n",
            "\n",
            "Video number:  125\n",
            "Video: 023.tif\n",
            "Number of images: 1 \n",
            "----------\n",
            "\n",
            "Video number:  126\n",
            "Video: 128.tif\n",
            "Number of images: 1 \n",
            "----------\n",
            "\n",
            "Video number:  127\n",
            "Video: 080.tif\n",
            "Number of images: 1 \n",
            "----------\n",
            "\n",
            "Video number:  128\n",
            "Video: 168.tif\n",
            "Number of images: 1 \n",
            "----------\n",
            "\n",
            "Video number:  129\n",
            "Video: 050.tif\n",
            "Number of images: 1 \n",
            "----------\n",
            "\n",
            "Video number:  130\n",
            "Video: 117.tif\n",
            "Number of images: 1 \n",
            "----------\n",
            "\n",
            "Video number:  131\n",
            "Video: 126.tif\n",
            "Number of images: 1 \n",
            "----------\n",
            "\n",
            "Video number:  132\n",
            "Video: 058.tif\n",
            "Number of images: 1 \n",
            "----------\n",
            "\n",
            "Video number:  133\n",
            "Video: 153.tif\n",
            "Number of images: 1 \n",
            "----------\n",
            "\n",
            "Video number:  134\n",
            "Video: 024.tif\n",
            "Number of images: 1 \n",
            "----------\n",
            "\n",
            "Video number:  135\n",
            "Video: 086.tif\n",
            "Number of images: 1 \n",
            "----------\n",
            "\n",
            "Video number:  136\n",
            "Video: 111.tif\n",
            "Number of images: 1 \n",
            "----------\n",
            "\n",
            "Video number:  137\n",
            "Video: 075.tif\n",
            "Number of images: 1 \n",
            "----------\n",
            "\n",
            "Video number:  138\n",
            "Video: 179.tif\n",
            "Number of images: 1 \n",
            "----------\n",
            "\n",
            "Video number:  139\n",
            "Video: 056.tif\n",
            "Number of images: 1 \n",
            "----------\n",
            "\n",
            "Video number:  140\n",
            "Video: 150.tif\n",
            "Number of images: 1 \n",
            "----------\n",
            "\n",
            "Video number:  141\n",
            "Video: 063.tif\n",
            "Number of images: 1 \n",
            "----------\n",
            "\n",
            "Video number:  142\n",
            "Video: 181.tif\n",
            "Number of images: 1 \n",
            "----------\n",
            "\n",
            "Video number:  143\n",
            "Video: 006.tif\n",
            "Number of images: 1 \n",
            "----------\n",
            "\n",
            "Video number:  144\n",
            "Video: 012.tif\n",
            "Number of images: 1 \n",
            "----------\n",
            "\n",
            "Video number:  145\n",
            "Video: 177.tif\n",
            "Number of images: 1 \n",
            "----------\n",
            "\n",
            "Video number:  146\n",
            "Video: 192.tif\n",
            "Number of images: 1 \n",
            "----------\n",
            "\n",
            "Video number:  147\n",
            "Video: 002.tif\n",
            "Number of images: 1 \n",
            "----------\n",
            "\n",
            "Video number:  148\n",
            "Video: 099.tif\n",
            "Number of images: 1 \n",
            "----------\n",
            "\n",
            "Video number:  149\n",
            "Video: 120.tif\n",
            "Number of images: 1 \n",
            "----------\n",
            "\n",
            "Video number:  150\n",
            "Video: 184.tif\n",
            "Number of images: 1 \n",
            "----------\n",
            "\n",
            "Video number:  151\n",
            "Video: 185.tif\n",
            "Number of images: 1 \n",
            "----------\n",
            "\n",
            "Video number:  152\n",
            "Video: 033.tif\n",
            "Number of images: 1 \n",
            "----------\n",
            "\n",
            "Video number:  153\n",
            "Video: 103.tif\n",
            "Number of images: 1 \n",
            "----------\n",
            "\n",
            "Video number:  154\n",
            "Video: 089.tif\n",
            "Number of images: 1 \n",
            "----------\n",
            "\n",
            "Video number:  155\n",
            "Video: 134.tif\n",
            "Number of images: 1 \n",
            "----------\n",
            "\n",
            "Video number:  156\n",
            "Video: 061.tif\n",
            "Number of images: 1 \n",
            "----------\n",
            "\n",
            "Video number:  157\n",
            "Video: 109.tif\n",
            "Number of images: 1 \n",
            "----------\n",
            "\n",
            "Video number:  158\n",
            "Video: 007.tif\n",
            "Number of images: 1 \n",
            "----------\n",
            "\n",
            "Video number:  159\n",
            "Video: 059.tif\n",
            "Number of images: 1 \n",
            "----------\n",
            "\n",
            "Video number:  160\n",
            "Video: 101.tif\n",
            "Number of images: 1 \n",
            "----------\n",
            "\n",
            "Video number:  161\n",
            "Video: 079.tif\n",
            "Number of images: 1 \n",
            "----------\n",
            "\n",
            "Video number:  162\n",
            "Video: 173.tif\n",
            "Number of images: 1 \n",
            "----------\n",
            "\n",
            "Video number:  163\n",
            "Video: 121.tif\n",
            "Number of images: 1 \n",
            "----------\n",
            "\n",
            "Video number:  164\n",
            "Video: 026.tif\n",
            "Number of images: 1 \n",
            "----------\n",
            "\n",
            "Video number:  165\n",
            "Video: 142.tif\n",
            "Number of images: 1 \n",
            "----------\n",
            "\n",
            "Video number:  166\n",
            "Video: 122.tif\n",
            "Number of images: 1 \n",
            "----------\n",
            "\n",
            "Video number:  167\n",
            "Video: 187.tif\n",
            "Number of images: 1 \n",
            "----------\n",
            "\n",
            "Video number:  168\n",
            "Video: 182.tif\n",
            "Number of images: 1 \n",
            "----------\n",
            "\n",
            "Video number:  169\n",
            "Video: 138.tif\n",
            "Number of images: 1 \n",
            "----------\n",
            "\n",
            "Video number:  170\n",
            "Video: 015.tif\n",
            "Number of images: 1 \n",
            "----------\n",
            "\n",
            "Video number:  171\n",
            "Video: 016.tif\n",
            "Number of images: 1 \n",
            "----------\n",
            "\n",
            "Video number:  172\n",
            "Video: 096.tif\n",
            "Number of images: 1 \n",
            "----------\n",
            "\n",
            "Video number:  173\n",
            "Video: 078.tif\n",
            "Number of images: 1 \n",
            "----------\n",
            "\n",
            "Video number:  174\n",
            "Video: 093.tif\n",
            "Number of images: 1 \n",
            "----------\n",
            "\n",
            "Video number:  175\n",
            "Video: 112.tif\n",
            "Number of images: 1 \n",
            "----------\n",
            "\n",
            "Video number:  176\n",
            "Video: 165.tif\n",
            "Number of images: 1 \n",
            "----------\n",
            "\n",
            "Video number:  177\n",
            "Video: 053.tif\n",
            "Number of images: 1 \n",
            "----------\n",
            "\n",
            "Video number:  178\n",
            "Video: 200.tif\n",
            "Number of images: 1 \n",
            "----------\n",
            "\n",
            "Video number:  179\n",
            "Video: 123.tif\n",
            "Number of images: 1 \n",
            "----------\n",
            "\n",
            "Video number:  180\n",
            "Video: 047.tif\n",
            "Number of images: 1 \n",
            "----------\n",
            "\n",
            "Video number:  181\n",
            "Video: 048.tif\n",
            "Number of images: 1 \n",
            "----------\n",
            "\n",
            "Video number:  182\n",
            "Video: 195.tif\n",
            "Number of images: 1 \n",
            "----------\n",
            "\n",
            "Video number:  183\n",
            "Video: 028.tif\n",
            "Number of images: 1 \n",
            "----------\n",
            "\n",
            "Video number:  184\n",
            "Video: 009.tif\n",
            "Number of images: 1 \n",
            "----------\n",
            "\n",
            "Video number:  185\n",
            "Video: 148.tif\n",
            "Number of images: 1 \n",
            "----------\n",
            "\n",
            "Video number:  186\n",
            "Video: 147.tif\n",
            "Number of images: 1 \n",
            "----------\n",
            "\n",
            "Video number:  187\n",
            "Video: 145.tif\n",
            "Number of images: 1 \n",
            "----------\n",
            "\n",
            "Video number:  188\n",
            "Video: 005.tif\n",
            "Number of images: 1 \n",
            "----------\n",
            "\n",
            "Video number:  189\n",
            "Video: 042.tif\n",
            "Number of images: 1 \n",
            "----------\n",
            "\n",
            "Video number:  190\n",
            "Video: 155.tif\n",
            "Number of images: 1 \n",
            "----------\n",
            "\n",
            "Video number:  191\n",
            "Video: 104.tif\n",
            "Number of images: 1 \n",
            "----------\n",
            "\n",
            "Video number:  192\n",
            "Video: 088.tif\n",
            "Number of images: 1 \n",
            "----------\n",
            "\n",
            "Video number:  193\n",
            "Video: 194.tif\n",
            "Number of images: 1 \n",
            "----------\n",
            "\n",
            "Video number:  194\n",
            "Video: 132.tif\n",
            "Number of images: 1 \n",
            "----------\n",
            "\n",
            "Video number:  195\n",
            "Video: 097.tif\n",
            "Number of images: 1 \n",
            "----------\n",
            "\n",
            "Video number:  196\n",
            "Video: 072.tif\n",
            "Number of images: 1 \n",
            "----------\n",
            "\n",
            "Video number:  197\n",
            "Video: 064.tif\n",
            "Number of images: 1 \n",
            "----------\n",
            "\n",
            "Video number:  198\n",
            "Video: 084.tif\n",
            "Number of images: 1 \n",
            "----------\n",
            "\n",
            "Video number:  199\n",
            "Video: 174.tif\n",
            "Number of images: 1 \n",
            "----------\n",
            "\n",
            "Video number:  200\n",
            "Video: 017.tif\n",
            "Number of images: 1 \n",
            "----------\n",
            "\n",
            "Program ended. All testing videos shall be stored in tester.npy \n",
            " Please wait while tester.npy is created. \n",
            "Refresh when needed\n",
            "Number of frames created : 200\n",
            "Number of bunches= 200 /10 =  20\n",
            "\n",
            "Corrupted and unreadable bunches were ignored\n"
          ]
        }
      ],
      "source": [
        "from tensorflow.keras.utils import img_to_array,load_img\n",
        "import numpy as np\n",
        "import glob\n",
        "import os\n",
        "from skimage import data, color\n",
        "from skimage.transform import rescale, resize, downscale_local_mean\n",
        "import argparse\n",
        "from PIL import Image\n",
        "imagestore=[]\n",
        "\n",
        "\n",
        "for i in range(1,47):\n",
        "  video_source_path='/content/drive/MyDrive/UCSD_Anomaly_Dataset.v1p2/UCSDped1/Test/'+str(i)\n",
        "  imagestore=[]\n",
        "  fps=5\n",
        "#fps refers to the number of seconds after which one frame will be taken . fps=5 means 1 frame after every 5 seconds. More like seconds per frame.\n",
        "\n",
        "  def create_dir(path):\n",
        "\t  if not os.path.exists(path):\n",
        "\t\t  os.makedirs(path)\n",
        "\n",
        "  def remove_old_images(path):\n",
        "\t  filelist = glob.glob(os.path.join(path, \"*.png\"))\n",
        "\t  for f in filelist:\n",
        "\t\t  os.remove(f)\n",
        "\n",
        "  def store(image_path):\n",
        "\t  img=load_img(image_path)\n",
        "\t  img=img_to_array(img)\n",
        "\n",
        "\n",
        "\t#Resize the Image to (227,227,3) for the network to be able to process it.\n",
        "\n",
        "\n",
        "\t  img=resize(img,(227,227,3))\n",
        "\n",
        "\t#Convert the Image to Grayscale\n",
        "\n",
        "\n",
        "\t  gray=0.2989*img[:,:,0]+0.5870*img[:,:,1]+0.1140*img[:,:,2]\n",
        "\n",
        "\t  imagestore.append(gray)\n",
        "#List of all Videos in the Source Directory.\n",
        "  videos=os.listdir(video_source_path)\n",
        "  print(\"Found \",len(videos),\" testing videos\")\n",
        "\n",
        "\n",
        "#Make a temp dir to store all the frames\n",
        "  create_dir(video_source_path+'/frames')\n",
        "\n",
        "#Remove old images\n",
        "  remove_old_images(video_source_path+'/frames')\n",
        "\n",
        "  framepath=video_source_path+'/frames'\n",
        "  total=0\n",
        "  video_count=0\n",
        "\n",
        "  for video in videos:\n",
        "\t\t  video_count+=1\n",
        "\t\t  print(\"Video number: \",video_count)\n",
        "\t\t  print(\"Video:\",str(video))\n",
        "\t\t  image_count=0\n",
        "\t\t  os.system( 'ffmpeg -i {}/{} -r 1/{}  {}/frames/%03d.jpg'.format(video_source_path,video,fps,video_source_path))\n",
        "\t\t  images=os.listdir(framepath)\n",
        "\t\t  image_count=len(images)\n",
        "\t\t  for image in images:\n",
        "\t\t\t  image_path=framepath+ '/'+ image\n",
        "\t\t\t  store(image_path)\n",
        "\t\t  total=len(images)+total\n",
        "\t\t  print(\"Number of images:\",image_count,\"\\n----------\\n\")\n",
        "\n",
        "\n",
        "  imagestore=np.array(imagestore)\n",
        "  a,b,c=imagestore.shape\n",
        "#Reshape to (227,227,batch_size)\n",
        "  imagestore.resize(b,c,a)\n",
        "#Normalize\n",
        "  imagestore=(imagestore-imagestore.mean())/(imagestore.std())\n",
        "#Clip negative Values\n",
        "  imagestore=np.clip(imagestore,0,1)\n",
        "  np.save('tester.npy',imagestore)\n",
        "#Remove Buffer Directory\n",
        "  os.system('rm -r {}'.format(framepath))\n",
        "\n",
        "  print(\"Program ended. All testing videos shall be stored in tester.npy \\n Please wait while tester.npy is created. \\nRefresh when needed\")\n",
        "  print('Number of frames created :', int(total))\n",
        "  print ('Number of bunches=',int(total),\"/10 = \",int(total/10))\n",
        "  print(\"\\nCorrupted and unreadable bunches were ignored\")\n",
        "\n",
        "\n",
        "\n"
      ]
    },
    {
      "cell_type": "code",
      "execution_count": null,
      "metadata": {
        "colab": {
          "base_uri": "https://localhost:8080/"
        },
        "id": "pW-EcceOoXHl",
        "outputId": "1893341d-9cba-4f2a-ccab-f71931c6f989"
      },
      "outputs": [
        {
          "name": "stdout",
          "output_type": "stream",
          "text": [
            "1/1 [==============================] - 1s 706ms/step\n",
            "No anomaly\n",
            "bunch number:  1\n",
            "1/1 [==============================] - 0s 60ms/step\n",
            "No anomaly\n",
            "bunch number:  2\n",
            "1/1 [==============================] - 0s 63ms/step\n",
            "No anomaly\n",
            "bunch number:  3\n",
            "1/1 [==============================] - 0s 62ms/step\n",
            "No anomaly\n",
            "bunch number:  4\n",
            "1/1 [==============================] - 0s 61ms/step\n",
            "No anomaly\n",
            "bunch number:  5\n",
            "1/1 [==============================] - 0s 62ms/step\n",
            "No anomaly\n",
            "bunch number:  6\n",
            "1/1 [==============================] - 0s 60ms/step\n",
            "No anomaly\n",
            "bunch number:  7\n",
            "1/1 [==============================] - 0s 55ms/step\n",
            "No anomaly\n",
            "bunch number:  8\n",
            "1/1 [==============================] - 0s 60ms/step\n",
            "No anomaly\n",
            "bunch number:  9\n",
            "1/1 [==============================] - 0s 60ms/step\n",
            "No anomaly\n",
            "bunch number:  10\n",
            "1/1 [==============================] - 0s 57ms/step\n",
            "No anomaly\n",
            "bunch number:  11\n",
            "1/1 [==============================] - 0s 62ms/step\n",
            "No anomaly\n",
            "bunch number:  12\n",
            "1/1 [==============================] - 0s 60ms/step\n",
            "No anomaly\n",
            "bunch number:  13\n",
            "1/1 [==============================] - 0s 55ms/step\n",
            "No anomaly\n",
            "bunch number:  14\n",
            "1/1 [==============================] - 0s 57ms/step\n",
            "No anomaly\n",
            "bunch number:  15\n",
            "1/1 [==============================] - 0s 69ms/step\n",
            "No anomaly\n",
            "bunch number:  16\n",
            "1/1 [==============================] - 0s 59ms/step\n",
            "No anomaly\n",
            "bunch number:  17\n",
            "1/1 [==============================] - 0s 58ms/step\n",
            "Anomalous bunch of frames at bunch number 17\n",
            "bunch number:  18\n",
            "1/1 [==============================] - 0s 56ms/step\n",
            "No anomaly\n",
            "bunch number:  19\n",
            "1/1 [==============================] - 0s 54ms/step\n",
            "Anomalous bunch of frames at bunch number 19\n",
            "bunch number:  20\n",
            "Anomalous Events detected\n",
            "\n",
            "Corrupted and unreadable bunches were ignored\n"
          ]
        }
      ],
      "source": [
        "from keras.models import load_model\n",
        "import numpy as np\n",
        "\n",
        "\n",
        "\n",
        "\n",
        "def mean_squared_loss(x1,x2):\n",
        "\n",
        "\n",
        "\n",
        "\n",
        "\n",
        "\tdiff=x1-x2\n",
        "\ta,b,c,d,e=diff.shape\n",
        "\tn_samples=a*b*c*d*e\n",
        "\tsq_diff=diff**2\n",
        "\tSum=sq_diff.sum()\n",
        "\tdist=np.sqrt(Sum)\n",
        "\tmean_dist=dist/n_samples\n",
        "\n",
        "\treturn mean_dist\n",
        "\n",
        "\n",
        "\n",
        "\n",
        "\n",
        "\n",
        "\n",
        "\n",
        "threshold=0.00025 #(Accuracy level 1)\n",
        "#threshold=0.00042 #(Accuracy level 2)\n",
        "#threshold=0.0008#(Accuracy level Vishakha)\n",
        "\n",
        "model=load_model('AnomalyDetector.h5')\n",
        "\n",
        "X_test=np.load('tester.npy')\n",
        "frames=X_test.shape[2]\n",
        "#Need to make number of frames divisible by 10\n",
        "\n",
        "\n",
        "flag=0 #Overall video flagq\n",
        "\n",
        "frames=frames-frames%10\n",
        "\n",
        "X_test=X_test[:,:,:frames]\n",
        "X_test=X_test.reshape(-1,227,227,10)\n",
        "X_test=np.expand_dims(X_test,axis=4)\n",
        "counter =0\n",
        "for number,bunch in enumerate(X_test):\n",
        "\tn_bunch=np.expand_dims(bunch,axis=0)\n",
        "\treconstructed_bunch=model.predict(n_bunch)\n",
        "\n",
        "\n",
        "\tloss=mean_squared_loss(n_bunch,reconstructed_bunch)\n",
        "\n",
        "\tif loss>threshold:\n",
        "\t\tprint(\"Anomalous bunch of frames at bunch number {}\".format(number))\n",
        "\t\tcounter=counter+1\n",
        "\t\tprint(\"bunch number: \",counter)\n",
        "\t\tflag=1\n",
        "\n",
        "\n",
        "\telse:\n",
        "\t\tprint('No anomaly')\n",
        "\t\tcounter=counter+1\n",
        "\t\tprint(\"bunch number: \",counter)\n",
        "\n",
        "\n",
        "\n",
        "if flag==1:\n",
        "\tprint(\"Anomalous Events detected\")\n",
        "else:\n",
        "\tprint(\"No anomaly detected\")\n",
        "\n",
        "print(\"\\nCorrupted and unreadable bunches were ignored\")"
      ]
    },
    {
      "cell_type": "code",
      "execution_count": null,
      "metadata": {
        "colab": {
          "base_uri": "https://localhost:8080/"
        },
        "id": "NbxdzYPfKSHW",
        "outputId": "f7b33087-0b7c-4e47-dab1-06b7c1920fe7"
      },
      "outputs": [
        {
          "name": "stdout",
          "output_type": "stream",
          "text": [
            "rm: cannot remove '/root/.kaggle': No such file or directory\n"
          ]
        }
      ],
      "source": [
        "!rm -r ~/.kaggle\n",
        "!mkdir ~/.kaggle\n",
        "!mv ./kaggle.json ~/.kaggle/\n",
        "!chmod 600 ~/.kaggle/kaggle.json"
      ]
    },
    {
      "cell_type": "code",
      "execution_count": null,
      "metadata": {
        "colab": {
          "base_uri": "https://localhost:8080/"
        },
        "id": "nH2u4cLRLJ4L",
        "outputId": "bc395702-125d-4e98-cbb3-fd0b80ca97f6"
      },
      "outputs": [
        {
          "name": "stdout",
          "output_type": "stream",
          "text": [
            "Downloading shanghaitech.zip to /content\n",
            " 93% 311M/333M [00:01<00:00, 218MB/s]\n",
            "100% 333M/333M [00:02<00:00, 129MB/s]\n"
          ]
        }
      ],
      "source": [
        "!kaggle datasets download -d tthien/shanghaitech"
      ]
    },
    {
      "cell_type": "code",
      "execution_count": null,
      "metadata": {
        "colab": {
          "base_uri": "https://localhost:8080/"
        },
        "id": "640hDsmaMcv3",
        "outputId": "54009417-4c2f-43f4-a7dc-39f6edb131c1"
      },
      "outputs": [
        {
          "name": "stdout",
          "output_type": "stream",
          "text": [
            "Found  300  training videos\n",
            "Program ended. Please wait while trainer.npy is created. \n",
            "Refresh when needed\n",
            "Number of frames created : 227\n"
          ]
        }
      ],
      "source": [
        "\n",
        "\n",
        "from tensorflow.keras.utils import img_to_array,load_img\n",
        "import numpy as np\n",
        "import glob\n",
        "import os\n",
        "from skimage import data, color\n",
        "from skimage.transform import rescale, resize, downscale_local_mean\n",
        "import argparse\n",
        "from PIL import Image\n",
        "imagestore=[]\n",
        "\n",
        "\n",
        "\n",
        "video_source_path='/content/drive/MyDrive/ShanghaiTech/part_A/train_data/images'\n",
        "fps=5\n",
        "#fps refers to the number of seconds after which one frame will be taken . fps=5 means 1 frame after every 5 seconds. More like seconds per frame.\n",
        "\n",
        "def create_dir(path):\n",
        "\tif not os.path.exists(path):\n",
        "\t\tos.makedirs(path)\n",
        "\n",
        "def remove_old_images(path):\n",
        "\tfilelist = glob.glob(os.path.join(path, \"*.png\"))\n",
        "\tfor f in filelist:\n",
        "\t\tos.remove(f)\n",
        "\n",
        "def store(image_path):\n",
        "\timg=load_img(image_path)\n",
        "\timg=img_to_array(img)\n",
        "\n",
        "\n",
        "\t#Resize the Image to (227,227,3) for the network to be able to process it.\n",
        "\n",
        "\n",
        "\timg=resize(img,(227,227,3))\n",
        "\n",
        "\t#Convert the Image to Grayscale\n",
        "\n",
        "\n",
        "\tgray=0.2989*img[:,:,0]+0.5870*img[:,:,1]+0.1140*img[:,:,2]\n",
        "\n",
        "\timagestore.append(gray)\n",
        "\n",
        "\n",
        "\n",
        "#List of all Videos in the Source Directory.\n",
        "videos=os.listdir(video_source_path)\n",
        "print(\"Found \",len(videos),\" training videos\")\n",
        "\n",
        "\n",
        "#Make a temp dir to store all the frames\n",
        "create_dir(video_source_path+'/frames')\n",
        "\n",
        "#Remove old images\n",
        "remove_old_images(video_source_path+'/frames')\n",
        "\n",
        "framepath=video_source_path+'/frames'\n",
        "\n",
        "for video in videos:\n",
        "\t\tos.system( 'ffmpeg -i {}/{} -r 1/{}  {}/frames/%03d.jpg'.format(video_source_path,video,fps,video_source_path))\n",
        "\t\timages=os.listdir(framepath)\n",
        "\t\tfor image in images:\n",
        "\t\t\timage_path=framepath+ '/'+ image\n",
        "\t\t\tstore(image_path)\n",
        "\n",
        "\n",
        "imagestore=np.array(imagestore)\n",
        "a,b,c=imagestore.shape\n",
        "#Reshape to (227,227,batch_size)\n",
        "imagestore.resize(b,c,a)\n",
        "#Normalize\n",
        "imagestore=(imagestore-imagestore.mean())/(imagestore.std())\n",
        "#Clip negative Values\n",
        "imagestore=np.clip(imagestore,0,1)\n",
        "np.save('trainer.npy',imagestore)\n",
        "#Remove Buffer Directory\n",
        "os.system('rm -r {}'.format(framepath))\n",
        "print(\"Program ended. Please wait while trainer.npy is created. \\nRefresh when needed\")\n",
        "print('Number of frames created :', int(len(imagestore)))"
      ]
    },
    {
      "cell_type": "code",
      "execution_count": null,
      "metadata": {
        "colab": {
          "base_uri": "https://localhost:8080/"
        },
        "id": "HM66eVCspm_S",
        "outputId": "87fd4b1e-fec8-4c23-bf4b-b939856a97cb"
      },
      "outputs": [
        {
          "name": "stdout",
          "output_type": "stream",
          "text": [
            "Trainer has been loaded\n",
            "Epoch 1/200\n",
            "30/30 [==============================] - ETA: 0s - loss: 0.1857 - accuracy: 0.5554"
          ]
        },
        {
          "name": "stderr",
          "output_type": "stream",
          "text": [
            "WARNING:tensorflow:Early stopping conditioned on metric `val_loss` which is not available. Available metrics are: loss,accuracy\n"
          ]
        },
        {
          "name": "stdout",
          "output_type": "stream",
          "text": [
            "\b\b\b\b\b\b\b\b\b\b\b\b\b\b\b\b\b\b\b\b\b\b\b\b\b\b\b\b\b\b\b\b\b\b\b\b\b\b\b\b\b\b\b\b\b\b\b\b\b\b\b\b\b\b\b\b\b\b\b\b\b\b\b\b\b\b\b\b\b\b\b\b\b\b\b\b\b\b\b\b\b\b\r30/30 [==============================] - 25s 230ms/step - loss: 0.1857 - accuracy: 0.5554\n",
            "Epoch 2/200\n",
            "30/30 [==============================] - ETA: 0s - loss: 0.1744 - accuracy: 0.5571"
          ]
        },
        {
          "name": "stderr",
          "output_type": "stream",
          "text": [
            "WARNING:tensorflow:Early stopping conditioned on metric `val_loss` which is not available. Available metrics are: loss,accuracy\n"
          ]
        },
        {
          "name": "stdout",
          "output_type": "stream",
          "text": [
            "\b\b\b\b\b\b\b\b\b\b\b\b\b\b\b\b\b\b\b\b\b\b\b\b\b\b\b\b\b\b\b\b\b\b\b\b\b\b\b\b\b\b\b\b\b\b\b\b\b\b\b\b\b\b\b\b\b\b\b\b\b\b\b\b\b\b\b\b\b\b\b\b\b\b\b\b\b\b\b\b\b\b\r30/30 [==============================] - 7s 232ms/step - loss: 0.1744 - accuracy: 0.5571\n",
            "Epoch 3/200\n",
            "30/30 [==============================] - ETA: 0s - loss: 0.1690 - accuracy: 0.5573"
          ]
        },
        {
          "name": "stderr",
          "output_type": "stream",
          "text": [
            "WARNING:tensorflow:Early stopping conditioned on metric `val_loss` which is not available. Available metrics are: loss,accuracy\n"
          ]
        },
        {
          "name": "stdout",
          "output_type": "stream",
          "text": [
            "\b\b\b\b\b\b\b\b\b\b\b\b\b\b\b\b\b\b\b\b\b\b\b\b\b\b\b\b\b\b\b\b\b\b\b\b\b\b\b\b\b\b\b\b\b\b\b\b\b\b\b\b\b\b\b\b\b\b\b\b\b\b\b\b\b\b\b\b\b\b\b\b\b\b\b\b\b\b\b\b\b\b\r30/30 [==============================] - 7s 241ms/step - loss: 0.1690 - accuracy: 0.5573\n",
            "Epoch 4/200\n",
            "30/30 [==============================] - ETA: 0s - loss: 0.1679 - accuracy: 0.5573"
          ]
        },
        {
          "name": "stderr",
          "output_type": "stream",
          "text": [
            "WARNING:tensorflow:Early stopping conditioned on metric `val_loss` which is not available. Available metrics are: loss,accuracy\n"
          ]
        },
        {
          "name": "stdout",
          "output_type": "stream",
          "text": [
            "\b\b\b\b\b\b\b\b\b\b\b\b\b\b\b\b\b\b\b\b\b\b\b\b\b\b\b\b\b\b\b\b\b\b\b\b\b\b\b\b\b\b\b\b\b\b\b\b\b\b\b\b\b\b\b\b\b\b\b\b\b\b\b\b\b\b\b\b\b\b\b\b\b\b\b\b\b\b\b\b\b\b\r30/30 [==============================] - 7s 230ms/step - loss: 0.1679 - accuracy: 0.5573\n",
            "Epoch 5/200\n",
            "30/30 [==============================] - ETA: 0s - loss: 0.1597 - accuracy: 0.5590"
          ]
        },
        {
          "name": "stderr",
          "output_type": "stream",
          "text": [
            "WARNING:tensorflow:Early stopping conditioned on metric `val_loss` which is not available. Available metrics are: loss,accuracy\n"
          ]
        },
        {
          "name": "stdout",
          "output_type": "stream",
          "text": [
            "\b\b\b\b\b\b\b\b\b\b\b\b\b\b\b\b\b\b\b\b\b\b\b\b\b\b\b\b\b\b\b\b\b\b\b\b\b\b\b\b\b\b\b\b\b\b\b\b\b\b\b\b\b\b\b\b\b\b\b\b\b\b\b\b\b\b\b\b\b\b\b\b\b\b\b\b\b\b\b\b\b\b\r30/30 [==============================] - 8s 258ms/step - loss: 0.1597 - accuracy: 0.5590\n",
            "Epoch 6/200\n",
            "30/30 [==============================] - ETA: 0s - loss: 0.1526 - accuracy: 0.5681"
          ]
        },
        {
          "name": "stderr",
          "output_type": "stream",
          "text": [
            "WARNING:tensorflow:Early stopping conditioned on metric `val_loss` which is not available. Available metrics are: loss,accuracy\n"
          ]
        },
        {
          "name": "stdout",
          "output_type": "stream",
          "text": [
            "\b\b\b\b\b\b\b\b\b\b\b\b\b\b\b\b\b\b\b\b\b\b\b\b\b\b\b\b\b\b\b\b\b\b\b\b\b\b\b\b\b\b\b\b\b\b\b\b\b\b\b\b\b\b\b\b\b\b\b\b\b\b\b\b\b\b\b\b\b\b\b\b\b\b\b\b\b\b\b\b\b\b\r30/30 [==============================] - 6s 210ms/step - loss: 0.1526 - accuracy: 0.5681\n",
            "Epoch 7/200\n",
            "30/30 [==============================] - ETA: 0s - loss: 0.1500 - accuracy: 0.5757"
          ]
        },
        {
          "name": "stderr",
          "output_type": "stream",
          "text": [
            "WARNING:tensorflow:Early stopping conditioned on metric `val_loss` which is not available. Available metrics are: loss,accuracy\n"
          ]
        },
        {
          "name": "stdout",
          "output_type": "stream",
          "text": [
            "\b\b\b\b\b\b\b\b\b\b\b\b\b\b\b\b\b\b\b\b\b\b\b\b\b\b\b\b\b\b\b\b\b\b\b\b\b\b\b\b\b\b\b\b\b\b\b\b\b\b\b\b\b\b\b\b\b\b\b\b\b\b\b\b\b\b\b\b\b\b\b\b\b\b\b\b\b\b\b\b\b\b\r30/30 [==============================] - 8s 272ms/step - loss: 0.1500 - accuracy: 0.5757\n",
            "Epoch 8/200\n",
            "30/30 [==============================] - ETA: 0s - loss: 0.1485 - accuracy: 0.5780"
          ]
        },
        {
          "name": "stderr",
          "output_type": "stream",
          "text": [
            "WARNING:tensorflow:Early stopping conditioned on metric `val_loss` which is not available. Available metrics are: loss,accuracy\n"
          ]
        },
        {
          "name": "stdout",
          "output_type": "stream",
          "text": [
            "\b\b\b\b\b\b\b\b\b\b\b\b\b\b\b\b\b\b\b\b\b\b\b\b\b\b\b\b\b\b\b\b\b\b\b\b\b\b\b\b\b\b\b\b\b\b\b\b\b\b\b\b\b\b\b\b\b\b\b\b\b\b\b\b\b\b\b\b\b\b\b\b\b\b\b\b\b\b\b\b\b\b\r30/30 [==============================] - 7s 221ms/step - loss: 0.1485 - accuracy: 0.5780\n",
            "Epoch 9/200\n",
            "30/30 [==============================] - ETA: 0s - loss: 0.1484 - accuracy: 0.5772"
          ]
        },
        {
          "name": "stderr",
          "output_type": "stream",
          "text": [
            "WARNING:tensorflow:Early stopping conditioned on metric `val_loss` which is not available. Available metrics are: loss,accuracy\n"
          ]
        },
        {
          "name": "stdout",
          "output_type": "stream",
          "text": [
            "\b\b\b\b\b\b\b\b\b\b\b\b\b\b\b\b\b\b\b\b\b\b\b\b\b\b\b\b\b\b\b\b\b\b\b\b\b\b\b\b\b\b\b\b\b\b\b\b\b\b\b\b\b\b\b\b\b\b\b\b\b\b\b\b\b\b\b\b\b\b\b\b\b\b\b\b\b\b\b\b\b\b\r30/30 [==============================] - 8s 259ms/step - loss: 0.1484 - accuracy: 0.5772\n",
            "Epoch 10/200\n",
            "30/30 [==============================] - ETA: 0s - loss: 0.1473 - accuracy: 0.5796"
          ]
        },
        {
          "name": "stderr",
          "output_type": "stream",
          "text": [
            "WARNING:tensorflow:Early stopping conditioned on metric `val_loss` which is not available. Available metrics are: loss,accuracy\n"
          ]
        },
        {
          "name": "stdout",
          "output_type": "stream",
          "text": [
            "\b\b\b\b\b\b\b\b\b\b\b\b\b\b\b\b\b\b\b\b\b\b\b\b\b\b\b\b\b\b\b\b\b\b\b\b\b\b\b\b\b\b\b\b\b\b\b\b\b\b\b\b\b\b\b\b\b\b\b\b\b\b\b\b\b\b\b\b\b\b\b\b\b\b\b\b\b\b\b\b\b\b\r30/30 [==============================] - 7s 219ms/step - loss: 0.1473 - accuracy: 0.5796\n",
            "Epoch 11/200\n",
            "30/30 [==============================] - ETA: 0s - loss: 0.1465 - accuracy: 0.5829"
          ]
        },
        {
          "name": "stderr",
          "output_type": "stream",
          "text": [
            "WARNING:tensorflow:Early stopping conditioned on metric `val_loss` which is not available. Available metrics are: loss,accuracy\n"
          ]
        },
        {
          "name": "stdout",
          "output_type": "stream",
          "text": [
            "\b\b\b\b\b\b\b\b\b\b\b\b\b\b\b\b\b\b\b\b\b\b\b\b\b\b\b\b\b\b\b\b\b\b\b\b\b\b\b\b\b\b\b\b\b\b\b\b\b\b\b\b\b\b\b\b\b\b\b\b\b\b\b\b\b\b\b\b\b\b\b\b\b\b\b\b\b\b\b\b\b\b\r30/30 [==============================] - 8s 261ms/step - loss: 0.1465 - accuracy: 0.5829\n",
            "Epoch 12/200\n",
            "30/30 [==============================] - ETA: 0s - loss: 0.1444 - accuracy: 0.5849"
          ]
        },
        {
          "name": "stderr",
          "output_type": "stream",
          "text": [
            "WARNING:tensorflow:Early stopping conditioned on metric `val_loss` which is not available. Available metrics are: loss,accuracy\n"
          ]
        },
        {
          "name": "stdout",
          "output_type": "stream",
          "text": [
            "\b\b\b\b\b\b\b\b\b\b\b\b\b\b\b\b\b\b\b\b\b\b\b\b\b\b\b\b\b\b\b\b\b\b\b\b\b\b\b\b\b\b\b\b\b\b\b\b\b\b\b\b\b\b\b\b\b\b\b\b\b\b\b\b\b\b\b\b\b\b\b\b\b\b\b\b\b\b\b\b\b\b\r30/30 [==============================] - 6s 214ms/step - loss: 0.1444 - accuracy: 0.5849\n",
            "Epoch 13/200\n",
            "30/30 [==============================] - ETA: 0s - loss: 0.1445 - accuracy: 0.5857"
          ]
        },
        {
          "name": "stderr",
          "output_type": "stream",
          "text": [
            "WARNING:tensorflow:Early stopping conditioned on metric `val_loss` which is not available. Available metrics are: loss,accuracy\n"
          ]
        },
        {
          "name": "stdout",
          "output_type": "stream",
          "text": [
            "\b\b\b\b\b\b\b\b\b\b\b\b\b\b\b\b\b\b\b\b\b\b\b\b\b\b\b\b\b\b\b\b\b\b\b\b\b\b\b\b\b\b\b\b\b\b\b\b\b\b\b\b\b\b\b\b\b\b\b\b\b\b\b\b\b\b\b\b\b\b\b\b\b\b\b\b\b\b\b\b\b\b\r30/30 [==============================] - 8s 259ms/step - loss: 0.1445 - accuracy: 0.5857\n",
            "Epoch 14/200\n",
            "30/30 [==============================] - ETA: 0s - loss: 0.1424 - accuracy: 0.5889"
          ]
        },
        {
          "name": "stderr",
          "output_type": "stream",
          "text": [
            "WARNING:tensorflow:Early stopping conditioned on metric `val_loss` which is not available. Available metrics are: loss,accuracy\n"
          ]
        },
        {
          "name": "stdout",
          "output_type": "stream",
          "text": [
            "\b\b\b\b\b\b\b\b\b\b\b\b\b\b\b\b\b\b\b\b\b\b\b\b\b\b\b\b\b\b\b\b\b\b\b\b\b\b\b\b\b\b\b\b\b\b\b\b\b\b\b\b\b\b\b\b\b\b\b\b\b\b\b\b\b\b\b\b\b\b\b\b\b\b\b\b\b\b\b\b\b\b\r30/30 [==============================] - 6s 215ms/step - loss: 0.1424 - accuracy: 0.5889\n",
            "Epoch 15/200\n",
            "30/30 [==============================] - ETA: 0s - loss: 0.1414 - accuracy: 0.5903"
          ]
        },
        {
          "name": "stderr",
          "output_type": "stream",
          "text": [
            "WARNING:tensorflow:Early stopping conditioned on metric `val_loss` which is not available. Available metrics are: loss,accuracy\n"
          ]
        },
        {
          "name": "stdout",
          "output_type": "stream",
          "text": [
            "\b\b\b\b\b\b\b\b\b\b\b\b\b\b\b\b\b\b\b\b\b\b\b\b\b\b\b\b\b\b\b\b\b\b\b\b\b\b\b\b\b\b\b\b\b\b\b\b\b\b\b\b\b\b\b\b\b\b\b\b\b\b\b\b\b\b\b\b\b\b\b\b\b\b\b\b\b\b\b\b\b\b\r30/30 [==============================] - 8s 257ms/step - loss: 0.1414 - accuracy: 0.5903\n",
            "Epoch 16/200\n",
            "30/30 [==============================] - ETA: 0s - loss: 0.1404 - accuracy: 0.5904"
          ]
        },
        {
          "name": "stderr",
          "output_type": "stream",
          "text": [
            "WARNING:tensorflow:Early stopping conditioned on metric `val_loss` which is not available. Available metrics are: loss,accuracy\n"
          ]
        },
        {
          "name": "stdout",
          "output_type": "stream",
          "text": [
            "\b\b\b\b\b\b\b\b\b\b\b\b\b\b\b\b\b\b\b\b\b\b\b\b\b\b\b\b\b\b\b\b\b\b\b\b\b\b\b\b\b\b\b\b\b\b\b\b\b\b\b\b\b\b\b\b\b\b\b\b\b\b\b\b\b\b\b\b\b\b\b\b\b\b\b\b\b\b\b\b\b\b\r30/30 [==============================] - 7s 233ms/step - loss: 0.1404 - accuracy: 0.5904\n",
            "Epoch 17/200\n",
            "30/30 [==============================] - ETA: 0s - loss: 0.1386 - accuracy: 0.5921"
          ]
        },
        {
          "name": "stderr",
          "output_type": "stream",
          "text": [
            "WARNING:tensorflow:Early stopping conditioned on metric `val_loss` which is not available. Available metrics are: loss,accuracy\n"
          ]
        },
        {
          "name": "stdout",
          "output_type": "stream",
          "text": [
            "\b\b\b\b\b\b\b\b\b\b\b\b\b\b\b\b\b\b\b\b\b\b\b\b\b\b\b\b\b\b\b\b\b\b\b\b\b\b\b\b\b\b\b\b\b\b\b\b\b\b\b\b\b\b\b\b\b\b\b\b\b\b\b\b\b\b\b\b\b\b\b\b\b\b\b\b\b\b\b\b\b\b\r30/30 [==============================] - 7s 244ms/step - loss: 0.1386 - accuracy: 0.5921\n",
            "Epoch 18/200\n",
            "30/30 [==============================] - ETA: 0s - loss: 0.1376 - accuracy: 0.5938"
          ]
        },
        {
          "name": "stderr",
          "output_type": "stream",
          "text": [
            "WARNING:tensorflow:Early stopping conditioned on metric `val_loss` which is not available. Available metrics are: loss,accuracy\n"
          ]
        },
        {
          "name": "stdout",
          "output_type": "stream",
          "text": [
            "\b\b\b\b\b\b\b\b\b\b\b\b\b\b\b\b\b\b\b\b\b\b\b\b\b\b\b\b\b\b\b\b\b\b\b\b\b\b\b\b\b\b\b\b\b\b\b\b\b\b\b\b\b\b\b\b\b\b\b\b\b\b\b\b\b\b\b\b\b\b\b\b\b\b\b\b\b\b\b\b\b\b\r30/30 [==============================] - 7s 232ms/step - loss: 0.1376 - accuracy: 0.5938\n",
            "Epoch 19/200\n",
            "30/30 [==============================] - ETA: 0s - loss: 0.1365 - accuracy: 0.5949"
          ]
        },
        {
          "name": "stderr",
          "output_type": "stream",
          "text": [
            "WARNING:tensorflow:Early stopping conditioned on metric `val_loss` which is not available. Available metrics are: loss,accuracy\n"
          ]
        },
        {
          "name": "stdout",
          "output_type": "stream",
          "text": [
            "\b\b\b\b\b\b\b\b\b\b\b\b\b\b\b\b\b\b\b\b\b\b\b\b\b\b\b\b\b\b\b\b\b\b\b\b\b\b\b\b\b\b\b\b\b\b\b\b\b\b\b\b\b\b\b\b\b\b\b\b\b\b\b\b\b\b\b\b\b\b\b\b\b\b\b\b\b\b\b\b\b\b\r30/30 [==============================] - 7s 228ms/step - loss: 0.1365 - accuracy: 0.5949\n",
            "Epoch 20/200\n",
            "30/30 [==============================] - ETA: 0s - loss: 0.1355 - accuracy: 0.5963"
          ]
        },
        {
          "name": "stderr",
          "output_type": "stream",
          "text": [
            "WARNING:tensorflow:Early stopping conditioned on metric `val_loss` which is not available. Available metrics are: loss,accuracy\n"
          ]
        },
        {
          "name": "stdout",
          "output_type": "stream",
          "text": [
            "\b\b\b\b\b\b\b\b\b\b\b\b\b\b\b\b\b\b\b\b\b\b\b\b\b\b\b\b\b\b\b\b\b\b\b\b\b\b\b\b\b\b\b\b\b\b\b\b\b\b\b\b\b\b\b\b\b\b\b\b\b\b\b\b\b\b\b\b\b\b\b\b\b\b\b\b\b\b\b\b\b\b\r30/30 [==============================] - 7s 236ms/step - loss: 0.1355 - accuracy: 0.5963\n",
            "Epoch 21/200\n",
            "30/30 [==============================] - ETA: 0s - loss: 0.1347 - accuracy: 0.5969"
          ]
        },
        {
          "name": "stderr",
          "output_type": "stream",
          "text": [
            "WARNING:tensorflow:Early stopping conditioned on metric `val_loss` which is not available. Available metrics are: loss,accuracy\n"
          ]
        },
        {
          "name": "stdout",
          "output_type": "stream",
          "text": [
            "\b\b\b\b\b\b\b\b\b\b\b\b\b\b\b\b\b\b\b\b\b\b\b\b\b\b\b\b\b\b\b\b\b\b\b\b\b\b\b\b\b\b\b\b\b\b\b\b\b\b\b\b\b\b\b\b\b\b\b\b\b\b\b\b\b\b\b\b\b\b\b\b\b\b\b\b\b\b\b\b\b\b\r30/30 [==============================] - 7s 220ms/step - loss: 0.1347 - accuracy: 0.5969\n",
            "Epoch 22/200\n",
            "30/30 [==============================] - ETA: 0s - loss: 0.1336 - accuracy: 0.5983"
          ]
        },
        {
          "name": "stderr",
          "output_type": "stream",
          "text": [
            "WARNING:tensorflow:Early stopping conditioned on metric `val_loss` which is not available. Available metrics are: loss,accuracy\n"
          ]
        },
        {
          "name": "stdout",
          "output_type": "stream",
          "text": [
            "\b\b\b\b\b\b\b\b\b\b\b\b\b\b\b\b\b\b\b\b\b\b\b\b\b\b\b\b\b\b\b\b\b\b\b\b\b\b\b\b\b\b\b\b\b\b\b\b\b\b\b\b\b\b\b\b\b\b\b\b\b\b\b\b\b\b\b\b\b\b\b\b\b\b\b\b\b\b\b\b\b\b\r30/30 [==============================] - 7s 246ms/step - loss: 0.1336 - accuracy: 0.5983\n",
            "Epoch 23/200\n",
            "30/30 [==============================] - ETA: 0s - loss: 0.1338 - accuracy: 0.5980"
          ]
        },
        {
          "name": "stderr",
          "output_type": "stream",
          "text": [
            "WARNING:tensorflow:Early stopping conditioned on metric `val_loss` which is not available. Available metrics are: loss,accuracy\n"
          ]
        },
        {
          "name": "stdout",
          "output_type": "stream",
          "text": [
            "\b\b\b\b\b\b\b\b\b\b\b\b\b\b\b\b\b\b\b\b\b\b\b\b\b\b\b\b\b\b\b\b\b\b\b\b\b\b\b\b\b\b\b\b\b\b\b\b\b\b\b\b\b\b\b\b\b\b\b\b\b\b\b\b\b\b\b\b\b\b\b\b\b\b\b\b\b\b\b\b\b\b\r30/30 [==============================] - 6s 210ms/step - loss: 0.1338 - accuracy: 0.5980\n",
            "Epoch 24/200\n",
            "30/30 [==============================] - ETA: 0s - loss: 0.1329 - accuracy: 0.5992"
          ]
        },
        {
          "name": "stderr",
          "output_type": "stream",
          "text": [
            "WARNING:tensorflow:Early stopping conditioned on metric `val_loss` which is not available. Available metrics are: loss,accuracy\n"
          ]
        },
        {
          "name": "stdout",
          "output_type": "stream",
          "text": [
            "\b\b\b\b\b\b\b\b\b\b\b\b\b\b\b\b\b\b\b\b\b\b\b\b\b\b\b\b\b\b\b\b\b\b\b\b\b\b\b\b\b\b\b\b\b\b\b\b\b\b\b\b\b\b\b\b\b\b\b\b\b\b\b\b\b\b\b\b\b\b\b\b\b\b\b\b\b\b\b\b\b\b\r30/30 [==============================] - 8s 252ms/step - loss: 0.1329 - accuracy: 0.5992\n",
            "Epoch 25/200\n",
            "30/30 [==============================] - ETA: 0s - loss: 0.1324 - accuracy: 0.5996"
          ]
        },
        {
          "name": "stderr",
          "output_type": "stream",
          "text": [
            "WARNING:tensorflow:Early stopping conditioned on metric `val_loss` which is not available. Available metrics are: loss,accuracy\n"
          ]
        },
        {
          "name": "stdout",
          "output_type": "stream",
          "text": [
            "\b\b\b\b\b\b\b\b\b\b\b\b\b\b\b\b\b\b\b\b\b\b\b\b\b\b\b\b\b\b\b\b\b\b\b\b\b\b\b\b\b\b\b\b\b\b\b\b\b\b\b\b\b\b\b\b\b\b\b\b\b\b\b\b\b\b\b\b\b\b\b\b\b\b\b\b\b\b\b\b\b\b\r30/30 [==============================] - 6s 209ms/step - loss: 0.1324 - accuracy: 0.5996\n",
            "Epoch 26/200\n",
            "30/30 [==============================] - ETA: 0s - loss: 0.1323 - accuracy: 0.5998"
          ]
        },
        {
          "name": "stderr",
          "output_type": "stream",
          "text": [
            "WARNING:tensorflow:Early stopping conditioned on metric `val_loss` which is not available. Available metrics are: loss,accuracy\n"
          ]
        },
        {
          "name": "stdout",
          "output_type": "stream",
          "text": [
            "\b\b\b\b\b\b\b\b\b\b\b\b\b\b\b\b\b\b\b\b\b\b\b\b\b\b\b\b\b\b\b\b\b\b\b\b\b\b\b\b\b\b\b\b\b\b\b\b\b\b\b\b\b\b\b\b\b\b\b\b\b\b\b\b\b\b\b\b\b\b\b\b\b\b\b\b\b\b\b\b\b\b\r30/30 [==============================] - 7s 250ms/step - loss: 0.1323 - accuracy: 0.5998\n",
            "Epoch 27/200\n",
            "30/30 [==============================] - ETA: 0s - loss: 0.1319 - accuracy: 0.6004"
          ]
        },
        {
          "name": "stderr",
          "output_type": "stream",
          "text": [
            "WARNING:tensorflow:Early stopping conditioned on metric `val_loss` which is not available. Available metrics are: loss,accuracy\n"
          ]
        },
        {
          "name": "stdout",
          "output_type": "stream",
          "text": [
            "\b\b\b\b\b\b\b\b\b\b\b\b\b\b\b\b\b\b\b\b\b\b\b\b\b\b\b\b\b\b\b\b\b\b\b\b\b\b\b\b\b\b\b\b\b\b\b\b\b\b\b\b\b\b\b\b\b\b\b\b\b\b\b\b\b\b\b\b\b\b\b\b\b\b\b\b\b\b\b\b\b\b\r30/30 [==============================] - 6s 211ms/step - loss: 0.1319 - accuracy: 0.6004\n",
            "Epoch 28/200\n",
            "30/30 [==============================] - ETA: 0s - loss: 0.1322 - accuracy: 0.6000"
          ]
        },
        {
          "name": "stderr",
          "output_type": "stream",
          "text": [
            "WARNING:tensorflow:Early stopping conditioned on metric `val_loss` which is not available. Available metrics are: loss,accuracy\n"
          ]
        },
        {
          "name": "stdout",
          "output_type": "stream",
          "text": [
            "\b\b\b\b\b\b\b\b\b\b\b\b\b\b\b\b\b\b\b\b\b\b\b\b\b\b\b\b\b\b\b\b\b\b\b\b\b\b\b\b\b\b\b\b\b\b\b\b\b\b\b\b\b\b\b\b\b\b\b\b\b\b\b\b\b\b\b\b\b\b\b\b\b\b\b\b\b\b\b\b\b\b\r30/30 [==============================] - 7s 249ms/step - loss: 0.1322 - accuracy: 0.6000\n",
            "Epoch 29/200\n",
            "30/30 [==============================] - ETA: 0s - loss: 0.1320 - accuracy: 0.6004"
          ]
        },
        {
          "name": "stderr",
          "output_type": "stream",
          "text": [
            "WARNING:tensorflow:Early stopping conditioned on metric `val_loss` which is not available. Available metrics are: loss,accuracy\n"
          ]
        },
        {
          "name": "stdout",
          "output_type": "stream",
          "text": [
            "\b\b\b\b\b\b\b\b\b\b\b\b\b\b\b\b\b\b\b\b\b\b\b\b\b\b\b\b\b\b\b\b\b\b\b\b\b\b\b\b\b\b\b\b\b\b\b\b\b\b\b\b\b\b\b\b\b\b\b\b\b\b\b\b\b\b\b\b\b\b\b\b\b\b\b\b\b\b\b\b\b\b\r30/30 [==============================] - 6s 207ms/step - loss: 0.1320 - accuracy: 0.6004\n",
            "Epoch 30/200\n",
            "30/30 [==============================] - ETA: 0s - loss: 0.1312 - accuracy: 0.6014"
          ]
        },
        {
          "name": "stderr",
          "output_type": "stream",
          "text": [
            "WARNING:tensorflow:Early stopping conditioned on metric `val_loss` which is not available. Available metrics are: loss,accuracy\n"
          ]
        },
        {
          "name": "stdout",
          "output_type": "stream",
          "text": [
            "\b\b\b\b\b\b\b\b\b\b\b\b\b\b\b\b\b\b\b\b\b\b\b\b\b\b\b\b\b\b\b\b\b\b\b\b\b\b\b\b\b\b\b\b\b\b\b\b\b\b\b\b\b\b\b\b\b\b\b\b\b\b\b\b\b\b\b\b\b\b\b\b\b\b\b\b\b\b\b\b\b\b\r30/30 [==============================] - 7s 248ms/step - loss: 0.1312 - accuracy: 0.6014\n",
            "Epoch 31/200\n",
            "30/30 [==============================] - ETA: 0s - loss: 0.1314 - accuracy: 0.6006"
          ]
        },
        {
          "name": "stderr",
          "output_type": "stream",
          "text": [
            "WARNING:tensorflow:Early stopping conditioned on metric `val_loss` which is not available. Available metrics are: loss,accuracy\n"
          ]
        },
        {
          "name": "stdout",
          "output_type": "stream",
          "text": [
            "\b\b\b\b\b\b\b\b\b\b\b\b\b\b\b\b\b\b\b\b\b\b\b\b\b\b\b\b\b\b\b\b\b\b\b\b\b\b\b\b\b\b\b\b\b\b\b\b\b\b\b\b\b\b\b\b\b\b\b\b\b\b\b\b\b\b\b\b\b\b\b\b\b\b\b\b\b\b\b\b\b\b\r30/30 [==============================] - 6s 208ms/step - loss: 0.1314 - accuracy: 0.6006\n",
            "Epoch 32/200\n",
            "30/30 [==============================] - ETA: 0s - loss: 0.1313 - accuracy: 0.6014"
          ]
        },
        {
          "name": "stderr",
          "output_type": "stream",
          "text": [
            "WARNING:tensorflow:Early stopping conditioned on metric `val_loss` which is not available. Available metrics are: loss,accuracy\n"
          ]
        },
        {
          "name": "stdout",
          "output_type": "stream",
          "text": [
            "\b\b\b\b\b\b\b\b\b\b\b\b\b\b\b\b\b\b\b\b\b\b\b\b\b\b\b\b\b\b\b\b\b\b\b\b\b\b\b\b\b\b\b\b\b\b\b\b\b\b\b\b\b\b\b\b\b\b\b\b\b\b\b\b\b\b\b\b\b\b\b\b\b\b\b\b\b\b\b\b\b\b\r30/30 [==============================] - 7s 251ms/step - loss: 0.1313 - accuracy: 0.6014\n",
            "Epoch 33/200\n",
            "30/30 [==============================] - ETA: 0s - loss: 0.1308 - accuracy: 0.6017"
          ]
        },
        {
          "name": "stderr",
          "output_type": "stream",
          "text": [
            "WARNING:tensorflow:Early stopping conditioned on metric `val_loss` which is not available. Available metrics are: loss,accuracy\n"
          ]
        },
        {
          "name": "stdout",
          "output_type": "stream",
          "text": [
            "\b\b\b\b\b\b\b\b\b\b\b\b\b\b\b\b\b\b\b\b\b\b\b\b\b\b\b\b\b\b\b\b\b\b\b\b\b\b\b\b\b\b\b\b\b\b\b\b\b\b\b\b\b\b\b\b\b\b\b\b\b\b\b\b\b\b\b\b\b\b\b\b\b\b\b\b\b\b\b\b\b\b\r30/30 [==============================] - 6s 211ms/step - loss: 0.1308 - accuracy: 0.6017\n",
            "Epoch 34/200\n",
            "30/30 [==============================] - ETA: 0s - loss: 0.1308 - accuracy: 0.6015"
          ]
        },
        {
          "name": "stderr",
          "output_type": "stream",
          "text": [
            "WARNING:tensorflow:Early stopping conditioned on metric `val_loss` which is not available. Available metrics are: loss,accuracy\n"
          ]
        },
        {
          "name": "stdout",
          "output_type": "stream",
          "text": [
            "\b\b\b\b\b\b\b\b\b\b\b\b\b\b\b\b\b\b\b\b\b\b\b\b\b\b\b\b\b\b\b\b\b\b\b\b\b\b\b\b\b\b\b\b\b\b\b\b\b\b\b\b\b\b\b\b\b\b\b\b\b\b\b\b\b\b\b\b\b\b\b\b\b\b\b\b\b\b\b\b\b\b\r30/30 [==============================] - 7s 251ms/step - loss: 0.1308 - accuracy: 0.6015\n",
            "Epoch 35/200\n",
            "30/30 [==============================] - ETA: 0s - loss: 0.1306 - accuracy: 0.6020"
          ]
        },
        {
          "name": "stderr",
          "output_type": "stream",
          "text": [
            "WARNING:tensorflow:Early stopping conditioned on metric `val_loss` which is not available. Available metrics are: loss,accuracy\n"
          ]
        },
        {
          "name": "stdout",
          "output_type": "stream",
          "text": [
            "\b\b\b\b\b\b\b\b\b\b\b\b\b\b\b\b\b\b\b\b\b\b\b\b\b\b\b\b\b\b\b\b\b\b\b\b\b\b\b\b\b\b\b\b\b\b\b\b\b\b\b\b\b\b\b\b\b\b\b\b\b\b\b\b\b\b\b\b\b\b\b\b\b\b\b\b\b\b\b\b\b\b\r30/30 [==============================] - 6s 210ms/step - loss: 0.1306 - accuracy: 0.6020\n",
            "Epoch 36/200\n",
            "30/30 [==============================] - ETA: 0s - loss: 0.1303 - accuracy: 0.6020"
          ]
        },
        {
          "name": "stderr",
          "output_type": "stream",
          "text": [
            "WARNING:tensorflow:Early stopping conditioned on metric `val_loss` which is not available. Available metrics are: loss,accuracy\n"
          ]
        },
        {
          "name": "stdout",
          "output_type": "stream",
          "text": [
            "\b\b\b\b\b\b\b\b\b\b\b\b\b\b\b\b\b\b\b\b\b\b\b\b\b\b\b\b\b\b\b\b\b\b\b\b\b\b\b\b\b\b\b\b\b\b\b\b\b\b\b\b\b\b\b\b\b\b\b\b\b\b\b\b\b\b\b\b\b\b\b\b\b\b\b\b\b\b\b\b\b\b\r30/30 [==============================] - 8s 252ms/step - loss: 0.1303 - accuracy: 0.6020\n",
            "Epoch 37/200\n",
            "30/30 [==============================] - ETA: 0s - loss: 0.1303 - accuracy: 0.6026"
          ]
        },
        {
          "name": "stderr",
          "output_type": "stream",
          "text": [
            "WARNING:tensorflow:Early stopping conditioned on metric `val_loss` which is not available. Available metrics are: loss,accuracy\n"
          ]
        },
        {
          "name": "stdout",
          "output_type": "stream",
          "text": [
            "\b\b\b\b\b\b\b\b\b\b\b\b\b\b\b\b\b\b\b\b\b\b\b\b\b\b\b\b\b\b\b\b\b\b\b\b\b\b\b\b\b\b\b\b\b\b\b\b\b\b\b\b\b\b\b\b\b\b\b\b\b\b\b\b\b\b\b\b\b\b\b\b\b\b\b\b\b\b\b\b\b\b\r30/30 [==============================] - 6s 209ms/step - loss: 0.1303 - accuracy: 0.6026\n",
            "Epoch 38/200\n",
            "30/30 [==============================] - ETA: 0s - loss: 0.1303 - accuracy: 0.6024"
          ]
        },
        {
          "name": "stderr",
          "output_type": "stream",
          "text": [
            "WARNING:tensorflow:Early stopping conditioned on metric `val_loss` which is not available. Available metrics are: loss,accuracy\n"
          ]
        },
        {
          "name": "stdout",
          "output_type": "stream",
          "text": [
            "\b\b\b\b\b\b\b\b\b\b\b\b\b\b\b\b\b\b\b\b\b\b\b\b\b\b\b\b\b\b\b\b\b\b\b\b\b\b\b\b\b\b\b\b\b\b\b\b\b\b\b\b\b\b\b\b\b\b\b\b\b\b\b\b\b\b\b\b\b\b\b\b\b\b\b\b\b\b\b\b\b\b\r30/30 [==============================] - 8s 254ms/step - loss: 0.1303 - accuracy: 0.6024\n",
            "Epoch 39/200\n",
            "30/30 [==============================] - ETA: 0s - loss: 0.1297 - accuracy: 0.6034"
          ]
        },
        {
          "name": "stderr",
          "output_type": "stream",
          "text": [
            "WARNING:tensorflow:Early stopping conditioned on metric `val_loss` which is not available. Available metrics are: loss,accuracy\n"
          ]
        },
        {
          "name": "stdout",
          "output_type": "stream",
          "text": [
            "\b\b\b\b\b\b\b\b\b\b\b\b\b\b\b\b\b\b\b\b\b\b\b\b\b\b\b\b\b\b\b\b\b\b\b\b\b\b\b\b\b\b\b\b\b\b\b\b\b\b\b\b\b\b\b\b\b\b\b\b\b\b\b\b\b\b\b\b\b\b\b\b\b\b\b\b\b\b\b\b\b\b\r30/30 [==============================] - 6s 210ms/step - loss: 0.1297 - accuracy: 0.6034\n",
            "Epoch 40/200\n",
            "30/30 [==============================] - ETA: 0s - loss: 0.1291 - accuracy: 0.6035"
          ]
        },
        {
          "name": "stderr",
          "output_type": "stream",
          "text": [
            "WARNING:tensorflow:Early stopping conditioned on metric `val_loss` which is not available. Available metrics are: loss,accuracy\n"
          ]
        },
        {
          "name": "stdout",
          "output_type": "stream",
          "text": [
            "\b\b\b\b\b\b\b\b\b\b\b\b\b\b\b\b\b\b\b\b\b\b\b\b\b\b\b\b\b\b\b\b\b\b\b\b\b\b\b\b\b\b\b\b\b\b\b\b\b\b\b\b\b\b\b\b\b\b\b\b\b\b\b\b\b\b\b\b\b\b\b\b\b\b\b\b\b\b\b\b\b\b\r30/30 [==============================] - 7s 249ms/step - loss: 0.1291 - accuracy: 0.6035\n",
            "Epoch 41/200\n",
            "30/30 [==============================] - ETA: 0s - loss: 0.1291 - accuracy: 0.6038"
          ]
        },
        {
          "name": "stderr",
          "output_type": "stream",
          "text": [
            "WARNING:tensorflow:Early stopping conditioned on metric `val_loss` which is not available. Available metrics are: loss,accuracy\n"
          ]
        },
        {
          "name": "stdout",
          "output_type": "stream",
          "text": [
            "\b\b\b\b\b\b\b\b\b\b\b\b\b\b\b\b\b\b\b\b\b\b\b\b\b\b\b\b\b\b\b\b\b\b\b\b\b\b\b\b\b\b\b\b\b\b\b\b\b\b\b\b\b\b\b\b\b\b\b\b\b\b\b\b\b\b\b\b\b\b\b\b\b\b\b\b\b\b\b\b\b\b\r30/30 [==============================] - 6s 208ms/step - loss: 0.1291 - accuracy: 0.6038\n",
            "Epoch 42/200\n",
            "30/30 [==============================] - ETA: 0s - loss: 0.1289 - accuracy: 0.6037"
          ]
        },
        {
          "name": "stderr",
          "output_type": "stream",
          "text": [
            "WARNING:tensorflow:Early stopping conditioned on metric `val_loss` which is not available. Available metrics are: loss,accuracy\n"
          ]
        },
        {
          "name": "stdout",
          "output_type": "stream",
          "text": [
            "\b\b\b\b\b\b\b\b\b\b\b\b\b\b\b\b\b\b\b\b\b\b\b\b\b\b\b\b\b\b\b\b\b\b\b\b\b\b\b\b\b\b\b\b\b\b\b\b\b\b\b\b\b\b\b\b\b\b\b\b\b\b\b\b\b\b\b\b\b\b\b\b\b\b\b\b\b\b\b\b\b\b\r30/30 [==============================] - 7s 251ms/step - loss: 0.1289 - accuracy: 0.6037\n",
            "Epoch 43/200\n",
            "30/30 [==============================] - ETA: 0s - loss: 0.1285 - accuracy: 0.6044"
          ]
        },
        {
          "name": "stderr",
          "output_type": "stream",
          "text": [
            "WARNING:tensorflow:Early stopping conditioned on metric `val_loss` which is not available. Available metrics are: loss,accuracy\n"
          ]
        },
        {
          "name": "stdout",
          "output_type": "stream",
          "text": [
            "\b\b\b\b\b\b\b\b\b\b\b\b\b\b\b\b\b\b\b\b\b\b\b\b\b\b\b\b\b\b\b\b\b\b\b\b\b\b\b\b\b\b\b\b\b\b\b\b\b\b\b\b\b\b\b\b\b\b\b\b\b\b\b\b\b\b\b\b\b\b\b\b\b\b\b\b\b\b\b\b\b\b\r30/30 [==============================] - 6s 207ms/step - loss: 0.1285 - accuracy: 0.6044\n",
            "Epoch 44/200\n",
            "30/30 [==============================] - ETA: 0s - loss: 0.1282 - accuracy: 0.6049"
          ]
        },
        {
          "name": "stderr",
          "output_type": "stream",
          "text": [
            "WARNING:tensorflow:Early stopping conditioned on metric `val_loss` which is not available. Available metrics are: loss,accuracy\n"
          ]
        },
        {
          "name": "stdout",
          "output_type": "stream",
          "text": [
            "\b\b\b\b\b\b\b\b\b\b\b\b\b\b\b\b\b\b\b\b\b\b\b\b\b\b\b\b\b\b\b\b\b\b\b\b\b\b\b\b\b\b\b\b\b\b\b\b\b\b\b\b\b\b\b\b\b\b\b\b\b\b\b\b\b\b\b\b\b\b\b\b\b\b\b\b\b\b\b\b\b\b\r30/30 [==============================] - 7s 251ms/step - loss: 0.1282 - accuracy: 0.6049\n",
            "Epoch 45/200\n",
            "30/30 [==============================] - ETA: 0s - loss: 0.1288 - accuracy: 0.6037"
          ]
        },
        {
          "name": "stderr",
          "output_type": "stream",
          "text": [
            "WARNING:tensorflow:Early stopping conditioned on metric `val_loss` which is not available. Available metrics are: loss,accuracy\n"
          ]
        },
        {
          "name": "stdout",
          "output_type": "stream",
          "text": [
            "\b\b\b\b\b\b\b\b\b\b\b\b\b\b\b\b\b\b\b\b\b\b\b\b\b\b\b\b\b\b\b\b\b\b\b\b\b\b\b\b\b\b\b\b\b\b\b\b\b\b\b\b\b\b\b\b\b\b\b\b\b\b\b\b\b\b\b\b\b\b\b\b\b\b\b\b\b\b\b\b\b\b\r30/30 [==============================] - 6s 207ms/step - loss: 0.1288 - accuracy: 0.6037\n",
            "Epoch 46/200\n",
            "30/30 [==============================] - ETA: 0s - loss: 0.1287 - accuracy: 0.6048"
          ]
        },
        {
          "name": "stderr",
          "output_type": "stream",
          "text": [
            "WARNING:tensorflow:Early stopping conditioned on metric `val_loss` which is not available. Available metrics are: loss,accuracy\n"
          ]
        },
        {
          "name": "stdout",
          "output_type": "stream",
          "text": [
            "\b\b\b\b\b\b\b\b\b\b\b\b\b\b\b\b\b\b\b\b\b\b\b\b\b\b\b\b\b\b\b\b\b\b\b\b\b\b\b\b\b\b\b\b\b\b\b\b\b\b\b\b\b\b\b\b\b\b\b\b\b\b\b\b\b\b\b\b\b\b\b\b\b\b\b\b\b\b\b\b\b\b\r30/30 [==============================] - 7s 250ms/step - loss: 0.1287 - accuracy: 0.6048\n",
            "Epoch 47/200\n",
            "30/30 [==============================] - ETA: 0s - loss: 0.1285 - accuracy: 0.6044"
          ]
        },
        {
          "name": "stderr",
          "output_type": "stream",
          "text": [
            "WARNING:tensorflow:Early stopping conditioned on metric `val_loss` which is not available. Available metrics are: loss,accuracy\n"
          ]
        },
        {
          "name": "stdout",
          "output_type": "stream",
          "text": [
            "\b\b\b\b\b\b\b\b\b\b\b\b\b\b\b\b\b\b\b\b\b\b\b\b\b\b\b\b\b\b\b\b\b\b\b\b\b\b\b\b\b\b\b\b\b\b\b\b\b\b\b\b\b\b\b\b\b\b\b\b\b\b\b\b\b\b\b\b\b\b\b\b\b\b\b\b\b\b\b\b\b\b\r30/30 [==============================] - 6s 208ms/step - loss: 0.1285 - accuracy: 0.6044\n",
            "Epoch 48/200\n",
            "30/30 [==============================] - ETA: 0s - loss: 0.1279 - accuracy: 0.6052"
          ]
        },
        {
          "name": "stderr",
          "output_type": "stream",
          "text": [
            "WARNING:tensorflow:Early stopping conditioned on metric `val_loss` which is not available. Available metrics are: loss,accuracy\n"
          ]
        },
        {
          "name": "stdout",
          "output_type": "stream",
          "text": [
            "\b\b\b\b\b\b\b\b\b\b\b\b\b\b\b\b\b\b\b\b\b\b\b\b\b\b\b\b\b\b\b\b\b\b\b\b\b\b\b\b\b\b\b\b\b\b\b\b\b\b\b\b\b\b\b\b\b\b\b\b\b\b\b\b\b\b\b\b\b\b\b\b\b\b\b\b\b\b\b\b\b\b\r30/30 [==============================] - 7s 243ms/step - loss: 0.1279 - accuracy: 0.6052\n",
            "Epoch 49/200\n",
            "30/30 [==============================] - ETA: 0s - loss: 0.1276 - accuracy: 0.6054"
          ]
        },
        {
          "name": "stderr",
          "output_type": "stream",
          "text": [
            "WARNING:tensorflow:Early stopping conditioned on metric `val_loss` which is not available. Available metrics are: loss,accuracy\n"
          ]
        },
        {
          "name": "stdout",
          "output_type": "stream",
          "text": [
            "\b\b\b\b\b\b\b\b\b\b\b\b\b\b\b\b\b\b\b\b\b\b\b\b\b\b\b\b\b\b\b\b\b\b\b\b\b\b\b\b\b\b\b\b\b\b\b\b\b\b\b\b\b\b\b\b\b\b\b\b\b\b\b\b\b\b\b\b\b\b\b\b\b\b\b\b\b\b\b\b\b\b\r30/30 [==============================] - 6s 209ms/step - loss: 0.1276 - accuracy: 0.6054\n",
            "Epoch 50/200\n",
            "30/30 [==============================] - ETA: 0s - loss: 0.1274 - accuracy: 0.6056"
          ]
        },
        {
          "name": "stderr",
          "output_type": "stream",
          "text": [
            "WARNING:tensorflow:Early stopping conditioned on metric `val_loss` which is not available. Available metrics are: loss,accuracy\n"
          ]
        },
        {
          "name": "stdout",
          "output_type": "stream",
          "text": [
            "\b\b\b\b\b\b\b\b\b\b\b\b\b\b\b\b\b\b\b\b\b\b\b\b\b\b\b\b\b\b\b\b\b\b\b\b\b\b\b\b\b\b\b\b\b\b\b\b\b\b\b\b\b\b\b\b\b\b\b\b\b\b\b\b\b\b\b\b\b\b\b\b\b\b\b\b\b\b\b\b\b\b\r30/30 [==============================] - 7s 247ms/step - loss: 0.1274 - accuracy: 0.6056\n",
            "Epoch 51/200\n",
            "30/30 [==============================] - ETA: 0s - loss: 0.1274 - accuracy: 0.6058"
          ]
        },
        {
          "name": "stderr",
          "output_type": "stream",
          "text": [
            "WARNING:tensorflow:Early stopping conditioned on metric `val_loss` which is not available. Available metrics are: loss,accuracy\n"
          ]
        },
        {
          "name": "stdout",
          "output_type": "stream",
          "text": [
            "\b\b\b\b\b\b\b\b\b\b\b\b\b\b\b\b\b\b\b\b\b\b\b\b\b\b\b\b\b\b\b\b\b\b\b\b\b\b\b\b\b\b\b\b\b\b\b\b\b\b\b\b\b\b\b\b\b\b\b\b\b\b\b\b\b\b\b\b\b\b\b\b\b\b\b\b\b\b\b\b\b\b\r30/30 [==============================] - 7s 221ms/step - loss: 0.1274 - accuracy: 0.6058\n",
            "Epoch 52/200\n",
            "30/30 [==============================] - ETA: 0s - loss: 0.1272 - accuracy: 0.6059"
          ]
        },
        {
          "name": "stderr",
          "output_type": "stream",
          "text": [
            "WARNING:tensorflow:Early stopping conditioned on metric `val_loss` which is not available. Available metrics are: loss,accuracy\n"
          ]
        },
        {
          "name": "stdout",
          "output_type": "stream",
          "text": [
            "\b\b\b\b\b\b\b\b\b\b\b\b\b\b\b\b\b\b\b\b\b\b\b\b\b\b\b\b\b\b\b\b\b\b\b\b\b\b\b\b\b\b\b\b\b\b\b\b\b\b\b\b\b\b\b\b\b\b\b\b\b\b\b\b\b\b\b\b\b\b\b\b\b\b\b\b\b\b\b\b\b\b\r30/30 [==============================] - 7s 235ms/step - loss: 0.1272 - accuracy: 0.6059\n",
            "Epoch 53/200\n",
            "30/30 [==============================] - ETA: 0s - loss: 0.1270 - accuracy: 0.6062"
          ]
        },
        {
          "name": "stderr",
          "output_type": "stream",
          "text": [
            "WARNING:tensorflow:Early stopping conditioned on metric `val_loss` which is not available. Available metrics are: loss,accuracy\n"
          ]
        },
        {
          "name": "stdout",
          "output_type": "stream",
          "text": [
            "\b\b\b\b\b\b\b\b\b\b\b\b\b\b\b\b\b\b\b\b\b\b\b\b\b\b\b\b\b\b\b\b\b\b\b\b\b\b\b\b\b\b\b\b\b\b\b\b\b\b\b\b\b\b\b\b\b\b\b\b\b\b\b\b\b\b\b\b\b\b\b\b\b\b\b\b\b\b\b\b\b\b\r30/30 [==============================] - 7s 225ms/step - loss: 0.1270 - accuracy: 0.6062\n",
            "Epoch 54/200\n",
            "30/30 [==============================] - ETA: 0s - loss: 0.1269 - accuracy: 0.6063"
          ]
        },
        {
          "name": "stderr",
          "output_type": "stream",
          "text": [
            "WARNING:tensorflow:Early stopping conditioned on metric `val_loss` which is not available. Available metrics are: loss,accuracy\n"
          ]
        },
        {
          "name": "stdout",
          "output_type": "stream",
          "text": [
            "\b\b\b\b\b\b\b\b\b\b\b\b\b\b\b\b\b\b\b\b\b\b\b\b\b\b\b\b\b\b\b\b\b\b\b\b\b\b\b\b\b\b\b\b\b\b\b\b\b\b\b\b\b\b\b\b\b\b\b\b\b\b\b\b\b\b\b\b\b\b\b\b\b\b\b\b\b\b\b\b\b\b\r30/30 [==============================] - 7s 230ms/step - loss: 0.1269 - accuracy: 0.6063\n",
            "Epoch 55/200\n",
            "30/30 [==============================] - ETA: 0s - loss: 0.1266 - accuracy: 0.6071"
          ]
        },
        {
          "name": "stderr",
          "output_type": "stream",
          "text": [
            "WARNING:tensorflow:Early stopping conditioned on metric `val_loss` which is not available. Available metrics are: loss,accuracy\n"
          ]
        },
        {
          "name": "stdout",
          "output_type": "stream",
          "text": [
            "\b\b\b\b\b\b\b\b\b\b\b\b\b\b\b\b\b\b\b\b\b\b\b\b\b\b\b\b\b\b\b\b\b\b\b\b\b\b\b\b\b\b\b\b\b\b\b\b\b\b\b\b\b\b\b\b\b\b\b\b\b\b\b\b\b\b\b\b\b\b\b\b\b\b\b\b\b\b\b\b\b\b\r30/30 [==============================] - 7s 240ms/step - loss: 0.1266 - accuracy: 0.6071\n",
            "Epoch 56/200\n",
            "30/30 [==============================] - ETA: 0s - loss: 0.1251 - accuracy: 0.6093"
          ]
        },
        {
          "name": "stderr",
          "output_type": "stream",
          "text": [
            "WARNING:tensorflow:Early stopping conditioned on metric `val_loss` which is not available. Available metrics are: loss,accuracy\n"
          ]
        },
        {
          "name": "stdout",
          "output_type": "stream",
          "text": [
            "\b\b\b\b\b\b\b\b\b\b\b\b\b\b\b\b\b\b\b\b\b\b\b\b\b\b\b\b\b\b\b\b\b\b\b\b\b\b\b\b\b\b\b\b\b\b\b\b\b\b\b\b\b\b\b\b\b\b\b\b\b\b\b\b\b\b\b\b\b\b\b\b\b\b\b\b\b\b\b\b\b\b\r30/30 [==============================] - 7s 221ms/step - loss: 0.1251 - accuracy: 0.6093\n",
            "Epoch 57/200\n",
            "30/30 [==============================] - ETA: 0s - loss: 0.1235 - accuracy: 0.6123"
          ]
        },
        {
          "name": "stderr",
          "output_type": "stream",
          "text": [
            "WARNING:tensorflow:Early stopping conditioned on metric `val_loss` which is not available. Available metrics are: loss,accuracy\n"
          ]
        },
        {
          "name": "stdout",
          "output_type": "stream",
          "text": [
            "\b\b\b\b\b\b\b\b\b\b\b\b\b\b\b\b\b\b\b\b\b\b\b\b\b\b\b\b\b\b\b\b\b\b\b\b\b\b\b\b\b\b\b\b\b\b\b\b\b\b\b\b\b\b\b\b\b\b\b\b\b\b\b\b\b\b\b\b\b\b\b\b\b\b\b\b\b\b\b\b\b\b\r30/30 [==============================] - 8s 256ms/step - loss: 0.1235 - accuracy: 0.6123\n",
            "Epoch 58/200\n",
            "30/30 [==============================] - ETA: 0s - loss: 0.1234 - accuracy: 0.6131"
          ]
        },
        {
          "name": "stderr",
          "output_type": "stream",
          "text": [
            "WARNING:tensorflow:Early stopping conditioned on metric `val_loss` which is not available. Available metrics are: loss,accuracy\n"
          ]
        },
        {
          "name": "stdout",
          "output_type": "stream",
          "text": [
            "\b\b\b\b\b\b\b\b\b\b\b\b\b\b\b\b\b\b\b\b\b\b\b\b\b\b\b\b\b\b\b\b\b\b\b\b\b\b\b\b\b\b\b\b\b\b\b\b\b\b\b\b\b\b\b\b\b\b\b\b\b\b\b\b\b\b\b\b\b\b\b\b\b\b\b\b\b\b\b\b\b\b\r30/30 [==============================] - 7s 221ms/step - loss: 0.1234 - accuracy: 0.6131\n",
            "Epoch 59/200\n",
            "30/30 [==============================] - ETA: 0s - loss: 0.1226 - accuracy: 0.6137"
          ]
        },
        {
          "name": "stderr",
          "output_type": "stream",
          "text": [
            "WARNING:tensorflow:Early stopping conditioned on metric `val_loss` which is not available. Available metrics are: loss,accuracy\n"
          ]
        },
        {
          "name": "stdout",
          "output_type": "stream",
          "text": [
            "\b\b\b\b\b\b\b\b\b\b\b\b\b\b\b\b\b\b\b\b\b\b\b\b\b\b\b\b\b\b\b\b\b\b\b\b\b\b\b\b\b\b\b\b\b\b\b\b\b\b\b\b\b\b\b\b\b\b\b\b\b\b\b\b\b\b\b\b\b\b\b\b\b\b\b\b\b\b\b\b\b\b\r30/30 [==============================] - 8s 264ms/step - loss: 0.1226 - accuracy: 0.6137\n",
            "Epoch 60/200\n",
            "30/30 [==============================] - ETA: 0s - loss: 0.1216 - accuracy: 0.6151"
          ]
        },
        {
          "name": "stderr",
          "output_type": "stream",
          "text": [
            "WARNING:tensorflow:Early stopping conditioned on metric `val_loss` which is not available. Available metrics are: loss,accuracy\n"
          ]
        },
        {
          "name": "stdout",
          "output_type": "stream",
          "text": [
            "\b\b\b\b\b\b\b\b\b\b\b\b\b\b\b\b\b\b\b\b\b\b\b\b\b\b\b\b\b\b\b\b\b\b\b\b\b\b\b\b\b\b\b\b\b\b\b\b\b\b\b\b\b\b\b\b\b\b\b\b\b\b\b\b\b\b\b\b\b\b\b\b\b\b\b\b\b\b\b\b\b\b\r30/30 [==============================] - 7s 217ms/step - loss: 0.1216 - accuracy: 0.6151\n",
            "Epoch 61/200\n",
            "30/30 [==============================] - ETA: 0s - loss: 0.1208 - accuracy: 0.6158"
          ]
        },
        {
          "name": "stderr",
          "output_type": "stream",
          "text": [
            "WARNING:tensorflow:Early stopping conditioned on metric `val_loss` which is not available. Available metrics are: loss,accuracy\n"
          ]
        },
        {
          "name": "stdout",
          "output_type": "stream",
          "text": [
            "\b\b\b\b\b\b\b\b\b\b\b\b\b\b\b\b\b\b\b\b\b\b\b\b\b\b\b\b\b\b\b\b\b\b\b\b\b\b\b\b\b\b\b\b\b\b\b\b\b\b\b\b\b\b\b\b\b\b\b\b\b\b\b\b\b\b\b\b\b\b\b\b\b\b\b\b\b\b\b\b\b\b\r30/30 [==============================] - 8s 261ms/step - loss: 0.1208 - accuracy: 0.6158\n",
            "Epoch 62/200\n",
            "30/30 [==============================] - ETA: 0s - loss: 0.1206 - accuracy: 0.6159"
          ]
        },
        {
          "name": "stderr",
          "output_type": "stream",
          "text": [
            "WARNING:tensorflow:Early stopping conditioned on metric `val_loss` which is not available. Available metrics are: loss,accuracy\n"
          ]
        },
        {
          "name": "stdout",
          "output_type": "stream",
          "text": [
            "\b\b\b\b\b\b\b\b\b\b\b\b\b\b\b\b\b\b\b\b\b\b\b\b\b\b\b\b\b\b\b\b\b\b\b\b\b\b\b\b\b\b\b\b\b\b\b\b\b\b\b\b\b\b\b\b\b\b\b\b\b\b\b\b\b\b\b\b\b\b\b\b\b\b\b\b\b\b\b\b\b\b\r30/30 [==============================] - 6s 215ms/step - loss: 0.1206 - accuracy: 0.6159\n",
            "Epoch 63/200\n",
            "30/30 [==============================] - ETA: 0s - loss: 0.1210 - accuracy: 0.6153"
          ]
        },
        {
          "name": "stderr",
          "output_type": "stream",
          "text": [
            "WARNING:tensorflow:Early stopping conditioned on metric `val_loss` which is not available. Available metrics are: loss,accuracy\n"
          ]
        },
        {
          "name": "stdout",
          "output_type": "stream",
          "text": [
            "\b\b\b\b\b\b\b\b\b\b\b\b\b\b\b\b\b\b\b\b\b\b\b\b\b\b\b\b\b\b\b\b\b\b\b\b\b\b\b\b\b\b\b\b\b\b\b\b\b\b\b\b\b\b\b\b\b\b\b\b\b\b\b\b\b\b\b\b\b\b\b\b\b\b\b\b\b\b\b\b\b\b\r30/30 [==============================] - 8s 256ms/step - loss: 0.1210 - accuracy: 0.6153\n",
            "Epoch 64/200\n",
            "30/30 [==============================] - ETA: 0s - loss: 0.1205 - accuracy: 0.6160"
          ]
        },
        {
          "name": "stderr",
          "output_type": "stream",
          "text": [
            "WARNING:tensorflow:Early stopping conditioned on metric `val_loss` which is not available. Available metrics are: loss,accuracy\n"
          ]
        },
        {
          "name": "stdout",
          "output_type": "stream",
          "text": [
            "\b\b\b\b\b\b\b\b\b\b\b\b\b\b\b\b\b\b\b\b\b\b\b\b\b\b\b\b\b\b\b\b\b\b\b\b\b\b\b\b\b\b\b\b\b\b\b\b\b\b\b\b\b\b\b\b\b\b\b\b\b\b\b\b\b\b\b\b\b\b\b\b\b\b\b\b\b\b\b\b\b\b\r30/30 [==============================] - 6s 212ms/step - loss: 0.1205 - accuracy: 0.6160\n",
            "Epoch 65/200\n",
            "30/30 [==============================] - ETA: 0s - loss: 0.1205 - accuracy: 0.6161"
          ]
        },
        {
          "name": "stderr",
          "output_type": "stream",
          "text": [
            "WARNING:tensorflow:Early stopping conditioned on metric `val_loss` which is not available. Available metrics are: loss,accuracy\n"
          ]
        },
        {
          "name": "stdout",
          "output_type": "stream",
          "text": [
            "\b\b\b\b\b\b\b\b\b\b\b\b\b\b\b\b\b\b\b\b\b\b\b\b\b\b\b\b\b\b\b\b\b\b\b\b\b\b\b\b\b\b\b\b\b\b\b\b\b\b\b\b\b\b\b\b\b\b\b\b\b\b\b\b\b\b\b\b\b\b\b\b\b\b\b\b\b\b\b\b\b\b\r30/30 [==============================] - 7s 251ms/step - loss: 0.1205 - accuracy: 0.6161\n",
            "Epoch 66/200\n",
            "30/30 [==============================] - ETA: 0s - loss: 0.1203 - accuracy: 0.6164"
          ]
        },
        {
          "name": "stderr",
          "output_type": "stream",
          "text": [
            "WARNING:tensorflow:Early stopping conditioned on metric `val_loss` which is not available. Available metrics are: loss,accuracy\n"
          ]
        },
        {
          "name": "stdout",
          "output_type": "stream",
          "text": [
            "\b\b\b\b\b\b\b\b\b\b\b\b\b\b\b\b\b\b\b\b\b\b\b\b\b\b\b\b\b\b\b\b\b\b\b\b\b\b\b\b\b\b\b\b\b\b\b\b\b\b\b\b\b\b\b\b\b\b\b\b\b\b\b\b\b\b\b\b\b\b\b\b\b\b\b\b\b\b\b\b\b\b\r30/30 [==============================] - 6s 210ms/step - loss: 0.1203 - accuracy: 0.6164\n",
            "Epoch 67/200\n",
            "30/30 [==============================] - ETA: 0s - loss: 0.1198 - accuracy: 0.6169"
          ]
        },
        {
          "name": "stderr",
          "output_type": "stream",
          "text": [
            "WARNING:tensorflow:Early stopping conditioned on metric `val_loss` which is not available. Available metrics are: loss,accuracy\n"
          ]
        },
        {
          "name": "stdout",
          "output_type": "stream",
          "text": [
            "\b\b\b\b\b\b\b\b\b\b\b\b\b\b\b\b\b\b\b\b\b\b\b\b\b\b\b\b\b\b\b\b\b\b\b\b\b\b\b\b\b\b\b\b\b\b\b\b\b\b\b\b\b\b\b\b\b\b\b\b\b\b\b\b\b\b\b\b\b\b\b\b\b\b\b\b\b\b\b\b\b\b\r30/30 [==============================] - 8s 256ms/step - loss: 0.1198 - accuracy: 0.6169\n",
            "Epoch 68/200\n",
            "30/30 [==============================] - ETA: 0s - loss: 0.1194 - accuracy: 0.6174"
          ]
        },
        {
          "name": "stderr",
          "output_type": "stream",
          "text": [
            "WARNING:tensorflow:Early stopping conditioned on metric `val_loss` which is not available. Available metrics are: loss,accuracy\n"
          ]
        },
        {
          "name": "stdout",
          "output_type": "stream",
          "text": [
            "\b\b\b\b\b\b\b\b\b\b\b\b\b\b\b\b\b\b\b\b\b\b\b\b\b\b\b\b\b\b\b\b\b\b\b\b\b\b\b\b\b\b\b\b\b\b\b\b\b\b\b\b\b\b\b\b\b\b\b\b\b\b\b\b\b\b\b\b\b\b\b\b\b\b\b\b\b\b\b\b\b\b\r30/30 [==============================] - 6s 212ms/step - loss: 0.1194 - accuracy: 0.6174\n",
            "Epoch 69/200\n",
            "30/30 [==============================] - ETA: 0s - loss: 0.1193 - accuracy: 0.6176"
          ]
        },
        {
          "name": "stderr",
          "output_type": "stream",
          "text": [
            "WARNING:tensorflow:Early stopping conditioned on metric `val_loss` which is not available. Available metrics are: loss,accuracy\n"
          ]
        },
        {
          "name": "stdout",
          "output_type": "stream",
          "text": [
            "\b\b\b\b\b\b\b\b\b\b\b\b\b\b\b\b\b\b\b\b\b\b\b\b\b\b\b\b\b\b\b\b\b\b\b\b\b\b\b\b\b\b\b\b\b\b\b\b\b\b\b\b\b\b\b\b\b\b\b\b\b\b\b\b\b\b\b\b\b\b\b\b\b\b\b\b\b\b\b\b\b\b\r30/30 [==============================] - 8s 251ms/step - loss: 0.1193 - accuracy: 0.6176\n",
            "Epoch 70/200\n",
            "30/30 [==============================] - ETA: 0s - loss: 0.1189 - accuracy: 0.6180"
          ]
        },
        {
          "name": "stderr",
          "output_type": "stream",
          "text": [
            "WARNING:tensorflow:Early stopping conditioned on metric `val_loss` which is not available. Available metrics are: loss,accuracy\n"
          ]
        },
        {
          "name": "stdout",
          "output_type": "stream",
          "text": [
            "\b\b\b\b\b\b\b\b\b\b\b\b\b\b\b\b\b\b\b\b\b\b\b\b\b\b\b\b\b\b\b\b\b\b\b\b\b\b\b\b\b\b\b\b\b\b\b\b\b\b\b\b\b\b\b\b\b\b\b\b\b\b\b\b\b\b\b\b\b\b\b\b\b\b\b\b\b\b\b\b\b\b\r30/30 [==============================] - 6s 211ms/step - loss: 0.1189 - accuracy: 0.6180\n",
            "Epoch 71/200\n",
            "30/30 [==============================] - ETA: 0s - loss: 0.1190 - accuracy: 0.6179"
          ]
        },
        {
          "name": "stderr",
          "output_type": "stream",
          "text": [
            "WARNING:tensorflow:Early stopping conditioned on metric `val_loss` which is not available. Available metrics are: loss,accuracy\n"
          ]
        },
        {
          "name": "stdout",
          "output_type": "stream",
          "text": [
            "\b\b\b\b\b\b\b\b\b\b\b\b\b\b\b\b\b\b\b\b\b\b\b\b\b\b\b\b\b\b\b\b\b\b\b\b\b\b\b\b\b\b\b\b\b\b\b\b\b\b\b\b\b\b\b\b\b\b\b\b\b\b\b\b\b\b\b\b\b\b\b\b\b\b\b\b\b\b\b\b\b\b\r30/30 [==============================] - 8s 253ms/step - loss: 0.1190 - accuracy: 0.6179\n",
            "Epoch 72/200\n",
            "30/30 [==============================] - ETA: 0s - loss: 0.1187 - accuracy: 0.6183"
          ]
        },
        {
          "name": "stderr",
          "output_type": "stream",
          "text": [
            "WARNING:tensorflow:Early stopping conditioned on metric `val_loss` which is not available. Available metrics are: loss,accuracy\n"
          ]
        },
        {
          "name": "stdout",
          "output_type": "stream",
          "text": [
            "\b\b\b\b\b\b\b\b\b\b\b\b\b\b\b\b\b\b\b\b\b\b\b\b\b\b\b\b\b\b\b\b\b\b\b\b\b\b\b\b\b\b\b\b\b\b\b\b\b\b\b\b\b\b\b\b\b\b\b\b\b\b\b\b\b\b\b\b\b\b\b\b\b\b\b\b\b\b\b\b\b\b\r30/30 [==============================] - 6s 211ms/step - loss: 0.1187 - accuracy: 0.6183\n",
            "Epoch 73/200\n",
            "30/30 [==============================] - ETA: 0s - loss: 0.1185 - accuracy: 0.6186"
          ]
        },
        {
          "name": "stderr",
          "output_type": "stream",
          "text": [
            "WARNING:tensorflow:Early stopping conditioned on metric `val_loss` which is not available. Available metrics are: loss,accuracy\n"
          ]
        },
        {
          "name": "stdout",
          "output_type": "stream",
          "text": [
            "\b\b\b\b\b\b\b\b\b\b\b\b\b\b\b\b\b\b\b\b\b\b\b\b\b\b\b\b\b\b\b\b\b\b\b\b\b\b\b\b\b\b\b\b\b\b\b\b\b\b\b\b\b\b\b\b\b\b\b\b\b\b\b\b\b\b\b\b\b\b\b\b\b\b\b\b\b\b\b\b\b\b\r30/30 [==============================] - 8s 254ms/step - loss: 0.1185 - accuracy: 0.6186\n",
            "Epoch 74/200\n",
            "30/30 [==============================] - ETA: 0s - loss: 0.1183 - accuracy: 0.6187"
          ]
        },
        {
          "name": "stderr",
          "output_type": "stream",
          "text": [
            "WARNING:tensorflow:Early stopping conditioned on metric `val_loss` which is not available. Available metrics are: loss,accuracy\n"
          ]
        },
        {
          "name": "stdout",
          "output_type": "stream",
          "text": [
            "\b\b\b\b\b\b\b\b\b\b\b\b\b\b\b\b\b\b\b\b\b\b\b\b\b\b\b\b\b\b\b\b\b\b\b\b\b\b\b\b\b\b\b\b\b\b\b\b\b\b\b\b\b\b\b\b\b\b\b\b\b\b\b\b\b\b\b\b\b\b\b\b\b\b\b\b\b\b\b\b\b\b\r30/30 [==============================] - 7s 222ms/step - loss: 0.1183 - accuracy: 0.6187\n",
            "Epoch 75/200\n",
            "30/30 [==============================] - ETA: 0s - loss: 0.1182 - accuracy: 0.6191"
          ]
        },
        {
          "name": "stderr",
          "output_type": "stream",
          "text": [
            "WARNING:tensorflow:Early stopping conditioned on metric `val_loss` which is not available. Available metrics are: loss,accuracy\n"
          ]
        },
        {
          "name": "stdout",
          "output_type": "stream",
          "text": [
            "\b\b\b\b\b\b\b\b\b\b\b\b\b\b\b\b\b\b\b\b\b\b\b\b\b\b\b\b\b\b\b\b\b\b\b\b\b\b\b\b\b\b\b\b\b\b\b\b\b\b\b\b\b\b\b\b\b\b\b\b\b\b\b\b\b\b\b\b\b\b\b\b\b\b\b\b\b\b\b\b\b\b\r30/30 [==============================] - 7s 240ms/step - loss: 0.1182 - accuracy: 0.6191\n",
            "Epoch 76/200\n",
            "30/30 [==============================] - ETA: 0s - loss: 0.1182 - accuracy: 0.6190"
          ]
        },
        {
          "name": "stderr",
          "output_type": "stream",
          "text": [
            "WARNING:tensorflow:Early stopping conditioned on metric `val_loss` which is not available. Available metrics are: loss,accuracy\n"
          ]
        },
        {
          "name": "stdout",
          "output_type": "stream",
          "text": [
            "\b\b\b\b\b\b\b\b\b\b\b\b\b\b\b\b\b\b\b\b\b\b\b\b\b\b\b\b\b\b\b\b\b\b\b\b\b\b\b\b\b\b\b\b\b\b\b\b\b\b\b\b\b\b\b\b\b\b\b\b\b\b\b\b\b\b\b\b\b\b\b\b\b\b\b\b\b\b\b\b\b\b\r30/30 [==============================] - 7s 229ms/step - loss: 0.1182 - accuracy: 0.6190\n",
            "Epoch 77/200\n",
            "30/30 [==============================] - ETA: 0s - loss: 0.1179 - accuracy: 0.6194"
          ]
        },
        {
          "name": "stderr",
          "output_type": "stream",
          "text": [
            "WARNING:tensorflow:Early stopping conditioned on metric `val_loss` which is not available. Available metrics are: loss,accuracy\n"
          ]
        },
        {
          "name": "stdout",
          "output_type": "stream",
          "text": [
            "\b\b\b\b\b\b\b\b\b\b\b\b\b\b\b\b\b\b\b\b\b\b\b\b\b\b\b\b\b\b\b\b\b\b\b\b\b\b\b\b\b\b\b\b\b\b\b\b\b\b\b\b\b\b\b\b\b\b\b\b\b\b\b\b\b\b\b\b\b\b\b\b\b\b\b\b\b\b\b\b\b\b\r30/30 [==============================] - 7s 230ms/step - loss: 0.1179 - accuracy: 0.6194\n",
            "Epoch 78/200\n",
            "30/30 [==============================] - ETA: 0s - loss: 0.1178 - accuracy: 0.6196"
          ]
        },
        {
          "name": "stderr",
          "output_type": "stream",
          "text": [
            "WARNING:tensorflow:Early stopping conditioned on metric `val_loss` which is not available. Available metrics are: loss,accuracy\n"
          ]
        },
        {
          "name": "stdout",
          "output_type": "stream",
          "text": [
            "\b\b\b\b\b\b\b\b\b\b\b\b\b\b\b\b\b\b\b\b\b\b\b\b\b\b\b\b\b\b\b\b\b\b\b\b\b\b\b\b\b\b\b\b\b\b\b\b\b\b\b\b\b\b\b\b\b\b\b\b\b\b\b\b\b\b\b\b\b\b\b\b\b\b\b\b\b\b\b\b\b\b\r30/30 [==============================] - 7s 230ms/step - loss: 0.1178 - accuracy: 0.6196\n",
            "Epoch 79/200\n",
            "30/30 [==============================] - ETA: 0s - loss: 0.1178 - accuracy: 0.6197"
          ]
        },
        {
          "name": "stderr",
          "output_type": "stream",
          "text": [
            "WARNING:tensorflow:Early stopping conditioned on metric `val_loss` which is not available. Available metrics are: loss,accuracy\n"
          ]
        },
        {
          "name": "stdout",
          "output_type": "stream",
          "text": [
            "\b\b\b\b\b\b\b\b\b\b\b\b\b\b\b\b\b\b\b\b\b\b\b\b\b\b\b\b\b\b\b\b\b\b\b\b\b\b\b\b\b\b\b\b\b\b\b\b\b\b\b\b\b\b\b\b\b\b\b\b\b\b\b\b\b\b\b\b\b\b\b\b\b\b\b\b\b\b\b\b\b\b\r30/30 [==============================] - 7s 223ms/step - loss: 0.1178 - accuracy: 0.6197\n",
            "Epoch 80/200\n",
            "30/30 [==============================] - ETA: 0s - loss: 0.1173 - accuracy: 0.6203"
          ]
        },
        {
          "name": "stderr",
          "output_type": "stream",
          "text": [
            "WARNING:tensorflow:Early stopping conditioned on metric `val_loss` which is not available. Available metrics are: loss,accuracy\n"
          ]
        },
        {
          "name": "stdout",
          "output_type": "stream",
          "text": [
            "\b\b\b\b\b\b\b\b\b\b\b\b\b\b\b\b\b\b\b\b\b\b\b\b\b\b\b\b\b\b\b\b\b\b\b\b\b\b\b\b\b\b\b\b\b\b\b\b\b\b\b\b\b\b\b\b\b\b\b\b\b\b\b\b\b\b\b\b\b\b\b\b\b\b\b\b\b\b\b\b\b\b\r30/30 [==============================] - 7s 238ms/step - loss: 0.1173 - accuracy: 0.6203\n",
            "Epoch 81/200\n",
            "30/30 [==============================] - ETA: 0s - loss: 0.1167 - accuracy: 0.6209"
          ]
        },
        {
          "name": "stderr",
          "output_type": "stream",
          "text": [
            "WARNING:tensorflow:Early stopping conditioned on metric `val_loss` which is not available. Available metrics are: loss,accuracy\n"
          ]
        },
        {
          "name": "stdout",
          "output_type": "stream",
          "text": [
            "\b\b\b\b\b\b\b\b\b\b\b\b\b\b\b\b\b\b\b\b\b\b\b\b\b\b\b\b\b\b\b\b\b\b\b\b\b\b\b\b\b\b\b\b\b\b\b\b\b\b\b\b\b\b\b\b\b\b\b\b\b\b\b\b\b\b\b\b\b\b\b\b\b\b\b\b\b\b\b\b\b\b\r30/30 [==============================] - 7s 219ms/step - loss: 0.1167 - accuracy: 0.6209\n",
            "Epoch 82/200\n",
            "30/30 [==============================] - ETA: 0s - loss: 0.1164 - accuracy: 0.6214"
          ]
        },
        {
          "name": "stderr",
          "output_type": "stream",
          "text": [
            "WARNING:tensorflow:Early stopping conditioned on metric `val_loss` which is not available. Available metrics are: loss,accuracy\n"
          ]
        },
        {
          "name": "stdout",
          "output_type": "stream",
          "text": [
            "\b\b\b\b\b\b\b\b\b\b\b\b\b\b\b\b\b\b\b\b\b\b\b\b\b\b\b\b\b\b\b\b\b\b\b\b\b\b\b\b\b\b\b\b\b\b\b\b\b\b\b\b\b\b\b\b\b\b\b\b\b\b\b\b\b\b\b\b\b\b\b\b\b\b\b\b\b\b\b\b\b\b\r30/30 [==============================] - 7s 247ms/step - loss: 0.1164 - accuracy: 0.6214\n",
            "Epoch 83/200\n",
            "30/30 [==============================] - ETA: 0s - loss: 0.1161 - accuracy: 0.6218"
          ]
        },
        {
          "name": "stderr",
          "output_type": "stream",
          "text": [
            "WARNING:tensorflow:Early stopping conditioned on metric `val_loss` which is not available. Available metrics are: loss,accuracy\n"
          ]
        },
        {
          "name": "stdout",
          "output_type": "stream",
          "text": [
            "\b\b\b\b\b\b\b\b\b\b\b\b\b\b\b\b\b\b\b\b\b\b\b\b\b\b\b\b\b\b\b\b\b\b\b\b\b\b\b\b\b\b\b\b\b\b\b\b\b\b\b\b\b\b\b\b\b\b\b\b\b\b\b\b\b\b\b\b\b\b\b\b\b\b\b\b\b\b\b\b\b\b\r30/30 [==============================] - 7s 215ms/step - loss: 0.1161 - accuracy: 0.6218\n",
            "Epoch 84/200\n",
            "30/30 [==============================] - ETA: 0s - loss: 0.1162 - accuracy: 0.6216"
          ]
        },
        {
          "name": "stderr",
          "output_type": "stream",
          "text": [
            "WARNING:tensorflow:Early stopping conditioned on metric `val_loss` which is not available. Available metrics are: loss,accuracy\n"
          ]
        },
        {
          "name": "stdout",
          "output_type": "stream",
          "text": [
            "\b\b\b\b\b\b\b\b\b\b\b\b\b\b\b\b\b\b\b\b\b\b\b\b\b\b\b\b\b\b\b\b\b\b\b\b\b\b\b\b\b\b\b\b\b\b\b\b\b\b\b\b\b\b\b\b\b\b\b\b\b\b\b\b\b\b\b\b\b\b\b\b\b\b\b\b\b\b\b\b\b\b\r30/30 [==============================] - 8s 255ms/step - loss: 0.1162 - accuracy: 0.6216\n",
            "Epoch 85/200\n",
            "30/30 [==============================] - ETA: 0s - loss: 0.1159 - accuracy: 0.6220"
          ]
        },
        {
          "name": "stderr",
          "output_type": "stream",
          "text": [
            "WARNING:tensorflow:Early stopping conditioned on metric `val_loss` which is not available. Available metrics are: loss,accuracy\n"
          ]
        },
        {
          "name": "stdout",
          "output_type": "stream",
          "text": [
            "\b\b\b\b\b\b\b\b\b\b\b\b\b\b\b\b\b\b\b\b\b\b\b\b\b\b\b\b\b\b\b\b\b\b\b\b\b\b\b\b\b\b\b\b\b\b\b\b\b\b\b\b\b\b\b\b\b\b\b\b\b\b\b\b\b\b\b\b\b\b\b\b\b\b\b\b\b\b\b\b\b\b\r30/30 [==============================] - 6s 211ms/step - loss: 0.1159 - accuracy: 0.6220\n",
            "Epoch 86/200\n",
            "30/30 [==============================] - ETA: 0s - loss: 0.1159 - accuracy: 0.6219"
          ]
        },
        {
          "name": "stderr",
          "output_type": "stream",
          "text": [
            "WARNING:tensorflow:Early stopping conditioned on metric `val_loss` which is not available. Available metrics are: loss,accuracy\n"
          ]
        },
        {
          "name": "stdout",
          "output_type": "stream",
          "text": [
            "\b\b\b\b\b\b\b\b\b\b\b\b\b\b\b\b\b\b\b\b\b\b\b\b\b\b\b\b\b\b\b\b\b\b\b\b\b\b\b\b\b\b\b\b\b\b\b\b\b\b\b\b\b\b\b\b\b\b\b\b\b\b\b\b\b\b\b\b\b\b\b\b\b\b\b\b\b\b\b\b\b\b\r30/30 [==============================] - 8s 253ms/step - loss: 0.1159 - accuracy: 0.6219\n",
            "Epoch 87/200\n",
            "30/30 [==============================] - ETA: 0s - loss: 0.1159 - accuracy: 0.6222"
          ]
        },
        {
          "name": "stderr",
          "output_type": "stream",
          "text": [
            "WARNING:tensorflow:Early stopping conditioned on metric `val_loss` which is not available. Available metrics are: loss,accuracy\n"
          ]
        },
        {
          "name": "stdout",
          "output_type": "stream",
          "text": [
            "\b\b\b\b\b\b\b\b\b\b\b\b\b\b\b\b\b\b\b\b\b\b\b\b\b\b\b\b\b\b\b\b\b\b\b\b\b\b\b\b\b\b\b\b\b\b\b\b\b\b\b\b\b\b\b\b\b\b\b\b\b\b\b\b\b\b\b\b\b\b\b\b\b\b\b\b\b\b\b\b\b\b\r30/30 [==============================] - 6s 207ms/step - loss: 0.1159 - accuracy: 0.6222\n",
            "Epoch 88/200\n",
            "30/30 [==============================] - ETA: 0s - loss: 0.1157 - accuracy: 0.6223"
          ]
        },
        {
          "name": "stderr",
          "output_type": "stream",
          "text": [
            "WARNING:tensorflow:Early stopping conditioned on metric `val_loss` which is not available. Available metrics are: loss,accuracy\n"
          ]
        },
        {
          "name": "stdout",
          "output_type": "stream",
          "text": [
            "\b\b\b\b\b\b\b\b\b\b\b\b\b\b\b\b\b\b\b\b\b\b\b\b\b\b\b\b\b\b\b\b\b\b\b\b\b\b\b\b\b\b\b\b\b\b\b\b\b\b\b\b\b\b\b\b\b\b\b\b\b\b\b\b\b\b\b\b\b\b\b\b\b\b\b\b\b\b\b\b\b\b\r30/30 [==============================] - 7s 250ms/step - loss: 0.1157 - accuracy: 0.6223\n",
            "Epoch 89/200\n",
            "30/30 [==============================] - ETA: 0s - loss: 0.1153 - accuracy: 0.6228"
          ]
        },
        {
          "name": "stderr",
          "output_type": "stream",
          "text": [
            "WARNING:tensorflow:Early stopping conditioned on metric `val_loss` which is not available. Available metrics are: loss,accuracy\n"
          ]
        },
        {
          "name": "stdout",
          "output_type": "stream",
          "text": [
            "\b\b\b\b\b\b\b\b\b\b\b\b\b\b\b\b\b\b\b\b\b\b\b\b\b\b\b\b\b\b\b\b\b\b\b\b\b\b\b\b\b\b\b\b\b\b\b\b\b\b\b\b\b\b\b\b\b\b\b\b\b\b\b\b\b\b\b\b\b\b\b\b\b\b\b\b\b\b\b\b\b\b\r30/30 [==============================] - 6s 210ms/step - loss: 0.1153 - accuracy: 0.6228\n",
            "Epoch 90/200\n",
            "30/30 [==============================] - ETA: 0s - loss: 0.1153 - accuracy: 0.6227"
          ]
        },
        {
          "name": "stderr",
          "output_type": "stream",
          "text": [
            "WARNING:tensorflow:Early stopping conditioned on metric `val_loss` which is not available. Available metrics are: loss,accuracy\n"
          ]
        },
        {
          "name": "stdout",
          "output_type": "stream",
          "text": [
            "\b\b\b\b\b\b\b\b\b\b\b\b\b\b\b\b\b\b\b\b\b\b\b\b\b\b\b\b\b\b\b\b\b\b\b\b\b\b\b\b\b\b\b\b\b\b\b\b\b\b\b\b\b\b\b\b\b\b\b\b\b\b\b\b\b\b\b\b\b\b\b\b\b\b\b\b\b\b\b\b\b\b\r30/30 [==============================] - 8s 255ms/step - loss: 0.1153 - accuracy: 0.6227\n",
            "Epoch 91/200\n",
            "30/30 [==============================] - ETA: 0s - loss: 0.1152 - accuracy: 0.6229"
          ]
        },
        {
          "name": "stderr",
          "output_type": "stream",
          "text": [
            "WARNING:tensorflow:Early stopping conditioned on metric `val_loss` which is not available. Available metrics are: loss,accuracy\n"
          ]
        },
        {
          "name": "stdout",
          "output_type": "stream",
          "text": [
            "\b\b\b\b\b\b\b\b\b\b\b\b\b\b\b\b\b\b\b\b\b\b\b\b\b\b\b\b\b\b\b\b\b\b\b\b\b\b\b\b\b\b\b\b\b\b\b\b\b\b\b\b\b\b\b\b\b\b\b\b\b\b\b\b\b\b\b\b\b\b\b\b\b\b\b\b\b\b\b\b\b\b\r30/30 [==============================] - 7s 235ms/step - loss: 0.1152 - accuracy: 0.6229\n",
            "Epoch 92/200\n",
            "30/30 [==============================] - ETA: 0s - loss: 0.1152 - accuracy: 0.6231"
          ]
        },
        {
          "name": "stderr",
          "output_type": "stream",
          "text": [
            "WARNING:tensorflow:Early stopping conditioned on metric `val_loss` which is not available. Available metrics are: loss,accuracy\n"
          ]
        },
        {
          "name": "stdout",
          "output_type": "stream",
          "text": [
            "\b\b\b\b\b\b\b\b\b\b\b\b\b\b\b\b\b\b\b\b\b\b\b\b\b\b\b\b\b\b\b\b\b\b\b\b\b\b\b\b\b\b\b\b\b\b\b\b\b\b\b\b\b\b\b\b\b\b\b\b\b\b\b\b\b\b\b\b\b\b\b\b\b\b\b\b\b\b\b\b\b\b\r30/30 [==============================] - 8s 253ms/step - loss: 0.1152 - accuracy: 0.6231\n",
            "Epoch 93/200\n",
            "30/30 [==============================] - ETA: 0s - loss: 0.1152 - accuracy: 0.6230"
          ]
        },
        {
          "name": "stderr",
          "output_type": "stream",
          "text": [
            "WARNING:tensorflow:Early stopping conditioned on metric `val_loss` which is not available. Available metrics are: loss,accuracy\n"
          ]
        },
        {
          "name": "stdout",
          "output_type": "stream",
          "text": [
            "\b\b\b\b\b\b\b\b\b\b\b\b\b\b\b\b\b\b\b\b\b\b\b\b\b\b\b\b\b\b\b\b\b\b\b\b\b\b\b\b\b\b\b\b\b\b\b\b\b\b\b\b\b\b\b\b\b\b\b\b\b\b\b\b\b\b\b\b\b\b\b\b\b\b\b\b\b\b\b\b\b\b\r30/30 [==============================] - 6s 211ms/step - loss: 0.1152 - accuracy: 0.6230\n",
            "Epoch 94/200\n",
            "30/30 [==============================] - ETA: 0s - loss: 0.1147 - accuracy: 0.6235"
          ]
        },
        {
          "name": "stderr",
          "output_type": "stream",
          "text": [
            "WARNING:tensorflow:Early stopping conditioned on metric `val_loss` which is not available. Available metrics are: loss,accuracy\n"
          ]
        },
        {
          "name": "stdout",
          "output_type": "stream",
          "text": [
            "\b\b\b\b\b\b\b\b\b\b\b\b\b\b\b\b\b\b\b\b\b\b\b\b\b\b\b\b\b\b\b\b\b\b\b\b\b\b\b\b\b\b\b\b\b\b\b\b\b\b\b\b\b\b\b\b\b\b\b\b\b\b\b\b\b\b\b\b\b\b\b\b\b\b\b\b\b\b\b\b\b\b\r30/30 [==============================] - 9s 292ms/step - loss: 0.1147 - accuracy: 0.6235\n",
            "Epoch 95/200\n",
            "30/30 [==============================] - ETA: 0s - loss: 0.1144 - accuracy: 0.6237"
          ]
        },
        {
          "name": "stderr",
          "output_type": "stream",
          "text": [
            "WARNING:tensorflow:Early stopping conditioned on metric `val_loss` which is not available. Available metrics are: loss,accuracy\n"
          ]
        },
        {
          "name": "stdout",
          "output_type": "stream",
          "text": [
            "\b\b\b\b\b\b\b\b\b\b\b\b\b\b\b\b\b\b\b\b\b\b\b\b\b\b\b\b\b\b\b\b\b\b\b\b\b\b\b\b\b\b\b\b\b\b\b\b\b\b\b\b\b\b\b\b\b\b\b\b\b\b\b\b\b\b\b\b\b\b\b\b\b\b\b\b\b\b\b\b\b\b\r30/30 [==============================] - 6s 211ms/step - loss: 0.1144 - accuracy: 0.6237\n",
            "Epoch 96/200\n",
            "30/30 [==============================] - ETA: 0s - loss: 0.1143 - accuracy: 0.6241"
          ]
        },
        {
          "name": "stderr",
          "output_type": "stream",
          "text": [
            "WARNING:tensorflow:Early stopping conditioned on metric `val_loss` which is not available. Available metrics are: loss,accuracy\n"
          ]
        },
        {
          "name": "stdout",
          "output_type": "stream",
          "text": [
            "\b\b\b\b\b\b\b\b\b\b\b\b\b\b\b\b\b\b\b\b\b\b\b\b\b\b\b\b\b\b\b\b\b\b\b\b\b\b\b\b\b\b\b\b\b\b\b\b\b\b\b\b\b\b\b\b\b\b\b\b\b\b\b\b\b\b\b\b\b\b\b\b\b\b\b\b\b\b\b\b\b\b\r30/30 [==============================] - 7s 246ms/step - loss: 0.1143 - accuracy: 0.6241\n",
            "Epoch 97/200\n",
            "30/30 [==============================] - ETA: 0s - loss: 0.1141 - accuracy: 0.6243"
          ]
        },
        {
          "name": "stderr",
          "output_type": "stream",
          "text": [
            "WARNING:tensorflow:Early stopping conditioned on metric `val_loss` which is not available. Available metrics are: loss,accuracy\n"
          ]
        },
        {
          "name": "stdout",
          "output_type": "stream",
          "text": [
            "\b\b\b\b\b\b\b\b\b\b\b\b\b\b\b\b\b\b\b\b\b\b\b\b\b\b\b\b\b\b\b\b\b\b\b\b\b\b\b\b\b\b\b\b\b\b\b\b\b\b\b\b\b\b\b\b\b\b\b\b\b\b\b\b\b\b\b\b\b\b\b\b\b\b\b\b\b\b\b\b\b\b\r30/30 [==============================] - 7s 219ms/step - loss: 0.1141 - accuracy: 0.6243\n",
            "Epoch 98/200\n",
            "30/30 [==============================] - ETA: 0s - loss: 0.1139 - accuracy: 0.6246"
          ]
        },
        {
          "name": "stderr",
          "output_type": "stream",
          "text": [
            "WARNING:tensorflow:Early stopping conditioned on metric `val_loss` which is not available. Available metrics are: loss,accuracy\n"
          ]
        },
        {
          "name": "stdout",
          "output_type": "stream",
          "text": [
            "\b\b\b\b\b\b\b\b\b\b\b\b\b\b\b\b\b\b\b\b\b\b\b\b\b\b\b\b\b\b\b\b\b\b\b\b\b\b\b\b\b\b\b\b\b\b\b\b\b\b\b\b\b\b\b\b\b\b\b\b\b\b\b\b\b\b\b\b\b\b\b\b\b\b\b\b\b\b\b\b\b\b\r30/30 [==============================] - 7s 240ms/step - loss: 0.1139 - accuracy: 0.6246\n",
            "Epoch 99/200\n",
            "30/30 [==============================] - ETA: 0s - loss: 0.1136 - accuracy: 0.6249"
          ]
        },
        {
          "name": "stderr",
          "output_type": "stream",
          "text": [
            "WARNING:tensorflow:Early stopping conditioned on metric `val_loss` which is not available. Available metrics are: loss,accuracy\n"
          ]
        },
        {
          "name": "stdout",
          "output_type": "stream",
          "text": [
            "\b\b\b\b\b\b\b\b\b\b\b\b\b\b\b\b\b\b\b\b\b\b\b\b\b\b\b\b\b\b\b\b\b\b\b\b\b\b\b\b\b\b\b\b\b\b\b\b\b\b\b\b\b\b\b\b\b\b\b\b\b\b\b\b\b\b\b\b\b\b\b\b\b\b\b\b\b\b\b\b\b\b\r30/30 [==============================] - 7s 219ms/step - loss: 0.1136 - accuracy: 0.6249\n",
            "Epoch 100/200\n",
            "30/30 [==============================] - ETA: 0s - loss: 0.1136 - accuracy: 0.6249"
          ]
        },
        {
          "name": "stderr",
          "output_type": "stream",
          "text": [
            "WARNING:tensorflow:Early stopping conditioned on metric `val_loss` which is not available. Available metrics are: loss,accuracy\n"
          ]
        },
        {
          "name": "stdout",
          "output_type": "stream",
          "text": [
            "\b\b\b\b\b\b\b\b\b\b\b\b\b\b\b\b\b\b\b\b\b\b\b\b\b\b\b\b\b\b\b\b\b\b\b\b\b\b\b\b\b\b\b\b\b\b\b\b\b\b\b\b\b\b\b\b\b\b\b\b\b\b\b\b\b\b\b\b\b\b\b\b\b\b\b\b\b\b\b\b\b\b\r30/30 [==============================] - 7s 233ms/step - loss: 0.1136 - accuracy: 0.6249\n",
            "Epoch 101/200\n",
            "30/30 [==============================] - ETA: 0s - loss: 0.1132 - accuracy: 0.6253"
          ]
        },
        {
          "name": "stderr",
          "output_type": "stream",
          "text": [
            "WARNING:tensorflow:Early stopping conditioned on metric `val_loss` which is not available. Available metrics are: loss,accuracy\n"
          ]
        },
        {
          "name": "stdout",
          "output_type": "stream",
          "text": [
            "\b\b\b\b\b\b\b\b\b\b\b\b\b\b\b\b\b\b\b\b\b\b\b\b\b\b\b\b\b\b\b\b\b\b\b\b\b\b\b\b\b\b\b\b\b\b\b\b\b\b\b\b\b\b\b\b\b\b\b\b\b\b\b\b\b\b\b\b\b\b\b\b\b\b\b\b\b\b\b\b\b\b\r30/30 [==============================] - 7s 221ms/step - loss: 0.1132 - accuracy: 0.6253\n",
            "Epoch 102/200\n",
            "30/30 [==============================] - ETA: 0s - loss: 0.1141 - accuracy: 0.6242"
          ]
        },
        {
          "name": "stderr",
          "output_type": "stream",
          "text": [
            "WARNING:tensorflow:Early stopping conditioned on metric `val_loss` which is not available. Available metrics are: loss,accuracy\n"
          ]
        },
        {
          "name": "stdout",
          "output_type": "stream",
          "text": [
            "\b\b\b\b\b\b\b\b\b\b\b\b\b\b\b\b\b\b\b\b\b\b\b\b\b\b\b\b\b\b\b\b\b\b\b\b\b\b\b\b\b\b\b\b\b\b\b\b\b\b\b\b\b\b\b\b\b\b\b\b\b\b\b\b\b\b\b\b\b\b\b\b\b\b\b\b\b\b\b\b\b\b\r30/30 [==============================] - 7s 229ms/step - loss: 0.1141 - accuracy: 0.6242\n",
            "Epoch 103/200\n",
            "30/30 [==============================] - ETA: 0s - loss: 0.1137 - accuracy: 0.6249"
          ]
        },
        {
          "name": "stderr",
          "output_type": "stream",
          "text": [
            "WARNING:tensorflow:Early stopping conditioned on metric `val_loss` which is not available. Available metrics are: loss,accuracy\n"
          ]
        },
        {
          "name": "stdout",
          "output_type": "stream",
          "text": [
            "\b\b\b\b\b\b\b\b\b\b\b\b\b\b\b\b\b\b\b\b\b\b\b\b\b\b\b\b\b\b\b\b\b\b\b\b\b\b\b\b\b\b\b\b\b\b\b\b\b\b\b\b\b\b\b\b\b\b\b\b\b\b\b\b\b\b\b\b\b\b\b\b\b\b\b\b\b\b\b\b\b\b\r30/30 [==============================] - 7s 227ms/step - loss: 0.1137 - accuracy: 0.6249\n",
            "Epoch 104/200\n",
            "30/30 [==============================] - ETA: 0s - loss: 0.1131 - accuracy: 0.6256"
          ]
        },
        {
          "name": "stderr",
          "output_type": "stream",
          "text": [
            "WARNING:tensorflow:Early stopping conditioned on metric `val_loss` which is not available. Available metrics are: loss,accuracy\n"
          ]
        },
        {
          "name": "stdout",
          "output_type": "stream",
          "text": [
            "\b\b\b\b\b\b\b\b\b\b\b\b\b\b\b\b\b\b\b\b\b\b\b\b\b\b\b\b\b\b\b\b\b\b\b\b\b\b\b\b\b\b\b\b\b\b\b\b\b\b\b\b\b\b\b\b\b\b\b\b\b\b\b\b\b\b\b\b\b\b\b\b\b\b\b\b\b\b\b\b\b\b\r30/30 [==============================] - 7s 228ms/step - loss: 0.1131 - accuracy: 0.6256\n",
            "Epoch 105/200\n",
            "30/30 [==============================] - ETA: 0s - loss: 0.1128 - accuracy: 0.6258"
          ]
        },
        {
          "name": "stderr",
          "output_type": "stream",
          "text": [
            "WARNING:tensorflow:Early stopping conditioned on metric `val_loss` which is not available. Available metrics are: loss,accuracy\n"
          ]
        },
        {
          "name": "stdout",
          "output_type": "stream",
          "text": [
            "\b\b\b\b\b\b\b\b\b\b\b\b\b\b\b\b\b\b\b\b\b\b\b\b\b\b\b\b\b\b\b\b\b\b\b\b\b\b\b\b\b\b\b\b\b\b\b\b\b\b\b\b\b\b\b\b\b\b\b\b\b\b\b\b\b\b\b\b\b\b\b\b\b\b\b\b\b\b\b\b\b\b\r30/30 [==============================] - 7s 231ms/step - loss: 0.1128 - accuracy: 0.6258\n",
            "Epoch 106/200\n",
            "30/30 [==============================] - ETA: 0s - loss: 0.1128 - accuracy: 0.6259"
          ]
        },
        {
          "name": "stderr",
          "output_type": "stream",
          "text": [
            "WARNING:tensorflow:Early stopping conditioned on metric `val_loss` which is not available. Available metrics are: loss,accuracy\n"
          ]
        },
        {
          "name": "stdout",
          "output_type": "stream",
          "text": [
            "\b\b\b\b\b\b\b\b\b\b\b\b\b\b\b\b\b\b\b\b\b\b\b\b\b\b\b\b\b\b\b\b\b\b\b\b\b\b\b\b\b\b\b\b\b\b\b\b\b\b\b\b\b\b\b\b\b\b\b\b\b\b\b\b\b\b\b\b\b\b\b\b\b\b\b\b\b\b\b\b\b\b\r30/30 [==============================] - 7s 226ms/step - loss: 0.1128 - accuracy: 0.6259\n",
            "Epoch 107/200\n",
            "30/30 [==============================] - ETA: 0s - loss: 0.1124 - accuracy: 0.6262"
          ]
        },
        {
          "name": "stderr",
          "output_type": "stream",
          "text": [
            "WARNING:tensorflow:Early stopping conditioned on metric `val_loss` which is not available. Available metrics are: loss,accuracy\n"
          ]
        },
        {
          "name": "stdout",
          "output_type": "stream",
          "text": [
            "\b\b\b\b\b\b\b\b\b\b\b\b\b\b\b\b\b\b\b\b\b\b\b\b\b\b\b\b\b\b\b\b\b\b\b\b\b\b\b\b\b\b\b\b\b\b\b\b\b\b\b\b\b\b\b\b\b\b\b\b\b\b\b\b\b\b\b\b\b\b\b\b\b\b\b\b\b\b\b\b\b\b\r30/30 [==============================] - 7s 244ms/step - loss: 0.1124 - accuracy: 0.6262\n",
            "Epoch 108/200\n",
            "30/30 [==============================] - ETA: 0s - loss: 0.1119 - accuracy: 0.6269"
          ]
        },
        {
          "name": "stderr",
          "output_type": "stream",
          "text": [
            "WARNING:tensorflow:Early stopping conditioned on metric `val_loss` which is not available. Available metrics are: loss,accuracy\n"
          ]
        },
        {
          "name": "stdout",
          "output_type": "stream",
          "text": [
            "\b\b\b\b\b\b\b\b\b\b\b\b\b\b\b\b\b\b\b\b\b\b\b\b\b\b\b\b\b\b\b\b\b\b\b\b\b\b\b\b\b\b\b\b\b\b\b\b\b\b\b\b\b\b\b\b\b\b\b\b\b\b\b\b\b\b\b\b\b\b\b\b\b\b\b\b\b\b\b\b\b\b\r30/30 [==============================] - 7s 218ms/step - loss: 0.1119 - accuracy: 0.6269\n",
            "Epoch 109/200\n",
            "30/30 [==============================] - ETA: 0s - loss: 0.1119 - accuracy: 0.6269"
          ]
        },
        {
          "name": "stderr",
          "output_type": "stream",
          "text": [
            "WARNING:tensorflow:Early stopping conditioned on metric `val_loss` which is not available. Available metrics are: loss,accuracy\n"
          ]
        },
        {
          "name": "stdout",
          "output_type": "stream",
          "text": [
            "\b\b\b\b\b\b\b\b\b\b\b\b\b\b\b\b\b\b\b\b\b\b\b\b\b\b\b\b\b\b\b\b\b\b\b\b\b\b\b\b\b\b\b\b\b\b\b\b\b\b\b\b\b\b\b\b\b\b\b\b\b\b\b\b\b\b\b\b\b\b\b\b\b\b\b\b\b\b\b\b\b\b\r30/30 [==============================] - 8s 252ms/step - loss: 0.1119 - accuracy: 0.6269\n",
            "Epoch 110/200\n",
            "30/30 [==============================] - ETA: 0s - loss: 0.1116 - accuracy: 0.6272"
          ]
        },
        {
          "name": "stderr",
          "output_type": "stream",
          "text": [
            "WARNING:tensorflow:Early stopping conditioned on metric `val_loss` which is not available. Available metrics are: loss,accuracy\n"
          ]
        },
        {
          "name": "stdout",
          "output_type": "stream",
          "text": [
            "\b\b\b\b\b\b\b\b\b\b\b\b\b\b\b\b\b\b\b\b\b\b\b\b\b\b\b\b\b\b\b\b\b\b\b\b\b\b\b\b\b\b\b\b\b\b\b\b\b\b\b\b\b\b\b\b\b\b\b\b\b\b\b\b\b\b\b\b\b\b\b\b\b\b\b\b\b\b\b\b\b\b\r30/30 [==============================] - 6s 215ms/step - loss: 0.1116 - accuracy: 0.6272\n",
            "Epoch 111/200\n",
            "30/30 [==============================] - ETA: 0s - loss: 0.1116 - accuracy: 0.6274"
          ]
        },
        {
          "name": "stderr",
          "output_type": "stream",
          "text": [
            "WARNING:tensorflow:Early stopping conditioned on metric `val_loss` which is not available. Available metrics are: loss,accuracy\n"
          ]
        },
        {
          "name": "stdout",
          "output_type": "stream",
          "text": [
            "\b\b\b\b\b\b\b\b\b\b\b\b\b\b\b\b\b\b\b\b\b\b\b\b\b\b\b\b\b\b\b\b\b\b\b\b\b\b\b\b\b\b\b\b\b\b\b\b\b\b\b\b\b\b\b\b\b\b\b\b\b\b\b\b\b\b\b\b\b\b\b\b\b\b\b\b\b\b\b\b\b\b\r30/30 [==============================] - 8s 255ms/step - loss: 0.1116 - accuracy: 0.6274\n",
            "Epoch 112/200\n",
            "30/30 [==============================] - ETA: 0s - loss: 0.1121 - accuracy: 0.6268"
          ]
        },
        {
          "name": "stderr",
          "output_type": "stream",
          "text": [
            "WARNING:tensorflow:Early stopping conditioned on metric `val_loss` which is not available. Available metrics are: loss,accuracy\n"
          ]
        },
        {
          "name": "stdout",
          "output_type": "stream",
          "text": [
            "\b\b\b\b\b\b\b\b\b\b\b\b\b\b\b\b\b\b\b\b\b\b\b\b\b\b\b\b\b\b\b\b\b\b\b\b\b\b\b\b\b\b\b\b\b\b\b\b\b\b\b\b\b\b\b\b\b\b\b\b\b\b\b\b\b\b\b\b\b\b\b\b\b\b\b\b\b\b\b\b\b\b\r30/30 [==============================] - 6s 216ms/step - loss: 0.1121 - accuracy: 0.6268\n",
            "Epoch 113/200\n",
            "30/30 [==============================] - ETA: 0s - loss: 0.1112 - accuracy: 0.6278"
          ]
        },
        {
          "name": "stderr",
          "output_type": "stream",
          "text": [
            "WARNING:tensorflow:Early stopping conditioned on metric `val_loss` which is not available. Available metrics are: loss,accuracy\n"
          ]
        },
        {
          "name": "stdout",
          "output_type": "stream",
          "text": [
            "\b\b\b\b\b\b\b\b\b\b\b\b\b\b\b\b\b\b\b\b\b\b\b\b\b\b\b\b\b\b\b\b\b\b\b\b\b\b\b\b\b\b\b\b\b\b\b\b\b\b\b\b\b\b\b\b\b\b\b\b\b\b\b\b\b\b\b\b\b\b\b\b\b\b\b\b\b\b\b\b\b\b\r30/30 [==============================] - 7s 251ms/step - loss: 0.1112 - accuracy: 0.6278\n",
            "Epoch 114/200\n",
            "30/30 [==============================] - ETA: 0s - loss: 0.1107 - accuracy: 0.6286"
          ]
        },
        {
          "name": "stderr",
          "output_type": "stream",
          "text": [
            "WARNING:tensorflow:Early stopping conditioned on metric `val_loss` which is not available. Available metrics are: loss,accuracy\n"
          ]
        },
        {
          "name": "stdout",
          "output_type": "stream",
          "text": [
            "\b\b\b\b\b\b\b\b\b\b\b\b\b\b\b\b\b\b\b\b\b\b\b\b\b\b\b\b\b\b\b\b\b\b\b\b\b\b\b\b\b\b\b\b\b\b\b\b\b\b\b\b\b\b\b\b\b\b\b\b\b\b\b\b\b\b\b\b\b\b\b\b\b\b\b\b\b\b\b\b\b\b\r30/30 [==============================] - 6s 212ms/step - loss: 0.1107 - accuracy: 0.6286\n",
            "Epoch 115/200\n",
            "30/30 [==============================] - ETA: 0s - loss: 0.1104 - accuracy: 0.6287"
          ]
        },
        {
          "name": "stderr",
          "output_type": "stream",
          "text": [
            "WARNING:tensorflow:Early stopping conditioned on metric `val_loss` which is not available. Available metrics are: loss,accuracy\n"
          ]
        },
        {
          "name": "stdout",
          "output_type": "stream",
          "text": [
            "\b\b\b\b\b\b\b\b\b\b\b\b\b\b\b\b\b\b\b\b\b\b\b\b\b\b\b\b\b\b\b\b\b\b\b\b\b\b\b\b\b\b\b\b\b\b\b\b\b\b\b\b\b\b\b\b\b\b\b\b\b\b\b\b\b\b\b\b\b\b\b\b\b\b\b\b\b\b\b\b\b\b\r30/30 [==============================] - 8s 253ms/step - loss: 0.1104 - accuracy: 0.6287\n",
            "Epoch 116/200\n",
            "30/30 [==============================] - ETA: 0s - loss: 0.1102 - accuracy: 0.6291"
          ]
        },
        {
          "name": "stderr",
          "output_type": "stream",
          "text": [
            "WARNING:tensorflow:Early stopping conditioned on metric `val_loss` which is not available. Available metrics are: loss,accuracy\n"
          ]
        },
        {
          "name": "stdout",
          "output_type": "stream",
          "text": [
            "\b\b\b\b\b\b\b\b\b\b\b\b\b\b\b\b\b\b\b\b\b\b\b\b\b\b\b\b\b\b\b\b\b\b\b\b\b\b\b\b\b\b\b\b\b\b\b\b\b\b\b\b\b\b\b\b\b\b\b\b\b\b\b\b\b\b\b\b\b\b\b\b\b\b\b\b\b\b\b\b\b\b\r30/30 [==============================] - 6s 210ms/step - loss: 0.1102 - accuracy: 0.6291\n",
            "Epoch 117/200\n",
            "30/30 [==============================] - ETA: 0s - loss: 0.1097 - accuracy: 0.6296"
          ]
        },
        {
          "name": "stderr",
          "output_type": "stream",
          "text": [
            "WARNING:tensorflow:Early stopping conditioned on metric `val_loss` which is not available. Available metrics are: loss,accuracy\n"
          ]
        },
        {
          "name": "stdout",
          "output_type": "stream",
          "text": [
            "\b\b\b\b\b\b\b\b\b\b\b\b\b\b\b\b\b\b\b\b\b\b\b\b\b\b\b\b\b\b\b\b\b\b\b\b\b\b\b\b\b\b\b\b\b\b\b\b\b\b\b\b\b\b\b\b\b\b\b\b\b\b\b\b\b\b\b\b\b\b\b\b\b\b\b\b\b\b\b\b\b\b\r30/30 [==============================] - 8s 253ms/step - loss: 0.1097 - accuracy: 0.6296\n",
            "Epoch 118/200\n",
            "30/30 [==============================] - ETA: 0s - loss: 0.1094 - accuracy: 0.6300"
          ]
        },
        {
          "name": "stderr",
          "output_type": "stream",
          "text": [
            "WARNING:tensorflow:Early stopping conditioned on metric `val_loss` which is not available. Available metrics are: loss,accuracy\n"
          ]
        },
        {
          "name": "stdout",
          "output_type": "stream",
          "text": [
            "\b\b\b\b\b\b\b\b\b\b\b\b\b\b\b\b\b\b\b\b\b\b\b\b\b\b\b\b\b\b\b\b\b\b\b\b\b\b\b\b\b\b\b\b\b\b\b\b\b\b\b\b\b\b\b\b\b\b\b\b\b\b\b\b\b\b\b\b\b\b\b\b\b\b\b\b\b\b\b\b\b\b\r30/30 [==============================] - 6s 208ms/step - loss: 0.1094 - accuracy: 0.6300\n",
            "Epoch 119/200\n",
            "30/30 [==============================] - ETA: 0s - loss: 0.1094 - accuracy: 0.6301"
          ]
        },
        {
          "name": "stderr",
          "output_type": "stream",
          "text": [
            "WARNING:tensorflow:Early stopping conditioned on metric `val_loss` which is not available. Available metrics are: loss,accuracy\n"
          ]
        },
        {
          "name": "stdout",
          "output_type": "stream",
          "text": [
            "\b\b\b\b\b\b\b\b\b\b\b\b\b\b\b\b\b\b\b\b\b\b\b\b\b\b\b\b\b\b\b\b\b\b\b\b\b\b\b\b\b\b\b\b\b\b\b\b\b\b\b\b\b\b\b\b\b\b\b\b\b\b\b\b\b\b\b\b\b\b\b\b\b\b\b\b\b\b\b\b\b\b\r30/30 [==============================] - 8s 257ms/step - loss: 0.1094 - accuracy: 0.6301\n",
            "Epoch 120/200\n",
            "30/30 [==============================] - ETA: 0s - loss: 0.1094 - accuracy: 0.6302"
          ]
        },
        {
          "name": "stderr",
          "output_type": "stream",
          "text": [
            "WARNING:tensorflow:Early stopping conditioned on metric `val_loss` which is not available. Available metrics are: loss,accuracy\n"
          ]
        },
        {
          "name": "stdout",
          "output_type": "stream",
          "text": [
            "\b\b\b\b\b\b\b\b\b\b\b\b\b\b\b\b\b\b\b\b\b\b\b\b\b\b\b\b\b\b\b\b\b\b\b\b\b\b\b\b\b\b\b\b\b\b\b\b\b\b\b\b\b\b\b\b\b\b\b\b\b\b\b\b\b\b\b\b\b\b\b\b\b\b\b\b\b\b\b\b\b\b\r30/30 [==============================] - 6s 211ms/step - loss: 0.1094 - accuracy: 0.6302\n",
            "Epoch 121/200\n",
            "30/30 [==============================] - ETA: 0s - loss: 0.1095 - accuracy: 0.6299"
          ]
        },
        {
          "name": "stderr",
          "output_type": "stream",
          "text": [
            "WARNING:tensorflow:Early stopping conditioned on metric `val_loss` which is not available. Available metrics are: loss,accuracy\n"
          ]
        },
        {
          "name": "stdout",
          "output_type": "stream",
          "text": [
            "\b\b\b\b\b\b\b\b\b\b\b\b\b\b\b\b\b\b\b\b\b\b\b\b\b\b\b\b\b\b\b\b\b\b\b\b\b\b\b\b\b\b\b\b\b\b\b\b\b\b\b\b\b\b\b\b\b\b\b\b\b\b\b\b\b\b\b\b\b\b\b\b\b\b\b\b\b\b\b\b\b\b\r30/30 [==============================] - 8s 253ms/step - loss: 0.1095 - accuracy: 0.6299\n",
            "Epoch 122/200\n",
            "30/30 [==============================] - ETA: 0s - loss: 0.1092 - accuracy: 0.6305"
          ]
        },
        {
          "name": "stderr",
          "output_type": "stream",
          "text": [
            "WARNING:tensorflow:Early stopping conditioned on metric `val_loss` which is not available. Available metrics are: loss,accuracy\n"
          ]
        },
        {
          "name": "stdout",
          "output_type": "stream",
          "text": [
            "\b\b\b\b\b\b\b\b\b\b\b\b\b\b\b\b\b\b\b\b\b\b\b\b\b\b\b\b\b\b\b\b\b\b\b\b\b\b\b\b\b\b\b\b\b\b\b\b\b\b\b\b\b\b\b\b\b\b\b\b\b\b\b\b\b\b\b\b\b\b\b\b\b\b\b\b\b\b\b\b\b\b\r30/30 [==============================] - 6s 212ms/step - loss: 0.1092 - accuracy: 0.6305\n",
            "Epoch 123/200\n",
            "30/30 [==============================] - ETA: 0s - loss: 0.1087 - accuracy: 0.6309"
          ]
        },
        {
          "name": "stderr",
          "output_type": "stream",
          "text": [
            "WARNING:tensorflow:Early stopping conditioned on metric `val_loss` which is not available. Available metrics are: loss,accuracy\n"
          ]
        },
        {
          "name": "stdout",
          "output_type": "stream",
          "text": [
            "\b\b\b\b\b\b\b\b\b\b\b\b\b\b\b\b\b\b\b\b\b\b\b\b\b\b\b\b\b\b\b\b\b\b\b\b\b\b\b\b\b\b\b\b\b\b\b\b\b\b\b\b\b\b\b\b\b\b\b\b\b\b\b\b\b\b\b\b\b\b\b\b\b\b\b\b\b\b\b\b\b\b\r30/30 [==============================] - 8s 252ms/step - loss: 0.1087 - accuracy: 0.6309\n",
            "Epoch 124/200\n",
            "30/30 [==============================] - ETA: 0s - loss: 0.1083 - accuracy: 0.6314"
          ]
        },
        {
          "name": "stderr",
          "output_type": "stream",
          "text": [
            "WARNING:tensorflow:Early stopping conditioned on metric `val_loss` which is not available. Available metrics are: loss,accuracy\n"
          ]
        },
        {
          "name": "stdout",
          "output_type": "stream",
          "text": [
            "\b\b\b\b\b\b\b\b\b\b\b\b\b\b\b\b\b\b\b\b\b\b\b\b\b\b\b\b\b\b\b\b\b\b\b\b\b\b\b\b\b\b\b\b\b\b\b\b\b\b\b\b\b\b\b\b\b\b\b\b\b\b\b\b\b\b\b\b\b\b\b\b\b\b\b\b\b\b\b\b\b\b\r30/30 [==============================] - 6s 213ms/step - loss: 0.1083 - accuracy: 0.6314\n",
            "Epoch 125/200\n",
            "30/30 [==============================] - ETA: 0s - loss: 0.1082 - accuracy: 0.6316"
          ]
        },
        {
          "name": "stderr",
          "output_type": "stream",
          "text": [
            "WARNING:tensorflow:Early stopping conditioned on metric `val_loss` which is not available. Available metrics are: loss,accuracy\n"
          ]
        },
        {
          "name": "stdout",
          "output_type": "stream",
          "text": [
            "\b\b\b\b\b\b\b\b\b\b\b\b\b\b\b\b\b\b\b\b\b\b\b\b\b\b\b\b\b\b\b\b\b\b\b\b\b\b\b\b\b\b\b\b\b\b\b\b\b\b\b\b\b\b\b\b\b\b\b\b\b\b\b\b\b\b\b\b\b\b\b\b\b\b\b\b\b\b\b\b\b\b\r30/30 [==============================] - 8s 253ms/step - loss: 0.1082 - accuracy: 0.6316\n",
            "Epoch 126/200\n",
            "30/30 [==============================] - ETA: 0s - loss: 0.1078 - accuracy: 0.6320"
          ]
        },
        {
          "name": "stderr",
          "output_type": "stream",
          "text": [
            "WARNING:tensorflow:Early stopping conditioned on metric `val_loss` which is not available. Available metrics are: loss,accuracy\n"
          ]
        },
        {
          "name": "stdout",
          "output_type": "stream",
          "text": [
            "\b\b\b\b\b\b\b\b\b\b\b\b\b\b\b\b\b\b\b\b\b\b\b\b\b\b\b\b\b\b\b\b\b\b\b\b\b\b\b\b\b\b\b\b\b\b\b\b\b\b\b\b\b\b\b\b\b\b\b\b\b\b\b\b\b\b\b\b\b\b\b\b\b\b\b\b\b\b\b\b\b\b\r30/30 [==============================] - 6s 215ms/step - loss: 0.1078 - accuracy: 0.6320\n",
            "Epoch 127/200\n",
            "30/30 [==============================] - ETA: 0s - loss: 0.1078 - accuracy: 0.6321"
          ]
        },
        {
          "name": "stderr",
          "output_type": "stream",
          "text": [
            "WARNING:tensorflow:Early stopping conditioned on metric `val_loss` which is not available. Available metrics are: loss,accuracy\n"
          ]
        },
        {
          "name": "stdout",
          "output_type": "stream",
          "text": [
            "\b\b\b\b\b\b\b\b\b\b\b\b\b\b\b\b\b\b\b\b\b\b\b\b\b\b\b\b\b\b\b\b\b\b\b\b\b\b\b\b\b\b\b\b\b\b\b\b\b\b\b\b\b\b\b\b\b\b\b\b\b\b\b\b\b\b\b\b\b\b\b\b\b\b\b\b\b\b\b\b\b\b\r30/30 [==============================] - 7s 245ms/step - loss: 0.1078 - accuracy: 0.6321\n",
            "Epoch 128/200\n",
            "30/30 [==============================] - ETA: 0s - loss: 0.1080 - accuracy: 0.6319"
          ]
        },
        {
          "name": "stderr",
          "output_type": "stream",
          "text": [
            "WARNING:tensorflow:Early stopping conditioned on metric `val_loss` which is not available. Available metrics are: loss,accuracy\n"
          ]
        },
        {
          "name": "stdout",
          "output_type": "stream",
          "text": [
            "\b\b\b\b\b\b\b\b\b\b\b\b\b\b\b\b\b\b\b\b\b\b\b\b\b\b\b\b\b\b\b\b\b\b\b\b\b\b\b\b\b\b\b\b\b\b\b\b\b\b\b\b\b\b\b\b\b\b\b\b\b\b\b\b\b\b\b\b\b\b\b\b\b\b\b\b\b\b\b\b\b\b\r30/30 [==============================] - 7s 219ms/step - loss: 0.1080 - accuracy: 0.6319\n",
            "Epoch 129/200\n",
            "30/30 [==============================] - ETA: 0s - loss: 0.1079 - accuracy: 0.6321"
          ]
        },
        {
          "name": "stderr",
          "output_type": "stream",
          "text": [
            "WARNING:tensorflow:Early stopping conditioned on metric `val_loss` which is not available. Available metrics are: loss,accuracy\n"
          ]
        },
        {
          "name": "stdout",
          "output_type": "stream",
          "text": [
            "\b\b\b\b\b\b\b\b\b\b\b\b\b\b\b\b\b\b\b\b\b\b\b\b\b\b\b\b\b\b\b\b\b\b\b\b\b\b\b\b\b\b\b\b\b\b\b\b\b\b\b\b\b\b\b\b\b\b\b\b\b\b\b\b\b\b\b\b\b\b\b\b\b\b\b\b\b\b\b\b\b\b\r30/30 [==============================] - 7s 239ms/step - loss: 0.1079 - accuracy: 0.6321\n",
            "Epoch 130/200\n",
            "30/30 [==============================] - ETA: 0s - loss: 0.1076 - accuracy: 0.6324"
          ]
        },
        {
          "name": "stderr",
          "output_type": "stream",
          "text": [
            "WARNING:tensorflow:Early stopping conditioned on metric `val_loss` which is not available. Available metrics are: loss,accuracy\n"
          ]
        },
        {
          "name": "stdout",
          "output_type": "stream",
          "text": [
            "\b\b\b\b\b\b\b\b\b\b\b\b\b\b\b\b\b\b\b\b\b\b\b\b\b\b\b\b\b\b\b\b\b\b\b\b\b\b\b\b\b\b\b\b\b\b\b\b\b\b\b\b\b\b\b\b\b\b\b\b\b\b\b\b\b\b\b\b\b\b\b\b\b\b\b\b\b\b\b\b\b\b\r30/30 [==============================] - 7s 230ms/step - loss: 0.1076 - accuracy: 0.6324\n",
            "Epoch 131/200\n",
            "30/30 [==============================] - ETA: 0s - loss: 0.1075 - accuracy: 0.6325"
          ]
        },
        {
          "name": "stderr",
          "output_type": "stream",
          "text": [
            "WARNING:tensorflow:Early stopping conditioned on metric `val_loss` which is not available. Available metrics are: loss,accuracy\n"
          ]
        },
        {
          "name": "stdout",
          "output_type": "stream",
          "text": [
            "\b\b\b\b\b\b\b\b\b\b\b\b\b\b\b\b\b\b\b\b\b\b\b\b\b\b\b\b\b\b\b\b\b\b\b\b\b\b\b\b\b\b\b\b\b\b\b\b\b\b\b\b\b\b\b\b\b\b\b\b\b\b\b\b\b\b\b\b\b\b\b\b\b\b\b\b\b\b\b\b\b\b\r30/30 [==============================] - 7s 227ms/step - loss: 0.1075 - accuracy: 0.6325\n",
            "Epoch 132/200\n",
            "30/30 [==============================] - ETA: 0s - loss: 0.1073 - accuracy: 0.6329"
          ]
        },
        {
          "name": "stderr",
          "output_type": "stream",
          "text": [
            "WARNING:tensorflow:Early stopping conditioned on metric `val_loss` which is not available. Available metrics are: loss,accuracy\n"
          ]
        },
        {
          "name": "stdout",
          "output_type": "stream",
          "text": [
            "\b\b\b\b\b\b\b\b\b\b\b\b\b\b\b\b\b\b\b\b\b\b\b\b\b\b\b\b\b\b\b\b\b\b\b\b\b\b\b\b\b\b\b\b\b\b\b\b\b\b\b\b\b\b\b\b\b\b\b\b\b\b\b\b\b\b\b\b\b\b\b\b\b\b\b\b\b\b\b\b\b\b\r30/30 [==============================] - 7s 235ms/step - loss: 0.1073 - accuracy: 0.6329\n",
            "Epoch 133/200\n",
            "30/30 [==============================] - ETA: 0s - loss: 0.1070 - accuracy: 0.6332"
          ]
        },
        {
          "name": "stderr",
          "output_type": "stream",
          "text": [
            "WARNING:tensorflow:Early stopping conditioned on metric `val_loss` which is not available. Available metrics are: loss,accuracy\n"
          ]
        },
        {
          "name": "stdout",
          "output_type": "stream",
          "text": [
            "\b\b\b\b\b\b\b\b\b\b\b\b\b\b\b\b\b\b\b\b\b\b\b\b\b\b\b\b\b\b\b\b\b\b\b\b\b\b\b\b\b\b\b\b\b\b\b\b\b\b\b\b\b\b\b\b\b\b\b\b\b\b\b\b\b\b\b\b\b\b\b\b\b\b\b\b\b\b\b\b\b\b\r30/30 [==============================] - 7s 221ms/step - loss: 0.1070 - accuracy: 0.6332\n",
            "Epoch 134/200\n",
            "30/30 [==============================] - ETA: 0s - loss: 0.1067 - accuracy: 0.6335"
          ]
        },
        {
          "name": "stderr",
          "output_type": "stream",
          "text": [
            "WARNING:tensorflow:Early stopping conditioned on metric `val_loss` which is not available. Available metrics are: loss,accuracy\n"
          ]
        },
        {
          "name": "stdout",
          "output_type": "stream",
          "text": [
            "\b\b\b\b\b\b\b\b\b\b\b\b\b\b\b\b\b\b\b\b\b\b\b\b\b\b\b\b\b\b\b\b\b\b\b\b\b\b\b\b\b\b\b\b\b\b\b\b\b\b\b\b\b\b\b\b\b\b\b\b\b\b\b\b\b\b\b\b\b\b\b\b\b\b\b\b\b\b\b\b\b\b\r30/30 [==============================] - 7s 249ms/step - loss: 0.1067 - accuracy: 0.6335\n",
            "Epoch 135/200\n",
            "30/30 [==============================] - ETA: 0s - loss: 0.1071 - accuracy: 0.6332"
          ]
        },
        {
          "name": "stderr",
          "output_type": "stream",
          "text": [
            "WARNING:tensorflow:Early stopping conditioned on metric `val_loss` which is not available. Available metrics are: loss,accuracy\n"
          ]
        },
        {
          "name": "stdout",
          "output_type": "stream",
          "text": [
            "\b\b\b\b\b\b\b\b\b\b\b\b\b\b\b\b\b\b\b\b\b\b\b\b\b\b\b\b\b\b\b\b\b\b\b\b\b\b\b\b\b\b\b\b\b\b\b\b\b\b\b\b\b\b\b\b\b\b\b\b\b\b\b\b\b\b\b\b\b\b\b\b\b\b\b\b\b\b\b\b\b\b\r30/30 [==============================] - 6s 211ms/step - loss: 0.1071 - accuracy: 0.6332\n",
            "Epoch 136/200\n",
            "30/30 [==============================] - ETA: 0s - loss: 0.1065 - accuracy: 0.6339"
          ]
        },
        {
          "name": "stderr",
          "output_type": "stream",
          "text": [
            "WARNING:tensorflow:Early stopping conditioned on metric `val_loss` which is not available. Available metrics are: loss,accuracy\n"
          ]
        },
        {
          "name": "stdout",
          "output_type": "stream",
          "text": [
            "\b\b\b\b\b\b\b\b\b\b\b\b\b\b\b\b\b\b\b\b\b\b\b\b\b\b\b\b\b\b\b\b\b\b\b\b\b\b\b\b\b\b\b\b\b\b\b\b\b\b\b\b\b\b\b\b\b\b\b\b\b\b\b\b\b\b\b\b\b\b\b\b\b\b\b\b\b\b\b\b\b\b\r30/30 [==============================] - 7s 251ms/step - loss: 0.1065 - accuracy: 0.6339\n",
            "Epoch 137/200\n",
            "30/30 [==============================] - ETA: 0s - loss: 0.1064 - accuracy: 0.6340"
          ]
        },
        {
          "name": "stderr",
          "output_type": "stream",
          "text": [
            "WARNING:tensorflow:Early stopping conditioned on metric `val_loss` which is not available. Available metrics are: loss,accuracy\n"
          ]
        },
        {
          "name": "stdout",
          "output_type": "stream",
          "text": [
            "\b\b\b\b\b\b\b\b\b\b\b\b\b\b\b\b\b\b\b\b\b\b\b\b\b\b\b\b\b\b\b\b\b\b\b\b\b\b\b\b\b\b\b\b\b\b\b\b\b\b\b\b\b\b\b\b\b\b\b\b\b\b\b\b\b\b\b\b\b\b\b\b\b\b\b\b\b\b\b\b\b\b\r30/30 [==============================] - 6s 213ms/step - loss: 0.1064 - accuracy: 0.6340\n",
            "Epoch 138/200\n",
            "30/30 [==============================] - ETA: 0s - loss: 0.1060 - accuracy: 0.6345"
          ]
        },
        {
          "name": "stderr",
          "output_type": "stream",
          "text": [
            "WARNING:tensorflow:Early stopping conditioned on metric `val_loss` which is not available. Available metrics are: loss,accuracy\n"
          ]
        },
        {
          "name": "stdout",
          "output_type": "stream",
          "text": [
            "\b\b\b\b\b\b\b\b\b\b\b\b\b\b\b\b\b\b\b\b\b\b\b\b\b\b\b\b\b\b\b\b\b\b\b\b\b\b\b\b\b\b\b\b\b\b\b\b\b\b\b\b\b\b\b\b\b\b\b\b\b\b\b\b\b\b\b\b\b\b\b\b\b\b\b\b\b\b\b\b\b\b\r30/30 [==============================] - 8s 257ms/step - loss: 0.1060 - accuracy: 0.6345\n",
            "Epoch 139/200\n",
            "30/30 [==============================] - ETA: 0s - loss: 0.1057 - accuracy: 0.6350"
          ]
        },
        {
          "name": "stderr",
          "output_type": "stream",
          "text": [
            "WARNING:tensorflow:Early stopping conditioned on metric `val_loss` which is not available. Available metrics are: loss,accuracy\n"
          ]
        },
        {
          "name": "stdout",
          "output_type": "stream",
          "text": [
            "\b\b\b\b\b\b\b\b\b\b\b\b\b\b\b\b\b\b\b\b\b\b\b\b\b\b\b\b\b\b\b\b\b\b\b\b\b\b\b\b\b\b\b\b\b\b\b\b\b\b\b\b\b\b\b\b\b\b\b\b\b\b\b\b\b\b\b\b\b\b\b\b\b\b\b\b\b\b\b\b\b\b\r30/30 [==============================] - 6s 214ms/step - loss: 0.1057 - accuracy: 0.6350\n",
            "Epoch 140/200\n",
            "30/30 [==============================] - ETA: 0s - loss: 0.1058 - accuracy: 0.6348"
          ]
        },
        {
          "name": "stderr",
          "output_type": "stream",
          "text": [
            "WARNING:tensorflow:Early stopping conditioned on metric `val_loss` which is not available. Available metrics are: loss,accuracy\n"
          ]
        },
        {
          "name": "stdout",
          "output_type": "stream",
          "text": [
            "\b\b\b\b\b\b\b\b\b\b\b\b\b\b\b\b\b\b\b\b\b\b\b\b\b\b\b\b\b\b\b\b\b\b\b\b\b\b\b\b\b\b\b\b\b\b\b\b\b\b\b\b\b\b\b\b\b\b\b\b\b\b\b\b\b\b\b\b\b\b\b\b\b\b\b\b\b\b\b\b\b\b\r30/30 [==============================] - 8s 256ms/step - loss: 0.1058 - accuracy: 0.6348\n",
            "Epoch 141/200\n",
            "30/30 [==============================] - ETA: 0s - loss: 0.1056 - accuracy: 0.6352"
          ]
        },
        {
          "name": "stderr",
          "output_type": "stream",
          "text": [
            "WARNING:tensorflow:Early stopping conditioned on metric `val_loss` which is not available. Available metrics are: loss,accuracy\n"
          ]
        },
        {
          "name": "stdout",
          "output_type": "stream",
          "text": [
            "\b\b\b\b\b\b\b\b\b\b\b\b\b\b\b\b\b\b\b\b\b\b\b\b\b\b\b\b\b\b\b\b\b\b\b\b\b\b\b\b\b\b\b\b\b\b\b\b\b\b\b\b\b\b\b\b\b\b\b\b\b\b\b\b\b\b\b\b\b\b\b\b\b\b\b\b\b\b\b\b\b\b\r30/30 [==============================] - 6s 211ms/step - loss: 0.1056 - accuracy: 0.6352\n",
            "Epoch 142/200\n",
            "30/30 [==============================] - ETA: 0s - loss: 0.1060 - accuracy: 0.6349"
          ]
        },
        {
          "name": "stderr",
          "output_type": "stream",
          "text": [
            "WARNING:tensorflow:Early stopping conditioned on metric `val_loss` which is not available. Available metrics are: loss,accuracy\n"
          ]
        },
        {
          "name": "stdout",
          "output_type": "stream",
          "text": [
            "\b\b\b\b\b\b\b\b\b\b\b\b\b\b\b\b\b\b\b\b\b\b\b\b\b\b\b\b\b\b\b\b\b\b\b\b\b\b\b\b\b\b\b\b\b\b\b\b\b\b\b\b\b\b\b\b\b\b\b\b\b\b\b\b\b\b\b\b\b\b\b\b\b\b\b\b\b\b\b\b\b\b\r30/30 [==============================] - 8s 256ms/step - loss: 0.1060 - accuracy: 0.6349\n",
            "Epoch 143/200\n",
            "30/30 [==============================] - ETA: 0s - loss: 0.1055 - accuracy: 0.6353"
          ]
        },
        {
          "name": "stderr",
          "output_type": "stream",
          "text": [
            "WARNING:tensorflow:Early stopping conditioned on metric `val_loss` which is not available. Available metrics are: loss,accuracy\n"
          ]
        },
        {
          "name": "stdout",
          "output_type": "stream",
          "text": [
            "\b\b\b\b\b\b\b\b\b\b\b\b\b\b\b\b\b\b\b\b\b\b\b\b\b\b\b\b\b\b\b\b\b\b\b\b\b\b\b\b\b\b\b\b\b\b\b\b\b\b\b\b\b\b\b\b\b\b\b\b\b\b\b\b\b\b\b\b\b\b\b\b\b\b\b\b\b\b\b\b\b\b\r30/30 [==============================] - 6s 213ms/step - loss: 0.1055 - accuracy: 0.6353\n",
            "Epoch 144/200\n",
            "30/30 [==============================] - ETA: 0s - loss: 0.1048 - accuracy: 0.6362"
          ]
        },
        {
          "name": "stderr",
          "output_type": "stream",
          "text": [
            "WARNING:tensorflow:Early stopping conditioned on metric `val_loss` which is not available. Available metrics are: loss,accuracy\n"
          ]
        },
        {
          "name": "stdout",
          "output_type": "stream",
          "text": [
            "\b\b\b\b\b\b\b\b\b\b\b\b\b\b\b\b\b\b\b\b\b\b\b\b\b\b\b\b\b\b\b\b\b\b\b\b\b\b\b\b\b\b\b\b\b\b\b\b\b\b\b\b\b\b\b\b\b\b\b\b\b\b\b\b\b\b\b\b\b\b\b\b\b\b\b\b\b\b\b\b\b\b\r30/30 [==============================] - 8s 254ms/step - loss: 0.1048 - accuracy: 0.6362\n",
            "Epoch 145/200\n",
            "30/30 [==============================] - ETA: 0s - loss: 0.1044 - accuracy: 0.6368"
          ]
        },
        {
          "name": "stderr",
          "output_type": "stream",
          "text": [
            "WARNING:tensorflow:Early stopping conditioned on metric `val_loss` which is not available. Available metrics are: loss,accuracy\n"
          ]
        },
        {
          "name": "stdout",
          "output_type": "stream",
          "text": [
            "\b\b\b\b\b\b\b\b\b\b\b\b\b\b\b\b\b\b\b\b\b\b\b\b\b\b\b\b\b\b\b\b\b\b\b\b\b\b\b\b\b\b\b\b\b\b\b\b\b\b\b\b\b\b\b\b\b\b\b\b\b\b\b\b\b\b\b\b\b\b\b\b\b\b\b\b\b\b\b\b\b\b\r30/30 [==============================] - 6s 209ms/step - loss: 0.1044 - accuracy: 0.6368\n",
            "Epoch 146/200\n",
            "30/30 [==============================] - ETA: 0s - loss: 0.1042 - accuracy: 0.6371"
          ]
        },
        {
          "name": "stderr",
          "output_type": "stream",
          "text": [
            "WARNING:tensorflow:Early stopping conditioned on metric `val_loss` which is not available. Available metrics are: loss,accuracy\n"
          ]
        },
        {
          "name": "stdout",
          "output_type": "stream",
          "text": [
            "\b\b\b\b\b\b\b\b\b\b\b\b\b\b\b\b\b\b\b\b\b\b\b\b\b\b\b\b\b\b\b\b\b\b\b\b\b\b\b\b\b\b\b\b\b\b\b\b\b\b\b\b\b\b\b\b\b\b\b\b\b\b\b\b\b\b\b\b\b\b\b\b\b\b\b\b\b\b\b\b\b\b\r30/30 [==============================] - 7s 249ms/step - loss: 0.1042 - accuracy: 0.6371\n",
            "Epoch 147/200\n",
            "30/30 [==============================] - ETA: 0s - loss: 0.1042 - accuracy: 0.6371"
          ]
        },
        {
          "name": "stderr",
          "output_type": "stream",
          "text": [
            "WARNING:tensorflow:Early stopping conditioned on metric `val_loss` which is not available. Available metrics are: loss,accuracy\n"
          ]
        },
        {
          "name": "stdout",
          "output_type": "stream",
          "text": [
            "\b\b\b\b\b\b\b\b\b\b\b\b\b\b\b\b\b\b\b\b\b\b\b\b\b\b\b\b\b\b\b\b\b\b\b\b\b\b\b\b\b\b\b\b\b\b\b\b\b\b\b\b\b\b\b\b\b\b\b\b\b\b\b\b\b\b\b\b\b\b\b\b\b\b\b\b\b\b\b\b\b\b\r30/30 [==============================] - 6s 209ms/step - loss: 0.1042 - accuracy: 0.6371\n",
            "Epoch 148/200\n",
            "30/30 [==============================] - ETA: 0s - loss: 0.1038 - accuracy: 0.6376"
          ]
        },
        {
          "name": "stderr",
          "output_type": "stream",
          "text": [
            "WARNING:tensorflow:Early stopping conditioned on metric `val_loss` which is not available. Available metrics are: loss,accuracy\n"
          ]
        },
        {
          "name": "stdout",
          "output_type": "stream",
          "text": [
            "\b\b\b\b\b\b\b\b\b\b\b\b\b\b\b\b\b\b\b\b\b\b\b\b\b\b\b\b\b\b\b\b\b\b\b\b\b\b\b\b\b\b\b\b\b\b\b\b\b\b\b\b\b\b\b\b\b\b\b\b\b\b\b\b\b\b\b\b\b\b\b\b\b\b\b\b\b\b\b\b\b\b\r30/30 [==============================] - 7s 249ms/step - loss: 0.1038 - accuracy: 0.6376\n",
            "Epoch 149/200\n",
            "30/30 [==============================] - ETA: 0s - loss: 0.1036 - accuracy: 0.6380"
          ]
        },
        {
          "name": "stderr",
          "output_type": "stream",
          "text": [
            "WARNING:tensorflow:Early stopping conditioned on metric `val_loss` which is not available. Available metrics are: loss,accuracy\n"
          ]
        },
        {
          "name": "stdout",
          "output_type": "stream",
          "text": [
            "\b\b\b\b\b\b\b\b\b\b\b\b\b\b\b\b\b\b\b\b\b\b\b\b\b\b\b\b\b\b\b\b\b\b\b\b\b\b\b\b\b\b\b\b\b\b\b\b\b\b\b\b\b\b\b\b\b\b\b\b\b\b\b\b\b\b\b\b\b\b\b\b\b\b\b\b\b\b\b\b\b\b\r30/30 [==============================] - 6s 208ms/step - loss: 0.1036 - accuracy: 0.6380\n",
            "Epoch 150/200\n",
            "30/30 [==============================] - ETA: 0s - loss: 0.1036 - accuracy: 0.6379"
          ]
        },
        {
          "name": "stderr",
          "output_type": "stream",
          "text": [
            "WARNING:tensorflow:Early stopping conditioned on metric `val_loss` which is not available. Available metrics are: loss,accuracy\n"
          ]
        },
        {
          "name": "stdout",
          "output_type": "stream",
          "text": [
            "\b\b\b\b\b\b\b\b\b\b\b\b\b\b\b\b\b\b\b\b\b\b\b\b\b\b\b\b\b\b\b\b\b\b\b\b\b\b\b\b\b\b\b\b\b\b\b\b\b\b\b\b\b\b\b\b\b\b\b\b\b\b\b\b\b\b\b\b\b\b\b\b\b\b\b\b\b\b\b\b\b\b\r30/30 [==============================] - 7s 248ms/step - loss: 0.1036 - accuracy: 0.6379\n",
            "Epoch 151/200\n",
            "30/30 [==============================] - ETA: 0s - loss: 0.1036 - accuracy: 0.6380"
          ]
        },
        {
          "name": "stderr",
          "output_type": "stream",
          "text": [
            "WARNING:tensorflow:Early stopping conditioned on metric `val_loss` which is not available. Available metrics are: loss,accuracy\n"
          ]
        },
        {
          "name": "stdout",
          "output_type": "stream",
          "text": [
            "\b\b\b\b\b\b\b\b\b\b\b\b\b\b\b\b\b\b\b\b\b\b\b\b\b\b\b\b\b\b\b\b\b\b\b\b\b\b\b\b\b\b\b\b\b\b\b\b\b\b\b\b\b\b\b\b\b\b\b\b\b\b\b\b\b\b\b\b\b\b\b\b\b\b\b\b\b\b\b\b\b\b\r30/30 [==============================] - 6s 208ms/step - loss: 0.1036 - accuracy: 0.6380\n",
            "Epoch 152/200\n",
            "30/30 [==============================] - ETA: 0s - loss: 0.1035 - accuracy: 0.6381"
          ]
        },
        {
          "name": "stderr",
          "output_type": "stream",
          "text": [
            "WARNING:tensorflow:Early stopping conditioned on metric `val_loss` which is not available. Available metrics are: loss,accuracy\n"
          ]
        },
        {
          "name": "stdout",
          "output_type": "stream",
          "text": [
            "\b\b\b\b\b\b\b\b\b\b\b\b\b\b\b\b\b\b\b\b\b\b\b\b\b\b\b\b\b\b\b\b\b\b\b\b\b\b\b\b\b\b\b\b\b\b\b\b\b\b\b\b\b\b\b\b\b\b\b\b\b\b\b\b\b\b\b\b\b\b\b\b\b\b\b\b\b\b\b\b\b\b\r30/30 [==============================] - 8s 253ms/step - loss: 0.1035 - accuracy: 0.6381\n",
            "Epoch 153/200\n",
            "30/30 [==============================] - ETA: 0s - loss: 0.1036 - accuracy: 0.6380"
          ]
        },
        {
          "name": "stderr",
          "output_type": "stream",
          "text": [
            "WARNING:tensorflow:Early stopping conditioned on metric `val_loss` which is not available. Available metrics are: loss,accuracy\n"
          ]
        },
        {
          "name": "stdout",
          "output_type": "stream",
          "text": [
            "\b\b\b\b\b\b\b\b\b\b\b\b\b\b\b\b\b\b\b\b\b\b\b\b\b\b\b\b\b\b\b\b\b\b\b\b\b\b\b\b\b\b\b\b\b\b\b\b\b\b\b\b\b\b\b\b\b\b\b\b\b\b\b\b\b\b\b\b\b\b\b\b\b\b\b\b\b\b\b\b\b\b\r30/30 [==============================] - 6s 209ms/step - loss: 0.1036 - accuracy: 0.6380\n",
            "Epoch 154/200\n",
            "30/30 [==============================] - ETA: 0s - loss: 0.1029 - accuracy: 0.6389"
          ]
        },
        {
          "name": "stderr",
          "output_type": "stream",
          "text": [
            "WARNING:tensorflow:Early stopping conditioned on metric `val_loss` which is not available. Available metrics are: loss,accuracy\n"
          ]
        },
        {
          "name": "stdout",
          "output_type": "stream",
          "text": [
            "\b\b\b\b\b\b\b\b\b\b\b\b\b\b\b\b\b\b\b\b\b\b\b\b\b\b\b\b\b\b\b\b\b\b\b\b\b\b\b\b\b\b\b\b\b\b\b\b\b\b\b\b\b\b\b\b\b\b\b\b\b\b\b\b\b\b\b\b\b\b\b\b\b\b\b\b\b\b\b\b\b\b\r30/30 [==============================] - 8s 249ms/step - loss: 0.1029 - accuracy: 0.6389\n",
            "Epoch 155/200\n",
            "30/30 [==============================] - ETA: 0s - loss: 0.1027 - accuracy: 0.6392"
          ]
        },
        {
          "name": "stderr",
          "output_type": "stream",
          "text": [
            "WARNING:tensorflow:Early stopping conditioned on metric `val_loss` which is not available. Available metrics are: loss,accuracy\n"
          ]
        },
        {
          "name": "stdout",
          "output_type": "stream",
          "text": [
            "\b\b\b\b\b\b\b\b\b\b\b\b\b\b\b\b\b\b\b\b\b\b\b\b\b\b\b\b\b\b\b\b\b\b\b\b\b\b\b\b\b\b\b\b\b\b\b\b\b\b\b\b\b\b\b\b\b\b\b\b\b\b\b\b\b\b\b\b\b\b\b\b\b\b\b\b\b\b\b\b\b\b\r30/30 [==============================] - 7s 219ms/step - loss: 0.1027 - accuracy: 0.6392\n",
            "Epoch 156/200\n",
            "30/30 [==============================] - ETA: 0s - loss: 0.1027 - accuracy: 0.6391"
          ]
        },
        {
          "name": "stderr",
          "output_type": "stream",
          "text": [
            "WARNING:tensorflow:Early stopping conditioned on metric `val_loss` which is not available. Available metrics are: loss,accuracy\n"
          ]
        },
        {
          "name": "stdout",
          "output_type": "stream",
          "text": [
            "\b\b\b\b\b\b\b\b\b\b\b\b\b\b\b\b\b\b\b\b\b\b\b\b\b\b\b\b\b\b\b\b\b\b\b\b\b\b\b\b\b\b\b\b\b\b\b\b\b\b\b\b\b\b\b\b\b\b\b\b\b\b\b\b\b\b\b\b\b\b\b\b\b\b\b\b\b\b\b\b\b\b\r30/30 [==============================] - 7s 243ms/step - loss: 0.1027 - accuracy: 0.6391\n",
            "Epoch 157/200\n",
            "30/30 [==============================] - ETA: 0s - loss: 0.1025 - accuracy: 0.6395"
          ]
        },
        {
          "name": "stderr",
          "output_type": "stream",
          "text": [
            "WARNING:tensorflow:Early stopping conditioned on metric `val_loss` which is not available. Available metrics are: loss,accuracy\n"
          ]
        },
        {
          "name": "stdout",
          "output_type": "stream",
          "text": [
            "\b\b\b\b\b\b\b\b\b\b\b\b\b\b\b\b\b\b\b\b\b\b\b\b\b\b\b\b\b\b\b\b\b\b\b\b\b\b\b\b\b\b\b\b\b\b\b\b\b\b\b\b\b\b\b\b\b\b\b\b\b\b\b\b\b\b\b\b\b\b\b\b\b\b\b\b\b\b\b\b\b\b\r30/30 [==============================] - 7s 223ms/step - loss: 0.1025 - accuracy: 0.6395\n",
            "Epoch 158/200\n",
            "30/30 [==============================] - ETA: 0s - loss: 0.1027 - accuracy: 0.6392"
          ]
        },
        {
          "name": "stderr",
          "output_type": "stream",
          "text": [
            "WARNING:tensorflow:Early stopping conditioned on metric `val_loss` which is not available. Available metrics are: loss,accuracy\n"
          ]
        },
        {
          "name": "stdout",
          "output_type": "stream",
          "text": [
            "\b\b\b\b\b\b\b\b\b\b\b\b\b\b\b\b\b\b\b\b\b\b\b\b\b\b\b\b\b\b\b\b\b\b\b\b\b\b\b\b\b\b\b\b\b\b\b\b\b\b\b\b\b\b\b\b\b\b\b\b\b\b\b\b\b\b\b\b\b\b\b\b\b\b\b\b\b\b\b\b\b\b\r30/30 [==============================] - 7s 231ms/step - loss: 0.1027 - accuracy: 0.6392\n",
            "Epoch 159/200\n",
            "30/30 [==============================] - ETA: 0s - loss: 0.1028 - accuracy: 0.6394"
          ]
        },
        {
          "name": "stderr",
          "output_type": "stream",
          "text": [
            "WARNING:tensorflow:Early stopping conditioned on metric `val_loss` which is not available. Available metrics are: loss,accuracy\n"
          ]
        },
        {
          "name": "stdout",
          "output_type": "stream",
          "text": [
            "\b\b\b\b\b\b\b\b\b\b\b\b\b\b\b\b\b\b\b\b\b\b\b\b\b\b\b\b\b\b\b\b\b\b\b\b\b\b\b\b\b\b\b\b\b\b\b\b\b\b\b\b\b\b\b\b\b\b\b\b\b\b\b\b\b\b\b\b\b\b\b\b\b\b\b\b\b\b\b\b\b\b\r30/30 [==============================] - 7s 234ms/step - loss: 0.1028 - accuracy: 0.6394\n",
            "Epoch 160/200\n",
            "30/30 [==============================] - ETA: 0s - loss: 0.1018 - accuracy: 0.6402"
          ]
        },
        {
          "name": "stderr",
          "output_type": "stream",
          "text": [
            "WARNING:tensorflow:Early stopping conditioned on metric `val_loss` which is not available. Available metrics are: loss,accuracy\n"
          ]
        },
        {
          "name": "stdout",
          "output_type": "stream",
          "text": [
            "\b\b\b\b\b\b\b\b\b\b\b\b\b\b\b\b\b\b\b\b\b\b\b\b\b\b\b\b\b\b\b\b\b\b\b\b\b\b\b\b\b\b\b\b\b\b\b\b\b\b\b\b\b\b\b\b\b\b\b\b\b\b\b\b\b\b\b\b\b\b\b\b\b\b\b\b\b\b\b\b\b\b\r30/30 [==============================] - 7s 224ms/step - loss: 0.1018 - accuracy: 0.6402\n",
            "Epoch 161/200\n",
            "30/30 [==============================] - ETA: 0s - loss: 0.1015 - accuracy: 0.6406"
          ]
        },
        {
          "name": "stderr",
          "output_type": "stream",
          "text": [
            "WARNING:tensorflow:Early stopping conditioned on metric `val_loss` which is not available. Available metrics are: loss,accuracy\n"
          ]
        },
        {
          "name": "stdout",
          "output_type": "stream",
          "text": [
            "\b\b\b\b\b\b\b\b\b\b\b\b\b\b\b\b\b\b\b\b\b\b\b\b\b\b\b\b\b\b\b\b\b\b\b\b\b\b\b\b\b\b\b\b\b\b\b\b\b\b\b\b\b\b\b\b\b\b\b\b\b\b\b\b\b\b\b\b\b\b\b\b\b\b\b\b\b\b\b\b\b\b\r30/30 [==============================] - 7s 238ms/step - loss: 0.1015 - accuracy: 0.6406\n",
            "Epoch 162/200\n",
            "30/30 [==============================] - ETA: 0s - loss: 0.1013 - accuracy: 0.6409"
          ]
        },
        {
          "name": "stderr",
          "output_type": "stream",
          "text": [
            "WARNING:tensorflow:Early stopping conditioned on metric `val_loss` which is not available. Available metrics are: loss,accuracy\n"
          ]
        },
        {
          "name": "stdout",
          "output_type": "stream",
          "text": [
            "\b\b\b\b\b\b\b\b\b\b\b\b\b\b\b\b\b\b\b\b\b\b\b\b\b\b\b\b\b\b\b\b\b\b\b\b\b\b\b\b\b\b\b\b\b\b\b\b\b\b\b\b\b\b\b\b\b\b\b\b\b\b\b\b\b\b\b\b\b\b\b\b\b\b\b\b\b\b\b\b\b\b\r30/30 [==============================] - 7s 221ms/step - loss: 0.1013 - accuracy: 0.6409\n",
            "Epoch 163/200\n",
            "30/30 [==============================] - ETA: 0s - loss: 0.1010 - accuracy: 0.6413"
          ]
        },
        {
          "name": "stderr",
          "output_type": "stream",
          "text": [
            "WARNING:tensorflow:Early stopping conditioned on metric `val_loss` which is not available. Available metrics are: loss,accuracy\n"
          ]
        },
        {
          "name": "stdout",
          "output_type": "stream",
          "text": [
            "\b\b\b\b\b\b\b\b\b\b\b\b\b\b\b\b\b\b\b\b\b\b\b\b\b\b\b\b\b\b\b\b\b\b\b\b\b\b\b\b\b\b\b\b\b\b\b\b\b\b\b\b\b\b\b\b\b\b\b\b\b\b\b\b\b\b\b\b\b\b\b\b\b\b\b\b\b\b\b\b\b\b\r30/30 [==============================] - 7s 243ms/step - loss: 0.1010 - accuracy: 0.6413\n",
            "Epoch 164/200\n",
            "30/30 [==============================] - ETA: 0s - loss: 0.1010 - accuracy: 0.6414"
          ]
        },
        {
          "name": "stderr",
          "output_type": "stream",
          "text": [
            "WARNING:tensorflow:Early stopping conditioned on metric `val_loss` which is not available. Available metrics are: loss,accuracy\n"
          ]
        },
        {
          "name": "stdout",
          "output_type": "stream",
          "text": [
            "\b\b\b\b\b\b\b\b\b\b\b\b\b\b\b\b\b\b\b\b\b\b\b\b\b\b\b\b\b\b\b\b\b\b\b\b\b\b\b\b\b\b\b\b\b\b\b\b\b\b\b\b\b\b\b\b\b\b\b\b\b\b\b\b\b\b\b\b\b\b\b\b\b\b\b\b\b\b\b\b\b\b\r30/30 [==============================] - 7s 214ms/step - loss: 0.1010 - accuracy: 0.6414\n",
            "Epoch 165/200\n",
            "30/30 [==============================] - ETA: 0s - loss: 0.1009 - accuracy: 0.6415"
          ]
        },
        {
          "name": "stderr",
          "output_type": "stream",
          "text": [
            "WARNING:tensorflow:Early stopping conditioned on metric `val_loss` which is not available. Available metrics are: loss,accuracy\n"
          ]
        },
        {
          "name": "stdout",
          "output_type": "stream",
          "text": [
            "\b\b\b\b\b\b\b\b\b\b\b\b\b\b\b\b\b\b\b\b\b\b\b\b\b\b\b\b\b\b\b\b\b\b\b\b\b\b\b\b\b\b\b\b\b\b\b\b\b\b\b\b\b\b\b\b\b\b\b\b\b\b\b\b\b\b\b\b\b\b\b\b\b\b\b\b\b\b\b\b\b\b\r30/30 [==============================] - 7s 251ms/step - loss: 0.1009 - accuracy: 0.6415\n",
            "Epoch 166/200\n",
            "30/30 [==============================] - ETA: 0s - loss: 0.1009 - accuracy: 0.6415"
          ]
        },
        {
          "name": "stderr",
          "output_type": "stream",
          "text": [
            "WARNING:tensorflow:Early stopping conditioned on metric `val_loss` which is not available. Available metrics are: loss,accuracy\n"
          ]
        },
        {
          "name": "stdout",
          "output_type": "stream",
          "text": [
            "\b\b\b\b\b\b\b\b\b\b\b\b\b\b\b\b\b\b\b\b\b\b\b\b\b\b\b\b\b\b\b\b\b\b\b\b\b\b\b\b\b\b\b\b\b\b\b\b\b\b\b\b\b\b\b\b\b\b\b\b\b\b\b\b\b\b\b\b\b\b\b\b\b\b\b\b\b\b\b\b\b\b\r30/30 [==============================] - 6s 210ms/step - loss: 0.1009 - accuracy: 0.6415\n",
            "Epoch 167/200\n",
            "30/30 [==============================] - ETA: 0s - loss: 0.1005 - accuracy: 0.6421"
          ]
        },
        {
          "name": "stderr",
          "output_type": "stream",
          "text": [
            "WARNING:tensorflow:Early stopping conditioned on metric `val_loss` which is not available. Available metrics are: loss,accuracy\n"
          ]
        },
        {
          "name": "stdout",
          "output_type": "stream",
          "text": [
            "\b\b\b\b\b\b\b\b\b\b\b\b\b\b\b\b\b\b\b\b\b\b\b\b\b\b\b\b\b\b\b\b\b\b\b\b\b\b\b\b\b\b\b\b\b\b\b\b\b\b\b\b\b\b\b\b\b\b\b\b\b\b\b\b\b\b\b\b\b\b\b\b\b\b\b\b\b\b\b\b\b\b\r30/30 [==============================] - 7s 250ms/step - loss: 0.1005 - accuracy: 0.6421\n",
            "Epoch 168/200\n",
            "30/30 [==============================] - ETA: 0s - loss: 0.1003 - accuracy: 0.6424"
          ]
        },
        {
          "name": "stderr",
          "output_type": "stream",
          "text": [
            "WARNING:tensorflow:Early stopping conditioned on metric `val_loss` which is not available. Available metrics are: loss,accuracy\n"
          ]
        },
        {
          "name": "stdout",
          "output_type": "stream",
          "text": [
            "\b\b\b\b\b\b\b\b\b\b\b\b\b\b\b\b\b\b\b\b\b\b\b\b\b\b\b\b\b\b\b\b\b\b\b\b\b\b\b\b\b\b\b\b\b\b\b\b\b\b\b\b\b\b\b\b\b\b\b\b\b\b\b\b\b\b\b\b\b\b\b\b\b\b\b\b\b\b\b\b\b\b\r30/30 [==============================] - 6s 209ms/step - loss: 0.1003 - accuracy: 0.6424\n",
            "Epoch 169/200\n",
            "30/30 [==============================] - ETA: 0s - loss: 0.1002 - accuracy: 0.6424"
          ]
        },
        {
          "name": "stderr",
          "output_type": "stream",
          "text": [
            "WARNING:tensorflow:Early stopping conditioned on metric `val_loss` which is not available. Available metrics are: loss,accuracy\n"
          ]
        },
        {
          "name": "stdout",
          "output_type": "stream",
          "text": [
            "\b\b\b\b\b\b\b\b\b\b\b\b\b\b\b\b\b\b\b\b\b\b\b\b\b\b\b\b\b\b\b\b\b\b\b\b\b\b\b\b\b\b\b\b\b\b\b\b\b\b\b\b\b\b\b\b\b\b\b\b\b\b\b\b\b\b\b\b\b\b\b\b\b\b\b\b\b\b\b\b\b\b\r30/30 [==============================] - 8s 254ms/step - loss: 0.1002 - accuracy: 0.6424\n",
            "Epoch 170/200\n",
            "30/30 [==============================] - ETA: 0s - loss: 0.1001 - accuracy: 0.6426"
          ]
        },
        {
          "name": "stderr",
          "output_type": "stream",
          "text": [
            "WARNING:tensorflow:Early stopping conditioned on metric `val_loss` which is not available. Available metrics are: loss,accuracy\n"
          ]
        },
        {
          "name": "stdout",
          "output_type": "stream",
          "text": [
            "\b\b\b\b\b\b\b\b\b\b\b\b\b\b\b\b\b\b\b\b\b\b\b\b\b\b\b\b\b\b\b\b\b\b\b\b\b\b\b\b\b\b\b\b\b\b\b\b\b\b\b\b\b\b\b\b\b\b\b\b\b\b\b\b\b\b\b\b\b\b\b\b\b\b\b\b\b\b\b\b\b\b\r30/30 [==============================] - 6s 211ms/step - loss: 0.1001 - accuracy: 0.6426\n",
            "Epoch 171/200\n",
            "30/30 [==============================] - ETA: 0s - loss: 0.0999 - accuracy: 0.6429"
          ]
        },
        {
          "name": "stderr",
          "output_type": "stream",
          "text": [
            "WARNING:tensorflow:Early stopping conditioned on metric `val_loss` which is not available. Available metrics are: loss,accuracy\n"
          ]
        },
        {
          "name": "stdout",
          "output_type": "stream",
          "text": [
            "\b\b\b\b\b\b\b\b\b\b\b\b\b\b\b\b\b\b\b\b\b\b\b\b\b\b\b\b\b\b\b\b\b\b\b\b\b\b\b\b\b\b\b\b\b\b\b\b\b\b\b\b\b\b\b\b\b\b\b\b\b\b\b\b\b\b\b\b\b\b\b\b\b\b\b\b\b\b\b\b\b\b\r30/30 [==============================] - 7s 250ms/step - loss: 0.0999 - accuracy: 0.6429\n",
            "Epoch 172/200\n",
            "30/30 [==============================] - ETA: 0s - loss: 0.0999 - accuracy: 0.6429"
          ]
        },
        {
          "name": "stderr",
          "output_type": "stream",
          "text": [
            "WARNING:tensorflow:Early stopping conditioned on metric `val_loss` which is not available. Available metrics are: loss,accuracy\n"
          ]
        },
        {
          "name": "stdout",
          "output_type": "stream",
          "text": [
            "\b\b\b\b\b\b\b\b\b\b\b\b\b\b\b\b\b\b\b\b\b\b\b\b\b\b\b\b\b\b\b\b\b\b\b\b\b\b\b\b\b\b\b\b\b\b\b\b\b\b\b\b\b\b\b\b\b\b\b\b\b\b\b\b\b\b\b\b\b\b\b\b\b\b\b\b\b\b\b\b\b\b\r30/30 [==============================] - 6s 207ms/step - loss: 0.0999 - accuracy: 0.6429\n",
            "Epoch 173/200\n",
            "30/30 [==============================] - ETA: 0s - loss: 0.0997 - accuracy: 0.6432"
          ]
        },
        {
          "name": "stderr",
          "output_type": "stream",
          "text": [
            "WARNING:tensorflow:Early stopping conditioned on metric `val_loss` which is not available. Available metrics are: loss,accuracy\n"
          ]
        },
        {
          "name": "stdout",
          "output_type": "stream",
          "text": [
            "\b\b\b\b\b\b\b\b\b\b\b\b\b\b\b\b\b\b\b\b\b\b\b\b\b\b\b\b\b\b\b\b\b\b\b\b\b\b\b\b\b\b\b\b\b\b\b\b\b\b\b\b\b\b\b\b\b\b\b\b\b\b\b\b\b\b\b\b\b\b\b\b\b\b\b\b\b\b\b\b\b\b\r30/30 [==============================] - 7s 250ms/step - loss: 0.0997 - accuracy: 0.6432\n",
            "Epoch 174/200\n",
            "30/30 [==============================] - ETA: 0s - loss: 0.0996 - accuracy: 0.6434"
          ]
        },
        {
          "name": "stderr",
          "output_type": "stream",
          "text": [
            "WARNING:tensorflow:Early stopping conditioned on metric `val_loss` which is not available. Available metrics are: loss,accuracy\n"
          ]
        },
        {
          "name": "stdout",
          "output_type": "stream",
          "text": [
            "\b\b\b\b\b\b\b\b\b\b\b\b\b\b\b\b\b\b\b\b\b\b\b\b\b\b\b\b\b\b\b\b\b\b\b\b\b\b\b\b\b\b\b\b\b\b\b\b\b\b\b\b\b\b\b\b\b\b\b\b\b\b\b\b\b\b\b\b\b\b\b\b\b\b\b\b\b\b\b\b\b\b\r30/30 [==============================] - 6s 210ms/step - loss: 0.0996 - accuracy: 0.6434\n",
            "Epoch 175/200\n",
            "30/30 [==============================] - ETA: 0s - loss: 0.0995 - accuracy: 0.6435"
          ]
        },
        {
          "name": "stderr",
          "output_type": "stream",
          "text": [
            "WARNING:tensorflow:Early stopping conditioned on metric `val_loss` which is not available. Available metrics are: loss,accuracy\n"
          ]
        },
        {
          "name": "stdout",
          "output_type": "stream",
          "text": [
            "\b\b\b\b\b\b\b\b\b\b\b\b\b\b\b\b\b\b\b\b\b\b\b\b\b\b\b\b\b\b\b\b\b\b\b\b\b\b\b\b\b\b\b\b\b\b\b\b\b\b\b\b\b\b\b\b\b\b\b\b\b\b\b\b\b\b\b\b\b\b\b\b\b\b\b\b\b\b\b\b\b\b\r30/30 [==============================] - 8s 252ms/step - loss: 0.0995 - accuracy: 0.6435\n",
            "Epoch 176/200\n",
            "30/30 [==============================] - ETA: 0s - loss: 0.0994 - accuracy: 0.6438"
          ]
        },
        {
          "name": "stderr",
          "output_type": "stream",
          "text": [
            "WARNING:tensorflow:Early stopping conditioned on metric `val_loss` which is not available. Available metrics are: loss,accuracy\n"
          ]
        },
        {
          "name": "stdout",
          "output_type": "stream",
          "text": [
            "\b\b\b\b\b\b\b\b\b\b\b\b\b\b\b\b\b\b\b\b\b\b\b\b\b\b\b\b\b\b\b\b\b\b\b\b\b\b\b\b\b\b\b\b\b\b\b\b\b\b\b\b\b\b\b\b\b\b\b\b\b\b\b\b\b\b\b\b\b\b\b\b\b\b\b\b\b\b\b\b\b\b\r30/30 [==============================] - 6s 210ms/step - loss: 0.0994 - accuracy: 0.6438\n",
            "Epoch 177/200\n",
            "30/30 [==============================] - ETA: 0s - loss: 0.0991 - accuracy: 0.6441"
          ]
        },
        {
          "name": "stderr",
          "output_type": "stream",
          "text": [
            "WARNING:tensorflow:Early stopping conditioned on metric `val_loss` which is not available. Available metrics are: loss,accuracy\n"
          ]
        },
        {
          "name": "stdout",
          "output_type": "stream",
          "text": [
            "\b\b\b\b\b\b\b\b\b\b\b\b\b\b\b\b\b\b\b\b\b\b\b\b\b\b\b\b\b\b\b\b\b\b\b\b\b\b\b\b\b\b\b\b\b\b\b\b\b\b\b\b\b\b\b\b\b\b\b\b\b\b\b\b\b\b\b\b\b\b\b\b\b\b\b\b\b\b\b\b\b\b\r30/30 [==============================] - 8s 252ms/step - loss: 0.0991 - accuracy: 0.6441\n",
            "Epoch 178/200\n",
            "30/30 [==============================] - ETA: 0s - loss: 0.0994 - accuracy: 0.6439"
          ]
        },
        {
          "name": "stderr",
          "output_type": "stream",
          "text": [
            "WARNING:tensorflow:Early stopping conditioned on metric `val_loss` which is not available. Available metrics are: loss,accuracy\n"
          ]
        },
        {
          "name": "stdout",
          "output_type": "stream",
          "text": [
            "\b\b\b\b\b\b\b\b\b\b\b\b\b\b\b\b\b\b\b\b\b\b\b\b\b\b\b\b\b\b\b\b\b\b\b\b\b\b\b\b\b\b\b\b\b\b\b\b\b\b\b\b\b\b\b\b\b\b\b\b\b\b\b\b\b\b\b\b\b\b\b\b\b\b\b\b\b\b\b\b\b\b\r30/30 [==============================] - 6s 213ms/step - loss: 0.0994 - accuracy: 0.6439\n",
            "Epoch 179/200\n",
            "30/30 [==============================] - ETA: 0s - loss: 0.0994 - accuracy: 0.6437"
          ]
        },
        {
          "name": "stderr",
          "output_type": "stream",
          "text": [
            "WARNING:tensorflow:Early stopping conditioned on metric `val_loss` which is not available. Available metrics are: loss,accuracy\n"
          ]
        },
        {
          "name": "stdout",
          "output_type": "stream",
          "text": [
            "\b\b\b\b\b\b\b\b\b\b\b\b\b\b\b\b\b\b\b\b\b\b\b\b\b\b\b\b\b\b\b\b\b\b\b\b\b\b\b\b\b\b\b\b\b\b\b\b\b\b\b\b\b\b\b\b\b\b\b\b\b\b\b\b\b\b\b\b\b\b\b\b\b\b\b\b\b\b\b\b\b\b\r30/30 [==============================] - 8s 255ms/step - loss: 0.0994 - accuracy: 0.6437\n",
            "Epoch 180/200\n",
            "30/30 [==============================] - ETA: 0s - loss: 0.0987 - accuracy: 0.6446"
          ]
        },
        {
          "name": "stderr",
          "output_type": "stream",
          "text": [
            "WARNING:tensorflow:Early stopping conditioned on metric `val_loss` which is not available. Available metrics are: loss,accuracy\n"
          ]
        },
        {
          "name": "stdout",
          "output_type": "stream",
          "text": [
            "\b\b\b\b\b\b\b\b\b\b\b\b\b\b\b\b\b\b\b\b\b\b\b\b\b\b\b\b\b\b\b\b\b\b\b\b\b\b\b\b\b\b\b\b\b\b\b\b\b\b\b\b\b\b\b\b\b\b\b\b\b\b\b\b\b\b\b\b\b\b\b\b\b\b\b\b\b\b\b\b\b\b\r30/30 [==============================] - 6s 207ms/step - loss: 0.0987 - accuracy: 0.6446\n",
            "Epoch 181/200\n",
            "30/30 [==============================] - ETA: 0s - loss: 0.0985 - accuracy: 0.6449"
          ]
        },
        {
          "name": "stderr",
          "output_type": "stream",
          "text": [
            "WARNING:tensorflow:Early stopping conditioned on metric `val_loss` which is not available. Available metrics are: loss,accuracy\n"
          ]
        },
        {
          "name": "stdout",
          "output_type": "stream",
          "text": [
            "\b\b\b\b\b\b\b\b\b\b\b\b\b\b\b\b\b\b\b\b\b\b\b\b\b\b\b\b\b\b\b\b\b\b\b\b\b\b\b\b\b\b\b\b\b\b\b\b\b\b\b\b\b\b\b\b\b\b\b\b\b\b\b\b\b\b\b\b\b\b\b\b\b\b\b\b\b\b\b\b\b\b\r30/30 [==============================] - 7s 249ms/step - loss: 0.0985 - accuracy: 0.6449\n",
            "Epoch 182/200\n",
            "30/30 [==============================] - ETA: 0s - loss: 0.0985 - accuracy: 0.6452"
          ]
        },
        {
          "name": "stderr",
          "output_type": "stream",
          "text": [
            "WARNING:tensorflow:Early stopping conditioned on metric `val_loss` which is not available. Available metrics are: loss,accuracy\n"
          ]
        },
        {
          "name": "stdout",
          "output_type": "stream",
          "text": [
            "\b\b\b\b\b\b\b\b\b\b\b\b\b\b\b\b\b\b\b\b\b\b\b\b\b\b\b\b\b\b\b\b\b\b\b\b\b\b\b\b\b\b\b\b\b\b\b\b\b\b\b\b\b\b\b\b\b\b\b\b\b\b\b\b\b\b\b\b\b\b\b\b\b\b\b\b\b\b\b\b\b\b\r30/30 [==============================] - 6s 205ms/step - loss: 0.0985 - accuracy: 0.6452\n",
            "Epoch 183/200\n",
            "30/30 [==============================] - ETA: 0s - loss: 0.0985 - accuracy: 0.6450"
          ]
        },
        {
          "name": "stderr",
          "output_type": "stream",
          "text": [
            "WARNING:tensorflow:Early stopping conditioned on metric `val_loss` which is not available. Available metrics are: loss,accuracy\n"
          ]
        },
        {
          "name": "stdout",
          "output_type": "stream",
          "text": [
            "\b\b\b\b\b\b\b\b\b\b\b\b\b\b\b\b\b\b\b\b\b\b\b\b\b\b\b\b\b\b\b\b\b\b\b\b\b\b\b\b\b\b\b\b\b\b\b\b\b\b\b\b\b\b\b\b\b\b\b\b\b\b\b\b\b\b\b\b\b\b\b\b\b\b\b\b\b\b\b\b\b\b\r30/30 [==============================] - 7s 251ms/step - loss: 0.0985 - accuracy: 0.6450\n",
            "Epoch 184/200\n",
            "30/30 [==============================] - ETA: 0s - loss: 0.0983 - accuracy: 0.6453"
          ]
        },
        {
          "name": "stderr",
          "output_type": "stream",
          "text": [
            "WARNING:tensorflow:Early stopping conditioned on metric `val_loss` which is not available. Available metrics are: loss,accuracy\n"
          ]
        },
        {
          "name": "stdout",
          "output_type": "stream",
          "text": [
            "\b\b\b\b\b\b\b\b\b\b\b\b\b\b\b\b\b\b\b\b\b\b\b\b\b\b\b\b\b\b\b\b\b\b\b\b\b\b\b\b\b\b\b\b\b\b\b\b\b\b\b\b\b\b\b\b\b\b\b\b\b\b\b\b\b\b\b\b\b\b\b\b\b\b\b\b\b\b\b\b\b\b\r30/30 [==============================] - 6s 209ms/step - loss: 0.0983 - accuracy: 0.6453\n",
            "Epoch 185/200\n",
            "30/30 [==============================] - ETA: 0s - loss: 0.0996 - accuracy: 0.6438"
          ]
        },
        {
          "name": "stderr",
          "output_type": "stream",
          "text": [
            "WARNING:tensorflow:Early stopping conditioned on metric `val_loss` which is not available. Available metrics are: loss,accuracy\n"
          ]
        },
        {
          "name": "stdout",
          "output_type": "stream",
          "text": [
            "\b\b\b\b\b\b\b\b\b\b\b\b\b\b\b\b\b\b\b\b\b\b\b\b\b\b\b\b\b\b\b\b\b\b\b\b\b\b\b\b\b\b\b\b\b\b\b\b\b\b\b\b\b\b\b\b\b\b\b\b\b\b\b\b\b\b\b\b\b\b\b\b\b\b\b\b\b\b\b\b\b\b\r30/30 [==============================] - 7s 245ms/step - loss: 0.0996 - accuracy: 0.6438\n",
            "Epoch 186/200\n",
            "30/30 [==============================] - ETA: 0s - loss: 0.0996 - accuracy: 0.6440"
          ]
        },
        {
          "name": "stderr",
          "output_type": "stream",
          "text": [
            "WARNING:tensorflow:Early stopping conditioned on metric `val_loss` which is not available. Available metrics are: loss,accuracy\n"
          ]
        },
        {
          "name": "stdout",
          "output_type": "stream",
          "text": [
            "\b\b\b\b\b\b\b\b\b\b\b\b\b\b\b\b\b\b\b\b\b\b\b\b\b\b\b\b\b\b\b\b\b\b\b\b\b\b\b\b\b\b\b\b\b\b\b\b\b\b\b\b\b\b\b\b\b\b\b\b\b\b\b\b\b\b\b\b\b\b\b\b\b\b\b\b\b\b\b\b\b\b\r30/30 [==============================] - 6s 213ms/step - loss: 0.0996 - accuracy: 0.6440\n",
            "Epoch 187/200\n",
            "30/30 [==============================] - ETA: 0s - loss: 0.0981 - accuracy: 0.6457"
          ]
        },
        {
          "name": "stderr",
          "output_type": "stream",
          "text": [
            "WARNING:tensorflow:Early stopping conditioned on metric `val_loss` which is not available. Available metrics are: loss,accuracy\n"
          ]
        },
        {
          "name": "stdout",
          "output_type": "stream",
          "text": [
            "\b\b\b\b\b\b\b\b\b\b\b\b\b\b\b\b\b\b\b\b\b\b\b\b\b\b\b\b\b\b\b\b\b\b\b\b\b\b\b\b\b\b\b\b\b\b\b\b\b\b\b\b\b\b\b\b\b\b\b\b\b\b\b\b\b\b\b\b\b\b\b\b\b\b\b\b\b\b\b\b\b\b\r30/30 [==============================] - 7s 244ms/step - loss: 0.0981 - accuracy: 0.6457\n",
            "Epoch 188/200\n",
            "30/30 [==============================] - ETA: 0s - loss: 0.0977 - accuracy: 0.6461"
          ]
        },
        {
          "name": "stderr",
          "output_type": "stream",
          "text": [
            "WARNING:tensorflow:Early stopping conditioned on metric `val_loss` which is not available. Available metrics are: loss,accuracy\n"
          ]
        },
        {
          "name": "stdout",
          "output_type": "stream",
          "text": [
            "\b\b\b\b\b\b\b\b\b\b\b\b\b\b\b\b\b\b\b\b\b\b\b\b\b\b\b\b\b\b\b\b\b\b\b\b\b\b\b\b\b\b\b\b\b\b\b\b\b\b\b\b\b\b\b\b\b\b\b\b\b\b\b\b\b\b\b\b\b\b\b\b\b\b\b\b\b\b\b\b\b\b\r30/30 [==============================] - 7s 223ms/step - loss: 0.0977 - accuracy: 0.6461\n",
            "Epoch 189/200\n",
            "30/30 [==============================] - ETA: 0s - loss: 0.0977 - accuracy: 0.6462"
          ]
        },
        {
          "name": "stderr",
          "output_type": "stream",
          "text": [
            "WARNING:tensorflow:Early stopping conditioned on metric `val_loss` which is not available. Available metrics are: loss,accuracy\n"
          ]
        },
        {
          "name": "stdout",
          "output_type": "stream",
          "text": [
            "\b\b\b\b\b\b\b\b\b\b\b\b\b\b\b\b\b\b\b\b\b\b\b\b\b\b\b\b\b\b\b\b\b\b\b\b\b\b\b\b\b\b\b\b\b\b\b\b\b\b\b\b\b\b\b\b\b\b\b\b\b\b\b\b\b\b\b\b\b\b\b\b\b\b\b\b\b\b\b\b\b\b\r30/30 [==============================] - 7s 233ms/step - loss: 0.0977 - accuracy: 0.6462\n",
            "Epoch 190/200\n",
            "30/30 [==============================] - ETA: 0s - loss: 0.0973 - accuracy: 0.6467"
          ]
        },
        {
          "name": "stderr",
          "output_type": "stream",
          "text": [
            "WARNING:tensorflow:Early stopping conditioned on metric `val_loss` which is not available. Available metrics are: loss,accuracy\n"
          ]
        },
        {
          "name": "stdout",
          "output_type": "stream",
          "text": [
            "\b\b\b\b\b\b\b\b\b\b\b\b\b\b\b\b\b\b\b\b\b\b\b\b\b\b\b\b\b\b\b\b\b\b\b\b\b\b\b\b\b\b\b\b\b\b\b\b\b\b\b\b\b\b\b\b\b\b\b\b\b\b\b\b\b\b\b\b\b\b\b\b\b\b\b\b\b\b\b\b\b\b\r30/30 [==============================] - 7s 228ms/step - loss: 0.0973 - accuracy: 0.6467\n",
            "Epoch 191/200\n",
            "30/30 [==============================] - ETA: 0s - loss: 0.0971 - accuracy: 0.6470"
          ]
        },
        {
          "name": "stderr",
          "output_type": "stream",
          "text": [
            "WARNING:tensorflow:Early stopping conditioned on metric `val_loss` which is not available. Available metrics are: loss,accuracy\n"
          ]
        },
        {
          "name": "stdout",
          "output_type": "stream",
          "text": [
            "\b\b\b\b\b\b\b\b\b\b\b\b\b\b\b\b\b\b\b\b\b\b\b\b\b\b\b\b\b\b\b\b\b\b\b\b\b\b\b\b\b\b\b\b\b\b\b\b\b\b\b\b\b\b\b\b\b\b\b\b\b\b\b\b\b\b\b\b\b\b\b\b\b\b\b\b\b\b\b\b\b\b\r30/30 [==============================] - 7s 232ms/step - loss: 0.0971 - accuracy: 0.6470\n",
            "Epoch 192/200\n",
            "30/30 [==============================] - ETA: 0s - loss: 0.0969 - accuracy: 0.6473"
          ]
        },
        {
          "name": "stderr",
          "output_type": "stream",
          "text": [
            "WARNING:tensorflow:Early stopping conditioned on metric `val_loss` which is not available. Available metrics are: loss,accuracy\n"
          ]
        },
        {
          "name": "stdout",
          "output_type": "stream",
          "text": [
            "\b\b\b\b\b\b\b\b\b\b\b\b\b\b\b\b\b\b\b\b\b\b\b\b\b\b\b\b\b\b\b\b\b\b\b\b\b\b\b\b\b\b\b\b\b\b\b\b\b\b\b\b\b\b\b\b\b\b\b\b\b\b\b\b\b\b\b\b\b\b\b\b\b\b\b\b\b\b\b\b\b\b\r30/30 [==============================] - 7s 233ms/step - loss: 0.0969 - accuracy: 0.6473\n",
            "Epoch 193/200\n",
            "30/30 [==============================] - ETA: 0s - loss: 0.0966 - accuracy: 0.6476"
          ]
        },
        {
          "name": "stderr",
          "output_type": "stream",
          "text": [
            "WARNING:tensorflow:Early stopping conditioned on metric `val_loss` which is not available. Available metrics are: loss,accuracy\n"
          ]
        },
        {
          "name": "stdout",
          "output_type": "stream",
          "text": [
            "\b\b\b\b\b\b\b\b\b\b\b\b\b\b\b\b\b\b\b\b\b\b\b\b\b\b\b\b\b\b\b\b\b\b\b\b\b\b\b\b\b\b\b\b\b\b\b\b\b\b\b\b\b\b\b\b\b\b\b\b\b\b\b\b\b\b\b\b\b\b\b\b\b\b\b\b\b\b\b\b\b\b\r30/30 [==============================] - 7s 222ms/step - loss: 0.0966 - accuracy: 0.6476\n",
            "Epoch 194/200\n",
            "30/30 [==============================] - ETA: 0s - loss: 0.0967 - accuracy: 0.6477"
          ]
        },
        {
          "name": "stderr",
          "output_type": "stream",
          "text": [
            "WARNING:tensorflow:Early stopping conditioned on metric `val_loss` which is not available. Available metrics are: loss,accuracy\n"
          ]
        },
        {
          "name": "stdout",
          "output_type": "stream",
          "text": [
            "\b\b\b\b\b\b\b\b\b\b\b\b\b\b\b\b\b\b\b\b\b\b\b\b\b\b\b\b\b\b\b\b\b\b\b\b\b\b\b\b\b\b\b\b\b\b\b\b\b\b\b\b\b\b\b\b\b\b\b\b\b\b\b\b\b\b\b\b\b\b\b\b\b\b\b\b\b\b\b\b\b\b\r30/30 [==============================] - 7s 239ms/step - loss: 0.0967 - accuracy: 0.6477\n",
            "Epoch 195/200\n",
            "30/30 [==============================] - ETA: 0s - loss: 0.0966 - accuracy: 0.6477"
          ]
        },
        {
          "name": "stderr",
          "output_type": "stream",
          "text": [
            "WARNING:tensorflow:Early stopping conditioned on metric `val_loss` which is not available. Available metrics are: loss,accuracy\n"
          ]
        },
        {
          "name": "stdout",
          "output_type": "stream",
          "text": [
            "\b\b\b\b\b\b\b\b\b\b\b\b\b\b\b\b\b\b\b\b\b\b\b\b\b\b\b\b\b\b\b\b\b\b\b\b\b\b\b\b\b\b\b\b\b\b\b\b\b\b\b\b\b\b\b\b\b\b\b\b\b\b\b\b\b\b\b\b\b\b\b\b\b\b\b\b\b\b\b\b\b\b\r30/30 [==============================] - 7s 217ms/step - loss: 0.0966 - accuracy: 0.6477\n",
            "Epoch 196/200\n",
            "30/30 [==============================] - ETA: 0s - loss: 0.0966 - accuracy: 0.6479"
          ]
        },
        {
          "name": "stderr",
          "output_type": "stream",
          "text": [
            "WARNING:tensorflow:Early stopping conditioned on metric `val_loss` which is not available. Available metrics are: loss,accuracy\n"
          ]
        },
        {
          "name": "stdout",
          "output_type": "stream",
          "text": [
            "\b\b\b\b\b\b\b\b\b\b\b\b\b\b\b\b\b\b\b\b\b\b\b\b\b\b\b\b\b\b\b\b\b\b\b\b\b\b\b\b\b\b\b\b\b\b\b\b\b\b\b\b\b\b\b\b\b\b\b\b\b\b\b\b\b\b\b\b\b\b\b\b\b\b\b\b\b\b\b\b\b\b\r30/30 [==============================] - 8s 254ms/step - loss: 0.0966 - accuracy: 0.6479\n",
            "Epoch 197/200\n",
            "30/30 [==============================] - ETA: 0s - loss: 0.0964 - accuracy: 0.6479"
          ]
        },
        {
          "name": "stderr",
          "output_type": "stream",
          "text": [
            "WARNING:tensorflow:Early stopping conditioned on metric `val_loss` which is not available. Available metrics are: loss,accuracy\n"
          ]
        },
        {
          "name": "stdout",
          "output_type": "stream",
          "text": [
            "\b\b\b\b\b\b\b\b\b\b\b\b\b\b\b\b\b\b\b\b\b\b\b\b\b\b\b\b\b\b\b\b\b\b\b\b\b\b\b\b\b\b\b\b\b\b\b\b\b\b\b\b\b\b\b\b\b\b\b\b\b\b\b\b\b\b\b\b\b\b\b\b\b\b\b\b\b\b\b\b\b\b\r30/30 [==============================] - 6s 209ms/step - loss: 0.0964 - accuracy: 0.6479\n",
            "Epoch 198/200\n",
            "30/30 [==============================] - ETA: 0s - loss: 0.0963 - accuracy: 0.6484"
          ]
        },
        {
          "name": "stderr",
          "output_type": "stream",
          "text": [
            "WARNING:tensorflow:Early stopping conditioned on metric `val_loss` which is not available. Available metrics are: loss,accuracy\n"
          ]
        },
        {
          "name": "stdout",
          "output_type": "stream",
          "text": [
            "\b\b\b\b\b\b\b\b\b\b\b\b\b\b\b\b\b\b\b\b\b\b\b\b\b\b\b\b\b\b\b\b\b\b\b\b\b\b\b\b\b\b\b\b\b\b\b\b\b\b\b\b\b\b\b\b\b\b\b\b\b\b\b\b\b\b\b\b\b\b\b\b\b\b\b\b\b\b\b\b\b\b\r30/30 [==============================] - 8s 252ms/step - loss: 0.0963 - accuracy: 0.6484\n",
            "Epoch 199/200\n",
            "30/30 [==============================] - ETA: 0s - loss: 0.0962 - accuracy: 0.6484"
          ]
        },
        {
          "name": "stderr",
          "output_type": "stream",
          "text": [
            "WARNING:tensorflow:Early stopping conditioned on metric `val_loss` which is not available. Available metrics are: loss,accuracy\n"
          ]
        },
        {
          "name": "stdout",
          "output_type": "stream",
          "text": [
            "\b\b\b\b\b\b\b\b\b\b\b\b\b\b\b\b\b\b\b\b\b\b\b\b\b\b\b\b\b\b\b\b\b\b\b\b\b\b\b\b\b\b\b\b\b\b\b\b\b\b\b\b\b\b\b\b\b\b\b\b\b\b\b\b\b\b\b\b\b\b\b\b\b\b\b\b\b\b\b\b\b\b\r30/30 [==============================] - 6s 209ms/step - loss: 0.0962 - accuracy: 0.6484\n",
            "Epoch 200/200\n",
            "30/30 [==============================] - ETA: 0s - loss: 0.0966 - accuracy: 0.6478"
          ]
        },
        {
          "name": "stderr",
          "output_type": "stream",
          "text": [
            "WARNING:tensorflow:Early stopping conditioned on metric `val_loss` which is not available. Available metrics are: loss,accuracy\n"
          ]
        },
        {
          "name": "stdout",
          "output_type": "stream",
          "text": [
            "\b\b\b\b\b\b\b\b\b\b\b\b\b\b\b\b\b\b\b\b\b\b\b\b\b\b\b\b\b\b\b\b\b\b\b\b\b\b\b\b\b\b\b\b\b\b\b\b\b\b\b\b\b\b\b\b\b\b\b\b\b\b\b\b\b\b\b\b\b\b\b\b\b\b\b\b\b\b\b\b\b\b\r30/30 [==============================] - 8s 256ms/step - loss: 0.0966 - accuracy: 0.6478\n",
            "Done\n",
            " Please wait while AnomalyDetector.h5 has been created \n",
            "Refresh when needed\n"
          ]
        }
      ],
      "source": [
        "from keras.callbacks import ModelCheckpoint, EarlyStopping\n",
        "import numpy as np\n",
        "import argparse\n",
        "from keras.layers import Conv3D,ConvLSTM2D,Conv3DTranspose\n",
        "from keras.models import Sequential\n",
        "\n",
        "\n",
        "\n",
        "def load_model():\n",
        "\n",
        "\t\"\"\"\n",
        "\tReturn the model used for abnormal event\n",
        "\tdetection in videos using spatiotemporal autoencoder\n",
        "\n",
        "\t\"\"\"\n",
        "\tmodel=Sequential()\n",
        "\tmodel.add(Conv3D(filters=128,kernel_size=(11,11,1),strides=(4,4,1),padding='valid',input_shape=(227,227,10,1),activation='tanh'))\n",
        "\tmodel.add(Conv3D(filters=64,kernel_size=(5,5,1),strides=(2,2,1),padding='valid',activation='tanh'))\n",
        "\n",
        "\n",
        "\n",
        "\tmodel.add(ConvLSTM2D(filters=64,kernel_size=(3,3),strides=1,padding='same',dropout=0.7,recurrent_dropout=0.3,return_sequences=True))\n",
        "\n",
        "\n",
        "\tmodel.add(ConvLSTM2D(filters=32,kernel_size=(3,3),strides=1,padding='same',dropout=0.7,return_sequences=True))\n",
        "\n",
        "\n",
        "\tmodel.add(ConvLSTM2D(filters=64,kernel_size=(3,3),strides=1,return_sequences=True, padding='same',dropout=0.5))\n",
        "\n",
        "\n",
        "\n",
        "\n",
        "\tmodel.add(Conv3DTranspose(filters=128,kernel_size=(5,5,1),strides=(2,2,1),padding='valid',activation='tanh'))\n",
        "\tmodel.add(Conv3DTranspose(filters=1,kernel_size=(11,11,1),strides=(4,4,1),padding='valid',activation='tanh'))\n",
        "\n",
        "\tmodel.compile(optimizer='adam',loss='mean_squared_error',metrics=['accuracy'])\n",
        "\n",
        "\treturn model\n",
        "\n",
        "\n",
        "\n",
        "\n",
        "\n",
        "X_train=np.load('trainer.npy')\n",
        "frames=X_train.shape[2]\n",
        "frames=frames-frames%10\n",
        "X_train=X_train[:,:,:frames]\n",
        "X_train=X_train.reshape(-1,227,227,10)\n",
        "X_train=np.expand_dims(X_train,axis=4)\n",
        "Y_train=X_train.copy()\n",
        "epochs=200\n",
        "batch_size=1\n",
        "\n",
        "\n",
        "\n",
        "if __name__==\"__main__\":\n",
        "\n",
        "\tmodel=load_model()\n",
        "\n",
        "\tcallback_save = ModelCheckpoint(\"AnomalyDetector.h5\",\n",
        "\t\t\t\t\t\t\t\t\tmonitor=\"mean_squared_error\")\n",
        "\n",
        "\tcallback_early_stopping = EarlyStopping(monitor='val_loss', patience=3)\n",
        "\n",
        "\tprint('Trainer has been loaded')\n",
        "\tmodel.fit(X_train,Y_train,\n",
        "\t\t\t  batch_size=batch_size,\n",
        "\t\t\t  epochs=epochs,\n",
        "\t\t\t  callbacks = [callback_save,callback_early_stopping]\n",
        "\t\t\t  )\n",
        "print('Done\\n Please wait while AnomalyDetector.h5 has been created \\nRefresh when needed')\n"
      ]
    },
    {
      "cell_type": "code",
      "execution_count": null,
      "metadata": {
        "id": "qpOMmEe19SQq"
      },
      "outputs": [],
      "source": []
    }
  ],
  "metadata": {
    "accelerator": "GPU",
    "colab": {
      "provenance": [],
      "include_colab_link": true
    },
    "gpuClass": "standard",
    "kernelspec": {
      "display_name": "Python 3",
      "name": "python3"
    }
  },
  "nbformat": 4,
  "nbformat_minor": 0
}